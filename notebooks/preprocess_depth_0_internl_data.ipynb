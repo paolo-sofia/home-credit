{
 "cells": [
  {
   "cell_type": "code",
   "execution_count": 1,
   "id": "initial_id",
   "metadata": {
    "collapsed": true,
    "ExecuteTime": {
     "end_time": "2024-03-04T12:45:29.663588587Z",
     "start_time": "2024-03-04T12:45:29.345288687Z"
    }
   },
   "outputs": [
    {
     "data": {
      "text/plain": "<polars.config.Config at 0x703424705610>"
     },
     "execution_count": 1,
     "metadata": {},
     "output_type": "execute_result"
    }
   ],
   "source": [
    "import pathlib\n",
    "import pandas as pd\n",
    "from columns_fill_nulls import fill_nulls\n",
    "import polars as pl\n",
    "\n",
    "pl.Config(set_fmt_float=\"full\")\n"
   ]
  },
  {
   "cell_type": "code",
   "outputs": [],
   "source": [
    "BASE_DATA_DIR = pathlib.Path(\"../data/datalake/bronze/train\")\n",
    "\n",
    "BASE_TRAIN_PATH = BASE_DATA_DIR / \"train_base.parquet\"\n",
    "STATIC_INTERNAL_0_PATH = BASE_DATA_DIR / \"train_static_0_0.parquet\"\n",
    "STATIC_INTERNAL_1_PATH = BASE_DATA_DIR / \"train_static_0_1.parquet\"\n",
    "STATIC_EXTERNAL_PATH = BASE_DATA_DIR / \"train_static_cb_0.parquet\""
   ],
   "metadata": {
    "collapsed": false,
    "ExecuteTime": {
     "end_time": "2024-03-04T12:45:29.664436788Z",
     "start_time": "2024-03-04T12:45:29.651749807Z"
    }
   },
   "id": "3f1f17edf0a2b1c2",
   "execution_count": 2
  },
  {
   "cell_type": "markdown",
   "source": [
    "## Functions"
   ],
   "metadata": {
    "collapsed": false
   },
   "id": "3b851d484af03bc8"
  },
  {
   "cell_type": "markdown",
   "source": [
    "## Load data"
   ],
   "metadata": {
    "collapsed": false
   },
   "id": "f669c0c343753075"
  },
  {
   "cell_type": "code",
   "outputs": [],
   "source": [
    "def get_date_categorized_transforms(dataframe: pl.LazyFrame) -> list[pl.Expr]:\n",
    "    date_transforms = []\n",
    "\n",
    "    for col in dataframe.columns:\n",
    "        if not col.endswith(\"D\"):\n",
    "            continue\n",
    "\n",
    "        transform = (\n",
    "            pl.when(pl.col(col) > 365 * 5).then(pl.lit(\"MORE_THAN_5_YEARS\")).otherwise(\n",
    "                pl.when((pl.col(col) <= 365 * 5) & (pl.col(col) > 365)).then(pl.lit(\"BETWEEN_1_AND_5_YEARS\")).otherwise(\n",
    "                    pl.when((pl.col(col) <= 365) & (pl.col(col) > 180)).then(pl.lit(\"BETWEEN_6_MONTHS_AND_1_YEAR\")).otherwise(\n",
    "                        pl.when((pl.col(col) <= 180) & (pl.col(col).is_not_null())).then(pl.lit(\"LESS_THAN_6_MONTH\")).otherwise(pl.lit(\"UNKNOWN\"))\n",
    "                    )\n",
    "                )\n",
    "            ).alias(col))\n",
    "        date_transforms.append(transform)\n",
    "\n",
    "    return date_transforms\n",
    "\n",
    "\n",
    "def get_date_transforms(dataframe: pl.LazyFrame) -> list[pl.Expr]:\n",
    "    date_transforms = []\n",
    "    for col in dataframe.columns:\n",
    "        if not col.endswith(\"D\"):\n",
    "            continue\n",
    "\n",
    "        date_transforms.append(\n",
    "            (pl.col(\"date_decision\").cast(pl.Date) - pl.col(col).cast(pl.Date)).dt.total_days().alias(col)\n",
    "        )\n",
    "\n",
    "    return date_transforms\n",
    "\n",
    "\n",
    "def get_group_by_transforms(dataframe: pl.LazyFrame, group_by_cols: list[str]) -> list[pl.Expr]:\n",
    "    transforms = []\n",
    "    for col, col_dtype in zip(dataframe.columns, dataframe.dtypes):\n",
    "        if col in group_by_cols:\n",
    "            continue\n",
    "\n",
    "        if isinstance(col_dtype, tuple(pl.NUMERIC_DTYPES)):\n",
    "            transforms.append(pl.col(col).mean().shrink_dtype())\n",
    "\n",
    "        elif isinstance(col_dtype, pl.String):\n",
    "            transforms.append(pl.col(col).mode().drop_nulls().first())\n",
    "\n",
    "        elif isinstance(col_dtype, pl.Date):\n",
    "            transforms.append(pl.col(col).first())\n",
    "\n",
    "    return transforms\n",
    "\n",
    "\n",
    "def get_columns_with_more_85_perc_nulls(dataframe: pl.LazyFrame, threshold: float = 0.85) -> list[str]:\n",
    "    dataframe = dataframe.collect()\n",
    "    length_dataframe: int = dataframe.shape[0]\n",
    "\n",
    "    describe = dataframe.describe(percentiles=[]).filter(pl.col(\"statistic\") == \"null_count\")\n",
    "    describe = describe.transpose(include_header=True, header_name=\"column\", column_names=[\"null_count\"]).slice(1).with_columns(pl.col(\"null_count\").cast(pl.Float32) / length_dataframe)\n",
    "\n",
    "    return describe.filter(pl.col(\"null_count\") > threshold).select(\"column\").to_series().to_list()\n",
    "\n",
    "\n",
    "def binarize_columns_with_more_85_perc_nulls(columns: list[str]) -> list[pl.Expr]:\n",
    "    transforms = []\n",
    "    for col in columns:\n",
    "        transforms.append(\n",
    "            pl.when(pl.col(col).is_null()).then(pl.lit(False)).otherwise(pl.lit(True)).alias(col)\n",
    "        )\n",
    "    return transforms\n"
   ],
   "metadata": {
    "collapsed": false,
    "ExecuteTime": {
     "end_time": "2024-03-04T12:45:29.665023966Z",
     "start_time": "2024-03-04T12:45:29.651875164Z"
    }
   },
   "id": "c4fc75554f13a744",
   "execution_count": 3
  },
  {
   "cell_type": "code",
   "outputs": [],
   "source": [
    "base_train: pl.LazyFrame = pl.scan_parquet(BASE_TRAIN_PATH)\n",
    "static_internal: pl.LazyFrame = pl.concat([pl.scan_parquet(STATIC_INTERNAL_0_PATH), pl.scan_parquet(STATIC_INTERNAL_1_PATH)])\n",
    "static_external: pl.LazyFrame = pl.scan_parquet(STATIC_EXTERNAL_PATH)"
   ],
   "metadata": {
    "collapsed": false,
    "ExecuteTime": {
     "end_time": "2024-03-04T12:45:29.666141426Z",
     "start_time": "2024-03-04T12:45:29.651958711Z"
    }
   },
   "id": "98516ee46250ef1c",
   "execution_count": 4
  },
  {
   "cell_type": "code",
   "outputs": [],
   "source": [
    "JOIN_COLUMNS = [\"case_id\"]\n",
    "\n",
    "data: pl.LazyFrame = base_train.join(other=static_internal, how=\"left\", on=JOIN_COLUMNS).join(other=static_external, how=\"left\", on=JOIN_COLUMNS)"
   ],
   "metadata": {
    "collapsed": false,
    "ExecuteTime": {
     "end_time": "2024-03-04T12:45:29.666206639Z",
     "start_time": "2024-03-04T12:45:29.652044884Z"
    }
   },
   "id": "afcb9a3ee1c2f0d2",
   "execution_count": 5
  },
  {
   "cell_type": "markdown",
   "source": [
    "#### Remove birth date related columns"
   ],
   "metadata": {
    "collapsed": false
   },
   "id": "1d7e3333c0da2f37"
  },
  {
   "cell_type": "code",
   "outputs": [],
   "source": [
    "data = data.drop([col for col in data.columns if \"birth\" in col])"
   ],
   "metadata": {
    "collapsed": false,
    "ExecuteTime": {
     "end_time": "2024-03-04T12:45:29.666790271Z",
     "start_time": "2024-03-04T12:45:29.652111179Z"
    }
   },
   "id": "87df9672b41b3b1c",
   "execution_count": 6
  },
  {
   "cell_type": "markdown",
   "source": [
    "#### Binarize columns that contains more than 85% of null values"
   ],
   "metadata": {
    "collapsed": false
   },
   "id": "504fac263208a903"
  },
  {
   "cell_type": "code",
   "outputs": [],
   "source": [
    "cols_to_binarize = get_columns_with_more_85_perc_nulls(data)\n",
    "\n",
    "data = data.with_columns(*binarize_columns_with_more_85_perc_nulls(cols_to_binarize))"
   ],
   "metadata": {
    "collapsed": false,
    "ExecuteTime": {
     "end_time": "2024-03-04T12:45:32.014015730Z",
     "start_time": "2024-03-04T12:45:29.693351535Z"
    }
   },
   "id": "4c3a0c5d1461a09c",
   "execution_count": 7
  },
  {
   "cell_type": "markdown",
   "source": [
    "#### Fill Nulls"
   ],
   "metadata": {
    "collapsed": false
   },
   "id": "a953a7f7e8fca14"
  },
  {
   "cell_type": "code",
   "outputs": [
    {
     "data": {
      "text/plain": "shape: (667_445, 2)\n┌─────────┬────────────────────────┐\n│ case_id ┆ firstclxcampaign_1125D │\n│ ---     ┆ ---                    │\n│ i64     ┆ str                    │\n╞═════════╪════════════════════════╡\n│ 175     ┆ 2019-01-07             │\n│ 1403    ┆ 2019-01-28             │\n│ 2302    ┆ 2019-02-06             │\n│ 2331    ┆ 2019-02-06             │\n│ 2542    ┆ 2019-02-05             │\n│ …       ┆ …                      │\n│ 2703448 ┆ 2019-03-11             │\n│ 2703449 ┆ 2017-07-20             │\n│ 2703450 ┆ 2016-05-09             │\n│ 2703451 ┆ 2016-03-01             │\n│ 2703453 ┆ 2017-06-21             │\n└─────────┴────────────────────────┘",
      "text/html": "<div><style>\n.dataframe > thead > tr,\n.dataframe > tbody > tr {\n  text-align: right;\n  white-space: pre-wrap;\n}\n</style>\n<small>shape: (667_445, 2)</small><table border=\"1\" class=\"dataframe\"><thead><tr><th>case_id</th><th>firstclxcampaign_1125D</th></tr><tr><td>i64</td><td>str</td></tr></thead><tbody><tr><td>175</td><td>&quot;2019-01-07&quot;</td></tr><tr><td>1403</td><td>&quot;2019-01-28&quot;</td></tr><tr><td>2302</td><td>&quot;2019-02-06&quot;</td></tr><tr><td>2331</td><td>&quot;2019-02-06&quot;</td></tr><tr><td>2542</td><td>&quot;2019-02-05&quot;</td></tr><tr><td>6496</td><td>&quot;2019-01-19&quot;</td></tr><tr><td>26903</td><td>&quot;2019-08-30&quot;</td></tr><tr><td>34826</td><td>&quot;2019-11-01&quot;</td></tr><tr><td>40231</td><td>&quot;2019-12-23&quot;</td></tr><tr><td>103059</td><td>&quot;2016-01-31&quot;</td></tr><tr><td>103061</td><td>&quot;2017-07-24&quot;</td></tr><tr><td>103063</td><td>&quot;2017-03-06&quot;</td></tr><tr><td>&hellip;</td><td>&hellip;</td></tr><tr><td>2703438</td><td>&quot;2019-04-13&quot;</td></tr><tr><td>2703439</td><td>&quot;2016-06-29&quot;</td></tr><tr><td>2703441</td><td>&quot;2016-08-15&quot;</td></tr><tr><td>2703442</td><td>&quot;2018-12-28&quot;</td></tr><tr><td>2703443</td><td>&quot;2016-01-31&quot;</td></tr><tr><td>2703445</td><td>&quot;2016-01-31&quot;</td></tr><tr><td>2703447</td><td>&quot;2018-06-16&quot;</td></tr><tr><td>2703448</td><td>&quot;2019-03-11&quot;</td></tr><tr><td>2703449</td><td>&quot;2017-07-20&quot;</td></tr><tr><td>2703450</td><td>&quot;2016-05-09&quot;</td></tr><tr><td>2703451</td><td>&quot;2016-03-01&quot;</td></tr><tr><td>2703453</td><td>&quot;2017-06-21&quot;</td></tr></tbody></table></div>"
     },
     "execution_count": 8,
     "metadata": {},
     "output_type": "execute_result"
    }
   ],
   "source": [
    "data.select(\"case_id\", \"firstclxcampaign_1125D\").drop_nulls().collect()"
   ],
   "metadata": {
    "collapsed": false,
    "ExecuteTime": {
     "end_time": "2024-03-04T12:45:32.196890870Z",
     "start_time": "2024-03-04T12:45:32.015026097Z"
    }
   },
   "id": "dd5ea1205283e94a",
   "execution_count": 8
  },
  {
   "cell_type": "code",
   "outputs": [
    {
     "data": {
      "text/plain": "Empty DataFrame\nColumns: [column, null_count]\nIndex: []",
      "text/html": "<div>\n<style scoped>\n    .dataframe tbody tr th:only-of-type {\n        vertical-align: middle;\n    }\n\n    .dataframe tbody tr th {\n        vertical-align: top;\n    }\n\n    .dataframe thead th {\n        text-align: right;\n    }\n</style>\n<table border=\"1\" class=\"dataframe\">\n  <thead>\n    <tr style=\"text-align: right;\">\n      <th></th>\n      <th>column</th>\n      <th>null_count</th>\n    </tr>\n  </thead>\n  <tbody>\n  </tbody>\n</table>\n</div>"
     },
     "execution_count": 9,
     "metadata": {},
     "output_type": "execute_result"
    }
   ],
   "source": [
    "nulls_data: pd.DataFrame = fill_nulls(data).describe(percentiles=[]).filter(pl.col(\"statistic\") == \"null_count\").drop(\"statistic\").transpose(include_header=True, column_names=[\"null_count\"]).with_columns(pl.col(\"null_count\").cast(pl.Float32).cast(pl.Int32)).to_pandas().query(\"null_count > 0\")\n",
    "nulls_data"
   ],
   "metadata": {
    "collapsed": false,
    "ExecuteTime": {
     "end_time": "2024-03-04T12:45:35.052120179Z",
     "start_time": "2024-03-04T12:45:32.196860503Z"
    }
   },
   "id": "baaa8f8028ceba6b",
   "execution_count": 9
  },
  {
   "cell_type": "code",
   "outputs": [
    {
     "data": {
      "text/plain": "shape: (6, 2)\n┌────────────┬──────────────────────┐\n│ statistic  ┆ annuitynextmonth_57A │\n│ ---        ┆ ---                  │\n│ str        ┆ f64                  │\n╞════════════╪══════════════════════╡\n│ count      ┆ 1526655              │\n│ null_count ┆ 4                    │\n│ mean       ┆ 1435.7750149552585   │\n│ std        ┆ 2807.021231822099    │\n│ min        ┆ 0                    │\n│ max        ┆ 87500                │\n└────────────┴──────────────────────┘",
      "text/html": "<div><style>\n.dataframe > thead > tr,\n.dataframe > tbody > tr {\n  text-align: right;\n  white-space: pre-wrap;\n}\n</style>\n<small>shape: (6, 2)</small><table border=\"1\" class=\"dataframe\"><thead><tr><th>statistic</th><th>annuitynextmonth_57A</th></tr><tr><td>str</td><td>f64</td></tr></thead><tbody><tr><td>&quot;count&quot;</td><td>1526655</td></tr><tr><td>&quot;null_count&quot;</td><td>4</td></tr><tr><td>&quot;mean&quot;</td><td>1435.7750149552585</td></tr><tr><td>&quot;std&quot;</td><td>2807.021231822099</td></tr><tr><td>&quot;min&quot;</td><td>0</td></tr><tr><td>&quot;max&quot;</td><td>87500</td></tr></tbody></table></div>"
     },
     "execution_count": 10,
     "metadata": {},
     "output_type": "execute_result"
    }
   ],
   "source": [
    "data.select(\"annuitynextmonth_57A\").describe(percentiles=[])"
   ],
   "metadata": {
    "collapsed": false,
    "ExecuteTime": {
     "end_time": "2024-03-04T12:45:35.220245132Z",
     "start_time": "2024-03-04T12:45:35.053935416Z"
    }
   },
   "id": "50049f59e65ad713",
   "execution_count": 10
  },
  {
   "cell_type": "code",
   "outputs": [
    {
     "data": {
      "text/plain": "shape: (2, 2)\n┌─────────────────┬─────────┐\n│ paytype1st_925L ┆ count   │\n│ ---             ┆ ---     │\n│ str             ┆ u32     │\n╞═════════════════╪═════════╡\n│ OTHER           ┆ 1468084 │\n│ null            ┆ 58575   │\n└─────────────────┴─────────┘",
      "text/html": "<div><style>\n.dataframe > thead > tr,\n.dataframe > tbody > tr {\n  text-align: right;\n  white-space: pre-wrap;\n}\n</style>\n<small>shape: (2, 2)</small><table border=\"1\" class=\"dataframe\"><thead><tr><th>paytype1st_925L</th><th>count</th></tr><tr><td>str</td><td>u32</td></tr></thead><tbody><tr><td>&quot;OTHER&quot;</td><td>1468084</td></tr><tr><td>null</td><td>58575</td></tr></tbody></table></div>"
     },
     "execution_count": 11,
     "metadata": {},
     "output_type": "execute_result"
    }
   ],
   "source": [
    "data.select(\"paytype1st_925L\").collect().to_series().value_counts().sort(\"count\", descending=True)"
   ],
   "metadata": {
    "collapsed": false,
    "ExecuteTime": {
     "end_time": "2024-03-04T12:45:35.476013793Z",
     "start_time": "2024-03-04T12:45:35.221062295Z"
    }
   },
   "id": "674238316ddbcdc1",
   "execution_count": 11
  },
  {
   "cell_type": "markdown",
   "source": [
    "#### Transforms other columns"
   ],
   "metadata": {
    "collapsed": false
   },
   "id": "e16e77a2b3fc00b0"
  },
  {
   "cell_type": "code",
   "outputs": [],
   "source": [
    "data = data.with_columns(*get_date_transforms(data))\n",
    "# data = data.with_columns(*get_date_categorized_transforms(data))\n",
    "# data = data.with_columns(pl.col(pl.Boolean).fill_null(False).cast(pl.Int8))\n",
    "\n",
    "# data.sort(\"case_id\").head().collect()"
   ],
   "metadata": {
    "collapsed": false,
    "ExecuteTime": {
     "end_time": "2024-03-04T12:45:35.477284241Z",
     "start_time": "2024-03-04T12:45:35.469930259Z"
    }
   },
   "id": "41616a24f4a3325b",
   "execution_count": 12
  },
  {
   "cell_type": "markdown",
   "source": [],
   "metadata": {
    "collapsed": false
   },
   "id": "6ac2195d8d08daee"
  },
  {
   "cell_type": "code",
   "outputs": [],
   "source": [
    "transforms = []\n",
    "\n",
    "for col, dtype in zip(data.columns, data.dtypes):\n",
    "    if col == \"date_decision\":\n",
    "        transforms.append(pl.col(col).cast(pl.Date).dt.epoch().alias(col))\n",
    "        continue\n",
    "    \n",
    "    if isinstance(dtype, tuple(pl.NUMERIC_DTYPES)):\n",
    "        transforms.append(pl.col(col).shrink_dtype().alias(col))\n",
    "    elif isinstance(dtype, pl.Boolean):\n",
    "        transforms.append(pl.col(col).cast(pl.UInt8).shrink_dtype().alias(col))\n",
    "    elif isinstance(dtype, pl.String):\n",
    "        transforms.append(pl.col(col).cast(pl.Categorical).alias(col))\n",
    "        \n",
    "data = data.with_columns(*transforms)\n"
   ],
   "metadata": {
    "collapsed": false,
    "ExecuteTime": {
     "end_time": "2024-03-04T12:45:35.478938374Z",
     "start_time": "2024-03-04T12:45:35.473427131Z"
    }
   },
   "id": "c4b67f88fb269abe",
   "execution_count": 13
  },
  {
   "cell_type": "code",
   "outputs": [],
   "source": [
    "## Drop categorical columns with just one category other than null\n",
    "cols_to_drop = []\n",
    "for col in data.select([col for col, dtype in zip(data.columns, data.dtypes) if isinstance(dtype, pl.Categorical)]).columns:\n",
    "    if data.select(col).drop_nulls().unique().collect().shape[0] == 1:\n",
    "        cols_to_drop.append(col)\n",
    "\n",
    "data = data.drop(cols_to_drop)"
   ],
   "metadata": {
    "collapsed": false,
    "ExecuteTime": {
     "end_time": "2024-03-04T12:45:40.633725745Z",
     "start_time": "2024-03-04T12:45:35.479620321Z"
    }
   },
   "id": "9c241d40017a2d8b",
   "execution_count": 14
  },
  {
   "cell_type": "markdown",
   "source": [
    "## Impute categorical columns test"
   ],
   "metadata": {
    "collapsed": false
   },
   "id": "67be85b55fa8dd99"
  },
  {
   "cell_type": "code",
   "outputs": [],
   "source": [
    "from sklearn.cluster import SpectralClustering\n",
    "\n",
    "numerical_data = data.select(pl.col(pl.NUMERIC_DTYPES))\n",
    "categorical_data = data.select(pl.col(pl.Categorical))\n",
    "\n",
    "if False:\n",
    "    for column in categorical_data.columns:\n",
    "        category = categorical_data.select(column)\n",
    "        n_clusters = category.drop_nulls().unique().collect().shape[0]\n",
    "        print(column, n_clusters)\n",
    "        cluster = SpectralClustering(n_jobs=-1, random_state=666, n_clusters=category.drop_nulls().unique().collect().shape[0])\n",
    "        predictions = cluster.fit_predict(numerical_data.collect())\n",
    "        break"
   ],
   "metadata": {
    "collapsed": false,
    "ExecuteTime": {
     "end_time": "2024-03-04T12:45:40.938601462Z",
     "start_time": "2024-03-04T12:45:40.635958349Z"
    }
   },
   "id": "53494d0e34cfbe43",
   "execution_count": 15
  },
  {
   "cell_type": "code",
   "outputs": [],
   "source": [
    "categories_mapping = {}\n",
    "inverse_categories_mapping = {}\n",
    "for column in categorical_data.columns:\n",
    "    category = data.select(pl.col(column).cat.get_categories()).collect().to_series().to_list()\n",
    "    category = {val: i for i, val in enumerate(category)}\n",
    "    inverse_category = {i: value for value, i in category.items()}\n",
    "    categories_mapping[column] = category\n",
    "    inverse_categories_mapping[column] = inverse_category\n"
   ],
   "metadata": {
    "collapsed": false,
    "ExecuteTime": {
     "end_time": "2024-03-04T12:45:44.593862655Z",
     "start_time": "2024-03-04T12:45:40.941921500Z"
    }
   },
   "id": "d61a1c2e260076f6",
   "execution_count": 16
  },
  {
   "cell_type": "code",
   "outputs": [],
   "source": [
    "transforms = []\n",
    "\n",
    "for col, map_col in categories_mapping.items():\n",
    "    transforms.append(pl.col(col).replace(map_col, default=None, return_dtype=pl.Int32))\n",
    "\n",
    "data = data.with_columns(*transforms)"
   ],
   "metadata": {
    "collapsed": false,
    "ExecuteTime": {
     "end_time": "2024-03-04T12:45:44.605279408Z",
     "start_time": "2024-03-04T12:45:44.596426123Z"
    }
   },
   "id": "b95e16f8c447f399",
   "execution_count": 17
  },
  {
   "cell_type": "code",
   "outputs": [],
   "source": [
    "# %%time\n",
    "# \n",
    "# from sklearn.impute import KNNImputer\n",
    "# import numpy as np\n",
    "# \n",
    "# \n",
    "# imputer = KNNImputer(\n",
    "#     missing_values=np.nan,\n",
    "#     n_neighbors=5,\n",
    "#     weights='distance',\n",
    "#     copy=True,\n",
    "#     add_indicator=True,\n",
    "#     keep_empty_features=False\n",
    "# )\n",
    "# imputer.set_output(transform=\"polars\")\n",
    "# data_imputed = imputer.fit_transform(data.collect())"
   ],
   "metadata": {
    "collapsed": false,
    "ExecuteTime": {
     "end_time": "2024-03-04T12:45:44.625840324Z",
     "start_time": "2024-03-04T12:45:44.598687843Z"
    }
   },
   "id": "91763be97bd46a2f",
   "execution_count": 18
  },
  {
   "cell_type": "markdown",
   "source": [
    "## Fill null"
   ],
   "metadata": {
    "collapsed": false
   },
   "id": "7526111e3b8cda94"
  },
  {
   "cell_type": "code",
   "outputs": [],
   "source": [
    "data = fill_nulls(data)"
   ],
   "metadata": {
    "collapsed": false,
    "ExecuteTime": {
     "end_time": "2024-03-04T12:45:44.654546486Z",
     "start_time": "2024-03-04T12:45:44.611171962Z"
    }
   },
   "id": "f1333f8ac781a464",
   "execution_count": 19
  },
  {
   "cell_type": "markdown",
   "source": [
    "## Write to file"
   ],
   "metadata": {
    "collapsed": false
   },
   "id": "b77320f7152cd2bc"
  },
  {
   "cell_type": "code",
   "outputs": [],
   "source": [
    "OUTPUT_BASE_DIR: pathlib.Path = pathlib.Path(f\"../data/datalake/silver/depth_0\")\n",
    "\n",
    "data.sink_parquet(OUTPUT_BASE_DIR.with_suffix(\".parquet\"))"
   ],
   "metadata": {
    "collapsed": false,
    "ExecuteTime": {
     "end_time": "2024-03-04T12:45:55.447405067Z",
     "start_time": "2024-03-04T12:45:44.618098217Z"
    }
   },
   "id": "a781b0df87349d43",
   "execution_count": 20
  }
 ],
 "metadata": {
  "kernelspec": {
   "display_name": "Python 3",
   "language": "python",
   "name": "python3"
  },
  "language_info": {
   "codemirror_mode": {
    "name": "ipython",
    "version": 2
   },
   "file_extension": ".py",
   "mimetype": "text/x-python",
   "name": "python",
   "nbconvert_exporter": "python",
   "pygments_lexer": "ipython2",
   "version": "2.7.6"
  }
 },
 "nbformat": 4,
 "nbformat_minor": 5
}
