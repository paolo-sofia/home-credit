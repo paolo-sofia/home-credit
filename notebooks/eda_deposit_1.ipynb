{
 "cells": [
  {
   "cell_type": "code",
   "execution_count": 34,
   "id": "initial_id",
   "metadata": {
    "collapsed": true,
    "ExecuteTime": {
     "end_time": "2024-02-19T11:03:26.562135430Z",
     "start_time": "2024-02-19T11:03:26.559473667Z"
    }
   },
   "outputs": [],
   "source": [
    "import pathlib\n",
    "import polars as pl\n",
    "import plotly.express as px"
   ]
  },
  {
   "cell_type": "code",
   "outputs": [],
   "source": [
    "BASE_PATH = pathlib.Path.cwd().parent / \"data\" / \"raw\" / \"parquet_files\" / \"train\"\n",
    "\n",
    "DEPOSIT_PATH = BASE_PATH / \"train_deposit_1.parquet\""
   ],
   "metadata": {
    "collapsed": false,
    "ExecuteTime": {
     "end_time": "2024-02-19T11:03:26.610171390Z",
     "start_time": "2024-02-19T11:03:26.564976983Z"
    }
   },
   "id": "78ad86eb30a271d3",
   "execution_count": 35
  },
  {
   "cell_type": "code",
   "outputs": [],
   "source": [
    "def get_transforms(data: pl.LazyFrame) -> list[pl.Expr]:\n",
    "    transforms = []\n",
    "    for col, dtype in zip(data.columns, data.dtypes):\n",
    "        if col.endswith(\"D\"):\n",
    "            transforms.append(\n",
    "                pl.when(pl.col(col).is_null()).then(pl.lit(False)).otherwise(pl.lit(True)).cast(pl.Boolean).alias(col)\n",
    "            )\n",
    "        elif dtype == pl.String and not col.endswith(\"D\"):\n",
    "            transforms.append(\n",
    "                pl.col(col).fill_null(\"UNKNOWN\").cast(pl.Categorical)\n",
    "            )\n",
    "        elif dtype in [pl.Float64, pl.Float32]:\n",
    "            transforms.append(\n",
    "                pl.col(col).fill_null(pl.col(col).median()).cast(pl.Float32)\n",
    "            )\n",
    "        elif col in {}:\n",
    "            transforms.append(\n",
    "                pl.col(col).fill_null(pl.col(col).median()).shrink_dtype()\n",
    "            )\n",
    "        elif col in {}:\n",
    "            transforms.append(\n",
    "                pl.col(col).fill_null(pl.lit(False)).shrink_dtype()\n",
    "            )\n",
    "    return transforms\n"
   ],
   "metadata": {
    "collapsed": false,
    "ExecuteTime": {
     "end_time": "2024-02-19T11:03:26.610477187Z",
     "start_time": "2024-02-19T11:03:26.605484004Z"
    }
   },
   "id": "92c176651fc64950",
   "execution_count": 36
  },
  {
   "cell_type": "code",
   "outputs": [
    {
     "data": {
      "text/plain": "shape: (5, 5)\n┌─────────┬─────────────┬──────────────────────┬────────────┬──────────────────┐\n│ case_id ┆ amount_416A ┆ contractenddate_991D ┆ num_group1 ┆ openingdate_313D │\n│ ---     ┆ ---         ┆ ---                  ┆ ---        ┆ ---              │\n│ i64     ┆ f64         ┆ str                  ┆ i64        ┆ str              │\n╞═════════╪═════════════╪══════════════════════╪════════════╪══════════════════╡\n│ 225     ┆ 0.0         ┆ null                 ┆ 0          ┆ 2016-08-16       │\n│ 331     ┆ 260.374     ┆ 2018-03-18           ┆ 0          ┆ 2015-03-19       │\n│ 358     ┆ 0.0         ┆ null                 ┆ 0          ┆ 2014-09-02       │\n│ 390     ┆ 211748.53   ┆ 2017-07-22           ┆ 0          ┆ 2014-07-23       │\n│ 390     ┆ 203.602     ┆ 2017-09-30           ┆ 1          ┆ 2015-10-01       │\n└─────────┴─────────────┴──────────────────────┴────────────┴──────────────────┘",
      "text/html": "<div><style>\n.dataframe > thead > tr,\n.dataframe > tbody > tr {\n  text-align: right;\n  white-space: pre-wrap;\n}\n</style>\n<small>shape: (5, 5)</small><table border=\"1\" class=\"dataframe\"><thead><tr><th>case_id</th><th>amount_416A</th><th>contractenddate_991D</th><th>num_group1</th><th>openingdate_313D</th></tr><tr><td>i64</td><td>f64</td><td>str</td><td>i64</td><td>str</td></tr></thead><tbody><tr><td>225</td><td>0.0</td><td>null</td><td>0</td><td>&quot;2016-08-16&quot;</td></tr><tr><td>331</td><td>260.374</td><td>&quot;2018-03-18&quot;</td><td>0</td><td>&quot;2015-03-19&quot;</td></tr><tr><td>358</td><td>0.0</td><td>null</td><td>0</td><td>&quot;2014-09-02&quot;</td></tr><tr><td>390</td><td>211748.53</td><td>&quot;2017-07-22&quot;</td><td>0</td><td>&quot;2014-07-23&quot;</td></tr><tr><td>390</td><td>203.602</td><td>&quot;2017-09-30&quot;</td><td>1</td><td>&quot;2015-10-01&quot;</td></tr></tbody></table></div>"
     },
     "execution_count": 37,
     "metadata": {},
     "output_type": "execute_result"
    }
   ],
   "source": [
    "deposit_data: pl.LazyFrame = pl.scan_parquet(DEPOSIT_PATH)\n",
    "deposit_data.sort(\"case_id\", \"num_group1\").head().collect()"
   ],
   "metadata": {
    "collapsed": false,
    "ExecuteTime": {
     "end_time": "2024-02-19T11:03:26.611016755Z",
     "start_time": "2024-02-19T11:03:26.605756248Z"
    }
   },
   "id": "49e58d20bee150ba",
   "execution_count": 37
  },
  {
   "cell_type": "code",
   "outputs": [
    {
     "data": {
      "text/plain": "shape: (9, 6)\n┌────────────┬───────────────┬──────────────┬──────────────────────┬────────────┬──────────────────┐\n│ statistic  ┆ case_id       ┆ amount_416A  ┆ contractenddate_991D ┆ num_group1 ┆ openingdate_313D │\n│ ---        ┆ ---           ┆ ---          ┆ ---                  ┆ ---        ┆ ---              │\n│ str        ┆ f64           ┆ f64          ┆ str                  ┆ f64        ┆ str              │\n╞════════════╪═══════════════╪══════════════╪══════════════════════╪════════════╪══════════════════╡\n│ count      ┆ 145086.0      ┆ 145086.0     ┆ 65404                ┆ 145086.0   ┆ 145086           │\n│ null_count ┆ 0.0           ┆ 0.0          ┆ 79682                ┆ 0.0        ┆ 0                │\n│ mean       ┆ 1.4662e6      ┆ 8422.304482  ┆ null                 ┆ 0.522531   ┆ null             │\n│ std        ┆ 886528.958911 ┆ 86232.120476 ┆ null                 ┆ 1.620954   ┆ null             │\n│ min        ┆ 225.0         ┆ -40000.0     ┆ 2002-02-27           ┆ 0.0        ┆ 2001-11-19       │\n│ 25%        ┆ 660041.0      ┆ 0.0          ┆ null                 ┆ 0.0        ┆ null             │\n│ 50%        ┆ 1.556939e6    ┆ 223.658      ┆ null                 ┆ 0.0        ┆ null             │\n│ 75%        ┆ 2.530539e6    ┆ 478.34       ┆ null                 ┆ 1.0        ┆ null             │\n│ max        ┆ 2.703453e6    ┆ 1.2213286e7  ┆ 2020-03-18           ┆ 64.0       ┆ 2017-07-31       │\n└────────────┴───────────────┴──────────────┴──────────────────────┴────────────┴──────────────────┘",
      "text/html": "<div><style>\n.dataframe > thead > tr,\n.dataframe > tbody > tr {\n  text-align: right;\n  white-space: pre-wrap;\n}\n</style>\n<small>shape: (9, 6)</small><table border=\"1\" class=\"dataframe\"><thead><tr><th>statistic</th><th>case_id</th><th>amount_416A</th><th>contractenddate_991D</th><th>num_group1</th><th>openingdate_313D</th></tr><tr><td>str</td><td>f64</td><td>f64</td><td>str</td><td>f64</td><td>str</td></tr></thead><tbody><tr><td>&quot;count&quot;</td><td>145086.0</td><td>145086.0</td><td>&quot;65404&quot;</td><td>145086.0</td><td>&quot;145086&quot;</td></tr><tr><td>&quot;null_count&quot;</td><td>0.0</td><td>0.0</td><td>&quot;79682&quot;</td><td>0.0</td><td>&quot;0&quot;</td></tr><tr><td>&quot;mean&quot;</td><td>1.4662e6</td><td>8422.304482</td><td>null</td><td>0.522531</td><td>null</td></tr><tr><td>&quot;std&quot;</td><td>886528.958911</td><td>86232.120476</td><td>null</td><td>1.620954</td><td>null</td></tr><tr><td>&quot;min&quot;</td><td>225.0</td><td>-40000.0</td><td>&quot;2002-02-27&quot;</td><td>0.0</td><td>&quot;2001-11-19&quot;</td></tr><tr><td>&quot;25%&quot;</td><td>660041.0</td><td>0.0</td><td>null</td><td>0.0</td><td>null</td></tr><tr><td>&quot;50%&quot;</td><td>1.556939e6</td><td>223.658</td><td>null</td><td>0.0</td><td>null</td></tr><tr><td>&quot;75%&quot;</td><td>2.530539e6</td><td>478.34</td><td>null</td><td>1.0</td><td>null</td></tr><tr><td>&quot;max&quot;</td><td>2.703453e6</td><td>1.2213286e7</td><td>&quot;2020-03-18&quot;</td><td>64.0</td><td>&quot;2017-07-31&quot;</td></tr></tbody></table></div>"
     },
     "execution_count": 38,
     "metadata": {},
     "output_type": "execute_result"
    }
   ],
   "source": [
    "deposit_data.describe()"
   ],
   "metadata": {
    "collapsed": false,
    "ExecuteTime": {
     "end_time": "2024-02-19T11:03:26.719703306Z",
     "start_time": "2024-02-19T11:03:26.606000359Z"
    }
   },
   "id": "529f6b8bfdac1a2e",
   "execution_count": 38
  },
  {
   "cell_type": "code",
   "outputs": [],
   "source": [
    "deposit_data = deposit_data.with_columns(\n",
    "    pl.when(pl.col(\"contractenddate_991D\").is_not_null()).then(pl.lit(True)).otherwise(pl.lit(False)).alias(\"is_deposit_contract_ended\")\n",
    ")"
   ],
   "metadata": {
    "collapsed": false,
    "ExecuteTime": {
     "end_time": "2024-02-19T11:03:26.719998924Z",
     "start_time": "2024-02-19T11:03:26.650935937Z"
    }
   },
   "id": "8f48c3fba5821722",
   "execution_count": 39
  },
  {
   "cell_type": "code",
   "outputs": [
    {
     "data": {
      "text/plain": "shape: (5, 3)\n┌─────────┬───────────────────────────┬─────────────┐\n│ case_id ┆ is_deposit_contract_ended ┆ amount_416A │\n│ ---     ┆ ---                       ┆ ---         │\n│ i64     ┆ bool                      ┆ f64         │\n╞═════════╪═══════════════════════════╪═════════════╡\n│ 225     ┆ false                     ┆ 0.0         │\n│ 331     ┆ true                      ┆ 260.374     │\n│ 358     ┆ false                     ┆ 0.0         │\n│ 390     ┆ false                     ┆ 223.68001   │\n│ 390     ┆ true                      ┆ 105976.066  │\n└─────────┴───────────────────────────┴─────────────┘",
      "text/html": "<div><style>\n.dataframe > thead > tr,\n.dataframe > tbody > tr {\n  text-align: right;\n  white-space: pre-wrap;\n}\n</style>\n<small>shape: (5, 3)</small><table border=\"1\" class=\"dataframe\"><thead><tr><th>case_id</th><th>is_deposit_contract_ended</th><th>amount_416A</th></tr><tr><td>i64</td><td>bool</td><td>f64</td></tr></thead><tbody><tr><td>225</td><td>false</td><td>0.0</td></tr><tr><td>331</td><td>true</td><td>260.374</td></tr><tr><td>358</td><td>false</td><td>0.0</td></tr><tr><td>390</td><td>false</td><td>223.68001</td></tr><tr><td>390</td><td>true</td><td>105976.066</td></tr></tbody></table></div>"
     },
     "execution_count": 40,
     "metadata": {},
     "output_type": "execute_result"
    }
   ],
   "source": [
    "deposit_data = deposit_data.group_by(\"case_id\", \"is_deposit_contract_ended\").agg(\n",
    "    pl.col(\"amount_416A\").mean()\n",
    ")\n",
    "\n",
    "deposit_data.sort(\"case_id\").head().collect()"
   ],
   "metadata": {
    "collapsed": false,
    "ExecuteTime": {
     "end_time": "2024-02-19T11:03:26.722438798Z",
     "start_time": "2024-02-19T11:03:26.651103063Z"
    }
   },
   "id": "b0f0082346fc0780",
   "execution_count": 40
  }
 ],
 "metadata": {
  "kernelspec": {
   "display_name": "Python 3",
   "language": "python",
   "name": "python3"
  },
  "language_info": {
   "codemirror_mode": {
    "name": "ipython",
    "version": 2
   },
   "file_extension": ".py",
   "mimetype": "text/x-python",
   "name": "python",
   "nbconvert_exporter": "python",
   "pygments_lexer": "ipython2",
   "version": "2.7.6"
  }
 },
 "nbformat": 4,
 "nbformat_minor": 5
}
