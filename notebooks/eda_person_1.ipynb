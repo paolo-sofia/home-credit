{
 "cells": [
  {
   "cell_type": "code",
   "execution_count": 29,
   "id": "initial_id",
   "metadata": {
    "collapsed": true,
    "ExecuteTime": {
     "end_time": "2024-02-19T10:45:05.079360215Z",
     "start_time": "2024-02-19T10:45:05.067829286Z"
    }
   },
   "outputs": [],
   "source": [
    "import pathlib\n",
    "import polars as pl\n",
    "import plotly.express as px"
   ]
  },
  {
   "cell_type": "code",
   "outputs": [],
   "source": [
    "BASE_PATH = pathlib.Path.cwd().parent / \"data\" / \"raw\" / \"parquet_files\" / \"train\"\n",
    "\n",
    "PERSON_PATH = BASE_PATH / \"train_person_1.parquet\""
   ],
   "metadata": {
    "collapsed": false,
    "ExecuteTime": {
     "end_time": "2024-02-19T10:45:05.093455097Z",
     "start_time": "2024-02-19T10:45:05.082202321Z"
    }
   },
   "id": "78ad86eb30a271d3",
   "execution_count": 30
  },
  {
   "cell_type": "code",
   "outputs": [],
   "source": [
    "def get_transforms(data: pl.LazyFrame) -> list[pl.Expr]:\n",
    "    transforms = []\n",
    "    for col, dtype in zip(data.columns, data.dtypes):\n",
    "        if col.endswith(\"D\"):\n",
    "            transforms.append(\n",
    "                pl.when(pl.col(col).is_null()).then(pl.lit(False)).otherwise(pl.lit(True)).cast(pl.Boolean).alias(col)\n",
    "            )\n",
    "        elif dtype == pl.String and not col.endswith(\"D\"):\n",
    "            transforms.append(\n",
    "                pl.col(col).fill_null(\"UNKNOWN\").cast(pl.Categorical)\n",
    "            )\n",
    "        elif dtype in [pl.Float64, pl.Float32]:\n",
    "            transforms.append(\n",
    "                pl.col(col).fill_null(pl.col(col).median()).cast(pl.Float32)\n",
    "            )\n",
    "        elif col in {}:\n",
    "            transforms.append(\n",
    "                pl.col(col).fill_null(pl.col(col).median()).shrink_dtype()\n",
    "            )\n",
    "        elif col in {}:\n",
    "            transforms.append(\n",
    "                pl.col(col).fill_null(pl.lit(False)).shrink_dtype()\n",
    "            )\n",
    "    return transforms\n"
   ],
   "metadata": {
    "collapsed": false,
    "ExecuteTime": {
     "end_time": "2024-02-19T10:45:05.143078858Z",
     "start_time": "2024-02-19T10:45:05.100702520Z"
    }
   },
   "id": "92c176651fc64950",
   "execution_count": 31
  },
  {
   "cell_type": "code",
   "outputs": [
    {
     "data": {
      "text/plain": "shape: (5, 8)\n┌─────────┬────────────┬────────────┬────────────┬────────────┬────────────┬───────────┬───────────┐\n│ case_id ┆ num_group1 ┆ birth_259D ┆ incometype ┆ role_1084L ┆ empl_emplo ┆ empl_indu ┆ mainoccup │\n│ ---     ┆ ---        ┆ ---        ┆ _1044T     ┆ ---        ┆ yedfrom_27 ┆ stry_691L ┆ ationinc_ │\n│ i64     ┆ i64        ┆ str        ┆ ---        ┆ str        ┆ 1D         ┆ ---       ┆ 384A      │\n│         ┆            ┆            ┆ str        ┆            ┆ ---        ┆ str       ┆ ---       │\n│         ┆            ┆            ┆            ┆            ┆ str        ┆           ┆ f64       │\n╞═════════╪════════════╪════════════╪════════════╪════════════╪════════════╪═══════════╪═══════════╡\n│ 0       ┆ 0          ┆ 1986-07-01 ┆ SALARIED_G ┆ CL         ┆ 2017-09-15 ┆ OTHER     ┆ 10800.0   │\n│         ┆            ┆            ┆ OVT        ┆            ┆            ┆           ┆           │\n│ 0       ┆ 1          ┆ null       ┆ null       ┆ EM         ┆ null       ┆ null      ┆ null      │\n│ 0       ┆ 2          ┆ null       ┆ null       ┆ PE         ┆ null       ┆ null      ┆ null      │\n│ 0       ┆ 3          ┆ null       ┆ null       ┆ PE         ┆ null       ┆ null      ┆ null      │\n│ 1       ┆ 0          ┆ 1957-08-01 ┆ SALARIED_G ┆ CL         ┆ 2008-10-29 ┆ OTHER     ┆ 10000.0   │\n│         ┆            ┆            ┆ OVT        ┆            ┆            ┆           ┆           │\n└─────────┴────────────┴────────────┴────────────┴────────────┴────────────┴───────────┴───────────┘",
      "text/html": "<div><style>\n.dataframe > thead > tr,\n.dataframe > tbody > tr {\n  text-align: right;\n  white-space: pre-wrap;\n}\n</style>\n<small>shape: (5, 8)</small><table border=\"1\" class=\"dataframe\"><thead><tr><th>case_id</th><th>num_group1</th><th>birth_259D</th><th>incometype_1044T</th><th>role_1084L</th><th>empl_employedfrom_271D</th><th>empl_industry_691L</th><th>mainoccupationinc_384A</th></tr><tr><td>i64</td><td>i64</td><td>str</td><td>str</td><td>str</td><td>str</td><td>str</td><td>f64</td></tr></thead><tbody><tr><td>0</td><td>0</td><td>&quot;1986-07-01&quot;</td><td>&quot;SALARIED_GOVT&quot;</td><td>&quot;CL&quot;</td><td>&quot;2017-09-15&quot;</td><td>&quot;OTHER&quot;</td><td>10800.0</td></tr><tr><td>0</td><td>1</td><td>null</td><td>null</td><td>&quot;EM&quot;</td><td>null</td><td>null</td><td>null</td></tr><tr><td>0</td><td>2</td><td>null</td><td>null</td><td>&quot;PE&quot;</td><td>null</td><td>null</td><td>null</td></tr><tr><td>0</td><td>3</td><td>null</td><td>null</td><td>&quot;PE&quot;</td><td>null</td><td>null</td><td>null</td></tr><tr><td>1</td><td>0</td><td>&quot;1957-08-01&quot;</td><td>&quot;SALARIED_GOVT&quot;</td><td>&quot;CL&quot;</td><td>&quot;2008-10-29&quot;</td><td>&quot;OTHER&quot;</td><td>10000.0</td></tr></tbody></table></div>"
     },
     "execution_count": 41,
     "metadata": {},
     "output_type": "execute_result"
    }
   ],
   "source": [
    "person_data: pl.LazyFrame = pl.scan_parquet(PERSON_PATH).select([\n",
    "    \"case_id\",\n",
    "    \"num_group1\",\n",
    "    \"birth_259D\",\n",
    "    \"incometype_1044T\",\n",
    "    \"role_1084L\",\n",
    "    \"empl_employedfrom_271D\",\n",
    "    \"empl_industry_691L\",\n",
    "    \"mainoccupationinc_384A\",\n",
    "])\n",
    "person_data.head().collect()"
   ],
   "metadata": {
    "collapsed": false,
    "ExecuteTime": {
     "end_time": "2024-02-19T10:49:55.832344910Z",
     "start_time": "2024-02-19T10:49:55.821932181Z"
    }
   },
   "id": "49e58d20bee150ba",
   "execution_count": 41
  },
  {
   "cell_type": "markdown",
   "source": [
    "## Analyze birth columns\n",
    "\n",
    "birthdate_87D contiene null, birth_259D non contiene null, quindi birthdate_87D si puo' cancellare"
   ],
   "metadata": {
    "collapsed": false
   },
   "id": "919087f228ecf844"
  },
  {
   "cell_type": "code",
   "outputs": [
    {
     "data": {
      "text/plain": "shape: (9, 3)\n┌────────────┬───────────────┬────────────┐\n│ statistic  ┆ case_id       ┆ birth_259D │\n│ ---        ┆ ---           ┆ ---        │\n│ str        ┆ f64           ┆ str        │\n╞════════════╪═══════════════╪════════════╡\n│ count      ┆ 1.526659e6    ┆ 1526659    │\n│ null_count ┆ 0.0           ┆ 0          │\n│ mean       ┆ 1.2861e6      ┆ null       │\n│ std        ┆ 718946.592285 ┆ null       │\n│ min        ┆ 0.0           ┆ 1943-03-01 │\n│ 25%        ┆ 766198.0      ┆ null       │\n│ 50%        ┆ 1.357358e6    ┆ null       │\n│ 75%        ┆ 1.739023e6    ┆ null       │\n│ max        ┆ 2.703454e6    ┆ 1999-10-01 │\n└────────────┴───────────────┴────────────┘",
      "text/html": "<div><style>\n.dataframe > thead > tr,\n.dataframe > tbody > tr {\n  text-align: right;\n  white-space: pre-wrap;\n}\n</style>\n<small>shape: (9, 3)</small><table border=\"1\" class=\"dataframe\"><thead><tr><th>statistic</th><th>case_id</th><th>birth_259D</th></tr><tr><td>str</td><td>f64</td><td>str</td></tr></thead><tbody><tr><td>&quot;count&quot;</td><td>1.526659e6</td><td>&quot;1526659&quot;</td></tr><tr><td>&quot;null_count&quot;</td><td>0.0</td><td>&quot;0&quot;</td></tr><tr><td>&quot;mean&quot;</td><td>1.2861e6</td><td>null</td></tr><tr><td>&quot;std&quot;</td><td>718946.592285</td><td>null</td></tr><tr><td>&quot;min&quot;</td><td>0.0</td><td>&quot;1943-03-01&quot;</td></tr><tr><td>&quot;25%&quot;</td><td>766198.0</td><td>null</td></tr><tr><td>&quot;50%&quot;</td><td>1.357358e6</td><td>null</td></tr><tr><td>&quot;75%&quot;</td><td>1.739023e6</td><td>null</td></tr><tr><td>&quot;max&quot;</td><td>2.703454e6</td><td>&quot;1999-10-01&quot;</td></tr></tbody></table></div>"
     },
     "execution_count": 33,
     "metadata": {},
     "output_type": "execute_result"
    }
   ],
   "source": [
    "birth_data = person_data.select(\"case_id\", *[col for col in person_data.columns if \"birth\" in col])\n",
    "\n",
    "birth_data.group_by(\"case_id\").agg(\n",
    "    pl.col(\"birth_259D\").min(),\n",
    "    # pl.col(\"birthdate_87D\").min(),\n",
    ").describe()"
   ],
   "metadata": {
    "collapsed": false,
    "ExecuteTime": {
     "end_time": "2024-02-19T10:45:05.307607410Z",
     "start_time": "2024-02-19T10:45:05.143218943Z"
    }
   },
   "id": "99b623b997b15e6f",
   "execution_count": 33
  }
 ],
 "metadata": {
  "kernelspec": {
   "display_name": "Python 3",
   "language": "python",
   "name": "python3"
  },
  "language_info": {
   "codemirror_mode": {
    "name": "ipython",
    "version": 2
   },
   "file_extension": ".py",
   "mimetype": "text/x-python",
   "name": "python",
   "nbconvert_exporter": "python",
   "pygments_lexer": "ipython2",
   "version": "2.7.6"
  }
 },
 "nbformat": 4,
 "nbformat_minor": 5
}
