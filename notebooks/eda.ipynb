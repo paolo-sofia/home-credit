{
 "cells": [
  {
   "cell_type": "code",
   "execution_count": 1,
   "id": "initial_id",
   "metadata": {
    "collapsed": true,
    "ExecuteTime": {
     "end_time": "2024-02-16T09:49:53.052701891Z",
     "start_time": "2024-02-16T09:49:52.796417511Z"
    }
   },
   "outputs": [
    {
     "data": {
      "text/plain": "['train_applprev_1_0',\n 'train_applprev_1_1',\n 'train_applprev_2',\n 'train_base',\n 'train_credit_bureau_a_1_0',\n 'train_credit_bureau_a_1_1',\n 'train_credit_bureau_a_1_2',\n 'train_credit_bureau_a_1_3',\n 'train_credit_bureau_a_2_0',\n 'train_credit_bureau_a_2_1',\n 'train_credit_bureau_a_2_10',\n 'train_credit_bureau_a_2_2',\n 'train_credit_bureau_a_2_3',\n 'train_credit_bureau_a_2_4',\n 'train_credit_bureau_a_2_5',\n 'train_credit_bureau_a_2_6',\n 'train_credit_bureau_a_2_7',\n 'train_credit_bureau_a_2_8',\n 'train_credit_bureau_a_2_9',\n 'train_credit_bureau_b_1',\n 'train_credit_bureau_b_2',\n 'train_debitcard_1',\n 'train_deposit_1',\n 'train_other_1',\n 'train_person_1',\n 'train_person_2',\n 'train_static_0_0',\n 'train_static_0_1',\n 'train_static_cb_0',\n 'train_tax_registry_a_1',\n 'train_tax_registry_b_1',\n 'train_tax_registry_c_1']"
     },
     "execution_count": 1,
     "metadata": {},
     "output_type": "execute_result"
    }
   ],
   "source": [
    "import pathlib\n",
    "import duckdb\n",
    "import polars as pl\n",
    "\n",
    "pl.Config(set_fmt_float=\"full\")\n",
    "\n",
    "train_paths: list[pathlib.Path] = list((pathlib.Path.cwd().parent / \"data\").rglob(\"train*parquet\"))\n",
    "train_paths: dict[str, pathlib.Path] = {k.name.split(\".\")[0]: k for k in train_paths}\n",
    "sorted(list(train_paths.keys()))"
   ]
  },
  {
   "cell_type": "markdown",
   "source": [
    "## Helper functions"
   ],
   "metadata": {
    "collapsed": false
   },
   "id": "8b86276357831d3c"
  },
  {
   "cell_type": "code",
   "outputs": [],
   "source": [
    "def find_root_path() -> pathlib.Path:\n",
    "    directory: pathlib.Path = pathlib.Path.cwd()\n",
    "    while not bool(list(directory.glob(\".gitignore\"))):\n",
    "        directory = directory.parent    \n",
    "    return directory"
   ],
   "metadata": {
    "collapsed": false,
    "ExecuteTime": {
     "end_time": "2024-02-16T09:49:53.053364120Z",
     "start_time": "2024-02-16T09:49:53.051996752Z"
    }
   },
   "id": "d65f7a161c6a6acc",
   "execution_count": 2
  },
  {
   "cell_type": "code",
   "outputs": [],
   "source": [
    "def get_cols_to_keep(table: duckdb.DuckDBPyRelation) -> list[tuple[str, float]]:\n",
    "    dataframe: pl.DataFrame = table.pl()\n",
    "    dataframe = dataframe.null_count() / dataframe.shape[0]\n",
    "    return dataframe.transpose(include_header=True, column_names=[\"nulls_perc\"]).filter(pl.col(\"nulls_perc\") < 0.5).select(\"column\").to_series().to_list()\n",
    "\n",
    "def get_cols_to_keep_polars(dataframe: pl.LazyFrame) -> list[tuple[str, float]]:\n",
    "    # dataframe: pl.DataFrame = table.pl()\n",
    "    if isinstance(dataframe, pl.LazyFrame):\n",
    "        dataframe: pl.DataFrame = dataframe.collect()\n",
    "    dataframe = dataframe.null_count() / dataframe.shape[0]\n",
    "    return dataframe.transpose(include_header=True, column_names=[\"nulls_perc\"]).filter(pl.col(\"nulls_perc\") < 0.5).select(\"column\").to_series().to_list()\n",
    "\n",
    "def get_categories(dataframe: pl.LazyFrame) -> dict[str, list[str]]:\n",
    "    string_unique_cat = {}\n",
    "    for col in dataframe.select(pl.col(pl.String), pl.col(pl.Categorical)).columns:\n",
    "        string_unique_cat[col] = dataframe.select(col).unique().collect().to_series().to_list()\n",
    "\n",
    "    return string_unique_cat"
   ],
   "metadata": {
    "collapsed": false,
    "ExecuteTime": {
     "end_time": "2024-02-16T09:49:53.053705393Z",
     "start_time": "2024-02-16T09:49:53.052351330Z"
    }
   },
   "id": "601e06a25daae559",
   "execution_count": 3
  },
  {
   "cell_type": "code",
   "outputs": [],
   "source": [
    "duckdb_file: pathlib.Path = find_root_path() / \"data\" / \"duckdb\" / \"database.db\"\n",
    "duckdb_file.parent.mkdir(parents=True, exist_ok=True)\n",
    "\n",
    "connection: duckdb.DuckDBPyConnection = duckdb.connect(str(duckdb_file))"
   ],
   "metadata": {
    "collapsed": false,
    "ExecuteTime": {
     "end_time": "2024-02-16T09:49:53.054028332Z",
     "start_time": "2024-02-16T09:49:53.052564322Z"
    }
   },
   "id": "8c507158ce585ec7",
   "execution_count": 4
  },
  {
   "cell_type": "markdown",
   "source": [
    "### Get columns to keep"
   ],
   "metadata": {
    "collapsed": false
   },
   "id": "565d9ec150fd41d9"
  },
  {
   "cell_type": "code",
   "outputs": [],
   "source": [
    "# cols_to_keep = {k: get_cols_to_keep_polars(pl.scan_parquet(v)) for k, v in train_paths.items()}"
   ],
   "metadata": {
    "collapsed": false,
    "ExecuteTime": {
     "end_time": "2024-02-16T09:49:53.054350880Z",
     "start_time": "2024-02-16T09:49:53.052769779Z"
    }
   },
   "id": "2b49a48b80f1778a",
   "execution_count": 5
  },
  {
   "cell_type": "markdown",
   "source": [
    "### Analyze base train"
   ],
   "metadata": {
    "collapsed": false
   },
   "id": "12db7a2f9d4beef"
  },
  {
   "cell_type": "code",
   "outputs": [
    {
     "data": {
      "text/plain": "shape: (5, 5)\n┌─────────┬───────────────┬────────┬──────────┬────────┐\n│ case_id ┆ date_decision ┆ MONTH  ┆ WEEK_NUM ┆ target │\n│ ---     ┆ ---           ┆ ---    ┆ ---      ┆ ---    │\n│ i64     ┆ str           ┆ i64    ┆ i64      ┆ i64    │\n╞═════════╪═══════════════╪════════╪══════════╪════════╡\n│ 0       ┆ 2019-01-03    ┆ 201901 ┆ 0        ┆ 0      │\n│ 1       ┆ 2019-01-03    ┆ 201901 ┆ 0        ┆ 0      │\n│ 2       ┆ 2019-01-04    ┆ 201901 ┆ 0        ┆ 0      │\n│ 3       ┆ 2019-01-03    ┆ 201901 ┆ 0        ┆ 0      │\n│ 4       ┆ 2019-01-04    ┆ 201901 ┆ 0        ┆ 1      │\n└─────────┴───────────────┴────────┴──────────┴────────┘",
      "text/html": "<div><style>\n.dataframe > thead > tr,\n.dataframe > tbody > tr {\n  text-align: right;\n  white-space: pre-wrap;\n}\n</style>\n<small>shape: (5, 5)</small><table border=\"1\" class=\"dataframe\"><thead><tr><th>case_id</th><th>date_decision</th><th>MONTH</th><th>WEEK_NUM</th><th>target</th></tr><tr><td>i64</td><td>str</td><td>i64</td><td>i64</td><td>i64</td></tr></thead><tbody><tr><td>0</td><td>&quot;2019-01-03&quot;</td><td>201901</td><td>0</td><td>0</td></tr><tr><td>1</td><td>&quot;2019-01-03&quot;</td><td>201901</td><td>0</td><td>0</td></tr><tr><td>2</td><td>&quot;2019-01-04&quot;</td><td>201901</td><td>0</td><td>0</td></tr><tr><td>3</td><td>&quot;2019-01-03&quot;</td><td>201901</td><td>0</td><td>0</td></tr><tr><td>4</td><td>&quot;2019-01-04&quot;</td><td>201901</td><td>0</td><td>1</td></tr></tbody></table></div>"
     },
     "execution_count": 39,
     "metadata": {},
     "output_type": "execute_result"
    }
   ],
   "source": [
    "train_base = pl.scan_parquet(train_paths.get(\"train_base\"))\n",
    "train_base.head().collect()"
   ],
   "metadata": {
    "collapsed": false,
    "ExecuteTime": {
     "end_time": "2024-02-16T10:38:37.683771829Z",
     "start_time": "2024-02-16T10:38:37.640489630Z"
    }
   },
   "id": "b0d2c573903bdfdb",
   "execution_count": 39
  },
  {
   "cell_type": "markdown",
   "source": [
    "## Analyze First depth 0 files"
   ],
   "metadata": {
    "collapsed": false
   },
   "id": "7de3b97f3005cf55"
  },
  {
   "cell_type": "markdown",
   "source": [
    "### Static_0"
   ],
   "metadata": {
    "collapsed": false
   },
   "id": "4449c02fd58ccad8"
  },
  {
   "cell_type": "code",
   "outputs": [],
   "source": [
    "static_0: pl.LazyFrame = pl.scan_parquet(train_paths.get(\"train_static_0_0\")).sort(\"case_id\")\n",
    "\n",
    "static_0 = static_0.with_columns(\n",
    "    pl.col(\"datefirstoffer_1144D\").cast(pl.Date),\n",
    "    pl.col(\"datelastinstal40dpd_247D\").cast(pl.Date),\n",
    "    pl.col(\"datelastunpaid_3546854D\").cast(pl.Date),\n",
    "    pl.col(\"firstdatedue_489D\").cast(pl.Date),\n",
    "    pl.col(\"lastactivateddate_801D\").cast(pl.Date),\n",
    "    pl.col(\"lastapplicationdate_877D\").cast(pl.Date),\n",
    "    pl.col(\"lastapprdate_640D\").cast(pl.Date),\n",
    "    pl.col(\"lastdelinqdate_224D\").cast(pl.Date),\n",
    "    pl.col(\"lastrejectdate_50D\").cast(pl.Date),\n",
    "    pl.col(\"lastrepayingdate_696D\").cast(pl.Date),\n",
    "    pl.col(\"maxdpdinstldate_3546855D\").cast(pl.Date),\n",
    "    pl.col(\"validfrom_1069D\").cast(pl.Date),\n",
    "    pl.col(\"payvacationpostpone_4187118D\").cast(pl.Date),\n",
    "    pl.col(\"firstclxcampaign_1125D\").cast(pl.Date),\n",
    "    pl.col(\"dtlastpmtallstes_4499206D\").cast(pl.Date),\n",
    ")\n",
    "static_0 = static_0.with_columns(pl.col(pl.String).fill_null(\"UNKNOWN\").cast(pl.Categorical), pl.col(pl.Float64).cast(pl.Float32))\n",
    "static_0 = static_0.select(pl.col(pl.Categorical), pl.col(pl.Date), pl.col(pl.Float32))"
   ],
   "metadata": {
    "collapsed": false,
    "ExecuteTime": {
     "end_time": "2024-02-16T09:49:53.186325750Z",
     "start_time": "2024-02-16T09:49:53.053213095Z"
    }
   },
   "id": "fba9de9340bf91ca",
   "execution_count": 7
  },
  {
   "cell_type": "code",
   "outputs": [
    {
     "data": {
      "text/plain": "shape: (161, 2)\n┌──────────────────────────────┬────────────────────┐\n│ column                       ┆ nulls_perc         │\n│ ---                          ┆ ---                │\n│ str                          ┆ f64                │\n╞══════════════════════════════╪════════════════════╡\n│ clientscnt_136L              ┆ 0.9996044859462998 │\n│ payvacationpostpone_4187118D ┆ 0.9985384908897273 │\n│ lastrepayingdate_696D        ┆ 0.9984010074151413 │\n│ lastotherlnsexpense_631A     ┆ 0.9978371259179264 │\n│ lastotherinc_902A            ┆ 0.99778033926538   │\n│ …                            ┆ …                  │\n│ numnotactivated_1143L        ┆ 0                  │\n│ numpmtchanneldd_318L         ┆ 0                  │\n│ numrejects9m_859L            ┆ 0                  │\n│ sellerplacecnt_915L          ┆ 0                  │\n│ sellerplacescnt_216L         ┆ 0                  │\n└──────────────────────────────┴────────────────────┘",
      "text/html": "<div><style>\n.dataframe > thead > tr,\n.dataframe > tbody > tr {\n  text-align: right;\n  white-space: pre-wrap;\n}\n</style>\n<small>shape: (161, 2)</small><table border=\"1\" class=\"dataframe\"><thead><tr><th>column</th><th>nulls_perc</th></tr><tr><td>str</td><td>f64</td></tr></thead><tbody><tr><td>&quot;clientscnt_136…</td><td>0.9996044859462998</td></tr><tr><td>&quot;payvacationpos…</td><td>0.9985384908897273</td></tr><tr><td>&quot;lastrepayingda…</td><td>0.9984010074151413</td></tr><tr><td>&quot;lastotherlnsex…</td><td>0.9978371259179264</td></tr><tr><td>&quot;lastotherinc_9…</td><td>0.99778033926538</td></tr><tr><td>&quot;interestrategr…</td><td>0.9834790691372514</td></tr><tr><td>&quot;lastdependents…</td><td>0.9750357905349601</td></tr><tr><td>&quot;maxannuity_407…</td><td>0.950065603527547</td></tr><tr><td>&quot;avglnamtstart2…</td><td>0.9304542832578004</td></tr><tr><td>&quot;datelastinstal…</td><td>0.9287745938509021</td></tr><tr><td>&quot;validfrom_1069…</td><td>0.8810419254859493</td></tr><tr><td>&quot;inittransactio…</td><td>0.874602119835777</td></tr><tr><td>&hellip;</td><td>&hellip;</td></tr><tr><td>&quot;downpmt_116A&quot;</td><td>0</td></tr><tr><td>&quot;homephncnt_628…</td><td>0</td></tr><tr><td>&quot;mobilephncnt_5…</td><td>0</td></tr><tr><td>&quot;numactivecreds…</td><td>0</td></tr><tr><td>&quot;numactivecreds…</td><td>0</td></tr><tr><td>&quot;numactiverelco…</td><td>0</td></tr><tr><td>&quot;numcontrs3mont…</td><td>0</td></tr><tr><td>&quot;numnotactivate…</td><td>0</td></tr><tr><td>&quot;numpmtchanneld…</td><td>0</td></tr><tr><td>&quot;numrejects9m_8…</td><td>0</td></tr><tr><td>&quot;sellerplacecnt…</td><td>0</td></tr><tr><td>&quot;sellerplacescn…</td><td>0</td></tr></tbody></table></div>"
     },
     "execution_count": 38,
     "metadata": {},
     "output_type": "execute_result"
    }
   ],
   "source": [
    "nulls_count = static_0.collect()\n",
    "nulls_count = nulls_count.null_count() / nulls_count.shape[0]\n",
    "nulls_count.transpose(include_header=True, column_names=[\"nulls_perc\"]).sort([\"nulls_perc\"], descending=True)"
   ],
   "metadata": {
    "collapsed": false,
    "ExecuteTime": {
     "end_time": "2024-02-16T10:35:26.401672702Z",
     "start_time": "2024-02-16T10:35:25.295456034Z"
    }
   },
   "id": "89049bb3677ca219",
   "execution_count": 38
  },
  {
   "cell_type": "markdown",
   "source": [
    "## static_cb_0"
   ],
   "metadata": {
    "collapsed": false
   },
   "id": "a5f3f44c76650938"
  },
  {
   "cell_type": "code",
   "outputs": [],
   "source": [
    "static_cb_0 = pl.scan_parquet(train_paths.get(\"train_static_cb_0\"))\n",
    "static_cb_0 = static_cb_0.with_columns(\n",
    "    pl.col(\"assignmentdate_238D\").cast(pl.Date),\n",
    "    pl.col(\"assignmentdate_4527235D\").cast(pl.Date),\n",
    "    pl.col(\"assignmentdate_4955616D\").cast(pl.Date),\n",
    "    pl.col(\"birthdate_574D\").cast(pl.Date),\n",
    "    pl.col(\"dateofbirth_342D\").cast(pl.Date),\n",
    "    pl.col(\"dateofbirth_337D\").cast(pl.Date),\n",
    "    pl.col(\"responsedate_1012D\").cast(pl.Date),\n",
    "    pl.col(\"responsedate_4527233D\").cast(pl.Date),\n",
    "    pl.col(\"responsedate_4917613D\").cast(pl.Date),\n",
    "    pl.col(\"riskassesment_302T\").str.replace_all('%', '',).str.split(\" - \").list.to_struct(fields=[\"min_riskassesment_302T\",\"max_riskassesment_302T\"]).map_elements(lambda x: {k: int(v) / 100. if v else None for k, v in x.items()})\n",
    ").unnest(\"riskassesment_302T\")\n",
    "\n",
    "static_cb_0 = static_cb_0.collect().lazy()"
   ],
   "metadata": {
    "collapsed": false,
    "ExecuteTime": {
     "end_time": "2024-02-16T09:49:55.350424038Z",
     "start_time": "2024-02-16T09:49:53.098760248Z"
    }
   },
   "id": "5b176f4f60deb687",
   "execution_count": 8
  },
  {
   "cell_type": "code",
   "outputs": [
    {
     "data": {
      "text/plain": "shape: (5, 54)\n┌─────────┬────────────┬───────────┬───────────┬───┬───────────┬───────────┬───────────┬───────────┐\n│ case_id ┆ assignment ┆ assignmen ┆ assignmen ┆ … ┆ max_riska ┆ riskasses ┆ secondqua ┆ thirdquar │\n│ ---     ┆ date_238D  ┆ tdate_452 ┆ tdate_495 ┆   ┆ ssesment_ ┆ ment_940T ┆ rter_766L ┆ ter_1082L │\n│ i64     ┆ ---        ┆ 7235D     ┆ 5616D     ┆   ┆ 302T      ┆ ---       ┆ ---       ┆ ---       │\n│         ┆ date       ┆ ---       ┆ ---       ┆   ┆ ---       ┆ f64       ┆ f64       ┆ f64       │\n│         ┆            ┆ date      ┆ date      ┆   ┆ f64       ┆           ┆           ┆           │\n╞═════════╪════════════╪═══════════╪═══════════╪═══╪═══════════╪═══════════╪═══════════╪═══════════╡\n│ 357     ┆ null       ┆ null      ┆ null      ┆ … ┆ null      ┆ null      ┆ null      ┆ null      │\n│ 381     ┆ null       ┆ null      ┆ null      ┆ … ┆ null      ┆ null      ┆ null      ┆ null      │\n│ 388     ┆ null       ┆ null      ┆ null      ┆ … ┆ null      ┆ null      ┆ 3         ┆ 5         │\n│ 405     ┆ null       ┆ null      ┆ null      ┆ … ┆ null      ┆ null      ┆ 2         ┆ 0         │\n│ 409     ┆ null       ┆ null      ┆ null      ┆ … ┆ null      ┆ null      ┆ 0         ┆ 4         │\n└─────────┴────────────┴───────────┴───────────┴───┴───────────┴───────────┴───────────┴───────────┘",
      "text/html": "<div><style>\n.dataframe > thead > tr,\n.dataframe > tbody > tr {\n  text-align: right;\n  white-space: pre-wrap;\n}\n</style>\n<small>shape: (5, 54)</small><table border=\"1\" class=\"dataframe\"><thead><tr><th>case_id</th><th>assignmentdate_238D</th><th>assignmentdate_4527235D</th><th>assignmentdate_4955616D</th><th>birthdate_574D</th><th>contractssum_5085716L</th><th>dateofbirth_337D</th><th>dateofbirth_342D</th><th>days120_123L</th><th>days180_256L</th><th>days30_165L</th><th>days360_512L</th><th>days90_310L</th><th>description_5085714M</th><th>education_1103M</th><th>education_88M</th><th>firstquarter_103L</th><th>for3years_128L</th><th>for3years_504L</th><th>for3years_584L</th><th>formonth_118L</th><th>formonth_206L</th><th>formonth_535L</th><th>forquarter_1017L</th><th>forquarter_462L</th><th>forquarter_634L</th><th>fortoday_1092L</th><th>forweek_1077L</th><th>forweek_528L</th><th>forweek_601L</th><th>foryear_618L</th><th>foryear_818L</th><th>foryear_850L</th><th>fourthquarter_440L</th><th>maritalst_385M</th><th>maritalst_893M</th><th>numberofqueries_373L</th><th>pmtaverage_3A</th><th>pmtaverage_4527227A</th><th>pmtaverage_4955615A</th><th>pmtcount_4527229L</th><th>pmtcount_4955617L</th><th>pmtcount_693L</th><th>pmtscount_423L</th><th>pmtssum_45A</th><th>requesttype_4525192L</th><th>responsedate_1012D</th><th>responsedate_4527233D</th><th>responsedate_4917613D</th><th>min_riskassesment_302T</th><th>max_riskassesment_302T</th><th>riskassesment_940T</th><th>secondquarter_766L</th><th>thirdquarter_1082L</th></tr><tr><td>i64</td><td>date</td><td>date</td><td>date</td><td>date</td><td>f64</td><td>date</td><td>date</td><td>f64</td><td>f64</td><td>f64</td><td>f64</td><td>f64</td><td>str</td><td>str</td><td>str</td><td>f64</td><td>f64</td><td>f64</td><td>f64</td><td>f64</td><td>f64</td><td>f64</td><td>f64</td><td>f64</td><td>f64</td><td>f64</td><td>f64</td><td>f64</td><td>f64</td><td>f64</td><td>f64</td><td>f64</td><td>f64</td><td>str</td><td>str</td><td>f64</td><td>f64</td><td>f64</td><td>f64</td><td>f64</td><td>f64</td><td>f64</td><td>f64</td><td>f64</td><td>str</td><td>date</td><td>date</td><td>date</td><td>f64</td><td>f64</td><td>f64</td><td>f64</td><td>f64</td></tr></thead><tbody><tr><td>357</td><td>null</td><td>null</td><td>null</td><td>1988-04-01</td><td>null</td><td>null</td><td>null</td><td>null</td><td>null</td><td>null</td><td>null</td><td>null</td><td>&quot;a55475b1&quot;</td><td>&quot;a55475b1&quot;</td><td>&quot;a55475b1&quot;</td><td>null</td><td>null</td><td>null</td><td>null</td><td>null</td><td>null</td><td>null</td><td>null</td><td>null</td><td>null</td><td>null</td><td>null</td><td>null</td><td>null</td><td>null</td><td>null</td><td>null</td><td>null</td><td>&quot;a55475b1&quot;</td><td>&quot;a55475b1&quot;</td><td>null</td><td>null</td><td>null</td><td>null</td><td>null</td><td>null</td><td>null</td><td>6</td><td>6301.4</td><td>null</td><td>2019-01-25</td><td>null</td><td>null</td><td>null</td><td>null</td><td>null</td><td>null</td><td>null</td></tr><tr><td>381</td><td>null</td><td>null</td><td>null</td><td>1973-11-01</td><td>null</td><td>null</td><td>null</td><td>null</td><td>null</td><td>null</td><td>null</td><td>null</td><td>&quot;a55475b1&quot;</td><td>&quot;a55475b1&quot;</td><td>&quot;a55475b1&quot;</td><td>null</td><td>null</td><td>null</td><td>null</td><td>null</td><td>null</td><td>null</td><td>null</td><td>null</td><td>null</td><td>null</td><td>null</td><td>null</td><td>null</td><td>null</td><td>null</td><td>null</td><td>null</td><td>&quot;a55475b1&quot;</td><td>&quot;a55475b1&quot;</td><td>null</td><td>null</td><td>null</td><td>null</td><td>null</td><td>null</td><td>null</td><td>6</td><td>4019.6</td><td>null</td><td>2019-01-25</td><td>null</td><td>null</td><td>null</td><td>null</td><td>null</td><td>null</td><td>null</td></tr><tr><td>388</td><td>null</td><td>null</td><td>null</td><td>1989-04-01</td><td>null</td><td>1989-04-01</td><td>null</td><td>6</td><td>8</td><td>2</td><td>10</td><td>4</td><td>&quot;a55475b1&quot;</td><td>&quot;a55475b1&quot;</td><td>&quot;a55475b1&quot;</td><td>2</td><td>null</td><td>null</td><td>null</td><td>null</td><td>null</td><td>null</td><td>null</td><td>null</td><td>null</td><td>null</td><td>null</td><td>null</td><td>null</td><td>null</td><td>null</td><td>null</td><td>6</td><td>&quot;a55475b1&quot;</td><td>&quot;a55475b1&quot;</td><td>10</td><td>null</td><td>null</td><td>null</td><td>null</td><td>null</td><td>null</td><td>6</td><td>14548</td><td>null</td><td>2019-01-28</td><td>null</td><td>null</td><td>null</td><td>null</td><td>null</td><td>3</td><td>5</td></tr><tr><td>405</td><td>null</td><td>null</td><td>null</td><td>1974-03-01</td><td>null</td><td>1974-03-01</td><td>null</td><td>0</td><td>0</td><td>0</td><td>1</td><td>0</td><td>&quot;a55475b1&quot;</td><td>&quot;a55475b1&quot;</td><td>&quot;a55475b1&quot;</td><td>0</td><td>null</td><td>null</td><td>null</td><td>null</td><td>null</td><td>null</td><td>null</td><td>null</td><td>null</td><td>null</td><td>null</td><td>null</td><td>null</td><td>null</td><td>null</td><td>null</td><td>4</td><td>&quot;a55475b1&quot;</td><td>&quot;a55475b1&quot;</td><td>1</td><td>null</td><td>null</td><td>null</td><td>null</td><td>null</td><td>null</td><td>6</td><td>10498.24</td><td>null</td><td>2019-01-21</td><td>null</td><td>null</td><td>null</td><td>null</td><td>null</td><td>2</td><td>0</td></tr><tr><td>409</td><td>null</td><td>null</td><td>null</td><td>1993-06-01</td><td>null</td><td>1993-06-01</td><td>null</td><td>2</td><td>3</td><td>0</td><td>3</td><td>1</td><td>&quot;a55475b1&quot;</td><td>&quot;717ddd49&quot;</td><td>&quot;a55475b1&quot;</td><td>4</td><td>null</td><td>null</td><td>null</td><td>null</td><td>null</td><td>null</td><td>null</td><td>null</td><td>null</td><td>null</td><td>null</td><td>null</td><td>null</td><td>null</td><td>null</td><td>null</td><td>1</td><td>&quot;a7fcb6e5&quot;</td><td>&quot;a55475b1&quot;</td><td>3</td><td>null</td><td>null</td><td>null</td><td>null</td><td>null</td><td>null</td><td>7</td><td>6344.8804</td><td>null</td><td>2019-01-21</td><td>null</td><td>null</td><td>null</td><td>null</td><td>null</td><td>0</td><td>4</td></tr></tbody></table></div>"
     },
     "execution_count": 10,
     "metadata": {},
     "output_type": "execute_result"
    }
   ],
   "source": [
    "static_cb_0.head().collect()"
   ],
   "metadata": {
    "collapsed": false,
    "ExecuteTime": {
     "end_time": "2024-02-16T09:50:47.709203545Z",
     "start_time": "2024-02-16T09:50:47.662266862Z"
    }
   },
   "id": "79aee712c399d1b1",
   "execution_count": 10
  },
  {
   "cell_type": "code",
   "outputs": [],
   "source": [
    "birth_date = static_cb_0.select(\"birthdate_574D\", \"dateofbirth_342D\", \"dateofbirth_337D\").with_columns(\n",
    "    pl.when(pl.col(\"birthdate_574D\") == pl.col(\"dateofbirth_342D\")).then(pl.lit(True)).otherwise(pl.lit(False)).alias(\"birthdate_574D_equals_dateofbirth_342D\"),\n",
    "    pl.when(pl.col(\"birthdate_574D\") == pl.col(\"dateofbirth_337D\")).then(pl.lit(True)).otherwise(pl.lit(False)).alias(\"birthdate_574D_equals_dateofbirth_337D\"),\n",
    "    pl.when(pl.col(\"dateofbirth_342D\") == pl.col(\"dateofbirth_337D\")).then(pl.lit(True)).otherwise(pl.lit(False)).alias(\"dateofbirth_342D_equals_dateofbirth_337D\"),\n",
    "    pl.when((pl.col(\"dateofbirth_342D\") == pl.col(\"dateofbirth_337D\")) & (pl.col(\"birthdate_574D\") == pl.col(\"dateofbirth_337D\")) & (pl.col(\"birthdate_574D\") == pl.col(\"dateofbirth_342D\")) ).then(pl.lit(True)).otherwise(pl.lit(False)).alias(\"all_equals\"),\n",
    ")"
   ],
   "metadata": {
    "collapsed": false,
    "ExecuteTime": {
     "end_time": "2024-02-16T10:09:38.791320092Z",
     "start_time": "2024-02-16T10:09:38.746476585Z"
    }
   },
   "id": "47189d8d505cddd5",
   "execution_count": 34
  },
  {
   "cell_type": "code",
   "outputs": [
    {
     "data": {
      "text/plain": "shape: (54, 2)\n┌──────────────────────┬────────────────────┐\n│ column               ┆ nulls_perc         │\n│ ---                  ┆ ---                │\n│ str                  ┆ f64                │\n╞══════════════════════╪════════════════════╡\n│ dateofbirth_342D     ┆ 0.9756743859948444 │\n│ for3years_128L       ┆ 0.9756650556223492 │\n│ for3years_504L       ┆ 0.9756650556223492 │\n│ for3years_584L       ┆ 0.9756650556223492 │\n│ formonth_118L        ┆ 0.9756650556223492 │\n│ …                    ┆ …                  │\n│ description_5085714M ┆ 0                  │\n│ education_1103M      ┆ 0                  │\n│ education_88M        ┆ 0                  │\n│ maritalst_385M       ┆ 0                  │\n│ maritalst_893M       ┆ 0                  │\n└──────────────────────┴────────────────────┘",
      "text/html": "<div><style>\n.dataframe > thead > tr,\n.dataframe > tbody > tr {\n  text-align: right;\n  white-space: pre-wrap;\n}\n</style>\n<small>shape: (54, 2)</small><table border=\"1\" class=\"dataframe\"><thead><tr><th>column</th><th>nulls_perc</th></tr><tr><td>str</td><td>f64</td></tr></thead><tbody><tr><td>&quot;dateofbirth_34…</td><td>0.9756743859948444</td></tr><tr><td>&quot;for3years_128L…</td><td>0.9756650556223492</td></tr><tr><td>&quot;for3years_504L…</td><td>0.9756650556223492</td></tr><tr><td>&quot;for3years_584L…</td><td>0.9756650556223492</td></tr><tr><td>&quot;formonth_118L&quot;</td><td>0.9756650556223492</td></tr><tr><td>&quot;formonth_206L&quot;</td><td>0.9756650556223492</td></tr><tr><td>&quot;formonth_535L&quot;</td><td>0.9756650556223492</td></tr><tr><td>&quot;forquarter_101…</td><td>0.9756650556223492</td></tr><tr><td>&quot;forquarter_462…</td><td>0.9756650556223492</td></tr><tr><td>&quot;forquarter_634…</td><td>0.9756650556223492</td></tr><tr><td>&quot;fortoday_1092L…</td><td>0.9756650556223492</td></tr><tr><td>&quot;forweek_1077L&quot;</td><td>0.9756650556223492</td></tr><tr><td>&hellip;</td><td>&hellip;</td></tr><tr><td>&quot;days90_310L&quot;</td><td>0.07649905763237799</td></tr><tr><td>&quot;firstquarter_1…</td><td>0.07649905763237799</td></tr><tr><td>&quot;fourthquarter_…</td><td>0.07649905763237799</td></tr><tr><td>&quot;numberofquerie…</td><td>0.07649905763237799</td></tr><tr><td>&quot;secondquarter_…</td><td>0.07649905763237799</td></tr><tr><td>&quot;thirdquarter_1…</td><td>0.07649905763237799</td></tr><tr><td>&quot;case_id&quot;</td><td>0</td></tr><tr><td>&quot;description_50…</td><td>0</td></tr><tr><td>&quot;education_1103…</td><td>0</td></tr><tr><td>&quot;education_88M&quot;</td><td>0</td></tr><tr><td>&quot;maritalst_385M…</td><td>0</td></tr><tr><td>&quot;maritalst_893M…</td><td>0</td></tr></tbody></table></div>"
     },
     "execution_count": 37,
     "metadata": {},
     "output_type": "execute_result"
    }
   ],
   "source": [
    "nulls_count = static_cb_0.collect()\n",
    "nulls_count = nulls_count.null_count() / nulls_count.shape[0]\n",
    "nulls_count.transpose(include_header=True, column_names=[\"nulls_perc\"]).sort([\"nulls_perc\"], descending=True)"
   ],
   "metadata": {
    "collapsed": false,
    "ExecuteTime": {
     "end_time": "2024-02-16T10:32:52.888366005Z",
     "start_time": "2024-02-16T10:32:52.881713391Z"
    }
   },
   "id": "dee51c7ba143cf2d",
   "execution_count": 37
  },
  {
   "cell_type": "markdown",
   "source": [
    "## Non si usano le date di nascita"
   ],
   "metadata": {
    "collapsed": false
   },
   "id": "c9d6e7d044f147a8"
  },
  {
   "cell_type": "code",
   "outputs": [],
   "source": [],
   "metadata": {
    "collapsed": false
   },
   "id": "aa0999454195e900"
  }
 ],
 "metadata": {
  "kernelspec": {
   "display_name": "Python 3",
   "language": "python",
   "name": "python3"
  },
  "language_info": {
   "codemirror_mode": {
    "name": "ipython",
    "version": 2
   },
   "file_extension": ".py",
   "mimetype": "text/x-python",
   "name": "python",
   "nbconvert_exporter": "python",
   "pygments_lexer": "ipython2",
   "version": "2.7.6"
  }
 },
 "nbformat": 4,
 "nbformat_minor": 5
}
