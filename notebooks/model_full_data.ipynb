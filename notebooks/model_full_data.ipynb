{
 "cells": [
  {
   "cell_type": "code",
   "execution_count": 55,
   "id": "initial_id",
   "metadata": {
    "collapsed": true,
    "ExecuteTime": {
     "end_time": "2024-03-04T10:21:13.840137479Z",
     "start_time": "2024-03-04T10:21:13.795173776Z"
    }
   },
   "outputs": [],
   "source": [
    "import datetime\n",
    "\n",
    "import pandas as pd\n",
    "import polars as pl\n",
    "import pathlib\n",
    "import numpy as np\n",
    "import lightgbm as lgb\n",
    "from dateutil.relativedelta import relativedelta \n",
    "import mlflow\n",
    "import plotly.graph_objects as go\n",
    "from sklearn.metrics import confusion_matrix, ConfusionMatrixDisplay\n",
    "from sklearn.utils.class_weight import compute_sample_weight"
   ]
  },
  {
   "cell_type": "code",
   "outputs": [],
   "source": [
    "pl.Config(set_fmt_float=\"full\")\n",
    "pd.options.display.float_format = '{:.3f}'.format\n",
    "pd.options.plotting.backend = \"plotly\"\n",
    "\n",
    "mlflow.set_tracking_uri(\"/home/paolo/git/home-credit/data/mlflow_runs\")"
   ],
   "metadata": {
    "collapsed": false,
    "ExecuteTime": {
     "end_time": "2024-03-04T10:21:13.852309791Z",
     "start_time": "2024-03-04T10:21:13.840659184Z"
    }
   },
   "id": "e07058d50bb9a6f0",
   "execution_count": 56
  },
  {
   "cell_type": "code",
   "outputs": [],
   "source": [
    "SEED = 666\n",
    "INPUT_PATH = pathlib.Path(\"../data/datalake/silver/preprocessed.parquet\")"
   ],
   "metadata": {
    "collapsed": false,
    "ExecuteTime": {
     "end_time": "2024-03-04T10:21:13.865404914Z",
     "start_time": "2024-03-04T10:21:13.852963906Z"
    }
   },
   "id": "e84a933207671271",
   "execution_count": 57
  },
  {
   "cell_type": "markdown",
   "source": [
    "## Helper functions"
   ],
   "metadata": {
    "collapsed": false
   },
   "id": "bccead7794f7f031"
  },
  {
   "cell_type": "code",
   "outputs": [],
   "source": [
    "def get_learning_curves(model: lgb.LGBMModel, metric: str = \"binary_logloss\") -> go.Figure:\n",
    "    keys = list(model.evals_result_.keys())\n",
    "    train_key, valid_key = \"\", \"\"\n",
    "    for key in keys:\n",
    "        if \"train\" in key:\n",
    "            train_key = key\n",
    "        elif \"valid\" in key:\n",
    "            valid_key = key\n",
    "\n",
    "    results = pd.DataFrame({\"train\": model.evals_result_[train_key][metric], \"valid\": model.evals_result_[valid_key][metric]})\n",
    "\n",
    "    fig = go.Figure()\n",
    "    for col in results.columns:\n",
    "        fig.add_trace(go.Scatter(x=results.index+1, y=results[col], mode='lines', name=f\"{col}\"))\n",
    "\n",
    "    fig.update_layout(title=f'Learning curves {metric}',\n",
    "                      xaxis_title='Iteration',\n",
    "                      yaxis_title=metric,\n",
    "                      margin=dict(l=0,r=0,b=0,t=30),\n",
    "                      )\n",
    "    return fig\n",
    "\n",
    "def split_train_validation(dataframe: pl.LazyFrame | pl.DataFrame, test_months: float = 0.2) -> tuple[pl.LazyFrame, pl.LazyFrame] | None:\n",
    "    if isinstance(dataframe, pl.LazyFrame):\n",
    "        min_date: datetime.date = dataframe.select(\"date_decision\").min().collect().item(0,0)\n",
    "        max_date: datetime.date = dataframe.select(\"date_decision\").max().collect().item(0,0)\n",
    "    elif isinstance(dataframe, pl.DataFrame):\n",
    "        min_date: datetime.date = dataframe.select(\"date_decision\").min().item(0,0)\n",
    "        max_date: datetime.date = dataframe.select(\"date_decision\").max().item(0,0)\n",
    "    else:\n",
    "        return    \n",
    "    \n",
    "    total_months: int = (max_date - min_date).days // 30 + 1\n",
    "\n",
    "    test_months: int = round(total_months * test_months)\n",
    "\n",
    "    # print(f\"total months: {total_months} - test_months: {test_months}\")\n",
    "    start_test_date: datetime.date = max_date - relativedelta(months=test_months)\n",
    "    return dataframe.filter(pl.col(\"date_decision\") < start_test_date).drop(\"date_decision\"), dataframe.filter(pl.col(\"date_decision\") >= start_test_date).drop(\"date_decision\")\n",
    "\n",
    "def convert_object_to_categorical(data: pd.DataFrame) -> pd.DataFrame:\n",
    "    for col in data.columns:\n",
    "        if data[col].dtype == \"object\":\n",
    "            data[col] = data[col].astype(\"category\")\n",
    "\n",
    "    return data\n",
    "\n",
    "def get_columns_with_more_x_perc_nulls(dataframe: pl.LazyFrame, threshold: float = 0.5) -> list[str]:\n",
    "    describe = dataframe.describe(percentiles=[]).filter(pl.col(\"statistic\").is_in([\"count\", \"null_count\"]))\n",
    "    return describe.transpose(include_header=True, column_names=[\"count\", \"null_count\"]).slice(1).with_columns(\n",
    "        (pl.col(\"null_count\").cast(pl.Float32) / pl.col(\"count\").cast(pl.Float32)).alias(\"perc_null\")\n",
    "    ).filter(pl.col(\"perc_null\") > threshold).select(\"column\").to_series().to_list()\n",
    "\n",
    "def binarize_columns_with_more_x_perc_nulls(columns: list[str]) -> list[pl.Expr]:\n",
    "    transforms = []\n",
    "    for col in columns:\n",
    "        transforms.append(\n",
    "            pl.when(pl.col(col).is_null()).then(pl.lit(False)).otherwise(pl.lit(True)).alias(col)\n",
    "        )\n",
    "    return transforms\n",
    "\n",
    "def optimize_datatypes(dataframe: pl.LazyFrame) -> pl.LazyFrame:\n",
    "    transforms = []\n",
    "    for col, col_dtype in zip(dataframe.columns, dataframe.dtypes):\n",
    "        if isinstance(col_dtype, tuple(pl.FLOAT_DTYPES)):\n",
    "            transforms.append(\n",
    "                pl.col(col).cast(pl.Float32).shrink_dtype().alias(col)\n",
    "            )\n",
    "        elif isinstance(col_dtype, tuple(pl.INTEGER_DTYPES)):\n",
    "            transforms.append(\n",
    "                pl.col(col).cast(pl.Int32).shrink_dtype().alias(col)\n",
    "            )\n",
    "        elif isinstance(col_dtype, pl.String):\n",
    "            transforms.append(\n",
    "                pl.col(col).cast(pl.Categorical).alias(col)\n",
    "            )\n",
    "    \n",
    "    return dataframe.with_columns(*transforms)\n",
    "\n",
    "def fill_nulls(dataframe: pl.LazyFrame) -> pl.LazyFrame:\n",
    "    fill_null_transforms = []\n",
    "\n",
    "    for col, col_dtype in zip(dataframe.columns, dataframe.dtypes):\n",
    "        if isinstance(col_dtype, tuple(pl.NUMERIC_DTYPES)):\n",
    "            fill_null_transforms.append(pl.col(col).fill_null(pl.col(col).median()).shrink_dtype().alias(col))\n",
    "        elif isinstance(col_dtype, (pl.Boolean, pl.Categorical)):\n",
    "            fill_null_transforms.append(pl.col(col).fill_null(pl.col(col).mode().first()).alias(col))\n",
    "    \n",
    "    return dataframe.with_columns(*fill_null_transforms)"
   ],
   "metadata": {
    "collapsed": false,
    "ExecuteTime": {
     "end_time": "2024-03-04T10:21:13.896760183Z",
     "start_time": "2024-03-04T10:21:13.865572932Z"
    }
   },
   "id": "bc60e53f72f8b7e3",
   "execution_count": 58
  },
  {
   "cell_type": "markdown",
   "source": [
    "## Load and preprocess data"
   ],
   "metadata": {
    "collapsed": false
   },
   "id": "ab03108d186e0e05"
  },
  {
   "cell_type": "code",
   "outputs": [],
   "source": [
    "data: pl.LazyFrame = pl.scan_parquet(INPUT_PATH).with_columns(pl.col(\"date_decision\").cast(pl.Date))\n",
    "data = data.drop([col for col in data.columns if \"num_group\" in col])\n",
    "data = optimize_datatypes(data)"
   ],
   "metadata": {
    "collapsed": false,
    "ExecuteTime": {
     "end_time": "2024-03-04T10:21:14.328855787Z",
     "start_time": "2024-03-04T10:21:13.888480111Z"
    }
   },
   "id": "cd774274435601f4",
   "execution_count": 59
  },
  {
   "cell_type": "code",
   "outputs": [
    {
     "data": {
      "text/plain": "shape: (5, 307)\n┌─────────┬───────────────┬────────┬───────────────┬───┬──────┬───────┬─────────────┬──────────────┐\n│ case_id ┆ date_decision ┆ target ┆ actualdpdtole ┆ … ┆ year ┆ month ┆ day_of_year ┆ decision_is_ │\n│ ---     ┆ ---           ┆ ---    ┆ rance_344P    ┆   ┆ ---  ┆ ---   ┆ ---         ┆ on_weekend   │\n│ i8      ┆ date          ┆ i8     ┆ ---           ┆   ┆ i32  ┆ i8    ┆ i16         ┆ ---          │\n│         ┆               ┆        ┆ f32           ┆   ┆      ┆       ┆             ┆ i32          │\n╞═════════╪═══════════════╪════════╪═══════════════╪═══╪══════╪═══════╪═════════════╪══════════════╡\n│ 0       ┆ 2019-01-03    ┆ 0      ┆ null          ┆ … ┆ 2019 ┆ 1     ┆ 3           ┆ 0            │\n│ 1       ┆ 2019-01-03    ┆ 0      ┆ null          ┆ … ┆ 2019 ┆ 1     ┆ 3           ┆ 0            │\n│ 2       ┆ 2019-01-04    ┆ 0      ┆ null          ┆ … ┆ 2019 ┆ 1     ┆ 4           ┆ 0            │\n│ 3       ┆ 2019-01-03    ┆ 0      ┆ null          ┆ … ┆ 2019 ┆ 1     ┆ 3           ┆ 0            │\n│ 4       ┆ 2019-01-04    ┆ 1      ┆ null          ┆ … ┆ 2019 ┆ 1     ┆ 4           ┆ 0            │\n└─────────┴───────────────┴────────┴───────────────┴───┴──────┴───────┴─────────────┴──────────────┘",
      "text/html": "<div><style>\n.dataframe > thead > tr,\n.dataframe > tbody > tr {\n  text-align: right;\n  white-space: pre-wrap;\n}\n</style>\n<small>shape: (5, 307)</small><table border=\"1\" class=\"dataframe\"><thead><tr><th>case_id</th><th>date_decision</th><th>target</th><th>actualdpdtolerance_344P</th><th>amtinstpaidbefduel24m_4187115A</th><th>annuity_780A</th><th>annuitynextmonth_57A</th><th>applicationcnt_361L</th><th>applications30d_658L</th><th>applicationscnt_1086L</th><th>applicationscnt_464L</th><th>applicationscnt_629L</th><th>applicationscnt_867L</th><th>avgdbddpdlast24m_3658932P</th><th>avgdbddpdlast3m_4187120P</th><th>avgdbdtollast24m_4525197P</th><th>avgdpdtolclosure24_3658938P</th><th>avginstallast24m_3658937A</th><th>avglnamtstart24m_4525187A</th><th>avgmaxdpdlast9m_3716943P</th><th>avgoutstandbalancel6m_4187114A</th><th>avgpmtlast12m_4525200A</th><th>bankacctype_710L</th><th>cardtype_51L</th><th>clientscnt12m_3712952L</th><th>clientscnt3m_3712950L</th><th>clientscnt6m_3712949L</th><th>clientscnt_100L</th><th>clientscnt_1022L</th><th>clientscnt_1071L</th><th>clientscnt_1130L</th><th>clientscnt_136L</th><th>clientscnt_157L</th><th>clientscnt_257L</th><th>clientscnt_304L</th><th>clientscnt_360L</th><th>clientscnt_493L</th><th>&hellip;</th><th>firstnonzeroinstldate_307D_mean</th><th>inittransactioncode_279L_mode</th><th>isbidproduct_390L_median</th><th>isdebitcard_527L_median</th><th>mainoccupationinc_437A_median</th><th>mainoccupationinc_437A_mean</th><th>maxdpdtolerance_577P_median</th><th>maxdpdtolerance_577P_mean</th><th>outstandingdebt_522A_median</th><th>outstandingdebt_522A_mean</th><th>pmtnum_8L_median</th><th>pmtnum_8L_mean</th><th>postype_4733339M_mode</th><th>profession_152M_mode</th><th>rejectreason_755M_mode</th><th>rejectreasonclient_4145042M_mode</th><th>revolvingaccount_394A_median</th><th>status_219L_mode</th><th>tenor_203L_median</th><th>tenor_203L_mean</th><th>addres_district_368M_mode</th><th>addres_role_871L_median</th><th>addres_zip_823M_mode</th><th>conts_role_79M_mode</th><th>empls_economicalst_849M_mode</th><th>empls_employedfrom_796D_median</th><th>empls_employedfrom_796D_mean</th><th>empls_employer_name_740M_mode</th><th>relatedpersons_role_762T_median</th><th>cacccardblochreas_147M_mode</th><th>conts_type_509L_mode</th><th>credacc_cards_status_52L_median</th><th>age</th><th>year</th><th>month</th><th>day_of_year</th><th>decision_is_on_weekend</th></tr><tr><td>i8</td><td>date</td><td>i8</td><td>f32</td><td>f32</td><td>f32</td><td>f32</td><td>f32</td><td>f32</td><td>f32</td><td>f32</td><td>f32</td><td>f32</td><td>f32</td><td>f32</td><td>f32</td><td>f32</td><td>f32</td><td>bool</td><td>f32</td><td>f32</td><td>f32</td><td>cat</td><td>bool</td><td>f32</td><td>f32</td><td>f32</td><td>f32</td><td>f32</td><td>f32</td><td>f32</td><td>bool</td><td>f32</td><td>f32</td><td>f32</td><td>f32</td><td>f32</td><td>&hellip;</td><td>f32</td><td>cat</td><td>f32</td><td>f32</td><td>f32</td><td>f32</td><td>f32</td><td>f32</td><td>f32</td><td>f32</td><td>f32</td><td>f32</td><td>cat</td><td>cat</td><td>cat</td><td>cat</td><td>f32</td><td>cat</td><td>f32</td><td>f32</td><td>cat</td><td>f32</td><td>cat</td><td>cat</td><td>cat</td><td>f32</td><td>f32</td><td>cat</td><td>f32</td><td>cat</td><td>cat</td><td>f32</td><td>f32</td><td>i32</td><td>i8</td><td>i16</td><td>i32</td></tr></thead><tbody><tr><td>0</td><td>2019-01-03</td><td>0</td><td>null</td><td>null</td><td>1917.5999755859375</td><td>0</td><td>0</td><td>0</td><td>0</td><td>0</td><td>0</td><td>0</td><td>null</td><td>null</td><td>null</td><td>null</td><td>null</td><td>false</td><td>null</td><td>null</td><td>null</td><td>null</td><td>false</td><td>0</td><td>0</td><td>0</td><td>0</td><td>0</td><td>0</td><td>0</td><td>false</td><td>0</td><td>0</td><td>0</td><td>0</td><td>0</td><td>&hellip;</td><td>null</td><td>null</td><td>null</td><td>0</td><td>null</td><td>null</td><td>null</td><td>null</td><td>null</td><td>null</td><td>null</td><td>null</td><td>null</td><td>null</td><td>null</td><td>null</td><td>0</td><td>null</td><td>null</td><td>null</td><td>null</td><td>null</td><td>null</td><td>null</td><td>null</td><td>null</td><td>null</td><td>null</td><td>null</td><td>null</td><td>null</td><td>null</td><td>32.5315055847168</td><td>2019</td><td>1</td><td>3</td><td>0</td></tr><tr><td>1</td><td>2019-01-03</td><td>0</td><td>null</td><td>null</td><td>3134</td><td>0</td><td>0</td><td>0</td><td>0</td><td>0</td><td>0</td><td>0</td><td>null</td><td>null</td><td>null</td><td>null</td><td>null</td><td>false</td><td>null</td><td>null</td><td>null</td><td>null</td><td>false</td><td>0</td><td>0</td><td>0</td><td>0</td><td>0</td><td>0</td><td>0</td><td>true</td><td>3</td><td>0</td><td>0</td><td>0</td><td>0</td><td>&hellip;</td><td>null</td><td>null</td><td>null</td><td>0</td><td>null</td><td>null</td><td>null</td><td>null</td><td>null</td><td>null</td><td>null</td><td>null</td><td>null</td><td>null</td><td>null</td><td>null</td><td>0</td><td>null</td><td>null</td><td>null</td><td>null</td><td>null</td><td>null</td><td>null</td><td>null</td><td>null</td><td>null</td><td>null</td><td>null</td><td>null</td><td>null</td><td>null</td><td>61.46575164794922</td><td>2019</td><td>1</td><td>3</td><td>0</td></tr><tr><td>2</td><td>2019-01-04</td><td>0</td><td>null</td><td>null</td><td>4937</td><td>0</td><td>0</td><td>0</td><td>0</td><td>0</td><td>0</td><td>0</td><td>null</td><td>null</td><td>null</td><td>null</td><td>null</td><td>false</td><td>null</td><td>null</td><td>null</td><td>null</td><td>false</td><td>0</td><td>0</td><td>0</td><td>0</td><td>0</td><td>0</td><td>0</td><td>false</td><td>0</td><td>0</td><td>0</td><td>0</td><td>0</td><td>&hellip;</td><td>2071</td><td>null</td><td>0</td><td>0</td><td>8200</td><td>8200</td><td>null</td><td>null</td><td>null</td><td>null</td><td>18</td><td>18</td><td>null</td><td>null</td><td>null</td><td>null</td><td>0</td><td>null</td><td>18</td><td>18</td><td>null</td><td>null</td><td>null</td><td>null</td><td>null</td><td>null</td><td>null</td><td>null</td><td>null</td><td>null</td><td>null</td><td>null</td><td>44.123287200927734</td><td>2019</td><td>1</td><td>4</td><td>0</td></tr><tr><td>3</td><td>2019-01-03</td><td>0</td><td>null</td><td>null</td><td>4643.60009765625</td><td>0</td><td>0</td><td>1</td><td>0</td><td>2</td><td>0</td><td>1</td><td>null</td><td>null</td><td>null</td><td>null</td><td>null</td><td>false</td><td>null</td><td>null</td><td>null</td><td>null</td><td>false</td><td>0</td><td>0</td><td>0</td><td>0</td><td>0</td><td>0</td><td>1</td><td>false</td><td>0</td><td>0</td><td>0</td><td>0</td><td>0</td><td>&hellip;</td><td>-35</td><td>null</td><td>0</td><td>0</td><td>11000</td><td>11000</td><td>null</td><td>null</td><td>null</td><td>null</td><td>12</td><td>12</td><td>null</td><td>null</td><td>null</td><td>null</td><td>0</td><td>null</td><td>12</td><td>12</td><td>null</td><td>null</td><td>null</td><td>null</td><td>null</td><td>null</td><td>null</td><td>null</td><td>null</td><td>null</td><td>null</td><td>null</td><td>25.44109535217285</td><td>2019</td><td>1</td><td>3</td><td>0</td></tr><tr><td>4</td><td>2019-01-04</td><td>1</td><td>null</td><td>null</td><td>3390.199951171875</td><td>0</td><td>0</td><td>1</td><td>0</td><td>0</td><td>0</td><td>1</td><td>null</td><td>null</td><td>null</td><td>null</td><td>null</td><td>false</td><td>null</td><td>null</td><td>null</td><td>null</td><td>false</td><td>0</td><td>0</td><td>0</td><td>0</td><td>0</td><td>0</td><td>0</td><td>false</td><td>0</td><td>0</td><td>0</td><td>0</td><td>0</td><td>&hellip;</td><td>-35</td><td>null</td><td>0</td><td>0</td><td>16000</td><td>16000</td><td>null</td><td>null</td><td>null</td><td>null</td><td>24</td><td>24</td><td>null</td><td>null</td><td>null</td><td>null</td><td>0</td><td>null</td><td>24</td><td>24</td><td>null</td><td>null</td><td>null</td><td>null</td><td>null</td><td>null</td><td>null</td><td>null</td><td>null</td><td>null</td><td>null</td><td>null</td><td>25.024658203125</td><td>2019</td><td>1</td><td>4</td><td>0</td></tr></tbody></table></div>"
     },
     "execution_count": 60,
     "metadata": {},
     "output_type": "execute_result"
    }
   ],
   "source": [
    "data = data.with_columns(\n",
    "    pl.col(\"date_decision\").dt.year().alias(\"year\"),\n",
    "    pl.col(\"date_decision\").dt.month().alias(\"month\"),\n",
    "    pl.col(\"date_decision\").dt.ordinal_day().alias(\"day_of_year\"),\n",
    "    pl.when(pl.col(\"date_decision\").dt.weekday().is_in([6,7])).then(pl.lit(1)).otherwise(pl.lit(0)).alias(\"decision_is_on_weekend\"),\n",
    ").drop([\"WEEK_NUM\", \"MONTH\"])\n",
    "\n",
    "data.head().collect()"
   ],
   "metadata": {
    "collapsed": false,
    "ExecuteTime": {
     "end_time": "2024-03-04T10:21:14.928049715Z",
     "start_time": "2024-03-04T10:21:14.369389986Z"
    }
   },
   "id": "29233bd6246bf18c",
   "execution_count": 60
  },
  {
   "cell_type": "code",
   "outputs": [],
   "source": [
    "# cols_to_drop = get_columns_with_more_x_perc_nulls(data, threshold=0.85)\n",
    "# data = data.drop(cols_to_drop)\n",
    "# \n",
    "# cols_to_binarize = get_columns_with_more_x_perc_nulls(data, threshold=0.5)\n",
    "# data = data.with_columns(*binarize_columns_with_more_x_perc_nulls(cols_to_binarize))\n",
    "# \n",
    "# data.describe()"
   ],
   "metadata": {
    "collapsed": false,
    "ExecuteTime": {
     "end_time": "2024-03-04T10:21:14.930386036Z",
     "start_time": "2024-03-04T10:21:14.928017534Z"
    }
   },
   "id": "c88aaaa31155b898",
   "execution_count": 61
  },
  {
   "cell_type": "markdown",
   "source": [
    "## Split train test"
   ],
   "metadata": {
    "collapsed": false
   },
   "id": "36eec6faee2117c2"
  },
  {
   "cell_type": "code",
   "outputs": [
    {
     "data": {
      "text/plain": "shape: (5, 288)\n┌─────────┬───────────────┬────────┬───────────────┬───┬──────┬───────┬─────────────┬──────────────┐\n│ case_id ┆ date_decision ┆ target ┆ actualdpdtole ┆ … ┆ year ┆ month ┆ day_of_year ┆ decision_is_ │\n│ ---     ┆ ---           ┆ ---    ┆ rance_344P    ┆   ┆ ---  ┆ ---   ┆ ---         ┆ on_weekend   │\n│ i8      ┆ date          ┆ i8     ┆ ---           ┆   ┆ i32  ┆ i8    ┆ i16         ┆ ---          │\n│         ┆               ┆        ┆ f32           ┆   ┆      ┆       ┆             ┆ i32          │\n╞═════════╪═══════════════╪════════╪═══════════════╪═══╪══════╪═══════╪═════════════╪══════════════╡\n│ 0       ┆ 2019-01-03    ┆ 0      ┆ null          ┆ … ┆ 2019 ┆ 1     ┆ 3           ┆ 0            │\n│ 1       ┆ 2019-01-03    ┆ 0      ┆ null          ┆ … ┆ 2019 ┆ 1     ┆ 3           ┆ 0            │\n│ 2       ┆ 2019-01-04    ┆ 0      ┆ null          ┆ … ┆ 2019 ┆ 1     ┆ 4           ┆ 0            │\n│ 3       ┆ 2019-01-03    ┆ 0      ┆ null          ┆ … ┆ 2019 ┆ 1     ┆ 3           ┆ 0            │\n│ 4       ┆ 2019-01-04    ┆ 1      ┆ null          ┆ … ┆ 2019 ┆ 1     ┆ 4           ┆ 0            │\n└─────────┴───────────────┴────────┴───────────────┴───┴──────┴───────┴─────────────┴──────────────┘",
      "text/html": "<div><style>\n.dataframe > thead > tr,\n.dataframe > tbody > tr {\n  text-align: right;\n  white-space: pre-wrap;\n}\n</style>\n<small>shape: (5, 288)</small><table border=\"1\" class=\"dataframe\"><thead><tr><th>case_id</th><th>date_decision</th><th>target</th><th>actualdpdtolerance_344P</th><th>amtinstpaidbefduel24m_4187115A</th><th>annuity_780A</th><th>annuitynextmonth_57A</th><th>applicationcnt_361L</th><th>applications30d_658L</th><th>applicationscnt_1086L</th><th>applicationscnt_464L</th><th>applicationscnt_629L</th><th>applicationscnt_867L</th><th>avgdbddpdlast24m_3658932P</th><th>avgdbddpdlast3m_4187120P</th><th>avgdbdtollast24m_4525197P</th><th>avgdpdtolclosure24_3658938P</th><th>avginstallast24m_3658937A</th><th>avglnamtstart24m_4525187A</th><th>avgmaxdpdlast9m_3716943P</th><th>avgoutstandbalancel6m_4187114A</th><th>avgpmtlast12m_4525200A</th><th>bankacctype_710L</th><th>cardtype_51L</th><th>cntincpaycont9m_3716944L</th><th>cntpmts24_3658933L</th><th>commnoinclast6m_3546845L</th><th>credamount_770A</th><th>credtype_322L</th><th>currdebt_22A</th><th>currdebtcredtyperange_828A</th><th>datefirstoffer_1144D</th><th>datelastinstal40dpd_247D</th><th>datelastunpaid_3546854D</th><th>daysoverduetolerancedd_3976961L</th><th>deferredmnthsnum_166L</th><th>disbursedcredamount_1113A</th><th>&hellip;</th><th>firstnonzeroinstldate_307D_median</th><th>firstnonzeroinstldate_307D_mean</th><th>inittransactioncode_279L_mode</th><th>isbidproduct_390L_median</th><th>isdebitcard_527L_median</th><th>mainoccupationinc_437A_median</th><th>mainoccupationinc_437A_mean</th><th>maxdpdtolerance_577P_median</th><th>maxdpdtolerance_577P_mean</th><th>outstandingdebt_522A_median</th><th>outstandingdebt_522A_mean</th><th>pmtnum_8L_median</th><th>pmtnum_8L_mean</th><th>postype_4733339M_mode</th><th>profession_152M_mode</th><th>rejectreason_755M_mode</th><th>rejectreasonclient_4145042M_mode</th><th>revolvingaccount_394A_median</th><th>status_219L_mode</th><th>tenor_203L_median</th><th>tenor_203L_mean</th><th>addres_role_871L_median</th><th>addres_zip_823M_mode</th><th>conts_role_79M_mode</th><th>empls_economicalst_849M_mode</th><th>empls_employedfrom_796D_median</th><th>empls_employedfrom_796D_mean</th><th>empls_employer_name_740M_mode</th><th>relatedpersons_role_762T_median</th><th>cacccardblochreas_147M_mode</th><th>conts_type_509L_mode</th><th>credacc_cards_status_52L_median</th><th>age</th><th>year</th><th>month</th><th>day_of_year</th><th>decision_is_on_weekend</th></tr><tr><td>i8</td><td>date</td><td>i8</td><td>f32</td><td>f32</td><td>f32</td><td>f32</td><td>f32</td><td>f32</td><td>f32</td><td>f32</td><td>f32</td><td>f32</td><td>f32</td><td>f32</td><td>f32</td><td>f32</td><td>f32</td><td>bool</td><td>f32</td><td>f32</td><td>f32</td><td>cat</td><td>bool</td><td>f32</td><td>f32</td><td>f32</td><td>f32</td><td>cat</td><td>f32</td><td>f32</td><td>i8</td><td>i16</td><td>i8</td><td>f32</td><td>f32</td><td>f32</td><td>&hellip;</td><td>f32</td><td>f32</td><td>cat</td><td>f32</td><td>f32</td><td>f32</td><td>f32</td><td>f32</td><td>f32</td><td>f32</td><td>f32</td><td>f32</td><td>f32</td><td>cat</td><td>cat</td><td>cat</td><td>cat</td><td>f32</td><td>cat</td><td>f32</td><td>f32</td><td>f32</td><td>cat</td><td>cat</td><td>cat</td><td>f32</td><td>f32</td><td>cat</td><td>f32</td><td>cat</td><td>cat</td><td>f32</td><td>f32</td><td>i32</td><td>i8</td><td>i16</td><td>i32</td></tr></thead><tbody><tr><td>0</td><td>2019-01-03</td><td>0</td><td>null</td><td>null</td><td>1917.5999755859375</td><td>0</td><td>0</td><td>0</td><td>0</td><td>0</td><td>0</td><td>0</td><td>null</td><td>null</td><td>null</td><td>null</td><td>null</td><td>false</td><td>null</td><td>null</td><td>null</td><td>null</td><td>false</td><td>null</td><td>null</td><td>0</td><td>30000</td><td>&quot;CAL&quot;</td><td>0</td><td>0</td><td>null</td><td>17899</td><td>null</td><td>null</td><td>0</td><td>30000</td><td>&hellip;</td><td>null</td><td>null</td><td>null</td><td>null</td><td>0</td><td>null</td><td>null</td><td>null</td><td>null</td><td>null</td><td>null</td><td>null</td><td>null</td><td>null</td><td>null</td><td>null</td><td>null</td><td>0</td><td>null</td><td>null</td><td>null</td><td>null</td><td>null</td><td>null</td><td>null</td><td>null</td><td>null</td><td>null</td><td>null</td><td>null</td><td>null</td><td>null</td><td>32.5315055847168</td><td>2019</td><td>1</td><td>3</td><td>0</td></tr><tr><td>1</td><td>2019-01-03</td><td>0</td><td>null</td><td>null</td><td>3134</td><td>0</td><td>0</td><td>0</td><td>0</td><td>0</td><td>0</td><td>0</td><td>null</td><td>null</td><td>null</td><td>null</td><td>null</td><td>false</td><td>null</td><td>null</td><td>null</td><td>null</td><td>false</td><td>null</td><td>null</td><td>0</td><td>19999.80078125</td><td>&quot;CAL&quot;</td><td>0</td><td>0</td><td>null</td><td>17899</td><td>null</td><td>null</td><td>0</td><td>19999.80078125</td><td>&hellip;</td><td>null</td><td>null</td><td>null</td><td>null</td><td>0</td><td>null</td><td>null</td><td>null</td><td>null</td><td>null</td><td>null</td><td>null</td><td>null</td><td>null</td><td>null</td><td>null</td><td>null</td><td>0</td><td>null</td><td>null</td><td>null</td><td>null</td><td>null</td><td>null</td><td>null</td><td>null</td><td>null</td><td>null</td><td>null</td><td>null</td><td>null</td><td>null</td><td>61.46575164794922</td><td>2019</td><td>1</td><td>3</td><td>0</td></tr><tr><td>2</td><td>2019-01-04</td><td>0</td><td>null</td><td>null</td><td>4937</td><td>0</td><td>0</td><td>0</td><td>0</td><td>0</td><td>0</td><td>0</td><td>null</td><td>null</td><td>null</td><td>null</td><td>null</td><td>false</td><td>null</td><td>null</td><td>null</td><td>null</td><td>false</td><td>null</td><td>null</td><td>null</td><td>78000</td><td>&quot;CAL&quot;</td><td>0</td><td>0</td><td>null</td><td>17900</td><td>null</td><td>null</td><td>0</td><td>78000</td><td>&hellip;</td><td>2071</td><td>2071</td><td>null</td><td>0</td><td>0</td><td>8200</td><td>8200</td><td>null</td><td>null</td><td>null</td><td>null</td><td>18</td><td>18</td><td>null</td><td>null</td><td>null</td><td>null</td><td>0</td><td>null</td><td>18</td><td>18</td><td>null</td><td>null</td><td>null</td><td>null</td><td>null</td><td>null</td><td>null</td><td>null</td><td>null</td><td>null</td><td>null</td><td>44.123287200927734</td><td>2019</td><td>1</td><td>4</td><td>0</td></tr><tr><td>3</td><td>2019-01-03</td><td>0</td><td>null</td><td>null</td><td>4643.60009765625</td><td>0</td><td>0</td><td>1</td><td>0</td><td>2</td><td>0</td><td>1</td><td>null</td><td>null</td><td>null</td><td>null</td><td>null</td><td>false</td><td>null</td><td>null</td><td>null</td><td>null</td><td>false</td><td>null</td><td>null</td><td>0</td><td>40000</td><td>&quot;CAL&quot;</td><td>0</td><td>0</td><td>null</td><td>17899</td><td>null</td><td>null</td><td>0</td><td>40000</td><td>&hellip;</td><td>-35</td><td>-35</td><td>null</td><td>0</td><td>0</td><td>11000</td><td>11000</td><td>null</td><td>null</td><td>null</td><td>null</td><td>12</td><td>12</td><td>null</td><td>null</td><td>null</td><td>null</td><td>0</td><td>null</td><td>12</td><td>12</td><td>null</td><td>null</td><td>null</td><td>null</td><td>null</td><td>null</td><td>null</td><td>null</td><td>null</td><td>null</td><td>null</td><td>25.44109535217285</td><td>2019</td><td>1</td><td>3</td><td>0</td></tr><tr><td>4</td><td>2019-01-04</td><td>1</td><td>null</td><td>null</td><td>3390.199951171875</td><td>0</td><td>0</td><td>1</td><td>0</td><td>0</td><td>0</td><td>1</td><td>null</td><td>null</td><td>null</td><td>null</td><td>null</td><td>false</td><td>null</td><td>null</td><td>null</td><td>null</td><td>false</td><td>null</td><td>null</td><td>0</td><td>44000</td><td>&quot;CAL&quot;</td><td>0</td><td>0</td><td>null</td><td>17900</td><td>null</td><td>null</td><td>0</td><td>44000</td><td>&hellip;</td><td>-35</td><td>-35</td><td>null</td><td>0</td><td>0</td><td>16000</td><td>16000</td><td>null</td><td>null</td><td>null</td><td>null</td><td>24</td><td>24</td><td>null</td><td>null</td><td>null</td><td>null</td><td>0</td><td>null</td><td>24</td><td>24</td><td>null</td><td>null</td><td>null</td><td>null</td><td>null</td><td>null</td><td>null</td><td>null</td><td>null</td><td>null</td><td>null</td><td>25.024658203125</td><td>2019</td><td>1</td><td>4</td><td>0</td></tr></tbody></table></div>"
     },
     "execution_count": 62,
     "metadata": {},
     "output_type": "execute_result"
    }
   ],
   "source": [
    "cols_to_drop = []\n",
    "for col in data.columns:\n",
    "    if \"clientscnt\" in col or \"district\" in col or \"age_days\" in col:\n",
    "        cols_to_drop.append(col)\n",
    "\n",
    "data = data.drop(cols_to_drop)\n",
    "\n",
    "data.head().collect()"
   ],
   "metadata": {
    "collapsed": false,
    "ExecuteTime": {
     "end_time": "2024-03-04T10:21:15.423456190Z",
     "start_time": "2024-03-04T10:21:14.929748743Z"
    }
   },
   "id": "6a22aad39a1acc92",
   "execution_count": 62
  },
  {
   "cell_type": "code",
   "outputs": [],
   "source": [
    "# data = data.drop([col for col in data.columns if col.split(\"_\")[-1] in [\"first\", \"last\", \"mode\"]])"
   ],
   "metadata": {
    "collapsed": false,
    "ExecuteTime": {
     "end_time": "2024-03-04T10:21:15.424609017Z",
     "start_time": "2024-03-04T10:21:15.420667085Z"
    }
   },
   "id": "2895b688a195d2fe",
   "execution_count": 63
  },
  {
   "cell_type": "code",
   "outputs": [],
   "source": [
    "## Drop categorical columns with just one category other than null\n",
    "cols_to_drop = []\n",
    "for col in data.select([col for col, dtype in zip(data.columns, data.dtypes) if isinstance(dtype, pl.Categorical)]).columns:\n",
    "    if data.select(col).drop_nulls().unique().collect().shape[0] == 1:\n",
    "        cols_to_drop.append(col)\n",
    "\n",
    "data = data.drop(cols_to_drop)"
   ],
   "metadata": {
    "collapsed": false,
    "ExecuteTime": {
     "end_time": "2024-03-04T10:21:34.412852520Z",
     "start_time": "2024-03-04T10:21:15.424527673Z"
    }
   },
   "id": "94a71ba0388bc6ab",
   "execution_count": 64
  },
  {
   "cell_type": "code",
   "outputs": [
    {
     "data": {
      "text/plain": "['dtlastpmtallstes_3545839D_median', 'dtlastpmtallstes_3545839D_mean']"
     },
     "execution_count": 65,
     "metadata": {},
     "output_type": "execute_result"
    }
   ],
   "source": [
    "[col for col in data.columns if \"dtlastpmtallstes_3545839D\" in col]"
   ],
   "metadata": {
    "collapsed": false,
    "ExecuteTime": {
     "end_time": "2024-03-04T10:21:34.437475999Z",
     "start_time": "2024-03-04T10:21:34.413866755Z"
    }
   },
   "id": "764340cd681dd107",
   "execution_count": 65
  },
  {
   "cell_type": "markdown",
   "source": [
    "## Fill nulls for each column"
   ],
   "metadata": {
    "collapsed": false
   },
   "id": "fb967bdddcef8666"
  },
  {
   "cell_type": "code",
   "outputs": [],
   "source": [
    "data = data.with_columns(\n",
    "    pl.when(pl.col(\"posfpd30lastmonth_3976960P\").is_null()).then(pl.lit(1)).otherwise(pl.lit(0)).alias(\"posfpd30lastmonth_3976960P_is_null\"),\n",
    "    pl.when(pl.col(\"empls_employedfrom_796D\").is_null()).then(pl.lit(1)).otherwise(pl.lit(0)).alias(\"empls_employedfrom_796D_is_null\"),\n",
    "    pl.when(pl.col(\"posfpd10lastmonth_333P\").is_null()).then(pl.lit(1)).otherwise(pl.lit(0)).alias(\"posfpd10lastmonth_333P_is_null\"), # or -1.\n",
    "    pl.when(pl.col(\"lastdelinqdate_224D\").is_null()).then(pl.lit(1)).otherwise(pl.lit(0)).alias(\"lastdelinqdate_224D_is_null\"),\n",
    "    pl.when(pl.col(\"dtlastpmtallstes_4499206D\").is_null()).then(pl.lit(1)).otherwise(pl.lit(0)).alias(\"dtlastpmtallstes_4499206D_is_null\"),\n",
    "    pl.when(pl.col(\"avgdbdtollast24m_4525197P\").is_null()).then(pl.lit(1)).otherwise(pl.lit(0)).alias(\"avgdbdtollast24m_4525197P_is_null\"),\n",
    "    pl.when(pl.col(\"mindbdtollast24m_4525191P\").is_null()).then(pl.lit(1)).otherwise(pl.lit(0)).alias(\"mindbdtollast24m_4525191P_is_null\"),\n",
    "    pl.when(pl.col(\"maxdbddpdlast1m_3658939P\").is_null()).then(pl.lit(1)).otherwise(pl.lit(0)).alias(\"maxdbddpdlast1m_3658939P_is_null\"),\n",
    "    pl.when(pl.col(\"empl_employedfrom_271D_median\").is_null()).then(pl.lit(1)).otherwise(pl.lit(0)).alias(\"empl_employedfrom_271D_is_null\"),\n",
    "    pl.when(pl.col(\"employedfrom_700D_median\").is_null()).then(pl.lit(1)).otherwise(pl.lit(0)).alias(\"employedfrom_700D_is_null\"),\n",
    "    pl.when(pl.col(\"avgdbddpdlast3m_4187120P\").is_null()).then(pl.lit(1)).otherwise(pl.lit(0)).alias(\"avgdbddpdlast3m_4187120P_is_null\"),\n",
    "    pl.when(pl.col(\"datelastunpaid_3546854D\").is_null()).then(pl.lit(1)).otherwise(pl.lit(0)).alias(\"datelastunpaid_3546854D_is_null\"),\n",
    "    pl.when(pl.col(\"maxdbddpdtollast6m_4187119P\").is_null()).then(pl.lit(1)).otherwise(pl.lit(0)).alias(\"maxdbddpdtollast6m_4187119P_is_null\"),\n",
    "    pl.when(pl.col(\"responsedate_4527233D\").is_null()).then(pl.lit(1)).otherwise(pl.lit(0)).alias(\"responsedate_4527233D_is_null\"),\n",
    "    pl.when(pl.col(\"lastrejectdate_50D\").is_null()).then(pl.lit(1)).otherwise(pl.lit(0)).alias(\"lastrejectdate_50D_is_null\"),\n",
    "    pl.when(pl.col(\"datefirstoffer_1144D\").is_null()).then(pl.lit(1)).otherwise(pl.lit(0)).alias(\"datefirstoffer_1144D_is_null\"),\n",
    "    pl.when(pl.col(\"maxdpdinstldate_3546855D\").is_null()).then(pl.lit(1)).otherwise(pl.lit(0)).alias(\"maxdpdinstldate_3546855D_is_null\"),\n",
    "    pl.when(pl.col(\"responsedate_1012D\").is_null()).then(pl.lit(1)).otherwise(pl.lit(0)).alias(\"responsedate_1012D_is_null\"),\n",
    "    pl.when(pl.col(\"dtlastpmtallstes_3545839D_median\").is_null()).then(pl.lit(1)).otherwise(pl.lit(0)).alias(\"dtlastpmtallstes_3545839D_is_null\"),\n",
    "    pl.when(pl.col(\"dateactivated_425D_median\").is_null()).then(pl.lit(1)).otherwise(pl.lit(0)).alias(\"dateactivated_425D_is_null\"),\n",
    "    pl.when(pl.col(\"maxdbddpdtollast12m_3658940P\").is_null()).then(pl.lit(1)).otherwise(pl.lit(0)).alias(\"maxdbddpdtollast12m_3658940P_is_null\"),\n",
    "    pl.when(pl.col(\"lastapplicationdate_877D\").is_null()).then(pl.lit(1)).otherwise(pl.lit(0)).alias(\"lastapplicationdate_877D_is_null\"),\n",
    "    pl.when(pl.col(\"posfstqpd30lastmonth_3976962P\").is_null()).then(pl.lit(1)).otherwise(pl.lit(0)).alias(\"posfstqpd30lastmonth_3976962P_is_null\"),\n",
    "    pl.when(pl.col(\"creationdate_885D_median\").is_null()).then(pl.lit(1)).otherwise(pl.lit(0)).alias(\"creationdate_885D_is_null\"),\n",
    "    pl.when(pl.col(\"firstdatedue_489D\").is_null()).then(pl.lit(1)).otherwise(pl.lit(0)).alias(\"firstdatedue_489D_is_null\"),\n",
    "    pl.when(pl.col(\"firstnonzeroinstldate_307D_median\").is_null()).then(pl.lit(1)).otherwise(pl.lit(0)).alias(\"firstnonzeroinstldate_307D_is_null\"),\n",
    "    pl.when(pl.col(\"lastapprdate_640D\").is_null()).then(pl.lit(1)).otherwise(pl.lit(0)).alias(\"lastapprdate_640D_is_null\"),\n",
    "\n",
    "\n",
    "    pl.col(\"eir_270L\").fill_null(value=-1.),\n",
    "    pl.col(\"interestrate_311L\").fill_null(value=-1.),\n",
    "    pl.col(\"totinstallast1m_4525188A\").fill_null(value=-1.),\n",
    "    pl.col(\"maxlnamtstart6m_4525199A\").fill_null(value=-1.),\n",
    "    pl.col(\"avgpmtlast12m_4525200A\").fill_null(value=-1.),\n",
    "    pl.col(\"amtinstpaidbefduel24m_4187115A\").fill_null(value=-1.),\n",
    "    # pl.col(\"responsedate_4527233D\").fill_null(value=1.),\n",
    "    \n",
    "    pl.col(\"pmtscount_423L\").fill_null(value=0.),\n",
    "    pl.col(\"pmtssum_45A\").fill_null(value=0.),\n",
    "    pl.col(\"maxpmtlast3m_4525190A\").fill_null(value=0.),\n",
    "    pl.col(\"numinstmatpaidtearly2d_4499204L\").fill_null(value=0.),\n",
    "    pl.col(\"numinstpaid_4499208L\").fill_null(value=0.),\n",
    "    pl.col(\"numinstpaidearly5dobd_4499205L\").fill_null(value=0.),\n",
    "    pl.col(\"numinstpaidearly3dest_4493216L\").fill_null(value=0.),\n",
    "    pl.col(\"numinstpaidearly5dest_4493211L\").fill_null(value=0.),\n",
    "    pl.col(\"numinstpaidearlyest_4493214L\").fill_null(value=0.),\n",
    "    pl.col(\"numinstregularpaidest_4493210L\").fill_null(value=0.),\n",
    "    pl.col(\"numinsttopaygrest_4493213L\").fill_null(value=0.),\n",
    "    pl.col(\"numinstunpaidmaxest_4493212L\").fill_null(value=0.),\n",
    "    pl.col(\"sumoutstandtotalest_4493215A\").fill_null(value=0.),\n",
    "    pl.col(\"maxdpdinstlnum_3546846P\").fill_null(value=0.),\n",
    "    pl.col(\"lastrejectcredamount_222A\").fill_null(value=0.),\n",
    "    pl.col(\"avgmaxdpdlast9m_3716943P\").fill_null(value=0.),\n",
    "    pl.col(\"maxdpdtolerance_577P_median\").fill_null(value=0.),\n",
    "    pl.col(\"maxdpdtolerance_577P_mean\").fill_null(value=0.),\n",
    "    pl.col(\"maxdbddpdtollast12m_3658940P\").fill_null(value=0.),\n",
    "    pl.col(\"approvaldate_319D_median\").fill_null(value=0.),\n",
    "    pl.col(\"approvaldate_319D_mean\").fill_null(value=0.),\n",
    "    pl.col(\"outstandingdebt_522A_median\").fill_null(value=0.),\n",
    "    pl.col(\"outstandingdebt_522A_mean\").fill_null(value=0.),\n",
    "    pl.col(\"currdebt_94A_median\").fill_null(value=0.),\n",
    "    pl.col(\"currdebt_94A_mean\").fill_null(value=0.),\n",
    "    pl.col(\"numinstpaidlastcontr_4325080L\").fill_null(value=0.),\n",
    "    pl.col(\"avginstallast24m_3658937A\").fill_null(value=0.),\n",
    "    pl.col(\"maxoutstandbalancel12m_4187113A\").fill_null(value=0.),\n",
    "    pl.col(\"maxinstallast24m_3658928A\").fill_null(value=0.),\n",
    "    pl.col(\"avgdbddpdlast24m_3658932P\").fill_null(value=0.),\n",
    "    pl.col(\"mindbddpdlast24m_3658935P\").fill_null(value=0.),\n",
    "    pl.col(\"numinstlswithdpd5_4187116L\").fill_null(value=0.),\n",
    "    pl.col(\"maininc_215A\").fill_null(value=0.),\n",
    "    pl.col(\"avgdpdtolclosure24_3658938P\").fill_null(value=0.),\n",
    "    pl.col(\"pctinstlsallpaidlat10d_839L\").fill_null(value=0.),\n",
    "    pl.col(\"cntpmts24_3658933L\").fill_null(value=0.),\n",
    "    pl.col(\"pctinstlsallpaidlate6d_3546844L\").fill_null(value=0.),\n",
    "    pl.col(\"pctinstlsallpaidlate4d_3546849L\").fill_null(value=0.),\n",
    "    pl.col(\"pctinstlsallpaidearl3d_427L\").fill_null(value=0.),\n",
    "    pl.col(\"pctinstlsallpaidlate1d_3546856L\").fill_null(value=0.),\n",
    "    pl.col(\"numinstlswithdpd10_728L\").fill_null(value=0.),\n",
    "    pl.col(\"numinstlswithoutdpd_562L\").fill_null(value=0.),\n",
    "    pl.col(\"numinstregularpaid_973L\").fill_null(value=0.),\n",
    "    pl.col(\"cntincpaycont9m_3716944L\").fill_null(value=0.),\n",
    "    pl.col(\"numincomingpmts_3546848L\").fill_null(value=0.),\n",
    "    pl.col(\"lastactivateddate_801D\").fill_null(value=0.),\n",
    "    pl.col(\"daysoverduetolerancedd_3976961L\").fill_null(value=0.),\n",
    "    pl.col(\"numinsttopaygr_769L\").fill_null(value=0.),\n",
    "    pl.col(\"numinstunpaidmax_3546851L\").fill_null(value=0.),\n",
    "    pl.col(\"monthsannuity_845L\").fill_null(value=0.),\n",
    "    pl.col(\"numinstpaidearly5d_1087L\").fill_null(value=0.),\n",
    "    pl.col(\"numinstpaidearly_338L\").fill_null(value=0.),\n",
    "    pl.col(\"numinstpaidlate1d_3546852L\").fill_null(value=0.),\n",
    "    pl.col(\"numinstpaidearly3d_3546850L\").fill_null(value=0.),\n",
    "    pl.col(\"numinstlallpaidearly3d_817L\").fill_null(value=0.),\n",
    "    pl.col(\"numinstlsallpaid_934L\").fill_null(value=0.),\n",
    "    pl.col(\"lastapprcredamount_781A\").fill_null(value=0.),\n",
    "    pl.col(\"sumoutstandtotal_3546847A\").fill_null(value=0.),\n",
    "    pl.col(\"actualdpdtolerance_344P\").fill_null(value=0.),\n",
    "    pl.col(\"pmtnum_8L_median\").fill_null(value=0.),\n",
    "    pl.col(\"pmtnum_8L_mean\").fill_null(value=0.),\n",
    "    pl.col(\"tenor_203L_median\").fill_null(value=0.),\n",
    "    pl.col(\"tenor_203L_mean\").fill_null(value=0.),\n",
    "    pl.col(\"commnoinclast6m_3546845L\").fill_null(value=0.),\n",
    "    pl.col(\"maxdpdfrom6mto36m_3546853P\").fill_null(value=0.),\n",
    "    pl.col(\"maxdpdfrom6mto36m_3546853P\").fill_null(value=0.),\n",
    "    pl.col(\"mainoccupationinc_437A_median\").fill_null(value=0.),\n",
    "    pl.col(\"mainoccupationinc_437A_mean\").fill_null(value=0.),\n",
    "    pl.col(\"maxannuity_159A\").fill_null(value=0.),\n",
    "    pl.col(\"maxdebt4_972A\").fill_null(value=0.),\n",
    "    pl.col(\"maxdpdlast12m_727P\").fill_null(value=0.),\n",
    "    pl.col(\"maxdpdlast24m_143P\").fill_null(value=0.),\n",
    "    pl.col(\"maxdpdlast3m_392P\").fill_null(value=0.),\n",
    "    pl.col(\"maxdpdlast6m_474P\").fill_null(value=0.),\n",
    "    pl.col(\"maxdpdlast9m_1059P\").fill_null(value=0.),\n",
    "    pl.col(\"maxdpdtolerance_374P\").fill_null(value=0.),\n",
    "    pl.col(\"opencred_647L\").fill_null(value=0.),\n",
    "    pl.col(\"price_1097A\").fill_null(value=0.),\n",
    "    pl.col(\"days120_123L\").fill_null(value=0.),\n",
    "    pl.col(\"days180_256L\").fill_null(value=0.),\n",
    "    pl.col(\"days30_165L\").fill_null(value=0.),\n",
    "    pl.col(\"days360_512L\").fill_null(value=0.),\n",
    "    pl.col(\"days90_310L\").fill_null(value=0.),\n",
    "    pl.col(\"firstquarter_103L\").fill_null(value=0.),\n",
    "    pl.col(\"fourthquarter_440L\").fill_null(value=0.),\n",
    "    pl.col(\"numberofqueries_373L\").fill_null(value=0.),\n",
    "    pl.col(\"secondquarter_766L\").fill_null(value=0.),\n",
    "    pl.col(\"thirdquarter_1082L\").fill_null(value=0.),\n",
    "    pl.col(\"pmtnum_254L\").fill_null(value=0.),\n",
    "    pl.col(\"annuitynextmonth\").fill_null(value=0.),\n",
    "    pl.col(\"currdebt_22A\").fill_null(value=0.),\n",
    "    pl.col(\"currdebtcredtyperange_828A\").fill_null(value=0.),    \n",
    "    pl.col(\"numinstls_657L\").fill_null(value=0.),\n",
    "    pl.col(\"totalsettled_863A\").fill_null(value=0.),\n",
    "    pl.col(\"totaldebt_9A\").fill_null(value=0.),\n",
    "\n",
    "\n",
    "    pl.col(\"firstclxcampaign_1125D\").fill_null(value=1.),\n",
    "\n",
    "\n",
    "    pl.col(\"requesttype_4525192L\").fill_null(value=\"NO_DEDUCTION\"),\n",
    "\n",
    "\n",
    "    pl.col(\"postype_4733339M_mode\").fill_null(value=\"a55475b1\"),\n",
    "    pl.col(\"profession_152M_mode\").fill_null(value=\"a55475b1\"),\n",
    "    pl.col(\"conts_role_79M_mode\").fill_null(value=\"a55475b1\"),\n",
    "    pl.col(\"empls_economicalst_849M_mode\").fill_null(value=\"a55475b1\"),\n",
    "    pl.col(\"cacccardblochreas_147M_mode\").fill_null(value=\"a55475b1\"),\n",
    "    pl.col(\"description_5085714M\").fill_null(value=\"a55475b1\"),\n",
    "    pl.col(\"education_1103M\").fill_null(value=\"a55475b1\"),\n",
    "    pl.col(\"education_88M\").fill_null(value=\"a55475b1\"),\n",
    "    pl.col(\"maritalst_385M\").fill_null(value=\"a55475b1\"),\n",
    "    pl.col(\"maritalst_893M\").fill_null(value=\"a55475b1\"),\n",
    "\n",
    "\n",
    "    pl.col(\"conts_type_509L_mode\").fill_null(value=\"UNKNOWN\"),\n",
    "    pl.col(\"incometype_1044T_mode\").fill_null(value=\"UNKNOWN\"),\n",
    "    pl.col(\"empl_industry_691L_mode\").fill_null(value=\"UNKNOWN\"),\n",
    "    pl.col(\"credtype_587L_mode\").fill_null(value=\"UNKNOWN\"),\n",
    "    pl.col(\"inittransactioncode_279L_mode\").fill_null(value=\"UNKNOWN\"),\n",
    "    pl.col(\"status_219L_mode\").fill_null(value=\"UNKNOWN\"),\n",
    "    pl.col(\"rejectreason_755M_mode\").fill_null(value=\"UNKNOWN\"),\n",
    "    pl.col(\"cancelreason_3545846M_mode\").fill_null(value=\"UNKNOWN\"),\n",
    "    pl.col(\"rejectreasonclient_4145042M_mode\").fill_null(value=\"UNKNOWN\"),\n",
    "    pl.col(\"lastst_736L\").fill_null(value=\"UNKNOWN\"),\n",
    "    pl.col(\"role_1084L_mode\").fill_null(value=\"UNKNOWN\"),\n",
    "    pl.col(\"disbursementtype_67L\").fill_null(value=\"UNKNOWN\"),\n",
    "    pl.col(\"twobodfilling_608L\").fill_null(value=\"UNKNOWN\"),\n",
    "    pl.col(\"credtype_322L\").fill_null(value=\"UNKNOWN\"),\n",
    "    pl.col(\"inittransactioncode_186L\").fill_null(value=\"UNKNOWN\"),\n",
    "    \n",
    "    # pl.col(\"responsedate_1012D\").fill_null(value=1.),\n",
    "    # KNN impute -----> avgoutstandbalancel6m_4187114A, maxoutstandbalancel12m_4187113A \n",
    "    # TOCHECK    -----> mastercontrelectronic_519L, Mastercontrexist_109L, isbidproduct_390L, relatedpersons_role_762T, credacc_cards_status_52L_median\n",
    "    \n",
    ").drop([\"responsedate_4917613D\", \"addres_zip_823M_mode\", \"addres_role_871L\"])"
   ],
   "metadata": {
    "collapsed": false,
    "ExecuteTime": {
     "end_time": "2024-03-04T10:21:34.442233181Z",
     "start_time": "2024-03-04T10:21:34.423964951Z"
    }
   },
   "id": "8d72973124f4bd02",
   "execution_count": 66
  },
  {
   "cell_type": "code",
   "outputs": [],
   "source": [
    "unknown_columns: list[str] = ['conts_type_509L_mode',\n",
    "                              'incometype_1044T_mode',\n",
    "                              'empl_industry_691L_mode',\n",
    "                              'credtype_587L_mode',\n",
    "                              'inittransactioncode_279L_mode',\n",
    "                              'status_219L_mode',\n",
    "                              'rejectreason_755M_mode',\n",
    "                              'cancelreason_3545846M_mode',\n",
    "                              'rejectreasonclient_4145042M_mode',\n",
    "                              'lastst_736L',\n",
    "                              'role_1084L_mode',\n",
    "                              'disbursementtype_67L',\n",
    "                              'twobodfilling_608L',\n",
    "                              'credtype_322L',\n",
    "                              'inittransactioncode_186L']\n",
    "\n",
    "no_deduction_columns: list[str] = [\"requesttype_4525192L\"]\n",
    "\n",
    "fill_one_columns: list[str] = [\"firstclxcampaign_1125D\"]\n",
    "\n",
    "a55475b1_columns: list[str] = ['postype_4733339M_mode',\n",
    "                               'profession_152M_mode',\n",
    "                               'conts_role_79M_mode',\n",
    "                               'empls_economicalst_849M_mode',\n",
    "                               'cacccardblochreas_147M_mode',\n",
    "                               'description_5085714M',\n",
    "                               'education_1103M',\n",
    "                               'education_88M',\n",
    "                               'maritalst_385M',\n",
    "                               'maritalst_893M']\n",
    "\n",
    "fill_zero_columns: list[str] = ['pmtscount_423L',\n",
    "                                'pmtssum_45A',\n",
    "                                'maxpmtlast3m_4525190A',\n",
    "                                'numinstmatpaidtearly2d_4499204L',\n",
    "                                'numinstpaid_4499208L',\n",
    "                                'numinstpaidearly5dobd_4499205L',\n",
    "                                'numinstpaidearly3dest_4493216L',\n",
    "                                'numinstpaidearly5dest_4493211L',\n",
    "                                'numinstpaidearlyest_4493214L',\n",
    "                                'numinstregularpaidest_4493210L',\n",
    "                                'numinsttopaygrest_4493213L',\n",
    "                                'numinstunpaidmaxest_4493212L',\n",
    "                                'sumoutstandtotalest_4493215A',\n",
    "                                'maxdpdinstlnum_3546846P',\n",
    "                                'lastrejectcredamount_222A',\n",
    "                                'avgmaxdpdlast9m_3716943P',\n",
    "                                'maxdpdtolerance_577P_median',\n",
    "                                'maxdpdtolerance_577P_mean',\n",
    "                                'maxdbddpdtollast12m_3658940P',\n",
    "                                'approvaldate_319D_median',\n",
    "                                'approvaldate_319D_mean',\n",
    "                                'outstandingdebt_522A_median',\n",
    "                                'outstandingdebt_522A_mean',\n",
    "                                'currdebt_94A_median',\n",
    "                                'currdebt_94A_mean',\n",
    "                                'numinstpaidlastcontr_4325080L',\n",
    "                                'avginstallast24m_3658937A',\n",
    "                                'maxoutstandbalancel12m_4187113A',\n",
    "                                'maxinstallast24m_3658928A',\n",
    "                                'avgdbddpdlast24m_3658932P',\n",
    "                                'mindbddpdlast24m_3658935P',\n",
    "                                'numinstlswithdpd5_4187116L',\n",
    "                                'maininc_215A',\n",
    "                                'avgdpdtolclosure24_3658938P',\n",
    "                                'pctinstlsallpaidlat10d_839L',\n",
    "                                'cntpmts24_3658933L',\n",
    "                                'pctinstlsallpaidlate6d_3546844L',\n",
    "                                'pctinstlsallpaidlate4d_3546849L',\n",
    "                                'pctinstlsallpaidearl3d_427L',\n",
    "                                'pctinstlsallpaidlate1d_3546856L',\n",
    "                                'numinstlswithdpd10_728L',\n",
    "                                'numinstlswithoutdpd_562L',\n",
    "                                'numinstregularpaid_973L',\n",
    "                                'cntincpaycont9m_3716944L',\n",
    "                                'numincomingpmts_3546848L',\n",
    "                                'lastactivateddate_801D',\n",
    "                                'daysoverduetolerancedd_3976961L',\n",
    "                                'numinsttopaygr_769L',\n",
    "                                'numinstunpaidmax_3546851L',\n",
    "                                'monthsannuity_845L',\n",
    "                                'numinstpaidearly5d_1087L',\n",
    "                                'numinstpaidearly_338L',\n",
    "                                'numinstpaidlate1d_3546852L',\n",
    "                                'numinstpaidearly3d_3546850L',\n",
    "                                'numinstlallpaidearly3d_817L',\n",
    "                                'numinstlsallpaid_934L',\n",
    "                                'lastapprcredamount_781A',\n",
    "                                'sumoutstandtotal_3546847A',\n",
    "                                'actualdpdtolerance_344P',\n",
    "                                'pmtnum_8L_median',\n",
    "                                'pmtnum_8L_mean',\n",
    "                                'tenor_203L_median',\n",
    "                                'tenor_203L_mean',\n",
    "                                'commnoinclast6m_3546845L',\n",
    "                                'maxdpdfrom6mto36m_3546853P',\n",
    "                                'maxdpdfrom6mto36m_3546853P',\n",
    "                                'mainoccupationinc_437A_median',\n",
    "                                'mainoccupationinc_437A_mean',\n",
    "                                'maxannuity_159A',\n",
    "                                'maxdebt4_972A',\n",
    "                                'maxdpdlast12m_727P',\n",
    "                                'maxdpdlast24m_143P',\n",
    "                                'maxdpdlast3m_392P',\n",
    "                                'maxdpdlast6m_474P',\n",
    "                                'maxdpdlast9m_1059P',\n",
    "                                'maxdpdtolerance_374P',\n",
    "                                'opencred_647L',\n",
    "                                'price_1097A',\n",
    "                                'days120_123L',\n",
    "                                'days180_256L',\n",
    "                                'days30_165L',\n",
    "                                'days360_512L',\n",
    "                                'days90_310L',\n",
    "                                'firstquarter_103L',\n",
    "                                'fourthquarter_440L',\n",
    "                                'numberofqueries_373L',\n",
    "                                'secondquarter_766L',\n",
    "                                'thirdquarter_1082L',\n",
    "                                'pmtnum_254L',\n",
    "                                'annuitynextmonth',\n",
    "                                'currdebt_22A',\n",
    "                                'currdebtcredtyperange_828A',\n",
    "                                'numinstls_657L',\n",
    "                                'totalsettled_863A',\n",
    "                                'totaldebt_9A']\n",
    "\n",
    "fill_minus_one_columns: list[str] = ['eir_270L',\n",
    "                                     'interestrate_311L',\n",
    "                                     'totinstallast1m_4525188A',\n",
    "                                     'maxlnamtstart6m_4525199A',\n",
    "                                     'avgpmtlast12m_4525200A',\n",
    "                                     'amtinstpaidbefduel24m_4187115A']\n",
    "\n",
    "indicator_columns: list[str] = ['posfpd30lastmonth_3976960P',\n",
    "                      'empls_employedfrom_796D',\n",
    "                      'posfpd10lastmonth_333P',\n",
    "                      'lastdelinqdate_224D',\n",
    "                      'dtlastpmtallstes_4499206D',\n",
    "                      'avgdbdtollast24m_4525197P',\n",
    "                      'mindbdtollast24m_4525191P',\n",
    "                      'maxdbddpdlast1m_3658939P',\n",
    "                      'empl_employedfrom_271D_median',\n",
    "                      'employedfrom_700D_median',\n",
    "                      'avgdbddpdlast3m_4187120P',\n",
    "                      'datelastunpaid_3546854D',\n",
    "                      'maxdbddpdtollast6m_4187119P',\n",
    "                      'responsedate_4527233D',\n",
    "                      'lastrejectdate_50D',\n",
    "                      'datefirstoffer_1144D',\n",
    "                      'maxdpdinstldate_3546855D',\n",
    "                      'responsedate_1012D',\n",
    "                      'dtlastpmtallstes_3545839D_median',\n",
    "                      'dateactivated_425D_median',\n",
    "                      'maxdbddpdtollast12m_3658940P',\n",
    "                      'lastapplicationdate_877D',\n",
    "                      'posfstqpd30lastmonth_3976962P',\n",
    "                      'creationdate_885D_median',\n",
    "                      'firstdatedue_489D',\n",
    "                      'firstnonzeroinstldate_307D_median',\n",
    "                      'lastapprdate_640D']"
   ],
   "metadata": {
    "collapsed": false,
    "ExecuteTime": {
     "end_time": "2024-03-04T11:18:04.581609835Z",
     "start_time": "2024-03-04T11:18:04.538544051Z"
    }
   },
   "id": "7ce0ba566b8abe0",
   "execution_count": 115
  },
  {
   "cell_type": "code",
   "outputs": [
    {
     "data": {
      "text/plain": "{'dateactivated_425D',\n 'dtlastpmtallstes_3545839D',\n 'empl_employedfrom_271D',\n 'employedfrom_700D',\n 'firstnonzeroinstldate_307D'}"
     },
     "execution_count": 116,
     "metadata": {},
     "output_type": "execute_result"
    }
   ],
   "source": [
    "set(indicator_columns).difference(columns)"
   ],
   "metadata": {
    "collapsed": false,
    "ExecuteTime": {
     "end_time": "2024-03-04T11:18:13.220030750Z",
     "start_time": "2024-03-04T11:18:13.215725884Z"
    }
   },
   "id": "520ea8f17c720867",
   "execution_count": 116
  },
  {
   "cell_type": "code",
   "outputs": [
    {
     "data": {
      "text/plain": "shape: (7, 2)\n┌────────────┬─────────────────┐\n│ statistic  ┆ education_1103M │\n│ ---        ┆ ---             │\n│ str        ┆ str             │\n╞════════════╪═════════════════╡\n│ count      ┆ 1500475         │\n│ null_count ┆ 26183           │\n│ mean       ┆ null            │\n│ std        ┆ null            │\n│ min        ┆ null            │\n│ 50%        ┆ null            │\n│ max        ┆ null            │\n└────────────┴─────────────────┘",
      "text/html": "<div><style>\n.dataframe > thead > tr,\n.dataframe > tbody > tr {\n  text-align: right;\n  white-space: pre-wrap;\n}\n</style>\n<small>shape: (7, 2)</small><table border=\"1\" class=\"dataframe\"><thead><tr><th>statistic</th><th>education_1103M</th></tr><tr><td>str</td><td>str</td></tr></thead><tbody><tr><td>&quot;count&quot;</td><td>&quot;1500475&quot;</td></tr><tr><td>&quot;null_count&quot;</td><td>&quot;26183&quot;</td></tr><tr><td>&quot;mean&quot;</td><td>null</td></tr><tr><td>&quot;std&quot;</td><td>null</td></tr><tr><td>&quot;min&quot;</td><td>null</td></tr><tr><td>&quot;50%&quot;</td><td>null</td></tr><tr><td>&quot;max&quot;</td><td>null</td></tr></tbody></table></div>"
     },
     "execution_count": 105,
     "metadata": {},
     "output_type": "execute_result"
    }
   ],
   "source": [
    "data.select(\"education_1103M\").describe(percentiles=0.5)"
   ],
   "metadata": {
    "collapsed": false,
    "ExecuteTime": {
     "end_time": "2024-03-04T10:45:33.761399870Z",
     "start_time": "2024-03-04T10:45:33.027007841Z"
    }
   },
   "id": "67512a8c50fd72fe",
   "execution_count": 105
  },
  {
   "cell_type": "code",
   "outputs": [
    {
     "data": {
      "text/plain": "shape: (304, 2)\n┌────────────────┬─────────┐\n│ numinstls_657L ┆ count   │\n│ ---            ┆ ---     │\n│ f32            ┆ u32     │\n╞════════════════╪═════════╡\n│ 0              ┆ 1039513 │\n│ 12             ┆ 111662  │\n│ 24             ┆ 78337   │\n│ 36             ┆ 37140   │\n│ 16             ┆ 34836   │\n│ …              ┆ …       │\n│ 356            ┆ 1       │\n│ 244            ┆ 1       │\n│ 342            ┆ 1       │\n│ 330            ┆ 1       │\n│ 391            ┆ 1       │\n└────────────────┴─────────┘",
      "text/html": "<div><style>\n.dataframe > thead > tr,\n.dataframe > tbody > tr {\n  text-align: right;\n  white-space: pre-wrap;\n}\n</style>\n<small>shape: (304, 2)</small><table border=\"1\" class=\"dataframe\"><thead><tr><th>numinstls_657L</th><th>count</th></tr><tr><td>f32</td><td>u32</td></tr></thead><tbody><tr><td>0</td><td>1039513</td></tr><tr><td>12</td><td>111662</td></tr><tr><td>24</td><td>78337</td></tr><tr><td>36</td><td>37140</td></tr><tr><td>16</td><td>34836</td></tr><tr><td>6</td><td>33501</td></tr><tr><td>18</td><td>28060</td></tr><tr><td>48</td><td>24241</td></tr><tr><td>30</td><td>19731</td></tr><tr><td>3</td><td>9917</td></tr><tr><td>11</td><td>6934</td></tr><tr><td>9</td><td>6721</td></tr><tr><td>&hellip;</td><td>&hellip;</td></tr><tr><td>262</td><td>1</td></tr><tr><td>263</td><td>1</td></tr><tr><td>312</td><td>1</td></tr><tr><td>380</td><td>1</td></tr><tr><td>228</td><td>1</td></tr><tr><td>321</td><td>1</td></tr><tr><td>398</td><td>1</td></tr><tr><td>356</td><td>1</td></tr><tr><td>244</td><td>1</td></tr><tr><td>342</td><td>1</td></tr><tr><td>330</td><td>1</td></tr><tr><td>391</td><td>1</td></tr></tbody></table></div>"
     },
     "execution_count": 113,
     "metadata": {},
     "output_type": "execute_result"
    }
   ],
   "source": [
    "data.select(\"numinstls_657L\").collect().to_series().value_counts().sort(\"count\", descending=True)"
   ],
   "metadata": {
    "collapsed": false,
    "ExecuteTime": {
     "end_time": "2024-03-04T10:48:47.727421876Z",
     "start_time": "2024-03-04T10:48:47.012926445Z"
    }
   },
   "id": "da334e3f2ab3280c",
   "execution_count": 113
  },
  {
   "cell_type": "code",
   "outputs": [
    {
     "name": "stderr",
     "output_type": "stream",
     "text": [
      "/tmp/ipykernel_10634/554729832.py:1: CategoricalRemappingWarning: Local categoricals have different encodings, expensive re-encoding is done to perform this merge operation. Consider using a StringCache or an Enum type if the categories are known in advance\n",
      "  data.select(pl.col(\"requesttype_4525192L\").cat.get_categories()).collect()\n"
     ]
    },
    {
     "data": {
      "text/plain": "shape: (4, 1)\n┌──────────────────────┐\n│ requesttype_4525192L │\n│ ---                  │\n│ str                  │\n╞══════════════════════╡\n│ DEDUCTION_6          │\n│ PENSION_6            │\n│ SOCIAL_6             │\n│ NO_DEDUCTION         │\n└──────────────────────┘",
      "text/html": "<div><style>\n.dataframe > thead > tr,\n.dataframe > tbody > tr {\n  text-align: right;\n  white-space: pre-wrap;\n}\n</style>\n<small>shape: (4, 1)</small><table border=\"1\" class=\"dataframe\"><thead><tr><th>requesttype_4525192L</th></tr><tr><td>str</td></tr></thead><tbody><tr><td>&quot;DEDUCTION_6&quot;</td></tr><tr><td>&quot;PENSION_6&quot;</td></tr><tr><td>&quot;SOCIAL_6&quot;</td></tr><tr><td>&quot;NO_DEDUCTION&quot;</td></tr></tbody></table></div>"
     },
     "execution_count": 70,
     "metadata": {},
     "output_type": "execute_result"
    }
   ],
   "source": [
    "data.select(pl.col(\"requesttype_4525192L\").cat.get_categories()).collect()"
   ],
   "metadata": {
    "collapsed": false,
    "ExecuteTime": {
     "end_time": "2024-03-04T10:21:39.879210931Z",
     "start_time": "2024-03-04T10:21:39.320112043Z"
    }
   },
   "id": "8146abe4302301ac",
   "execution_count": 70
  },
  {
   "cell_type": "code",
   "outputs": [
    {
     "ename": "ZeroDivisionError",
     "evalue": "division by zero",
     "output_type": "error",
     "traceback": [
      "\u001B[0;31m---------------------------------------------------------------------------\u001B[0m",
      "\u001B[0;31mZeroDivisionError\u001B[0m                         Traceback (most recent call last)",
      "Cell \u001B[0;32mIn[71], line 1\u001B[0m\n\u001B[0;32m----> 1\u001B[0m \u001B[38;5;241;43m1\u001B[39;49m\u001B[38;5;241;43m/\u001B[39;49m\u001B[38;5;241;43m0\u001B[39;49m\n",
      "\u001B[0;31mZeroDivisionError\u001B[0m: division by zero"
     ]
    }
   ],
   "source": [
    "1/0"
   ],
   "metadata": {
    "collapsed": false,
    "ExecuteTime": {
     "end_time": "2024-03-04T10:21:39.887578830Z",
     "start_time": "2024-03-04T10:21:39.886206679Z"
    }
   },
   "id": "b2c7145a42e1b0ee",
   "execution_count": 71
  },
  {
   "cell_type": "code",
   "outputs": [],
   "source": [
    "data: pl.DataFrame = data.drop([\"case_id\"]).unique().collect()\n",
    "data: pl.DataFrame = pl.concat([data, pl.from_numpy(np.random.normal(size=data.shape[0]), schema=[\"noise\"])], how=\"horizontal\")"
   ],
   "metadata": {
    "collapsed": false,
    "ExecuteTime": {
     "start_time": "2024-03-04T10:21:39.888519716Z"
    }
   },
   "id": "2bdce152acb9429a",
   "execution_count": null
  },
  {
   "cell_type": "code",
   "outputs": [],
   "source": [
    "def split_data(data: pl.DataFrame):\n",
    "    train, valid = split_train_validation(data, test_months=0.35)\n",
    "    y_train, y_valid = train.select(\"target\").to_series().to_pandas(), valid.select(\"target\").to_series().to_pandas()\n",
    "    x_train, x_valid = train.drop([\"target\", \"date_decision\"]), valid.drop([\"target\", \"date_decision\"])\n",
    "    \n",
    "    x_train = convert_object_to_categorical(x_train.to_pandas())\n",
    "    x_valid = convert_object_to_categorical(x_valid.to_pandas())\n",
    "    \n",
    "    return x_train, y_train, x_valid, y_valid"
   ],
   "metadata": {
    "collapsed": false,
    "ExecuteTime": {
     "end_time": "2024-03-04T10:21:39.892761524Z",
     "start_time": "2024-03-04T10:21:39.889632427Z"
    }
   },
   "id": "fc98e724866401d5",
   "execution_count": null
  },
  {
   "cell_type": "markdown",
   "source": [
    "## Model train"
   ],
   "metadata": {
    "collapsed": false
   },
   "id": "6dca31f3c476e12d"
  },
  {
   "cell_type": "code",
   "outputs": [],
   "source": [
    "# import numpy as np\n",
    "# from scipy import optimize\n",
    "# from scipy import special\n",
    "# \n",
    "# class FocalLoss:\n",
    "# \n",
    "#     def __init__(self, gamma, alpha=None):\n",
    "#         self.alpha = alpha\n",
    "#         self.gamma = gamma\n",
    "# \n",
    "#     def at(self, y):\n",
    "#         if self.alpha is None:\n",
    "#             return np.ones_like(y)\n",
    "#         return np.where(y, self.alpha, 1 - self.alpha)\n",
    "# \n",
    "#     def pt(self, y, p):\n",
    "#         p = np.clip(p, 1e-15, 1 - 1e-15)\n",
    "#         return np.where(y, p, 1 - p)\n",
    "# \n",
    "#     def __call__(self, y_true, y_pred):\n",
    "#         at = self.at(y_true)\n",
    "#         pt = self.pt(y_true, y_pred)\n",
    "#         return -at * (1 - pt) ** self.gamma * np.log(pt)\n",
    "# \n",
    "#     def grad(self, y_true, y_pred):\n",
    "#         y = 2 * y_true - 1  # {0, 1} -> {-1, 1}\n",
    "#         at = self.at(y_true)\n",
    "#         pt = self.pt(y_true, y_pred)\n",
    "#         g = self.gamma\n",
    "#         return at * y * (1 - pt) ** g * (g * pt * np.log(pt) + pt - 1)\n",
    "# \n",
    "#     def hess(self, y_true, y_pred):\n",
    "#         y = 2 * y_true - 1  # {0, 1} -> {-1, 1}\n",
    "#         at = self.at(y_true)\n",
    "#         pt = self.pt(y_true, y_pred)\n",
    "#         g = self.gamma\n",
    "# \n",
    "#         u = at * y * (1 - pt) ** g\n",
    "#         du = -at * y * g * (1 - pt) ** (g - 1)\n",
    "#         v = g * pt * np.log(pt) + pt - 1\n",
    "#         dv = g * np.log(pt) + g + 1\n",
    "# \n",
    "#         return (du * v + u * dv) * y * (pt * (1 - pt))\n",
    "# \n",
    "#     def init_score(self, y_true):\n",
    "#         res = optimize.minimize_scalar(\n",
    "#             lambda p: self(y_true, p).sum(),\n",
    "#             bounds=(0, 1),\n",
    "#             method='bounded'\n",
    "#         )\n",
    "#         p = res.x\n",
    "#         log_odds = np.log(p / (1 - p))\n",
    "#         return log_odds\n",
    "# \n",
    "#     def lgb_obj(self, preds, train_data):\n",
    "#         y = train_data.get_label()\n",
    "#         p = special.expit(preds)\n",
    "#         return self.grad(y, p), self.hess(y, p)\n",
    "# \n",
    "#     def lgb_eval(self, preds, train_data):\n",
    "#         y = train_data.get_label()\n",
    "#         p = special.expit(preds)\n",
    "#         is_higher_better = False\n",
    "#         return 'focal_loss', self(y, p).mean(), is_higher_better\n",
    "# \n",
    "# loss = FocalLoss(alpha=None, gamma=0)\n",
    "# loss.init_score(y_train)"
   ],
   "metadata": {
    "collapsed": false,
    "ExecuteTime": {
     "start_time": "2024-03-04T10:21:39.890730510Z"
    }
   },
   "id": "1c29848a92988252",
   "execution_count": null
  },
  {
   "cell_type": "code",
   "outputs": [],
   "source": [
    "import logging\n",
    "\n",
    "loggers = [logging.getLogger(name) for name in logging.root.manager.loggerDict]\n",
    "for logger in loggers:\n",
    "    logger.disabled = True\n",
    "    logger.propagate = False\n"
   ],
   "metadata": {
    "collapsed": false,
    "ExecuteTime": {
     "start_time": "2024-03-04T10:21:39.891788447Z"
    }
   },
   "id": "4b82e64704e07890",
   "execution_count": null
  },
  {
   "cell_type": "code",
   "outputs": [],
   "source": [
    "from sklearn.linear_model import LogisticRegression\n",
    "from sklearn.metrics import PrecisionRecallDisplay, RocCurveDisplay, roc_auc_score\n",
    "\n",
    "def store_metrics(model: LogisticRegression | lgb.LGBMModel, x_valid: pd.DataFrame, y_valid: pd.Series, valid_sample_weight: np.ndarray) -> None:\n",
    "    y_pred = model.predict(x_valid)\n",
    "    y_pred_proba = model.predict_proba(x_valid)[:, 1]\n",
    "    \n",
    "    fig = ConfusionMatrixDisplay.from_predictions(y_true=y_valid, y_pred=y_pred, normalize=\"all\", sample_weight=valid_sample_weight)\n",
    "    mlflow.log_figure(fig.figure_, artifact_file=\"confusion_matrix.png\")\n",
    "    \n",
    "    fig = PrecisionRecallDisplay.from_predictions(y_true=y_valid, y_pred=y_pred_proba, sample_weight=valid_sample_weight)\n",
    "    mlflow.log_figure(fig.figure_, artifact_file=\"precision_recall_curve.png\")\n",
    "\n",
    "    fig = RocCurveDisplay.from_predictions(y_true=y_valid, y_pred=y_pred_proba, sample_weight=valid_sample_weight)\n",
    "    mlflow.log_figure(fig.figure_, artifact_file=\"roc_curve.png\")\n",
    "\n",
    "    conf_matrix: np.ndarray = confusion_matrix(y_pred=y_pred, y_true=y_valid, labels=model.classes_, sample_weight=valid_sample_weight)\n",
    "    tn, fp, fn, tp = conf_matrix.ravel()\n",
    "\n",
    "    epsilon = 1e-15\n",
    "\n",
    "    # Calculate metrics\n",
    "    precision = tp / (tp + fp + epsilon)\n",
    "    recall = tp / (tp + fn + epsilon)\n",
    "    specificity = tn / (tn + fp + epsilon)\n",
    "    accuracy = (tp + tn) / (tp + tn + fp + fn + epsilon)\n",
    "    balanced_accuracy = (recall + specificity) / 2\n",
    "    f1_score = 2 * precision * recall / (precision + recall + epsilon)\n",
    "    false_positive_rate = fp / (fp + tn + epsilon)\n",
    "    false_negative_rate = fn / (fn + tp + epsilon)\n",
    "    false_omission_rate = fn / (tn + fn + epsilon)\n",
    "    false_discovery_rate = fp / (tp + fp + epsilon)\n",
    "    positive_likelihood_ratio = recall / (false_positive_rate + epsilon)\n",
    "    negative_likelihood_ratio = false_negative_rate / (specificity + epsilon)\n",
    "    negative_predictive_value = tn / (tn + fn + epsilon)\n",
    "    markedness = precision + negative_predictive_value - 1\n",
    "    mcc = (tp * tn - fp * fn) / (((tp + fp) * (tp + fn) * (tn + fp) * (tn + fn)) ** 0.5 + epsilon)\n",
    "    fowlkes_mallows_index = tp / (((tp + fp) * (tp + fn)) ** 0.5 + epsilon)\n",
    "    # roc_auc = roc_auc_score(y_true=y_valid, y_score=y_pred_proba, sample_weight=valid_sample_weight)\n",
    "\n",
    "    mlflow.log_metrics(metrics={\n",
    "        \"accuracy\": round(accuracy, 3),\n",
    "        \"balanced_accuracy\": round(balanced_accuracy, 3),\n",
    "        \"precision\": round(precision, 3),\n",
    "        \"recall\": round(recall, 3),\n",
    "        \"specificity\": round(specificity, 3),\n",
    "        \"f1\": round(f1_score, 3),\n",
    "        \"false_positive_rate\": round(false_positive_rate, 3),\n",
    "        \"false_negative_rate\": round(false_negative_rate, 3),\n",
    "        \"false_omission_rate\": round(false_omission_rate, 3),\n",
    "        \"false_discovery_rate\": round(false_discovery_rate, 3),\n",
    "        \"positive_likelihood_ratio\": round(positive_likelihood_ratio, 3),\n",
    "        \"negative_likelihood_ratio\": round(negative_likelihood_ratio, 3),\n",
    "        \"negative_predictive_value\": round(negative_predictive_value, 3),\n",
    "        \"markedness\": round(markedness, 3),\n",
    "        \"mcc\": round(mcc, 3),\n",
    "        \"fowlkes_mallows_index\": round(fowlkes_mallows_index, 3),\n",
    "        # \"auc\": round(roc_auc, 3),\n",
    "    })\n",
    "\n",
    "def lightgbm_model_train(x_train: pd.DataFrame, y_train: pd.Series, x_valid: pd.DataFrame, y_valid: pd.Series) -> tuple[lgb.LGBMModel, pd.Series]:\n",
    "    eval_results = {}\n",
    "\n",
    "    # val_counts = y_train.value_counts(normalize = True)\n",
    "    # scale_pos_weight = val_counts.loc[0] / val_counts.loc[1]\n",
    "    # \n",
    "    # loss = FocalLoss(alpha=None, gamma=0)\n",
    "    # \n",
    "    # train_init_score = np.full_like(y_train, loss.init_score(y_train), dtype=float)\n",
    "    # valid_init_score = np.full_like(y_valid, loss.init_score(y_valid), dtype=float)\n",
    "\n",
    "    # train_init_score = np.full_like(y_train, 0., dtype=float)\n",
    "    # valid_init_score = np.full_like(y_valid, 0., dtype=float)\n",
    "    \n",
    "    with mlflow.start_run(nested=True):        \n",
    "        mlflow.log_param(key=\"num_columns\", value=len(x_train.columns))\n",
    "        \n",
    "        model = lgb.LGBMClassifier(\n",
    "            random_state=SEED,\n",
    "            n_jobs=-1,\n",
    "            boosting_type='gbdt',\n",
    "            num_leaves=128,\n",
    "            max_depth=8,\n",
    "            learning_rate=0.1,\n",
    "            n_estimators=1_000,\n",
    "            subsample_for_bin=200_000,\n",
    "            objective=\"binary\",\n",
    "            class_weight=None,\n",
    "            min_split_gain=0.0,\n",
    "            min_child_weight=0.001,\n",
    "            min_child_samples=10_000, # min_data_in_leaf\n",
    "            subsample=0.5,\n",
    "            subsample_freq=1,\n",
    "            colsample_bytree=0.5,\n",
    "            # reg_alpha=10.0,\n",
    "            # reg_lambda=10.0,\n",
    "            importance_type='gain',\n",
    "            device=\"cpu\",\n",
    "            deterministic=True,\n",
    "            verbose=-1,\n",
    "            # extra_trees=True,\n",
    "            # extra_seed=SEED\n",
    "        )\n",
    "    \n",
    "        model.fit(\n",
    "            X=x_train,\n",
    "            y=y_train,\n",
    "            sample_weight=train_weights,\n",
    "            # init_score=train_init_score,\n",
    "            eval_set=[(x_train, y_train), (x_valid, y_valid)],\n",
    "            eval_metric=[\"binary_logloss\", \"average_precision\", \"auc\"],\n",
    "            eval_sample_weight=[train_weights, valid_weights],\n",
    "            # eval_init_score=[train_init_score, valid_init_score],\n",
    "            callbacks=[\n",
    "                # lgb.log_evaluation(),\n",
    "                lgb.record_evaluation(eval_results),\n",
    "                lgb.early_stopping(stopping_rounds=100, first_metric_only=True),\n",
    "            ],\n",
    "        )\n",
    "\n",
    "        store_metrics(model, valid_sample_weight=valid_weights, x_valid=x_valid, y_valid=y_valid)\n",
    "\n",
    "        fig = get_learning_curves(model, metric=\"binary_logloss\")\n",
    "        mlflow.log_figure(fig, artifact_file=\"learning_curve_logloss.png\")\n",
    "        \n",
    "        fig = get_learning_curves(model, metric=\"average_precision\")\n",
    "        mlflow.log_figure(fig, artifact_file=\"learning_curve_average_precision.png\")\n",
    "\n",
    "        fig = get_learning_curves(model, metric=\"auc\")\n",
    "        mlflow.log_figure(fig, artifact_file=\"learning_curve_auc.png\")\n",
    "\n",
    "        print(\"\\ncomputing shap importances\")\n",
    "        shap_importances = np.average(model.predict(x_valid, pred_contrib=True)[:, :-1], axis=0, weights=valid_weights)\n",
    "        shap_importances = pd.Series(shap_importances, index=x_valid.columns, name=\"shap_values\").sort_values(ascending=True)\n",
    "        print(\"finished computing shap importances\")\n",
    "        \n",
    "        mlflow.log_dict(shap_importances.to_dict(), artifact_file=\"shap_importances.json\")\n",
    "        mlflow.log_figure(shap_importances.plot(kind=\"barh\"), artifact_file=\"shap_importances.png\")\n",
    "        \n",
    "    return model, shap_importances"
   ],
   "metadata": {
    "collapsed": false,
    "ExecuteTime": {
     "start_time": "2024-03-04T10:21:39.905842212Z"
    }
   },
   "id": "abb037577f518326",
   "execution_count": null
  },
  {
   "cell_type": "code",
   "outputs": [],
   "source": [
    "data = data.drop([col for col in data.columns if col.endswith(\"mean\")])\n",
    "data = data.drop([\"mobilephncnt_593L\"])\n",
    "data = fill_nulls(data)"
   ],
   "metadata": {
    "collapsed": false,
    "ExecuteTime": {
     "start_time": "2024-03-04T10:21:39.905964813Z"
    }
   },
   "id": "d92f3e9555d8b3f7",
   "execution_count": null
  },
  {
   "cell_type": "code",
   "outputs": [],
   "source": [
    "mlflow.set_experiment(\"simple_model_full_data\")\n",
    "SPLIT_BY_SHAP = False\n",
    "\n",
    "mlflow.lightgbm.autolog(\n",
    "    log_input_examples=False,\n",
    "    log_model_signatures=True,\n",
    "    log_models=True,\n",
    "    log_datasets=False,\n",
    "    disable=False,\n",
    "    exclusive=False,\n",
    "    disable_for_unsupported_versions=False,\n",
    "    silent=False,\n",
    "    registered_model_name=None,\n",
    "    extra_tags=None\n",
    ")\n",
    "\n",
    "with mlflow.start_run():\n",
    "    i = 0\n",
    "    cols_to_drop = []\n",
    "    new_cols_to_drop = []\n",
    "    while True:\n",
    "        print(f\"\\nTraining iteration {i}\")\n",
    "        print(f\"num columns to drop: {len(new_cols_to_drop)} - new columns: {len(data.columns)-len(new_cols_to_drop)}\")\n",
    "        \n",
    "        data_iteration = data.drop(cols_to_drop)\n",
    "        x_train, y_train, x_valid, y_valid = split_data(data_iteration)\n",
    "        train_weights = compute_sample_weight(y=y_train, class_weight=\"balanced\")\n",
    "        valid_weights = compute_sample_weight(y=y_valid, class_weight=\"balanced\")\n",
    "        \n",
    "        lgb_model, shap_importances = lightgbm_model_train(x_train=x_train, y_train=y_train, x_valid=x_valid, y_valid=y_valid)\n",
    "        \n",
    "        if SPLIT_BY_SHAP:\n",
    "            new_cols_to_drop = list(shap_importances.index[(shap_importances <= 0)])\n",
    "        else:\n",
    "            feature_importances: pd.DataFrame = pd.DataFrame({\"column\": lgb_model.feature_name_, \"importance\": lgb_model.feature_importances_})\n",
    "            noise_importance: int = feature_importances.query(\"column == 'noise'\").importance.item()\n",
    "            new_cols_to_drop = feature_importances.query(\"importance <= 'noise_importance' & column != 'noise'\").column.tolist()\n",
    "        \n",
    "        try:\n",
    "            new_cols_to_drop.remove(\"noise\")\n",
    "        except Exception:\n",
    "            pass\n",
    "\n",
    "        if not new_cols_to_drop:\n",
    "            print(\"No more features to drop\")\n",
    "            break\n",
    "        else:\n",
    "            cols_to_drop.extend(new_cols_to_drop)\n",
    "            i += 1"
   ],
   "metadata": {
    "collapsed": false,
    "ExecuteTime": {
     "start_time": "2024-03-04T10:21:39.906014918Z"
    }
   },
   "id": "21f90a86b208f171",
   "execution_count": null
  }
 ],
 "metadata": {
  "kernelspec": {
   "display_name": "Python 3",
   "language": "python",
   "name": "python3"
  },
  "language_info": {
   "codemirror_mode": {
    "name": "ipython",
    "version": 2
   },
   "file_extension": ".py",
   "mimetype": "text/x-python",
   "name": "python",
   "nbconvert_exporter": "python",
   "pygments_lexer": "ipython2",
   "version": "2.7.6"
  }
 },
 "nbformat": 4,
 "nbformat_minor": 5
}
