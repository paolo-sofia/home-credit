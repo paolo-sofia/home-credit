{
 "cells": [
  {
   "cell_type": "code",
   "execution_count": 46,
   "id": "initial_id",
   "metadata": {
    "collapsed": true,
    "ExecuteTime": {
     "end_time": "2024-02-19T11:30:57.401419724Z",
     "start_time": "2024-02-19T11:30:57.352185029Z"
    }
   },
   "outputs": [
    {
     "data": {
      "text/plain": "polars.config.Config"
     },
     "execution_count": 46,
     "metadata": {},
     "output_type": "execute_result"
    }
   ],
   "source": [
    "import pathlib\n",
    "import polars as pl\n",
    "import plotly.express as px\n",
    "\n",
    "pl.Config.set_fmt_float(\"full\")"
   ]
  },
  {
   "cell_type": "code",
   "outputs": [],
   "source": [
    "BASE_PATH = pathlib.Path.cwd().parent / \"data\" / \"raw\" / \"parquet_files\" / \"train\"\n",
    "\n",
    "APPLPREV0_PATH = BASE_PATH / \"train_applprev_1_0.parquet\"\n",
    "APPLPREV1_PATH = BASE_PATH / \"train_applprev_1_1.parquet\""
   ],
   "metadata": {
    "collapsed": false,
    "ExecuteTime": {
     "end_time": "2024-02-19T11:30:57.402818574Z",
     "start_time": "2024-02-19T11:30:57.401379238Z"
    }
   },
   "id": "78ad86eb30a271d3",
   "execution_count": 47
  },
  {
   "cell_type": "code",
   "outputs": [],
   "source": [
    "def get_transforms(data: pl.LazyFrame) -> list[pl.Expr]:\n",
    "    transforms = []\n",
    "    for col, dtype in zip(data.columns, data.dtypes):\n",
    "        if col.endswith(\"D\"):\n",
    "            transforms.append(\n",
    "                pl.when(pl.col(col).is_null()).then(pl.lit(False)).otherwise(pl.lit(True)).cast(pl.Boolean).alias(col)\n",
    "            )\n",
    "        elif dtype == pl.String and not col.endswith(\"D\"):\n",
    "            transforms.append(\n",
    "                pl.col(col).fill_null(\"UNKNOWN\").cast(pl.Categorical)\n",
    "            )\n",
    "        elif dtype in [pl.Float64, pl.Float32]:\n",
    "            transforms.append(\n",
    "                pl.col(col).fill_null(pl.col(col).median()).cast(pl.Float32)\n",
    "            )\n",
    "        elif col in {}:\n",
    "            transforms.append(\n",
    "                pl.col(col).fill_null(pl.col(col).median()).shrink_dtype()\n",
    "            )\n",
    "        elif col in {}:\n",
    "            transforms.append(\n",
    "                pl.col(col).fill_null(pl.lit(False)).shrink_dtype()\n",
    "            )\n",
    "    return transforms\n"
   ],
   "metadata": {
    "collapsed": false,
    "ExecuteTime": {
     "end_time": "2024-02-19T11:30:57.509659050Z",
     "start_time": "2024-02-19T11:30:57.403335399Z"
    }
   },
   "id": "92c176651fc64950",
   "execution_count": 48
  },
  {
   "cell_type": "markdown",
   "source": [
    "## Load data"
   ],
   "metadata": {
    "collapsed": false
   },
   "id": "a074179c44e9cd71"
  },
  {
   "cell_type": "code",
   "outputs": [],
   "source": [
    "features_meaning: pl.DataFrame = pl.read_csv(\"/home/paolo/git/home-credit/data/raw/feature_definitions.csv\")"
   ],
   "metadata": {
    "collapsed": false,
    "ExecuteTime": {
     "end_time": "2024-02-19T11:44:54.991061885Z",
     "start_time": "2024-02-19T11:44:54.947579102Z"
    }
   },
   "id": "c7a9538842e88f49",
   "execution_count": 52
  },
  {
   "cell_type": "code",
   "outputs": [],
   "source": [
    "applprev_0_data: pl.LazyFrame = pl.scan_parquet(APPLPREV0_PATH)\n",
    "applprev_1_data: pl.LazyFrame = pl.scan_parquet(APPLPREV1_PATH)\n",
    "applprev_data: pl.LazyFrame = pl.concat([applprev_0_data, applprev_1_data]).drop([\"childnum_21L\", \"education_1138M\", \"familystate_726L\"])\n",
    "\n",
    "applprev_data = applprev_data.with_columns(\n",
    "    *[pl.col(col).cast(pl.Date) for col in applprev_data.columns if col.endswith(\"D\")]\n",
    ")"
   ],
   "metadata": {
    "collapsed": false,
    "ExecuteTime": {
     "end_time": "2024-02-19T11:47:14.855006864Z",
     "start_time": "2024-02-19T11:47:14.809305773Z"
    }
   },
   "id": "a8961a22b70226c4",
   "execution_count": 54
  },
  {
   "cell_type": "code",
   "outputs": [
    {
     "data": {
      "text/plain": "shape: (39, 2)\n┌─────────────────────────────┬───────────────────────────────────┐\n│ Variable                    ┆ Description                       │\n│ ---                         ┆ ---                               │\n│ str                         ┆ str                               │\n╞═════════════════════════════╪═══════════════════════════════════╡\n│ actualdpd_943P              ┆ Days Past Due (DPD) of previous … │\n│ annuity_853A                ┆ Monthly annuity for previous app… │\n│ approvaldate_319D           ┆ Approval Date of Previous Applic… │\n│ byoccupationinc_3656910L    ┆ Applicant's income from previous… │\n│ cancelreason_3545846M       ┆ Application cancellation reason.  │\n│ …                           ┆ …                                 │\n│ rejectreason_755M           ┆ Reason for previous application … │\n│ rejectreasonclient_4145042M ┆ Reason for rejection of the clie… │\n│ revolvingaccount_394A       ┆ Revolving account that was prese… │\n│ status_219L                 ┆ Previous application status.      │\n│ tenor_203L                  ┆ Number of instalments in the pre… │\n└─────────────────────────────┴───────────────────────────────────┘",
      "text/html": "<div><style>\n.dataframe > thead > tr,\n.dataframe > tbody > tr {\n  text-align: right;\n  white-space: pre-wrap;\n}\n</style>\n<small>shape: (39, 2)</small><table border=\"1\" class=\"dataframe\"><thead><tr><th>Variable</th><th>Description</th></tr><tr><td>str</td><td>str</td></tr></thead><tbody><tr><td>&quot;actualdpd_943P…</td><td>&quot;Days Past Due …</td></tr><tr><td>&quot;annuity_853A&quot;</td><td>&quot;Monthly annuit…</td></tr><tr><td>&quot;approvaldate_3…</td><td>&quot;Approval Date …</td></tr><tr><td>&quot;byoccupationin…</td><td>&quot;Applicant&#x27;s in…</td></tr><tr><td>&quot;cancelreason_3…</td><td>&quot;Application ca…</td></tr><tr><td>&quot;childnum_21L&quot;</td><td>&quot;Number of chil…</td></tr><tr><td>&quot;creationdate_8…</td><td>&quot;Date when prev…</td></tr><tr><td>&quot;credacc_actual…</td><td>&quot;Actual balance…</td></tr><tr><td>&quot;credacc_credlm…</td><td>&quot;Credit card cr…</td></tr><tr><td>&quot;credacc_maxhis…</td><td>&quot;Maximal histor…</td></tr><tr><td>&quot;credacc_minhis…</td><td>&quot;Minimum histor…</td></tr><tr><td>&quot;credacc_status…</td><td>&quot;Account status…</td></tr><tr><td>&hellip;</td><td>&hellip;</td></tr><tr><td>&quot;isdebitcard_52…</td><td>&quot;Previous appli…</td></tr><tr><td>&quot;mainoccupation…</td><td>&quot;Client&#x27;s main …</td></tr><tr><td>&quot;maxdpdtoleranc…</td><td>&quot;Maximum DPD wi…</td></tr><tr><td>&quot;outstandingdeb…</td><td>&quot;Amount of outs…</td></tr><tr><td>&quot;pmtnum_8L&quot;</td><td>&quot;Number of paym…</td></tr><tr><td>&quot;postype_473333…</td><td>&quot;Type of point …</td></tr><tr><td>&quot;profession_152…</td><td>&quot;Profession of …</td></tr><tr><td>&quot;rejectreason_7…</td><td>&quot;Reason for pre…</td></tr><tr><td>&quot;rejectreasoncl…</td><td>&quot;Reason for rej…</td></tr><tr><td>&quot;revolvingaccou…</td><td>&quot;Revolving acco…</td></tr><tr><td>&quot;status_219L&quot;</td><td>&quot;Previous appli…</td></tr><tr><td>&quot;tenor_203L&quot;</td><td>&quot;Number of inst…</td></tr></tbody></table></div>"
     },
     "execution_count": 53,
     "metadata": {},
     "output_type": "execute_result"
    }
   ],
   "source": [
    "features_meaning.filter(pl.col(\"Variable\").is_in(applprev_data.columns))"
   ],
   "metadata": {
    "collapsed": false,
    "ExecuteTime": {
     "end_time": "2024-02-19T11:45:42.099862244Z",
     "start_time": "2024-02-19T11:45:42.055891509Z"
    }
   },
   "id": "a047d9e2766d4f00",
   "execution_count": 53
  },
  {
   "cell_type": "code",
   "outputs": [
    {
     "data": {
      "text/plain": "shape: (5, 38)\n┌─────────┬────────────┬───────────┬───────────┬───┬───────────┬───────────┬───────────┬───────────┐\n│ case_id ┆ actualdpd_ ┆ annuity_8 ┆ approvald ┆ … ┆ rejectrea ┆ revolving ┆ status_21 ┆ tenor_203 │\n│ ---     ┆ 943P       ┆ 53A       ┆ ate_319D  ┆   ┆ sonclient ┆ account_3 ┆ 9L        ┆ L         │\n│ i64     ┆ ---        ┆ ---       ┆ ---       ┆   ┆ _4145042M ┆ 94A       ┆ ---       ┆ ---       │\n│         ┆ f64        ┆ f64       ┆ date      ┆   ┆ ---       ┆ ---       ┆ str       ┆ f64       │\n│         ┆            ┆           ┆           ┆   ┆ str       ┆ f64       ┆           ┆           │\n╞═════════╪════════════╪═══════════╪═══════════╪═══╪═══════════╪═══════════╪═══════════╪═══════════╡\n│ 2       ┆ 0          ┆ 640.2     ┆ null      ┆ … ┆ a55475b1  ┆ null      ┆ D         ┆ 24        │\n│ 2       ┆ 0          ┆ 1682.4    ┆ null      ┆ … ┆ a55475b1  ┆ null      ┆ D         ┆ 12        │\n│ 3       ┆ 0          ┆ 6140      ┆ null      ┆ … ┆ a55475b1  ┆ null      ┆ D         ┆ 12        │\n│ 4       ┆ 0          ┆ 2556.6    ┆ null      ┆ … ┆ a55475b1  ┆ null      ┆ T         ┆ 24        │\n│ 5       ┆ 0          ┆ null      ┆ null      ┆ … ┆ a55475b1  ┆ null      ┆ T         ┆ null      │\n└─────────┴────────────┴───────────┴───────────┴───┴───────────┴───────────┴───────────┴───────────┘",
      "text/html": "<div><style>\n.dataframe > thead > tr,\n.dataframe > tbody > tr {\n  text-align: right;\n  white-space: pre-wrap;\n}\n</style>\n<small>shape: (5, 38)</small><table border=\"1\" class=\"dataframe\"><thead><tr><th>case_id</th><th>actualdpd_943P</th><th>annuity_853A</th><th>approvaldate_319D</th><th>byoccupationinc_3656910L</th><th>cancelreason_3545846M</th><th>creationdate_885D</th><th>credacc_actualbalance_314A</th><th>credacc_credlmt_575A</th><th>credacc_maxhisbal_375A</th><th>credacc_minhisbal_90A</th><th>credacc_status_367L</th><th>credacc_transactions_402L</th><th>credamount_590A</th><th>credtype_587L</th><th>currdebt_94A</th><th>dateactivated_425D</th><th>district_544M</th><th>downpmt_134A</th><th>dtlastpmt_581D</th><th>dtlastpmtallstes_3545839D</th><th>employedfrom_700D</th><th>firstnonzeroinstldate_307D</th><th>inittransactioncode_279L</th><th>isbidproduct_390L</th><th>isdebitcard_527L</th><th>mainoccupationinc_437A</th><th>maxdpdtolerance_577P</th><th>num_group1</th><th>outstandingdebt_522A</th><th>pmtnum_8L</th><th>postype_4733339M</th><th>profession_152M</th><th>rejectreason_755M</th><th>rejectreasonclient_4145042M</th><th>revolvingaccount_394A</th><th>status_219L</th><th>tenor_203L</th></tr><tr><td>i64</td><td>f64</td><td>f64</td><td>date</td><td>f64</td><td>str</td><td>date</td><td>f64</td><td>f64</td><td>f64</td><td>f64</td><td>str</td><td>f64</td><td>f64</td><td>str</td><td>f64</td><td>date</td><td>str</td><td>f64</td><td>date</td><td>date</td><td>date</td><td>date</td><td>str</td><td>bool</td><td>bool</td><td>f64</td><td>f64</td><td>i64</td><td>f64</td><td>f64</td><td>str</td><td>str</td><td>str</td><td>str</td><td>f64</td><td>str</td><td>f64</td></tr></thead><tbody><tr><td>2</td><td>0</td><td>640.2</td><td>null</td><td>null</td><td>&quot;a55475b1&quot;</td><td>2013-04-03</td><td>null</td><td>0</td><td>null</td><td>null</td><td>null</td><td>null</td><td>10000</td><td>&quot;CAL&quot;</td><td>null</td><td>null</td><td>&quot;P136_108_173&quot;</td><td>0</td><td>null</td><td>null</td><td>2010-02-15</td><td>2013-05-04</td><td>&quot;CASH&quot;</td><td>false</td><td>null</td><td>8200</td><td>null</td><td>0</td><td>null</td><td>24</td><td>&quot;a55475b1&quot;</td><td>&quot;a55475b1&quot;</td><td>&quot;a55475b1&quot;</td><td>&quot;a55475b1&quot;</td><td>null</td><td>&quot;D&quot;</td><td>24</td></tr><tr><td>2</td><td>0</td><td>1682.4</td><td>null</td><td>null</td><td>&quot;a55475b1&quot;</td><td>2013-04-03</td><td>null</td><td>0</td><td>null</td><td>null</td><td>null</td><td>null</td><td>16000</td><td>&quot;CAL&quot;</td><td>null</td><td>null</td><td>&quot;P136_108_173&quot;</td><td>0</td><td>null</td><td>null</td><td>2010-02-15</td><td>2013-05-04</td><td>&quot;CASH&quot;</td><td>false</td><td>null</td><td>8200</td><td>null</td><td>1</td><td>null</td><td>12</td><td>&quot;a55475b1&quot;</td><td>&quot;a55475b1&quot;</td><td>&quot;a55475b1&quot;</td><td>&quot;a55475b1&quot;</td><td>null</td><td>&quot;D&quot;</td><td>12</td></tr><tr><td>3</td><td>0</td><td>6140</td><td>null</td><td>null</td><td>&quot;P94_109_143&quot;</td><td>2019-01-07</td><td>null</td><td>0</td><td>null</td><td>null</td><td>null</td><td>null</td><td>59999.8</td><td>&quot;CAL&quot;</td><td>null</td><td>null</td><td>&quot;P131_33_167&quot;</td><td>0</td><td>null</td><td>null</td><td>2018-05-15</td><td>2019-02-07</td><td>&quot;CASH&quot;</td><td>false</td><td>null</td><td>11000</td><td>null</td><td>0</td><td>null</td><td>12</td><td>&quot;a55475b1&quot;</td><td>&quot;a55475b1&quot;</td><td>&quot;P94_109_143&quot;</td><td>&quot;a55475b1&quot;</td><td>null</td><td>&quot;D&quot;</td><td>12</td></tr><tr><td>4</td><td>0</td><td>2556.6</td><td>null</td><td>null</td><td>&quot;P24_27_36&quot;</td><td>2019-01-08</td><td>null</td><td>0</td><td>null</td><td>null</td><td>null</td><td>null</td><td>40000</td><td>&quot;CAL&quot;</td><td>null</td><td>null</td><td>&quot;P194_82_174&quot;</td><td>0</td><td>null</td><td>null</td><td>null</td><td>2019-02-08</td><td>&quot;CASH&quot;</td><td>false</td><td>null</td><td>16000</td><td>null</td><td>0</td><td>null</td><td>24</td><td>&quot;a55475b1&quot;</td><td>&quot;a55475b1&quot;</td><td>&quot;a55475b1&quot;</td><td>&quot;a55475b1&quot;</td><td>null</td><td>&quot;T&quot;</td><td>24</td></tr><tr><td>5</td><td>0</td><td>null</td><td>null</td><td>null</td><td>&quot;P85_114_140&quot;</td><td>2019-01-16</td><td>null</td><td>null</td><td>null</td><td>null</td><td>null</td><td>null</td><td>null</td><td>null</td><td>null</td><td>null</td><td>&quot;P54_133_26&quot;</td><td>null</td><td>null</td><td>null</td><td>null</td><td>null</td><td>null</td><td>false</td><td>null</td><td>62000</td><td>null</td><td>0</td><td>null</td><td>null</td><td>&quot;a55475b1&quot;</td><td>&quot;a55475b1&quot;</td><td>&quot;a55475b1&quot;</td><td>&quot;a55475b1&quot;</td><td>null</td><td>&quot;T&quot;</td><td>null</td></tr></tbody></table></div>"
     },
     "execution_count": 55,
     "metadata": {},
     "output_type": "execute_result"
    }
   ],
   "source": [
    "applprev_data.sort(\"case_id\", \"num_group1\").head().collect()"
   ],
   "metadata": {
    "collapsed": false,
    "ExecuteTime": {
     "end_time": "2024-02-19T11:47:18.605412548Z",
     "start_time": "2024-02-19T11:47:16.594272539Z"
    }
   },
   "id": "7c17439fbd92d2ee",
   "execution_count": 55
  },
  {
   "cell_type": "code",
   "outputs": [
    {
     "data": {
      "text/plain": "shape: (7, 2)\n┌────────────────────────────┬───────────────────────────────────┐\n│ Variable                   ┆ Description                       │\n│ ---                        ┆ ---                               │\n│ str                        ┆ str                               │\n╞════════════════════════════╪═══════════════════════════════════╡\n│ approvaldate_319D          ┆ Approval Date of Previous Applic… │\n│ creationdate_885D          ┆ Date when previous application w… │\n│ dateactivated_425D         ┆ Contract activation date of the … │\n│ dtlastpmt_581D             ┆ Date of last payment made by the… │\n│ dtlastpmtallstes_3545839D  ┆ Date of the applicant's last pay… │\n│ employedfrom_700D          ┆ Employment start date from the p… │\n│ firstnonzeroinstldate_307D ┆ Date of first instalment in the … │\n└────────────────────────────┴───────────────────────────────────┘",
      "text/html": "<div><style>\n.dataframe > thead > tr,\n.dataframe > tbody > tr {\n  text-align: right;\n  white-space: pre-wrap;\n}\n</style>\n<small>shape: (7, 2)</small><table border=\"1\" class=\"dataframe\"><thead><tr><th>Variable</th><th>Description</th></tr><tr><td>str</td><td>str</td></tr></thead><tbody><tr><td>&quot;approvaldate_3…</td><td>&quot;Approval Date …</td></tr><tr><td>&quot;creationdate_8…</td><td>&quot;Date when prev…</td></tr><tr><td>&quot;dateactivated_…</td><td>&quot;Contract activ…</td></tr><tr><td>&quot;dtlastpmt_581D…</td><td>&quot;Date of last p…</td></tr><tr><td>&quot;dtlastpmtallst…</td><td>&quot;Date of the ap…</td></tr><tr><td>&quot;employedfrom_7…</td><td>&quot;Employment sta…</td></tr><tr><td>&quot;firstnonzeroin…</td><td>&quot;Date of first …</td></tr></tbody></table></div>"
     },
     "execution_count": 58,
     "metadata": {},
     "output_type": "execute_result"
    }
   ],
   "source": [
    "features_meaning.filter(pl.col(\"Variable\").is_in(applprev_data.select(pl.col(pl.Date)).columns))"
   ],
   "metadata": {
    "collapsed": false,
    "ExecuteTime": {
     "end_time": "2024-02-19T11:49:41.972793651Z",
     "start_time": "2024-02-19T11:49:41.942254484Z"
    }
   },
   "id": "7f444f51a7acbecb",
   "execution_count": 58
  },
  {
   "cell_type": "code",
   "outputs": [
    {
     "data": {
      "text/plain": "shape: (9, 10)\n┌───────────┬───────────┬───────────┬───────────┬───┬───────────┬───────────┬───────────┬──────────┐\n│ statistic ┆ rejectrea ┆ rejectrea ┆ approvald ┆ … ┆ dtlastpmt ┆ dtlastpmt ┆ employedf ┆ firstnon │\n│ ---       ┆ son_755M  ┆ sonclient ┆ ate_319D  ┆   ┆ _581D     ┆ allstes_3 ┆ rom_700D  ┆ zeroinst │\n│ str       ┆ ---       ┆ _4145042M ┆ ---       ┆   ┆ ---       ┆ 545839D   ┆ ---       ┆ ldate_30 │\n│           ┆ str       ┆ ---       ┆ str       ┆   ┆ str       ┆ ---       ┆ str       ┆ 7D       │\n│           ┆           ┆ str       ┆           ┆   ┆           ┆ str       ┆           ┆ ---      │\n│           ┆           ┆           ┆           ┆   ┆           ┆           ┆           ┆ str      │\n╞═══════════╪═══════════╪═══════════╪═══════════╪═══╪═══════════╪═══════════╪═══════════╪══════════╡\n│ count     ┆ 6525979   ┆ 6525979   ┆ 3515685   ┆ … ┆ 1775595   ┆ 2482358   ┆ 2639501   ┆ 5873497  │\n│ null_coun ┆ 0         ┆ 0         ┆ 3010294   ┆ … ┆ 4750384   ┆ 4043621   ┆ 3886478   ┆ 652482   │\n│ t         ┆           ┆           ┆           ┆   ┆           ┆           ┆           ┆          │\n│ mean      ┆ null      ┆ null      ┆ 2016-06-1 ┆ … ┆ 2018-06-1 ┆ 2018-10-2 ┆ 2008-09-2 ┆ 2016-06- │\n│           ┆           ┆           ┆ 1         ┆   ┆ 2         ┆ 3         ┆ 6         ┆ 12       │\n│ std       ┆ null      ┆ null      ┆ null      ┆ … ┆ null      ┆ null      ┆ null      ┆ null     │\n│ min       ┆ P121_60_1 ┆ P129_162_ ┆ 2005-12-3 ┆ … ┆ 2008-07-0 ┆ 2008-07-0 ┆ 1961-09-1 ┆ 2006-01- │\n│           ┆ 64        ┆ 80        ┆ 0         ┆   ┆ 4         ┆ 4         ┆ 5         ┆ 26       │\n│ 25%       ┆ null      ┆ null      ┆ 2014-09-2 ┆ … ┆ 2017-08-1 ┆ 2018-01-1 ┆ 2005-10-1 ┆ 2014-07- │\n│           ┆           ┆           ┆ 9         ┆   ┆ 0         ┆ 4         ┆ 5         ┆ 20       │\n│ 50%       ┆ null      ┆ null      ┆ 2017-08-0 ┆ … ┆ 2018-08-0 ┆ 2019-01-2 ┆ 2010-05-1 ┆ 2017-06- │\n│           ┆           ┆           ┆ 9         ┆   ┆ 6         ┆ 8         ┆ 5         ┆ 29       │\n│ 75%       ┆ null      ┆ null      ┆ 2018-10-2 ┆ … ┆ 2019-05-0 ┆ 2019-09-1 ┆ 2013-09-0 ┆ 2018-12- │\n│           ┆           ┆           ┆ 9         ┆   ┆ 3         ┆ 6         ┆ 1         ┆ 06       │\n│ max       ┆ a55475b1  ┆ a55475b1  ┆ 2020-10-1 ┆ … ┆ 2020-10-1 ┆ 2020-10-1 ┆ 2020-07-1 ┆ 2020-11- │\n│           ┆           ┆           ┆ 9         ┆   ┆ 9         ┆ 9         ┆ 5         ┆ 19       │\n└───────────┴───────────┴───────────┴───────────┴───┴───────────┴───────────┴───────────┴──────────┘",
      "text/html": "<div><style>\n.dataframe > thead > tr,\n.dataframe > tbody > tr {\n  text-align: right;\n  white-space: pre-wrap;\n}\n</style>\n<small>shape: (9, 10)</small><table border=\"1\" class=\"dataframe\"><thead><tr><th>statistic</th><th>rejectreason_755M</th><th>rejectreasonclient_4145042M</th><th>approvaldate_319D</th><th>creationdate_885D</th><th>dateactivated_425D</th><th>dtlastpmt_581D</th><th>dtlastpmtallstes_3545839D</th><th>employedfrom_700D</th><th>firstnonzeroinstldate_307D</th></tr><tr><td>str</td><td>str</td><td>str</td><td>str</td><td>str</td><td>str</td><td>str</td><td>str</td><td>str</td><td>str</td></tr></thead><tbody><tr><td>&quot;count&quot;</td><td>&quot;6525979&quot;</td><td>&quot;6525979&quot;</td><td>&quot;3515685&quot;</td><td>&quot;6525913&quot;</td><td>&quot;3384226&quot;</td><td>&quot;1775595&quot;</td><td>&quot;2482358&quot;</td><td>&quot;2639501&quot;</td><td>&quot;5873497&quot;</td></tr><tr><td>&quot;null_count&quot;</td><td>&quot;0&quot;</td><td>&quot;0&quot;</td><td>&quot;3010294&quot;</td><td>&quot;66&quot;</td><td>&quot;3141753&quot;</td><td>&quot;4750384&quot;</td><td>&quot;4043621&quot;</td><td>&quot;3886478&quot;</td><td>&quot;652482&quot;</td></tr><tr><td>&quot;mean&quot;</td><td>null</td><td>null</td><td>&quot;2016-06-11&quot;</td><td>&quot;2016-07-22&quot;</td><td>&quot;2016-05-29&quot;</td><td>&quot;2018-06-12&quot;</td><td>&quot;2018-10-23&quot;</td><td>&quot;2008-09-26&quot;</td><td>&quot;2016-06-12&quot;</td></tr><tr><td>&quot;std&quot;</td><td>null</td><td>null</td><td>null</td><td>null</td><td>null</td><td>null</td><td>null</td><td>null</td><td>null</td></tr><tr><td>&quot;min&quot;</td><td>&quot;P121_60_164&quot;</td><td>&quot;P129_162_80&quot;</td><td>&quot;2005-12-30&quot;</td><td>&quot;2005-12-26&quot;</td><td>&quot;2006-01-01&quot;</td><td>&quot;2008-07-04&quot;</td><td>&quot;2008-07-04&quot;</td><td>&quot;1961-09-15&quot;</td><td>&quot;2006-01-26&quot;</td></tr><tr><td>&quot;25%&quot;</td><td>null</td><td>null</td><td>&quot;2014-09-29&quot;</td><td>&quot;2014-10-05&quot;</td><td>&quot;2014-09-09&quot;</td><td>&quot;2017-08-10&quot;</td><td>&quot;2018-01-14&quot;</td><td>&quot;2005-10-15&quot;</td><td>&quot;2014-07-20&quot;</td></tr><tr><td>&quot;50%&quot;</td><td>null</td><td>null</td><td>&quot;2017-08-09&quot;</td><td>&quot;2017-08-21&quot;</td><td>&quot;2017-08-01&quot;</td><td>&quot;2018-08-06&quot;</td><td>&quot;2019-01-28&quot;</td><td>&quot;2010-05-15&quot;</td><td>&quot;2017-06-29&quot;</td></tr><tr><td>&quot;75%&quot;</td><td>null</td><td>null</td><td>&quot;2018-10-29&quot;</td><td>&quot;2018-12-01&quot;</td><td>&quot;2018-10-24&quot;</td><td>&quot;2019-05-03&quot;</td><td>&quot;2019-09-16&quot;</td><td>&quot;2013-09-01&quot;</td><td>&quot;2018-12-06&quot;</td></tr><tr><td>&quot;max&quot;</td><td>&quot;a55475b1&quot;</td><td>&quot;a55475b1&quot;</td><td>&quot;2020-10-19&quot;</td><td>&quot;2020-10-19&quot;</td><td>&quot;2020-10-19&quot;</td><td>&quot;2020-10-19&quot;</td><td>&quot;2020-10-19&quot;</td><td>&quot;2020-07-15&quot;</td><td>&quot;2020-11-19&quot;</td></tr></tbody></table></div>"
     },
     "execution_count": 61,
     "metadata": {},
     "output_type": "execute_result"
    }
   ],
   "source": [
    "applprev_data.select(*[col for col in applprev_data.columns if \"reject\" in col], pl.col(pl.Date)).describe()"
   ],
   "metadata": {
    "collapsed": false,
    "ExecuteTime": {
     "end_time": "2024-02-19T11:51:35.868973228Z",
     "start_time": "2024-02-19T11:51:34.571537962Z"
    }
   },
   "id": "32f8db4d517458d5",
   "execution_count": 61
  },
  {
   "cell_type": "code",
   "outputs": [
    {
     "data": {
      "text/plain": "shape: (14, 2)\n┌─────────────────────────────┬─────────┐\n│ rejectreasonclient_4145042M ┆ count   │\n│ ---                         ┆ ---     │\n│ str                         ┆ u32     │\n╞═════════════════════════════╪═════════╡\n│ a55475b1                    ┆ 4952742 │\n│ P94_109_143                 ┆ 1417017 │\n│ P30_86_84                   ┆ 78013   │\n│ P52_67_90                   ┆ 30538   │\n│ P69_72_116                  ┆ 20398   │\n│ …                           ┆ …       │\n│ P5_143_178                  ┆ 1247    │\n│ P53_10_15                   ┆ 520     │\n│ P59_114_135                 ┆ 3       │\n│ P204_22_168                 ┆ 3       │\n│ P203_151_99                 ┆ 2       │\n└─────────────────────────────┴─────────┘",
      "text/html": "<div><style>\n.dataframe > thead > tr,\n.dataframe > tbody > tr {\n  text-align: right;\n  white-space: pre-wrap;\n}\n</style>\n<small>shape: (14, 2)</small><table border=\"1\" class=\"dataframe\"><thead><tr><th>rejectreasonclient_4145042M</th><th>count</th></tr><tr><td>str</td><td>u32</td></tr></thead><tbody><tr><td>&quot;a55475b1&quot;</td><td>4952742</td></tr><tr><td>&quot;P94_109_143&quot;</td><td>1417017</td></tr><tr><td>&quot;P30_86_84&quot;</td><td>78013</td></tr><tr><td>&quot;P52_67_90&quot;</td><td>30538</td></tr><tr><td>&quot;P69_72_116&quot;</td><td>20398</td></tr><tr><td>&quot;P129_162_80&quot;</td><td>15536</td></tr><tr><td>&quot;P84_14_61&quot;</td><td>5831</td></tr><tr><td>&quot;P64_121_167&quot;</td><td>2746</td></tr><tr><td>&quot;P19_25_34&quot;</td><td>1383</td></tr><tr><td>&quot;P5_143_178&quot;</td><td>1247</td></tr><tr><td>&quot;P53_10_15&quot;</td><td>520</td></tr><tr><td>&quot;P59_114_135&quot;</td><td>3</td></tr><tr><td>&quot;P204_22_168&quot;</td><td>3</td></tr><tr><td>&quot;P203_151_99&quot;</td><td>2</td></tr></tbody></table></div>"
     },
     "execution_count": 70,
     "metadata": {},
     "output_type": "execute_result"
    }
   ],
   "source": [
    "applprev_data.select(\"rejectreasonclient_4145042M\").collect().to_series().value_counts().sort(\"count\", descending=True)"
   ],
   "metadata": {
    "collapsed": false,
    "ExecuteTime": {
     "end_time": "2024-02-19T11:54:42.193743501Z",
     "start_time": "2024-02-19T11:54:41.879772529Z"
    }
   },
   "id": "483839a2a8c76d9",
   "execution_count": 70
  },
  {
   "cell_type": "code",
   "outputs": [
    {
     "data": {
      "text/plain": "shape: (18, 2)\n┌───────────────────┬─────────┐\n│ rejectreason_755M ┆ count   │\n│ ---               ┆ ---     │\n│ str               ┆ u32     │\n╞═══════════════════╪═════════╡\n│ a55475b1          ┆ 4663656 │\n│ P94_109_143       ┆ 810325  │\n│ P99_56_166        ┆ 713198  │\n│ P45_84_106        ┆ 155196  │\n│ P198_131_9        ┆ 153879  │\n│ …                 ┆ …       │\n│ P19_25_34         ┆ 205     │\n│ P5_143_178        ┆ 174     │\n│ P64_121_167       ┆ 166     │\n│ P53_10_15         ┆ 150     │\n│ P185_59_178       ┆ 15      │\n└───────────────────┴─────────┘",
      "text/html": "<div><style>\n.dataframe > thead > tr,\n.dataframe > tbody > tr {\n  text-align: right;\n  white-space: pre-wrap;\n}\n</style>\n<small>shape: (18, 2)</small><table border=\"1\" class=\"dataframe\"><thead><tr><th>rejectreason_755M</th><th>count</th></tr><tr><td>str</td><td>u32</td></tr></thead><tbody><tr><td>&quot;a55475b1&quot;</td><td>4663656</td></tr><tr><td>&quot;P94_109_143&quot;</td><td>810325</td></tr><tr><td>&quot;P99_56_166&quot;</td><td>713198</td></tr><tr><td>&quot;P45_84_106&quot;</td><td>155196</td></tr><tr><td>&quot;P198_131_9&quot;</td><td>153879</td></tr><tr><td>&quot;P30_86_84&quot;</td><td>7849</td></tr><tr><td>&quot;P48_22_32&quot;</td><td>7239</td></tr><tr><td>&quot;P52_67_90&quot;</td><td>4267</td></tr><tr><td>&quot;P196_88_176&quot;</td><td>3459</td></tr><tr><td>&quot;P121_60_164&quot;</td><td>3014</td></tr><tr><td>&quot;P69_72_116&quot;</td><td>1340</td></tr><tr><td>&quot;P129_162_80&quot;</td><td>1079</td></tr><tr><td>&quot;P84_14_61&quot;</td><td>768</td></tr><tr><td>&quot;P19_25_34&quot;</td><td>205</td></tr><tr><td>&quot;P5_143_178&quot;</td><td>174</td></tr><tr><td>&quot;P64_121_167&quot;</td><td>166</td></tr><tr><td>&quot;P53_10_15&quot;</td><td>150</td></tr><tr><td>&quot;P185_59_178&quot;</td><td>15</td></tr></tbody></table></div>"
     },
     "execution_count": 71,
     "metadata": {},
     "output_type": "execute_result"
    }
   ],
   "source": [
    "applprev_data.select(\"rejectreason_755M\").collect().to_series().value_counts().sort(\"count\", descending=True)"
   ],
   "metadata": {
    "collapsed": false,
    "ExecuteTime": {
     "end_time": "2024-02-19T11:54:44.316899816Z",
     "start_time": "2024-02-19T11:54:43.978506793Z"
    }
   },
   "id": "dd5852245e419b55",
   "execution_count": 71
  }
 ],
 "metadata": {
  "kernelspec": {
   "display_name": "Python 3",
   "language": "python",
   "name": "python3"
  },
  "language_info": {
   "codemirror_mode": {
    "name": "ipython",
    "version": 2
   },
   "file_extension": ".py",
   "mimetype": "text/x-python",
   "name": "python",
   "nbconvert_exporter": "python",
   "pygments_lexer": "ipython2",
   "version": "2.7.6"
  }
 },
 "nbformat": 4,
 "nbformat_minor": 5
}
