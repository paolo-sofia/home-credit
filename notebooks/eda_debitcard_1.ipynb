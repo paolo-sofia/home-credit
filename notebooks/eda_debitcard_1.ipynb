{
 "cells": [
  {
   "cell_type": "code",
   "execution_count": 2,
   "id": "initial_id",
   "metadata": {
    "collapsed": true,
    "ExecuteTime": {
     "end_time": "2024-02-19T10:51:54.011335089Z",
     "start_time": "2024-02-19T10:51:53.714962416Z"
    }
   },
   "outputs": [],
   "source": [
    "import pathlib\n",
    "import polars as pl\n",
    "import plotly.express as px"
   ]
  },
  {
   "cell_type": "code",
   "outputs": [],
   "source": [
    "BASE_PATH = pathlib.Path.cwd().parent / \"data\" / \"raw\" / \"parquet_files\" / \"train\"\n",
    "\n",
    "DEBITCARD_PATH = BASE_PATH / \"train_debitcard_1.parquet\""
   ],
   "metadata": {
    "collapsed": false,
    "ExecuteTime": {
     "end_time": "2024-02-19T10:51:54.055353291Z",
     "start_time": "2024-02-19T10:51:54.054950240Z"
    }
   },
   "id": "78ad86eb30a271d3",
   "execution_count": 3
  },
  {
   "cell_type": "code",
   "outputs": [],
   "source": [
    "def get_transforms(data: pl.LazyFrame) -> list[pl.Expr]:\n",
    "    transforms = []\n",
    "    for col, dtype in zip(data.columns, data.dtypes):\n",
    "        if col.endswith(\"D\"):\n",
    "            transforms.append(\n",
    "                pl.when(pl.col(col).is_null()).then(pl.lit(False)).otherwise(pl.lit(True)).cast(pl.Boolean).alias(col)\n",
    "            )\n",
    "        elif dtype == pl.String and not col.endswith(\"D\"):\n",
    "            transforms.append(\n",
    "                pl.col(col).fill_null(\"UNKNOWN\").cast(pl.Categorical)\n",
    "            )\n",
    "        elif dtype in [pl.Float64, pl.Float32]:\n",
    "            transforms.append(\n",
    "                pl.col(col).fill_null(pl.col(col).median()).cast(pl.Float32)\n",
    "            )\n",
    "        elif col in {}:\n",
    "            transforms.append(\n",
    "                pl.col(col).fill_null(pl.col(col).median()).shrink_dtype()\n",
    "            )\n",
    "        elif col in {}:\n",
    "            transforms.append(\n",
    "                pl.col(col).fill_null(pl.lit(False)).shrink_dtype()\n",
    "            )\n",
    "    return transforms\n"
   ],
   "metadata": {
    "collapsed": false,
    "ExecuteTime": {
     "end_time": "2024-02-19T10:51:54.055723329Z",
     "start_time": "2024-02-19T10:51:54.055183320Z"
    }
   },
   "id": "92c176651fc64950",
   "execution_count": 4
  },
  {
   "cell_type": "code",
   "outputs": [
    {
     "data": {
      "text/plain": "shape: (5, 6)\n┌─────────┬──────────────────┬──────────────────┬──────────────────┬────────────┬──────────────────┐\n│ case_id ┆ last180dayaverag ┆ last180dayturnov ┆ last30dayturnove ┆ num_group1 ┆ openingdate_857D │\n│ ---     ┆ ebalance_704A    ┆ er_1134A         ┆ r_651A           ┆ ---        ┆ ---              │\n│ i64     ┆ ---              ┆ ---              ┆ ---              ┆ i64        ┆ str              │\n│         ┆ f64              ┆ f64              ┆ f64              ┆            ┆                  │\n╞═════════╪══════════════════╪══════════════════╪══════════════════╪════════════╪══════════════════╡\n│ 225     ┆ null             ┆ null             ┆ null             ┆ 0          ┆ 2016-08-16       │\n│ 331     ┆ null             ┆ null             ┆ null             ┆ 0          ┆ 2015-03-19       │\n│ 358     ┆ null             ┆ null             ┆ null             ┆ 0          ┆ 2014-09-02       │\n│ 390     ┆ null             ┆ null             ┆ null             ┆ 0          ┆ 2014-07-23       │\n│ 390     ┆ null             ┆ null             ┆ null             ┆ 1          ┆ 2015-10-01       │\n└─────────┴──────────────────┴──────────────────┴──────────────────┴────────────┴──────────────────┘",
      "text/html": "<div><style>\n.dataframe > thead > tr,\n.dataframe > tbody > tr {\n  text-align: right;\n  white-space: pre-wrap;\n}\n</style>\n<small>shape: (5, 6)</small><table border=\"1\" class=\"dataframe\"><thead><tr><th>case_id</th><th>last180dayaveragebalance_704A</th><th>last180dayturnover_1134A</th><th>last30dayturnover_651A</th><th>num_group1</th><th>openingdate_857D</th></tr><tr><td>i64</td><td>f64</td><td>f64</td><td>f64</td><td>i64</td><td>str</td></tr></thead><tbody><tr><td>225</td><td>null</td><td>null</td><td>null</td><td>0</td><td>&quot;2016-08-16&quot;</td></tr><tr><td>331</td><td>null</td><td>null</td><td>null</td><td>0</td><td>&quot;2015-03-19&quot;</td></tr><tr><td>358</td><td>null</td><td>null</td><td>null</td><td>0</td><td>&quot;2014-09-02&quot;</td></tr><tr><td>390</td><td>null</td><td>null</td><td>null</td><td>0</td><td>&quot;2014-07-23&quot;</td></tr><tr><td>390</td><td>null</td><td>null</td><td>null</td><td>1</td><td>&quot;2015-10-01&quot;</td></tr></tbody></table></div>"
     },
     "execution_count": 6,
     "metadata": {},
     "output_type": "execute_result"
    }
   ],
   "source": [
    "debitcard_data: pl.LazyFrame = pl.scan_parquet(DEBITCARD_PATH)\n",
    "debitcard_data.sort(\"case_id\", \"num_group1\").head().collect()"
   ],
   "metadata": {
    "collapsed": false,
    "ExecuteTime": {
     "end_time": "2024-02-19T10:52:18.490692749Z",
     "start_time": "2024-02-19T10:52:18.429988943Z"
    }
   },
   "id": "49e58d20bee150ba",
   "execution_count": 6
  },
  {
   "cell_type": "code",
   "outputs": [
    {
     "data": {
      "text/plain": "shape: (111_772, 2)\n┌─────────┬────────────┐\n│ case_id ┆ num_group1 │\n│ ---     ┆ ---        │\n│ i64     ┆ i64        │\n╞═════════╪════════════╡\n│ 1377353 ┆ 65         │\n│ 1494474 ┆ 32         │\n│ 151842  ┆ 31         │\n│ 783268  ┆ 31         │\n│ 246503  ┆ 31         │\n│ …       ┆ …          │\n│ 1438449 ┆ 0          │\n│ 2557620 ┆ 0          │\n│ 227146  ┆ 0          │\n│ 243518  ┆ 0          │\n│ 1851095 ┆ 0          │\n└─────────┴────────────┘",
      "text/html": "<div><style>\n.dataframe > thead > tr,\n.dataframe > tbody > tr {\n  text-align: right;\n  white-space: pre-wrap;\n}\n</style>\n<small>shape: (111_772, 2)</small><table border=\"1\" class=\"dataframe\"><thead><tr><th>case_id</th><th>num_group1</th></tr><tr><td>i64</td><td>i64</td></tr></thead><tbody><tr><td>1377353</td><td>65</td></tr><tr><td>1494474</td><td>32</td></tr><tr><td>151842</td><td>31</td></tr><tr><td>783268</td><td>31</td></tr><tr><td>246503</td><td>31</td></tr><tr><td>1306349</td><td>31</td></tr><tr><td>1590262</td><td>28</td></tr><tr><td>216742</td><td>28</td></tr><tr><td>160829</td><td>28</td></tr><tr><td>1617931</td><td>28</td></tr><tr><td>147424</td><td>27</td></tr><tr><td>1722823</td><td>27</td></tr><tr><td>&hellip;</td><td>&hellip;</td></tr><tr><td>1805352</td><td>0</td></tr><tr><td>2619622</td><td>0</td></tr><tr><td>1623273</td><td>0</td></tr><tr><td>1892911</td><td>0</td></tr><tr><td>2570854</td><td>0</td></tr><tr><td>258199</td><td>0</td></tr><tr><td>1925825</td><td>0</td></tr><tr><td>1438449</td><td>0</td></tr><tr><td>2557620</td><td>0</td></tr><tr><td>227146</td><td>0</td></tr><tr><td>243518</td><td>0</td></tr><tr><td>1851095</td><td>0</td></tr></tbody></table></div>"
     },
     "execution_count": 9,
     "metadata": {},
     "output_type": "execute_result"
    }
   ],
   "source": [
    "debitcard_data.group_by(\"case_id\").agg(\n",
    "    pl.col(\"num_group1\").max()\n",
    ").sort(\"num_group1\", descending=True).collect()"
   ],
   "metadata": {
    "collapsed": false,
    "ExecuteTime": {
     "end_time": "2024-02-19T10:53:17.715738927Z",
     "start_time": "2024-02-19T10:53:17.668576952Z"
    }
   },
   "id": "529f6b8bfdac1a2e",
   "execution_count": 9
  },
  {
   "cell_type": "code",
   "outputs": [
    {
     "data": {
      "text/plain": "shape: (1, 6)\n┌─────────┬──────────────────┬──────────────────┬──────────────────┬────────────┬──────────────────┐\n│ case_id ┆ last180dayaverag ┆ last180dayturnov ┆ last30dayturnove ┆ num_group1 ┆ openingdate_857D │\n│ ---     ┆ ebalance_704A    ┆ er_1134A         ┆ r_651A           ┆ ---        ┆ ---              │\n│ i64     ┆ ---              ┆ ---              ┆ ---              ┆ i64        ┆ str              │\n│         ┆ f64              ┆ f64              ┆ f64              ┆            ┆                  │\n╞═════════╪══════════════════╪══════════════════╪══════════════════╪════════════╪══════════════════╡\n│ 1377353 ┆ 16.052046        ┆ null             ┆ null             ┆ 0          ┆ null             │\n└─────────┴──────────────────┴──────────────────┴──────────────────┴────────────┴──────────────────┘",
      "text/html": "<div><style>\n.dataframe > thead > tr,\n.dataframe > tbody > tr {\n  text-align: right;\n  white-space: pre-wrap;\n}\n</style>\n<small>shape: (1, 6)</small><table border=\"1\" class=\"dataframe\"><thead><tr><th>case_id</th><th>last180dayaveragebalance_704A</th><th>last180dayturnover_1134A</th><th>last30dayturnover_651A</th><th>num_group1</th><th>openingdate_857D</th></tr><tr><td>i64</td><td>f64</td><td>f64</td><td>f64</td><td>i64</td><td>str</td></tr></thead><tbody><tr><td>1377353</td><td>16.052046</td><td>null</td><td>null</td><td>0</td><td>null</td></tr></tbody></table></div>"
     },
     "execution_count": 16,
     "metadata": {},
     "output_type": "execute_result"
    }
   ],
   "source": [
    "debitcard_data.filter((pl.col(\"case_id\") == 1377353) & (pl.col(\"last180dayaveragebalance_704A\").is_not_null())).sort(\"last180dayaveragebalance_704A\", descending=True).collect()"
   ],
   "metadata": {
    "collapsed": false,
    "ExecuteTime": {
     "end_time": "2024-02-19T10:55:46.671717631Z",
     "start_time": "2024-02-19T10:55:46.626175629Z"
    }
   },
   "id": "8f48c3fba5821722",
   "execution_count": 16
  }
 ],
 "metadata": {
  "kernelspec": {
   "display_name": "Python 3",
   "language": "python",
   "name": "python3"
  },
  "language_info": {
   "codemirror_mode": {
    "name": "ipython",
    "version": 2
   },
   "file_extension": ".py",
   "mimetype": "text/x-python",
   "name": "python",
   "nbconvert_exporter": "python",
   "pygments_lexer": "ipython2",
   "version": "2.7.6"
  }
 },
 "nbformat": 4,
 "nbformat_minor": 5
}
