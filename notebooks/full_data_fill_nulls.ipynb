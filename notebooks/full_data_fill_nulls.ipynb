{
 "cells": [
  {
   "cell_type": "code",
   "execution_count": 1,
   "id": "initial_id",
   "metadata": {
    "collapsed": true,
    "ExecuteTime": {
     "end_time": "2024-02-29T13:18:19.164191940Z",
     "start_time": "2024-02-29T13:18:17.894966496Z"
    }
   },
   "outputs": [],
   "source": [
    "import datetime\n",
    "\n",
    "import pandas as pd\n",
    "import polars as pl\n",
    "import pathlib\n",
    "import numpy as np\n",
    "import lightgbm as lgb\n",
    "import holidays\n",
    "from dateutil.relativedelta import relativedelta\n",
    "import mlflow\n",
    "import plotly.graph_objects as go\n",
    "import plotly.express as px\n",
    "from sklearn.metrics import confusion_matrix, ConfusionMatrixDisplay"
   ]
  },
  {
   "cell_type": "code",
   "outputs": [],
   "source": [
    "pl.Config(set_fmt_float=\"full\")\n",
    "pd.options.display.float_format = '{:.3f}'.format\n",
    "\n",
    "mlflow.set_tracking_uri(\"/home/paolo/git/home-credit/data/mlflow_runs\")"
   ],
   "metadata": {
    "collapsed": false,
    "ExecuteTime": {
     "end_time": "2024-02-29T13:18:19.208025735Z",
     "start_time": "2024-02-29T13:18:19.207030122Z"
    }
   },
   "id": "32b8eed6c89c4f5a",
   "execution_count": 2
  },
  {
   "cell_type": "code",
   "outputs": [],
   "source": [
    "SEED = 666\n",
    "INPUT_PATH = pathlib.Path(\"../data/datalake/gold/preprocessed.parquet\")\n",
    "HOLIDAYS = list(holidays.country_holidays(\"US\", years=range(2000, 2024)).keys())"
   ],
   "metadata": {
    "collapsed": false,
    "ExecuteTime": {
     "end_time": "2024-02-29T13:18:19.266356637Z",
     "start_time": "2024-02-29T13:18:19.207264806Z"
    }
   },
   "id": "1823a90c0429f6fb",
   "execution_count": 3
  },
  {
   "cell_type": "code",
   "outputs": [],
   "source": [
    "def split_train_validation(dataframe: pl.LazyFrame, test_months: float = 0.2) -> tuple[pl.LazyFrame, pl.LazyFrame]:\n",
    "    if isinstance(dataframe, pl.LazyFrame):\n",
    "        min_date: datetime.date = dataframe.select(\"date_decision\").min().collect().item(0,0)\n",
    "        max_date: datetime.date = dataframe.select(\"date_decision\").max().collect().item(0,0)\n",
    "    else:\n",
    "        min_date: datetime.date = dataframe.select(\"date_decision\").min().item(0,0)\n",
    "        max_date: datetime.date = dataframe.select(\"date_decision\").max().item(0,0)\n",
    "\n",
    "    total_months: int = (max_date - min_date).days // 30 + 1\n",
    "\n",
    "    test_months: int = round(total_months * test_months)\n",
    "\n",
    "    start_test_date: datetime.date = max_date - relativedelta(months=test_months)\n",
    "    return dataframe.filter(pl.col(\"date_decision\") < start_test_date).drop(\"date_decision\"), dataframe.filter(pl.col(\"date_decision\") >= start_test_date).drop(\"date_decision\")\n",
    "\n",
    "\n",
    "def convert_object_to_categorical(data: pd.DataFrame) -> pd.DataFrame:\n",
    "    for col in data.columns:\n",
    "        if data[col].dtype == \"object\":\n",
    "            data[col] = data[col].astype(\"category\")\n",
    "\n",
    "    return data\n",
    "\n",
    "def get_columns_with_more_x_perc_nulls(dataframe: pl.LazyFrame, threshold: float = 0.5) -> list[str]:\n",
    "    describe = dataframe.describe(percentiles=[]).filter(pl.col(\"statistic\").is_in([\"count\", \"null_count\"]))\n",
    "    return describe.transpose(include_header=True, column_names=[\"count\", \"null_count\"]).slice(1).with_columns(\n",
    "        (pl.col(\"null_count\").cast(pl.Float32) / pl.col(\"count\").cast(pl.Float32)).alias(\"perc_null\")\n",
    "    ).filter(pl.col(\"perc_null\") > threshold).select(\"column\").to_series().to_list()\n",
    "\n",
    "def binarize_columns_with_more_x_perc_nulls(columns: list[str]) -> list[pl.Expr]:\n",
    "    transforms = []\n",
    "    for col in columns:\n",
    "        transforms.append(\n",
    "            pl.when(pl.col(col).is_null()).then(pl.lit(False)).otherwise(pl.lit(True)).alias(col)\n",
    "        )\n",
    "    return transforms\n",
    "\n",
    "\n",
    "def optimize_datatype(dataframe: pl.LazyFrame) -> list[pl.Expr]:\n",
    "    transforms = []\n",
    "    for col, col_dtype in zip(dataframe.columns, dataframe.dtypes):\n",
    "        if col == \"age\":\n",
    "            transforms.append(pl.col(col).cast(pl.Int16).shrink_dtype().alias(col))\n",
    "        elif isinstance(col_dtype, tuple(pl.FLOAT_DTYPES)):\n",
    "            transforms.append(\n",
    "                pl.col(col).cast(pl.Float32).shrink_dtype().alias(col)\n",
    "            )\n",
    "        elif isinstance(col_dtype, tuple(pl.INTEGER_DTYPES)):\n",
    "            transforms.append(\n",
    "                pl.col(col).cast(pl.Int32).shrink_dtype().alias(col)\n",
    "            )\n",
    "        elif isinstance(col_dtype, pl.String):\n",
    "            transforms.append(\n",
    "                pl.col(col).cast(pl.Categorical).alias(col)\n",
    "            )\n",
    "            \n",
    "    return transforms\n",
    "\n",
    "\n",
    "def get_fill_null_transforms(dataframe: pl.LazyFrame) -> list[pl.Expr]:\n",
    "    fill_null_transforms = []\n",
    "\n",
    "    for col, col_dtype in zip(dataframe.columns, dataframe.dtypes):\n",
    "        if isinstance(col_dtype, tuple(pl.NUMERIC_DTYPES)):\n",
    "            fill_null_transforms.append(pl.col(col).fill_null(pl.col(col).median()).shrink_dtype().alias(col))\n",
    "        elif isinstance(col_dtype, (pl.Boolean, pl.Categorical)):\n",
    "            fill_null_transforms.append(pl.col(col).fill_null(pl.col(col).drop_nulls().mode().first()).alias(col))\n",
    "    return fill_null_transforms"
   ],
   "metadata": {
    "collapsed": false,
    "ExecuteTime": {
     "end_time": "2024-02-29T13:18:19.278539315Z",
     "start_time": "2024-02-29T13:18:19.274512386Z"
    }
   },
   "id": "597ae89600b7d0e2",
   "execution_count": 4
  },
  {
   "cell_type": "code",
   "outputs": [],
   "source": [
    "data: pl.LazyFrame = pl.scan_parquet(INPUT_PATH).with_columns(pl.col(\"date_decision\").cast(pl.Date))\n",
    "data = data.drop([col for col in data.columns if \"num_group\" in col])\n",
    "data = data.with_columns(*optimize_datatype(data))\n",
    "\n",
    "data = data.with_columns(\n",
    "    pl.col(\"date_decision\").dt.year().alias(\"year\"),\n",
    "    pl.col(\"date_decision\").dt.month().alias(\"month\"),\n",
    "    pl.col(\"date_decision\").dt.ordinal_day().alias(\"day_of_year\"),\n",
    "    pl.when(pl.col(\"date_decision\").dt.weekday().is_in([6,7])).then(pl.lit(1)).otherwise(pl.lit(0)).alias(\"decision_is_on_weekend\"),\n",
    ").drop([\"WEEK_NUM\", \"MONTH\"])"
   ],
   "metadata": {
    "collapsed": false,
    "ExecuteTime": {
     "end_time": "2024-02-29T13:18:19.758704700Z",
     "start_time": "2024-02-29T13:18:19.278416082Z"
    }
   },
   "id": "a3bf1467f2515fc5",
   "execution_count": 5
  },
  {
   "cell_type": "code",
   "outputs": [],
   "source": [
    "cols_to_drop = []\n",
    "for col in data.columns:\n",
    "    if \"clientscnt\" in col or \"district\" in col or \"age_days\" in col:\n",
    "        cols_to_drop.append(col)\n",
    "\n",
    "data = data.drop(cols_to_drop)\n",
    "data = data.drop([\"case_id\"]) #.unique().collect()"
   ],
   "metadata": {
    "collapsed": false,
    "ExecuteTime": {
     "end_time": "2024-02-29T13:18:19.765796316Z",
     "start_time": "2024-02-29T13:18:19.758735067Z"
    }
   },
   "id": "f2614b2ba544ac8f",
   "execution_count": 6
  },
  {
   "cell_type": "markdown",
   "source": [
    "## Encode categorical to labels"
   ],
   "metadata": {
    "collapsed": false
   },
   "id": "2d9280a51c2d1ddf"
  },
  {
   "cell_type": "code",
   "outputs": [],
   "source": [
    "categories_mapping = {}\n",
    "inverse_categories_mapping = {}\n",
    "for column in data.select(pl.col(pl.Categorical)).columns:\n",
    "    category = data.select(pl.col(column).cat.get_categories()).collect().to_series().to_list()\n",
    "    category = {val: i for i, val in enumerate(category)}\n",
    "    inverse_category = {i: value for value, i in category.items()}\n",
    "    categories_mapping[column] = category\n",
    "    inverse_categories_mapping[column] = inverse_category\n"
   ],
   "metadata": {
    "collapsed": false,
    "ExecuteTime": {
     "end_time": "2024-02-29T13:18:37.781462532Z",
     "start_time": "2024-02-29T13:18:19.766034536Z"
    }
   },
   "id": "955922604500c229",
   "execution_count": 7
  },
  {
   "cell_type": "code",
   "outputs": [],
   "source": [
    "transforms = []\n",
    "\n",
    "for col, map_col in categories_mapping.items():\n",
    "    transforms.append(pl.col(col).replace(map_col, default=None, return_dtype=pl.Int32))\n",
    "\n",
    "data = data.with_columns(*transforms)"
   ],
   "metadata": {
    "collapsed": false,
    "ExecuteTime": {
     "end_time": "2024-02-29T13:18:37.788877250Z",
     "start_time": "2024-02-29T13:18:37.784267439Z"
    }
   },
   "id": "b78ce867ee4bd766",
   "execution_count": 8
  },
  {
   "cell_type": "code",
   "outputs": [],
   "source": [
    "data = data.with_columns(\n",
    "    pl.col(\"date_decision\").dt.epoch()\n",
    ")"
   ],
   "metadata": {
    "collapsed": false,
    "ExecuteTime": {
     "end_time": "2024-02-29T13:18:37.799179380Z",
     "start_time": "2024-02-29T13:18:37.785917651Z"
    }
   },
   "id": "79169dc21a60406f",
   "execution_count": 9
  },
  {
   "cell_type": "markdown",
   "source": [
    "## Impute nulls with KNN"
   ],
   "metadata": {
    "collapsed": false
   },
   "id": "4f04de7fd4980ef"
  },
  {
   "cell_type": "code",
   "outputs": [],
   "source": [
    "from sklearn.preprocessing import StandardScaler\n",
    "\n",
    "\n",
    "scaler = StandardScaler()\n",
    "scaler.set_output(transform=\"polars\")\n",
    "\n",
    "data_scaled = scaler.fit_transform(data.collect())"
   ],
   "metadata": {
    "collapsed": false,
    "ExecuteTime": {
     "end_time": "2024-02-29T13:18:49.598627898Z",
     "start_time": "2024-02-29T13:18:37.800013087Z"
    }
   },
   "id": "cbb7d9f758d8cc61",
   "execution_count": 10
  },
  {
   "cell_type": "code",
   "outputs": [
    {
     "name": "stdout",
     "output_type": "stream",
     "text": [
      "start data imputing\n",
      "[IterativeImputer] Completing matrix with shape (1526659, 264)\n",
      "[IterativeImputer] Change: 150069541253369.72, scaled tolerance: 6.14723753096631 \n",
      "[IterativeImputer] Change: 1.0372303396224494e+66, scaled tolerance: 6.14723753096631 \n",
      "[IterativeImputer] Change: 6.782937232482271e+77, scaled tolerance: 6.14723753096631 \n",
      "[IterativeImputer] Change: 1.2628329036716468e+98, scaled tolerance: 6.14723753096631 \n",
      "[IterativeImputer] Change: 2.0217184895750865e+143, scaled tolerance: 6.14723753096631 \n"
     ]
    },
    {
     "name": "stderr",
     "output_type": "stream",
     "text": [
      "/home/paolo/git/home-credit/.venv/lib/python3.11/site-packages/sklearn/impute/_iterative.py:801: ConvergenceWarning: [IterativeImputer] Early stopping criterion not reached.\n",
      "  warnings.warn(\n"
     ]
    },
    {
     "name": "stdout",
     "output_type": "stream",
     "text": [
      "CPU times: user 16min 28s, sys: 33min 38s, total: 50min 7s\n",
      "Wall time: 5min 11s\n"
     ]
    }
   ],
   "source": [
    "%%time\n",
    "\n",
    "from sklearn.experimental import enable_iterative_imputer\n",
    "from sklearn.impute import IterativeImputer\n",
    "import numpy as np\n",
    "\n",
    "\n",
    "imputer = IterativeImputer(\n",
    "    missing_values=np.nan,\n",
    "    max_iter=5,\n",
    "    n_nearest_features=5,\n",
    "    skip_complete=True,\n",
    "    tol=1e-2,\n",
    "    verbose=1,\n",
    "    random_state=666,\n",
    "    add_indicator=True,\n",
    "    keep_empty_features=False\n",
    ")\n",
    "imputer.set_output(transform=\"polars\")\n",
    "print(\"start data imputing\")\n",
    "data_imputed: pl.DataFrame = imputer.fit_transform(data_scaled)"
   ],
   "metadata": {
    "collapsed": false,
    "ExecuteTime": {
     "end_time": "2024-02-29T13:24:00.674345602Z",
     "start_time": "2024-02-29T13:18:49.639027407Z"
    }
   },
   "id": "31fd01ec8040ff11",
   "execution_count": 11
  },
  {
   "cell_type": "code",
   "outputs": [],
   "source": [
    "data_imputed.select()"
   ],
   "metadata": {
    "collapsed": false
   },
   "id": "5eb737fb04775c14"
  }
 ],
 "metadata": {
  "kernelspec": {
   "display_name": "Python 3",
   "language": "python",
   "name": "python3"
  },
  "language_info": {
   "codemirror_mode": {
    "name": "ipython",
    "version": 2
   },
   "file_extension": ".py",
   "mimetype": "text/x-python",
   "name": "python",
   "nbconvert_exporter": "python",
   "pygments_lexer": "ipython2",
   "version": "2.7.6"
  }
 },
 "nbformat": 4,
 "nbformat_minor": 5
}
