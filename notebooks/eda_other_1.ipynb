{
 "cells": [
  {
   "cell_type": "code",
   "execution_count": 9,
   "id": "initial_id",
   "metadata": {
    "collapsed": true,
    "ExecuteTime": {
     "end_time": "2024-02-19T11:23:47.739168785Z",
     "start_time": "2024-02-19T11:23:47.736609565Z"
    }
   },
   "outputs": [],
   "source": [
    "import pathlib\n",
    "import polars as pl\n",
    "import plotly.express as px"
   ]
  },
  {
   "cell_type": "code",
   "outputs": [],
   "source": [
    "BASE_PATH = pathlib.Path.cwd().parent / \"data\" / \"raw\" / \"parquet_files\" / \"train\"\n",
    "\n",
    "OTHER_PATH = BASE_PATH / \"train_other_1.parquet\""
   ],
   "metadata": {
    "collapsed": false,
    "ExecuteTime": {
     "end_time": "2024-02-19T11:23:47.775551545Z",
     "start_time": "2024-02-19T11:23:47.771239647Z"
    }
   },
   "id": "78ad86eb30a271d3",
   "execution_count": 10
  },
  {
   "cell_type": "code",
   "outputs": [],
   "source": [
    "def get_transforms(data: pl.LazyFrame) -> list[pl.Expr]:\n",
    "    transforms = []\n",
    "    for col, dtype in zip(data.columns, data.dtypes):\n",
    "        if col.endswith(\"D\"):\n",
    "            transforms.append(\n",
    "                pl.when(pl.col(col).is_null()).then(pl.lit(False)).otherwise(pl.lit(True)).cast(pl.Boolean).alias(col)\n",
    "            )\n",
    "        elif dtype == pl.String and not col.endswith(\"D\"):\n",
    "            transforms.append(\n",
    "                pl.col(col).fill_null(\"UNKNOWN\").cast(pl.Categorical)\n",
    "            )\n",
    "        elif dtype in [pl.Float64, pl.Float32]:\n",
    "            transforms.append(\n",
    "                pl.col(col).fill_null(pl.col(col).median()).cast(pl.Float32)\n",
    "            )\n",
    "        elif col in {}:\n",
    "            transforms.append(\n",
    "                pl.col(col).fill_null(pl.col(col).median()).shrink_dtype()\n",
    "            )\n",
    "        elif col in {}:\n",
    "            transforms.append(\n",
    "                pl.col(col).fill_null(pl.lit(False)).shrink_dtype()\n",
    "            )\n",
    "    return transforms\n"
   ],
   "metadata": {
    "collapsed": false,
    "ExecuteTime": {
     "end_time": "2024-02-19T11:23:47.775923107Z",
     "start_time": "2024-02-19T11:23:47.771440015Z"
    }
   },
   "id": "92c176651fc64950",
   "execution_count": 11
  },
  {
   "cell_type": "code",
   "outputs": [
    {
     "data": {
      "text/plain": "shape: (5, 7)\n┌─────────┬───────────────┬──────────────┬──────────────┬──────────────┬──────────────┬────────────┐\n│ case_id ┆ amtdebitincom ┆ amtdebitoutg ┆ amtdepositba ┆ amtdepositin ┆ amtdepositou ┆ num_group1 │\n│ ---     ┆ ing_4809443A  ┆ oing_4809440 ┆ lance_480944 ┆ coming_48094 ┆ tgoing_48094 ┆ ---        │\n│ i64     ┆ ---           ┆ A            ┆ 1A           ┆ 44A          ┆ 42A          ┆ i64        │\n│         ┆ f64           ┆ ---          ┆ ---          ┆ ---          ┆ ---          ┆            │\n│         ┆               ┆ f64          ┆ f64          ┆ f64          ┆ f64          ┆            │\n╞═════════╪═══════════════╪══════════════╪══════════════╪══════════════╪══════════════╪════════════╡\n│ 43801   ┆ 12466.601     ┆ 12291.2      ┆ 914.2        ┆ 0.0          ┆ 304.80002    ┆ 0          │\n│ 43991   ┆ 3333.4001     ┆ 3273.4001    ┆ 0.0          ┆ 0.0          ┆ 0.0          ┆ 0          │\n│ 44001   ┆ 10000.0       ┆ 10000.0      ┆ 0.0          ┆ 0.0          ┆ 0.0          ┆ 0          │\n│ 44053   ┆ 0.0           ┆ 0.0          ┆ 2586.4001    ┆ 0.0          ┆ 88.8         ┆ 0          │\n│ 44130   ┆ 63.8          ┆ 60.8         ┆ 0.0          ┆ 0.0          ┆ 0.0          ┆ 0          │\n└─────────┴───────────────┴──────────────┴──────────────┴──────────────┴──────────────┴────────────┘",
      "text/html": "<div><style>\n.dataframe > thead > tr,\n.dataframe > tbody > tr {\n  text-align: right;\n  white-space: pre-wrap;\n}\n</style>\n<small>shape: (5, 7)</small><table border=\"1\" class=\"dataframe\"><thead><tr><th>case_id</th><th>amtdebitincoming_4809443A</th><th>amtdebitoutgoing_4809440A</th><th>amtdepositbalance_4809441A</th><th>amtdepositincoming_4809444A</th><th>amtdepositoutgoing_4809442A</th><th>num_group1</th></tr><tr><td>i64</td><td>f64</td><td>f64</td><td>f64</td><td>f64</td><td>f64</td><td>i64</td></tr></thead><tbody><tr><td>43801</td><td>12466.601</td><td>12291.2</td><td>914.2</td><td>0.0</td><td>304.80002</td><td>0</td></tr><tr><td>43991</td><td>3333.4001</td><td>3273.4001</td><td>0.0</td><td>0.0</td><td>0.0</td><td>0</td></tr><tr><td>44001</td><td>10000.0</td><td>10000.0</td><td>0.0</td><td>0.0</td><td>0.0</td><td>0</td></tr><tr><td>44053</td><td>0.0</td><td>0.0</td><td>2586.4001</td><td>0.0</td><td>88.8</td><td>0</td></tr><tr><td>44130</td><td>63.8</td><td>60.8</td><td>0.0</td><td>0.0</td><td>0.0</td><td>0</td></tr></tbody></table></div>"
     },
     "execution_count": 12,
     "metadata": {},
     "output_type": "execute_result"
    }
   ],
   "source": [
    "other_data: pl.LazyFrame = pl.scan_parquet(OTHER_PATH)\n",
    "other_data.sort(\"case_id\", \"num_group1\").head().collect()"
   ],
   "metadata": {
    "collapsed": false,
    "ExecuteTime": {
     "end_time": "2024-02-19T11:23:47.776863462Z",
     "start_time": "2024-02-19T11:23:47.771537469Z"
    }
   },
   "id": "49e58d20bee150ba",
   "execution_count": 12
  },
  {
   "cell_type": "code",
   "outputs": [
    {
     "data": {
      "text/plain": "shape: (9, 8)\n┌────────────┬────────────┬────────────┬───────────┬───────────┬───────────┬───────────┬───────────┐\n│ statistic  ┆ case_id    ┆ amtdebitin ┆ amtdebito ┆ amtdeposi ┆ amtdeposi ┆ amtdeposi ┆ num_group │\n│ ---        ┆ ---        ┆ coming_480 ┆ utgoing_4 ┆ tbalance_ ┆ tincoming ┆ toutgoing ┆ 1         │\n│ str        ┆ f64        ┆ 9443A      ┆ 809440A   ┆ 4809441A  ┆ _4809444A ┆ _4809442A ┆ ---       │\n│            ┆            ┆ ---        ┆ ---       ┆ ---       ┆ ---       ┆ ---       ┆ f64       │\n│            ┆            ┆ f64        ┆ f64       ┆ f64       ┆ f64       ┆ f64       ┆           │\n╞════════════╪════════════╪════════════╪═══════════╪═══════════╪═══════════╪═══════════╪═══════════╡\n│ count      ┆ 51109.0    ┆ 51109.0    ┆ 51109.0   ┆ 51109.0   ┆ 51109.0   ┆ 51109.0   ┆ 51109.0   │\n│ null_count ┆ 0.0        ┆ 0.0        ┆ 0.0       ┆ 0.0       ┆ 0.0       ┆ 0.0       ┆ 0.0       │\n│ mean       ┆ 1.4195e6   ┆ 7552.90168 ┆ 7462.3842 ┆ 9967.4129 ┆ 2949.3959 ┆ 3586.8751 ┆ 0.0       │\n│            ┆            ┆ 6          ┆ 78        ┆ 99        ┆           ┆ 18        ┆           │\n│ std        ┆ 924509.490 ┆ 34625.7058 ┆ 35065.286 ┆ 89393.421 ┆ 41467.726 ┆ 48274.936 ┆ 0.0       │\n│            ┆ 925        ┆ 32         ┆ 854       ┆ 442       ┆ 075       ┆ 439       ┆           │\n│ min        ┆ 43801.0    ┆ 0.0        ┆ 0.0       ┆ -335718.0 ┆ 0.0       ┆ 0.0       ┆ 0.0       │\n│ 25%        ┆ 242241.0   ┆ 0.0        ┆ 0.0       ┆ 0.0       ┆ 0.0       ┆ 0.0       ┆ 0.0       │\n│ 50%        ┆ 1.811468e6 ┆ 0.0        ┆ 0.0       ┆ 0.0       ┆ 0.0       ┆ 1.8000001 ┆ 0.0       │\n│ 75%        ┆ 1.916206e6 ┆ 8000.0     ┆ 7740.0    ┆ 288.0     ┆ 0.0       ┆ 5.4       ┆ 0.0       │\n│ max        ┆ 2.703453e6 ┆ 4.957852e6 ┆ 5168004.5 ┆ 4256314.5 ┆ 4180150.5 ┆ 4622917.5 ┆ 0.0       │\n└────────────┴────────────┴────────────┴───────────┴───────────┴───────────┴───────────┴───────────┘",
      "text/html": "<div><style>\n.dataframe > thead > tr,\n.dataframe > tbody > tr {\n  text-align: right;\n  white-space: pre-wrap;\n}\n</style>\n<small>shape: (9, 8)</small><table border=\"1\" class=\"dataframe\"><thead><tr><th>statistic</th><th>case_id</th><th>amtdebitincoming_4809443A</th><th>amtdebitoutgoing_4809440A</th><th>amtdepositbalance_4809441A</th><th>amtdepositincoming_4809444A</th><th>amtdepositoutgoing_4809442A</th><th>num_group1</th></tr><tr><td>str</td><td>f64</td><td>f64</td><td>f64</td><td>f64</td><td>f64</td><td>f64</td><td>f64</td></tr></thead><tbody><tr><td>&quot;count&quot;</td><td>51109.0</td><td>51109.0</td><td>51109.0</td><td>51109.0</td><td>51109.0</td><td>51109.0</td><td>51109.0</td></tr><tr><td>&quot;null_count&quot;</td><td>0.0</td><td>0.0</td><td>0.0</td><td>0.0</td><td>0.0</td><td>0.0</td><td>0.0</td></tr><tr><td>&quot;mean&quot;</td><td>1.4195e6</td><td>7552.901686</td><td>7462.384278</td><td>9967.412999</td><td>2949.3959</td><td>3586.875118</td><td>0.0</td></tr><tr><td>&quot;std&quot;</td><td>924509.490925</td><td>34625.705832</td><td>35065.286854</td><td>89393.421442</td><td>41467.726075</td><td>48274.936439</td><td>0.0</td></tr><tr><td>&quot;min&quot;</td><td>43801.0</td><td>0.0</td><td>0.0</td><td>-335718.0</td><td>0.0</td><td>0.0</td><td>0.0</td></tr><tr><td>&quot;25%&quot;</td><td>242241.0</td><td>0.0</td><td>0.0</td><td>0.0</td><td>0.0</td><td>0.0</td><td>0.0</td></tr><tr><td>&quot;50%&quot;</td><td>1.811468e6</td><td>0.0</td><td>0.0</td><td>0.0</td><td>0.0</td><td>1.8000001</td><td>0.0</td></tr><tr><td>&quot;75%&quot;</td><td>1.916206e6</td><td>8000.0</td><td>7740.0</td><td>288.0</td><td>0.0</td><td>5.4</td><td>0.0</td></tr><tr><td>&quot;max&quot;</td><td>2.703453e6</td><td>4.957852e6</td><td>5168004.5</td><td>4256314.5</td><td>4180150.5</td><td>4622917.5</td><td>0.0</td></tr></tbody></table></div>"
     },
     "execution_count": 13,
     "metadata": {},
     "output_type": "execute_result"
    }
   ],
   "source": [
    "other_data.describe()"
   ],
   "metadata": {
    "collapsed": false,
    "ExecuteTime": {
     "end_time": "2024-02-19T11:23:47.805909705Z",
     "start_time": "2024-02-19T11:23:47.771636466Z"
    }
   },
   "id": "fd2347e930db38af",
   "execution_count": 13
  },
  {
   "cell_type": "code",
   "outputs": [],
   "source": [],
   "metadata": {
    "collapsed": false
   },
   "id": "498fd288f0a3a383"
  }
 ],
 "metadata": {
  "kernelspec": {
   "display_name": "Python 3",
   "language": "python",
   "name": "python3"
  },
  "language_info": {
   "codemirror_mode": {
    "name": "ipython",
    "version": 2
   },
   "file_extension": ".py",
   "mimetype": "text/x-python",
   "name": "python",
   "nbconvert_exporter": "python",
   "pygments_lexer": "ipython2",
   "version": "2.7.6"
  }
 },
 "nbformat": 4,
 "nbformat_minor": 5
}
