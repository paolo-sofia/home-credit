{
 "cells": [
  {
   "cell_type": "code",
   "execution_count": 40,
   "id": "initial_id",
   "metadata": {
    "collapsed": true,
    "ExecuteTime": {
     "end_time": "2024-03-04T12:40:29.566233398Z",
     "start_time": "2024-03-04T12:40:29.525339627Z"
    }
   },
   "outputs": [
    {
     "data": {
      "text/plain": "polars.config.Config"
     },
     "execution_count": 40,
     "metadata": {},
     "output_type": "execute_result"
    }
   ],
   "source": [
    "import pathlib\n",
    "import polars as pl\n",
    "from columns_fill_nulls import fill_nulls\n",
    "import pandas as pd\n",
    "\n",
    "pl.Config.set_fmt_float(\"full\")"
   ]
  },
  {
   "cell_type": "code",
   "outputs": [],
   "source": [
    "BASE_PATH = pathlib.Path.cwd().parent / \"data\" / \"datalake\" / \"bronze\" / \"train\"\n",
    "\n",
    "BASE_TRAIN_PATH = BASE_PATH / \"train_base.parquet\"\n",
    "\n",
    "APPLPREV0_PATH = BASE_PATH / \"train_applprev_1_0.parquet\"\n",
    "APPLPREV1_PATH = BASE_PATH / \"train_applprev_1_1.parquet\"\n",
    "\n",
    "DEBITCARD_PATH = BASE_PATH / \"train_debitcard_1.parquet\"\n",
    "DEPOSIT_PATH = BASE_PATH / \"train_deposit_1.parquet\"\n",
    "OTHER_PATH = BASE_PATH / \"train_other_1.parquet\"\n",
    "PERSON_PATH = BASE_PATH / \"train_person_1.parquet\""
   ],
   "metadata": {
    "collapsed": false,
    "ExecuteTime": {
     "end_time": "2024-03-04T12:40:29.587573174Z",
     "start_time": "2024-03-04T12:40:29.569439Z"
    }
   },
   "id": "efacae122efa4678",
   "execution_count": 41
  },
  {
   "cell_type": "markdown",
   "source": [
    "## Functions"
   ],
   "metadata": {
    "collapsed": false
   },
   "id": "bd44fb88f0c656f8"
  },
  {
   "cell_type": "code",
   "outputs": [],
   "source": [
    "def get_date_categorized_transforms(dataframe: pl.LazyFrame) -> list[pl.Expr]:\n",
    "    date_transforms = []\n",
    "    \n",
    "    for col in dataframe.columns:\n",
    "        if not col.endswith(\"D\"):\n",
    "            continue\n",
    "\n",
    "        transform = (\n",
    "            pl.when(pl.col(col) > 365 * 5).then(pl.lit(\"MORE_THAN_5_YEARS\")).otherwise(\n",
    "                pl.when((pl.col(col) <= 365 * 5) & (pl.col(col) > 365)).then(pl.lit(\"BETWEEN_1_AND_5_YEARS\")).otherwise(\n",
    "                    pl.when((pl.col(col) <= 365) & (pl.col(col) > 180)).then(pl.lit(\"BETWEEN_6_MONTHS_AND_1_YEAR\")).otherwise(\n",
    "                        pl.when((pl.col(col) <= 180) & (pl.col(col).is_not_null())).then(pl.lit(\"LESS_THAN_6_MONTH\")).otherwise(pl.lit(\"UNKNOWN\"))\n",
    "                    )\n",
    "                )\n",
    "            ).alias(col))\n",
    "        date_transforms.append(transform)\n",
    "        \n",
    "    return date_transforms\n",
    "\n",
    "\n",
    "def get_date_transforms(dataframe: pl.LazyFrame) -> list[pl.Expr]:\n",
    "    date_transforms = []\n",
    "    for col in dataframe.columns:\n",
    "        if col == \"date_decision\":\n",
    "            date_transforms.append(pl.col(col).cast(pl.Date))\n",
    "            date_transforms.extend([\n",
    "                ((pl.col(\"date_decision\").cast(pl.Date) - pl.col(\"birth_259D\").cast(pl.Date)).dt.total_days() // 365).alias(\"age\"),\n",
    "                ((pl.col(\"date_decision\").cast(pl.Date) - pl.col(\"birth_259D\").cast(pl.Date)).dt.total_days() % 365).alias(\"age_days\"),\n",
    "            ])\n",
    "        \n",
    "        if not col.endswith(\"D\"):\n",
    "            continue\n",
    "        \n",
    "        date_transforms.append(\n",
    "            (pl.col(\"date_decision\").cast(pl.Date) - pl.col(col).cast(pl.Date)).dt.total_days().alias(col)\n",
    "        )\n",
    "        \n",
    "    return date_transforms\n",
    "\n",
    "\n",
    "def get_group_by_transforms(dataframe: pl.LazyFrame, group_by_col: list[str]) -> list[pl.Expr]:\n",
    "    transforms = []\n",
    "    for col, col_dtype in zip(dataframe.columns, dataframe.dtypes):\n",
    "        if col in group_by_col:\n",
    "            continue\n",
    "        \n",
    "        if isinstance(col_dtype, tuple(pl.NUMERIC_DTYPES)):\n",
    "            transforms.append(pl.col(col).mean().shrink_dtype())\n",
    "            \n",
    "        elif isinstance(col_dtype, pl.String):\n",
    "            transforms.append(pl.col(col).mode().drop_nulls().first())\n",
    "\n",
    "        elif isinstance(col_dtype, pl.Date):\n",
    "            transforms.append(pl.col(col).first())\n",
    "        \n",
    "    return transforms\n",
    "\n",
    "\n",
    "def get_columns_with_more_85_perc_nulls(dataframe: pl.LazyFrame, threshold: float = 0.85) -> list[str]:\n",
    "    dataframe = dataframe.collect()\n",
    "    length_dataframe: int = dataframe.shape[0]\n",
    "\n",
    "    describe = dataframe.describe(percentiles=[]).filter(pl.col(\"statistic\") == \"null_count\")\n",
    "    describe = describe.transpose(include_header=True, header_name=\"column\", column_names=[\"null_count\"]).slice(1).with_columns(pl.col(\"null_count\").cast(pl.Float32) / length_dataframe)\n",
    "    \n",
    "    return describe.filter(pl.col(\"null_count\") > threshold).select(\"column\").to_series().to_list()\n",
    "    \n",
    "    \n",
    "def binarize_columns_with_more_85_perc_nulls(columns: list[str]) -> list[pl.Expr]:\n",
    "    transforms = []\n",
    "    for col in columns:\n",
    "        transforms.append(\n",
    "            pl.when(pl.col(col).is_null()).then(pl.lit(False)).otherwise(pl.lit(True)).alias(col)\n",
    "        )\n",
    "    return transforms\n"
   ],
   "metadata": {
    "collapsed": false,
    "ExecuteTime": {
     "end_time": "2024-03-04T12:40:29.641553498Z",
     "start_time": "2024-03-04T12:40:29.587798369Z"
    }
   },
   "id": "85056546ae300c14",
   "execution_count": 42
  },
  {
   "cell_type": "markdown",
   "source": [
    "## Load data"
   ],
   "metadata": {
    "collapsed": false
   },
   "id": "d5457edf2bf3efb4"
  },
  {
   "cell_type": "code",
   "outputs": [],
   "source": [
    "JOIN_COLS = [\"case_id\", \"num_group1\"]"
   ],
   "metadata": {
    "collapsed": false,
    "ExecuteTime": {
     "end_time": "2024-03-04T12:40:29.706345634Z",
     "start_time": "2024-03-04T12:40:29.587880664Z"
    }
   },
   "id": "cc67147f538c1245",
   "execution_count": 43
  },
  {
   "cell_type": "code",
   "outputs": [
    {
     "data": {
      "text/plain": "shape: (5, 53)\n┌─────────┬────────────┬───────────┬───────────┬───┬───────────┬───────────┬───────────┬───────────┐\n│ case_id ┆ date_decis ┆ num_group ┆ birth_259 ┆ … ┆ rejectrea ┆ revolving ┆ status_21 ┆ tenor_203 │\n│ ---     ┆ ion        ┆ 1         ┆ D         ┆   ┆ sonclient ┆ account_3 ┆ 9L        ┆ L         │\n│ i64     ┆ ---        ┆ ---       ┆ ---       ┆   ┆ _4145042M ┆ 94A       ┆ ---       ┆ ---       │\n│         ┆ str        ┆ i64       ┆ str       ┆   ┆ ---       ┆ ---       ┆ str       ┆ f64       │\n│         ┆            ┆           ┆           ┆   ┆ str       ┆ f64       ┆           ┆           │\n╞═════════╪════════════╪═══════════╪═══════════╪═══╪═══════════╪═══════════╪═══════════╪═══════════╡\n│ 0       ┆ 2019-01-03 ┆ 0         ┆ 1986-07-0 ┆ … ┆ null      ┆ null      ┆ null      ┆ null      │\n│         ┆            ┆           ┆ 1         ┆   ┆           ┆           ┆           ┆           │\n│ 0       ┆ 2019-01-03 ┆ 1         ┆ null      ┆ … ┆ null      ┆ null      ┆ null      ┆ null      │\n│ 0       ┆ 2019-01-03 ┆ 2         ┆ null      ┆ … ┆ null      ┆ null      ┆ null      ┆ null      │\n│ 0       ┆ 2019-01-03 ┆ 3         ┆ null      ┆ … ┆ null      ┆ null      ┆ null      ┆ null      │\n│ 1       ┆ 2019-01-03 ┆ 0         ┆ 1957-08-0 ┆ … ┆ null      ┆ null      ┆ null      ┆ null      │\n│         ┆            ┆           ┆ 1         ┆   ┆           ┆           ┆           ┆           │\n└─────────┴────────────┴───────────┴───────────┴───┴───────────┴───────────┴───────────┴───────────┘",
      "text/html": "<div><style>\n.dataframe > thead > tr,\n.dataframe > tbody > tr {\n  text-align: right;\n  white-space: pre-wrap;\n}\n</style>\n<small>shape: (5, 53)</small><table border=\"1\" class=\"dataframe\"><thead><tr><th>case_id</th><th>date_decision</th><th>num_group1</th><th>birth_259D</th><th>incometype_1044T</th><th>role_1084L</th><th>empl_employedfrom_271D</th><th>empl_industry_691L</th><th>mainoccupationinc_384A</th><th>amount_416A</th><th>contractenddate_991D</th><th>openingdate_313D</th><th>amtdebitincoming_4809443A</th><th>amtdebitoutgoing_4809440A</th><th>amtdepositbalance_4809441A</th><th>amtdepositincoming_4809444A</th><th>amtdepositoutgoing_4809442A</th><th>actualdpd_943P</th><th>annuity_853A</th><th>approvaldate_319D</th><th>byoccupationinc_3656910L</th><th>cancelreason_3545846M</th><th>creationdate_885D</th><th>credacc_actualbalance_314A</th><th>credacc_credlmt_575A</th><th>credacc_maxhisbal_375A</th><th>credacc_minhisbal_90A</th><th>credacc_status_367L</th><th>credacc_transactions_402L</th><th>credamount_590A</th><th>credtype_587L</th><th>currdebt_94A</th><th>dateactivated_425D</th><th>district_544M</th><th>downpmt_134A</th><th>dtlastpmt_581D</th><th>dtlastpmtallstes_3545839D</th><th>employedfrom_700D</th><th>firstnonzeroinstldate_307D</th><th>inittransactioncode_279L</th><th>isbidproduct_390L</th><th>isdebitcard_527L</th><th>mainoccupationinc_437A</th><th>maxdpdtolerance_577P</th><th>outstandingdebt_522A</th><th>pmtnum_8L</th><th>postype_4733339M</th><th>profession_152M</th><th>rejectreason_755M</th><th>rejectreasonclient_4145042M</th><th>revolvingaccount_394A</th><th>status_219L</th><th>tenor_203L</th></tr><tr><td>i64</td><td>str</td><td>i64</td><td>str</td><td>str</td><td>str</td><td>str</td><td>str</td><td>f64</td><td>f64</td><td>str</td><td>str</td><td>f64</td><td>f64</td><td>f64</td><td>f64</td><td>f64</td><td>f64</td><td>f64</td><td>str</td><td>f64</td><td>str</td><td>str</td><td>f64</td><td>f64</td><td>f64</td><td>f64</td><td>str</td><td>f64</td><td>f64</td><td>str</td><td>f64</td><td>str</td><td>str</td><td>f64</td><td>str</td><td>str</td><td>str</td><td>str</td><td>str</td><td>bool</td><td>bool</td><td>f64</td><td>f64</td><td>f64</td><td>f64</td><td>str</td><td>str</td><td>str</td><td>str</td><td>f64</td><td>str</td><td>f64</td></tr></thead><tbody><tr><td>0</td><td>&quot;2019-01-03&quot;</td><td>0</td><td>&quot;1986-07-01&quot;</td><td>&quot;SALARIED_GOVT&quot;</td><td>&quot;CL&quot;</td><td>&quot;2017-09-15&quot;</td><td>&quot;OTHER&quot;</td><td>10800</td><td>null</td><td>null</td><td>null</td><td>null</td><td>null</td><td>null</td><td>null</td><td>null</td><td>null</td><td>null</td><td>null</td><td>null</td><td>null</td><td>null</td><td>null</td><td>null</td><td>null</td><td>null</td><td>null</td><td>null</td><td>null</td><td>null</td><td>null</td><td>null</td><td>null</td><td>null</td><td>null</td><td>null</td><td>null</td><td>null</td><td>null</td><td>null</td><td>null</td><td>null</td><td>null</td><td>null</td><td>null</td><td>null</td><td>null</td><td>null</td><td>null</td><td>null</td><td>null</td><td>null</td></tr><tr><td>0</td><td>&quot;2019-01-03&quot;</td><td>1</td><td>null</td><td>null</td><td>&quot;EM&quot;</td><td>null</td><td>null</td><td>null</td><td>null</td><td>null</td><td>null</td><td>null</td><td>null</td><td>null</td><td>null</td><td>null</td><td>null</td><td>null</td><td>null</td><td>null</td><td>null</td><td>null</td><td>null</td><td>null</td><td>null</td><td>null</td><td>null</td><td>null</td><td>null</td><td>null</td><td>null</td><td>null</td><td>null</td><td>null</td><td>null</td><td>null</td><td>null</td><td>null</td><td>null</td><td>null</td><td>null</td><td>null</td><td>null</td><td>null</td><td>null</td><td>null</td><td>null</td><td>null</td><td>null</td><td>null</td><td>null</td><td>null</td></tr><tr><td>0</td><td>&quot;2019-01-03&quot;</td><td>2</td><td>null</td><td>null</td><td>&quot;PE&quot;</td><td>null</td><td>null</td><td>null</td><td>null</td><td>null</td><td>null</td><td>null</td><td>null</td><td>null</td><td>null</td><td>null</td><td>null</td><td>null</td><td>null</td><td>null</td><td>null</td><td>null</td><td>null</td><td>null</td><td>null</td><td>null</td><td>null</td><td>null</td><td>null</td><td>null</td><td>null</td><td>null</td><td>null</td><td>null</td><td>null</td><td>null</td><td>null</td><td>null</td><td>null</td><td>null</td><td>null</td><td>null</td><td>null</td><td>null</td><td>null</td><td>null</td><td>null</td><td>null</td><td>null</td><td>null</td><td>null</td><td>null</td></tr><tr><td>0</td><td>&quot;2019-01-03&quot;</td><td>3</td><td>null</td><td>null</td><td>&quot;PE&quot;</td><td>null</td><td>null</td><td>null</td><td>null</td><td>null</td><td>null</td><td>null</td><td>null</td><td>null</td><td>null</td><td>null</td><td>null</td><td>null</td><td>null</td><td>null</td><td>null</td><td>null</td><td>null</td><td>null</td><td>null</td><td>null</td><td>null</td><td>null</td><td>null</td><td>null</td><td>null</td><td>null</td><td>null</td><td>null</td><td>null</td><td>null</td><td>null</td><td>null</td><td>null</td><td>null</td><td>null</td><td>null</td><td>null</td><td>null</td><td>null</td><td>null</td><td>null</td><td>null</td><td>null</td><td>null</td><td>null</td><td>null</td></tr><tr><td>1</td><td>&quot;2019-01-03&quot;</td><td>0</td><td>&quot;1957-08-01&quot;</td><td>&quot;SALARIED_GOVT&quot;</td><td>&quot;CL&quot;</td><td>&quot;2008-10-29&quot;</td><td>&quot;OTHER&quot;</td><td>10000</td><td>null</td><td>null</td><td>null</td><td>null</td><td>null</td><td>null</td><td>null</td><td>null</td><td>null</td><td>null</td><td>null</td><td>null</td><td>null</td><td>null</td><td>null</td><td>null</td><td>null</td><td>null</td><td>null</td><td>null</td><td>null</td><td>null</td><td>null</td><td>null</td><td>null</td><td>null</td><td>null</td><td>null</td><td>null</td><td>null</td><td>null</td><td>null</td><td>null</td><td>null</td><td>null</td><td>null</td><td>null</td><td>null</td><td>null</td><td>null</td><td>null</td><td>null</td><td>null</td><td>null</td></tr></tbody></table></div>"
     },
     "execution_count": 44,
     "metadata": {},
     "output_type": "execute_result"
    }
   ],
   "source": [
    "base_train: pl.LazyFrame = pl.scan_parquet(BASE_TRAIN_PATH).select([\"case_id\", \"date_decision\", \"target\"])\n",
    "applprev_data: pl.LazyFrame = pl.concat([pl.scan_parquet(APPLPREV0_PATH), pl.scan_parquet(APPLPREV1_PATH)]).drop([\"childnum_21L\", \"education_1138M\", \"familystate_726L\"])\n",
    "# debitcard_data: pl.LazyFrame = pl.scan_parquet(DEBITCARD_PATH)\n",
    "deposit_data: pl.LazyFrame = pl.scan_parquet(DEPOSIT_PATH)\n",
    "other_data: pl.LazyFrame = pl.scan_parquet(OTHER_PATH)\n",
    "person_data: pl.LazyFrame = pl.scan_parquet(PERSON_PATH).select([\n",
    "    \"case_id\",\n",
    "    \"num_group1\",\n",
    "    \"birth_259D\",\n",
    "    \"incometype_1044T\",\n",
    "    \"role_1084L\",\n",
    "    \"empl_employedfrom_271D\",\n",
    "    \"empl_industry_691L\",\n",
    "    \"mainoccupationinc_384A\",\n",
    "])\n",
    "\n",
    "data = base_train.select(\"case_id\", \"date_decision\").join(person_data, how=\"left\", on=\"case_id\")\n",
    "\n",
    "data: pl.LazyFrame = (data\n",
    "        .join(deposit_data, how=\"left\", on=JOIN_COLS)\n",
    "        .join(other_data, how=\"left\", on=JOIN_COLS)\n",
    "        .join(applprev_data, how=\"left\", on=JOIN_COLS))\n",
    "\n",
    "# data = base_train.select(\"case_id\", \"date_decision\").join(data, how=\"left\", on=\"case_id\")\n",
    "\n",
    "data.sort(JOIN_COLS).head().collect()"
   ],
   "metadata": {
    "collapsed": false,
    "ExecuteTime": {
     "end_time": "2024-03-04T12:40:31.920320708Z",
     "start_time": "2024-03-04T12:40:29.637890333Z"
    }
   },
   "id": "aaef447f0026e5aa",
   "execution_count": 44
  },
  {
   "cell_type": "code",
   "outputs": [],
   "source": [
    "# cols_to_binarize = get_columns_with_more_85_perc_nulls(data)\n",
    "# \n",
    "# print(cols_to_binarize)\n",
    "# \n",
    "# data = data.with_columns(*binarize_columns_with_more_85_perc_nulls(cols_to_binarize))"
   ],
   "metadata": {
    "collapsed": false,
    "ExecuteTime": {
     "end_time": "2024-03-04T12:40:31.920898188Z",
     "start_time": "2024-03-04T12:40:31.906270223Z"
    }
   },
   "id": "e959994ca076d686",
   "execution_count": 45
  },
  {
   "cell_type": "markdown",
   "source": [
    "### Group by cols"
   ],
   "metadata": {
    "collapsed": false
   },
   "id": "ef478145553d0188"
  },
  {
   "cell_type": "code",
   "outputs": [],
   "source": [
    "LAST_COLS = [\n",
    "    \"contractenddate_991D\",\n",
    "    \"openingdate_313D\",\n",
    "    \"dtlastpmt_581D\",\n",
    "    \"birth_259D\"\n",
    "]\n",
    "\n",
    "MEAN_COLS = [\n",
    "    \"byoccupationinc_3656910L\",\n",
    "    \"credacc_transactions_402L\",\n",
    "    \"amtdebitincoming_4809443A\",\n",
    "    \"amtdebitoutgoing_4809440A\",\n",
    "    \"amtdepositbalance_4809441A\",\n",
    "    \"amtdepositincoming_4809444A\",\n",
    "    \"amtdepositoutgoing_4809442A\",\n",
    "    \"credacc_actualbalance_314A\",\n",
    "    \"credacc_maxhisbal_375A\",\n",
    "    \"credacc_minhisbal_90A\",\n",
    "    \"amount_416A\",\n",
    "    \"revolvingaccount_394A\",\n",
    "    \"mainoccupationinc_384A\",\n",
    "    \"annuity_853A\",\n",
    "    \"credamount_590A\",\n",
    "    \"downpmt_134A\",\n",
    "    \"credacc_credlmt_575A\",\n",
    "    \"actualdpd_943P\"\n",
    "]\n",
    "\n",
    "MEDIAN_COLS = [\n",
    "    \"isdebitcard_527L\",\n",
    "    \"isbidproduct_390L\"\n",
    "]\n",
    "\n",
    "MODE_COLS = [\n",
    "    \"credacc_status_367L\"\n",
    "]"
   ],
   "metadata": {
    "collapsed": false,
    "ExecuteTime": {
     "end_time": "2024-03-04T12:40:31.921297061Z",
     "start_time": "2024-03-04T12:40:31.906424093Z"
    }
   },
   "id": "62abc156c48748bd",
   "execution_count": 46
  },
  {
   "cell_type": "markdown",
   "source": [
    "#### Fill Nulls"
   ],
   "metadata": {
    "collapsed": false
   },
   "id": "f8c2c4316d815f6d"
  },
  {
   "cell_type": "code",
   "outputs": [],
   "source": [
    "# nulls_data: pd.DataFrame = fill_nulls(data).describe(percentiles=[]).filter(pl.col(\"statistic\") == \"null_count\").drop(\"statistic\").transpose(include_header=True, column_names=[\"null_count\"]).with_columns(pl.col(\"null_count\").cast(pl.Float32).cast(pl.Int32)).to_pandas().query(\"null_count > 0\")\n",
    "# nulls_data"
   ],
   "metadata": {
    "collapsed": false,
    "ExecuteTime": {
     "end_time": "2024-03-04T12:40:31.921672099Z",
     "start_time": "2024-03-04T12:40:31.906489597Z"
    }
   },
   "id": "9495ce49f2721416",
   "execution_count": 47
  },
  {
   "cell_type": "code",
   "outputs": [],
   "source": [
    "data: pl.LazyFrame = data.group_by([\"case_id\", \"date_decision\"]).agg(\n",
    "    *[pl.col(col).drop_nulls().last() for col in LAST_COLS],\n",
    "    *[pl.col(col).drop_nulls().mean() for col in MEAN_COLS],\n",
    "    *[pl.col(col).drop_nulls().median() for col in MEDIAN_COLS],\n",
    "    *[pl.col(col).drop_nulls().mode().first() for col in MODE_COLS],\n",
    ")"
   ],
   "metadata": {
    "collapsed": false,
    "ExecuteTime": {
     "end_time": "2024-03-04T12:40:31.922039082Z",
     "start_time": "2024-03-04T12:40:31.906546965Z"
    }
   },
   "id": "b85c29644aa8b2f",
   "execution_count": 48
  },
  {
   "cell_type": "code",
   "outputs": [],
   "source": [
    "data: pl.LazyFrame = fill_nulls(data).drop(\"district_544M\")"
   ],
   "metadata": {
    "collapsed": false,
    "ExecuteTime": {
     "end_time": "2024-03-04T12:40:31.922399122Z",
     "start_time": "2024-03-04T12:40:31.906597591Z"
    }
   },
   "id": "73379992a33486ce",
   "execution_count": 49
  },
  {
   "cell_type": "markdown",
   "source": [
    "#### Transforms"
   ],
   "metadata": {
    "collapsed": false
   },
   "id": "c4ea69e2e82877a0"
  },
  {
   "cell_type": "code",
   "outputs": [
    {
     "data": {
      "text/plain": "shape: (5, 2)\n┌─────────┬───────────────────┐\n│ case_id ┆ age               │\n│ ---     ┆ ---               │\n│ i64     ┆ f32               │\n╞═════════╪═══════════════════╡\n│ 0       ┆ 49.03835678100586 │\n│ 1       ┆ 49.03835678100586 │\n│ 2       ┆ 49.04109573364258 │\n│ 3       ┆ 49.03835678100586 │\n│ 4       ┆ 49.04109573364258 │\n└─────────┴───────────────────┘",
      "text/html": "<div><style>\n.dataframe > thead > tr,\n.dataframe > tbody > tr {\n  text-align: right;\n  white-space: pre-wrap;\n}\n</style>\n<small>shape: (5, 2)</small><table border=\"1\" class=\"dataframe\"><thead><tr><th>case_id</th><th>age</th></tr><tr><td>i64</td><td>f32</td></tr></thead><tbody><tr><td>0</td><td>49.03835678100586</td></tr><tr><td>1</td><td>49.03835678100586</td></tr><tr><td>2</td><td>49.04109573364258</td></tr><tr><td>3</td><td>49.03835678100586</td></tr><tr><td>4</td><td>49.04109573364258</td></tr></tbody></table></div>"
     },
     "execution_count": 50,
     "metadata": {},
     "output_type": "execute_result"
    }
   ],
   "source": [
    "data = data.with_columns(*get_date_transforms(data)).drop(\"birth_259D\")\n",
    "\n",
    "data = data.with_columns(\n",
    "    (pl.col(\"age\") + (pl.col(\"age_days\") / 365)).shrink_dtype().alias(\"age\")\n",
    ").drop([\"age_days\"])\n",
    "\n",
    "# data = data.with_columns(*get_date_categorized_transforms(data))\n",
    "# data = data.with_columns(pl.col(pl.Boolean).fill_null(False).cast(pl.Int8))\n",
    "data = data.with_columns(\n",
    "    # pl.col(\"target\").cast(pl.Boolean),\n",
    "    # pl.col(\"age\").cast(pl.Int16),\n",
    "    # pl.col(\"num_group1\").cast(pl.Int16),\n",
    ").drop(\"date_decision\")\n",
    "\n",
    "data.sort(\"case_id\").select(\"case_id\", \"age\").head().collect()"
   ],
   "metadata": {
    "collapsed": false,
    "ExecuteTime": {
     "end_time": "2024-03-04T12:40:34.197713485Z",
     "start_time": "2024-03-04T12:40:31.906672142Z"
    }
   },
   "id": "3311915b9493e117",
   "execution_count": 50
  },
  {
   "cell_type": "code",
   "outputs": [],
   "source": [
    "def save_dataframe_to_disk(group_by_col: str, num_percentiles: int = 10, depth: int = 1) -> None:\n",
    "    SLICE_OUTPUT_BASE_DIR: pathlib.Path = pathlib.Path(f\"../data/datalake/silver/depth_{depth}\")\n",
    "    SLICE_OUTPUT_BASE_DIR.mkdir(parents=True, exist_ok=True)\n",
    "\n",
    "    describe: dict[str, list[str | float]] = data.select(\"case_id\").describe(percentiles=[x/num_percentiles for x in range(num_percentiles)]).filter((pl.col(\"statistic\").str.contains(\"%\")) | (pl.col(\"statistic\").str.contains(\"max\"))).to_dict(as_series=False)\n",
    "    case_id_percentiles = sorted(describe.get(group_by_col))\n",
    "\n",
    "    for i in range(len(case_id_percentiles) - 1):\n",
    "        slice_data: pl.LazyFrame = data.filter((pl.col(group_by_col) >= case_id_percentiles[i]) & (pl.col(group_by_col) < case_id_percentiles[i+1]))\n",
    "        # slice_data.group_by(group_by_col).agg(*get_group_by_transforms(data, [group_by_col])).collect().write_parquet(SLICE_OUTPUT_BASE_DIR / f\"slice_{i}.parquet\")\n",
    "        slice_data.collect().write_parquet(SLICE_OUTPUT_BASE_DIR / f\"slice_{i}.parquet\")\n",
    "\n",
    "    # merge files and delete slices\n",
    "    pl.scan_parquet(SLICE_OUTPUT_BASE_DIR / \"slice_*.parquet\").collect().write_parquet(f\"../data/datalake/silver/depth_{depth}.parquet\")\n",
    "    for path in pathlib.Path(SLICE_OUTPUT_BASE_DIR).glob(\"slice*.parquet\"):\n",
    "        path.unlink(missing_ok=True)\n",
    "\n",
    "    SLICE_OUTPUT_BASE_DIR.rmdir()\n",
    "    \n",
    "save_dataframe_to_disk(group_by_col=\"case_id\")"
   ],
   "metadata": {
    "collapsed": false,
    "ExecuteTime": {
     "end_time": "2024-03-04T12:40:45.170895448Z",
     "start_time": "2024-03-04T12:40:34.194818580Z"
    }
   },
   "id": "d46e5f1ae2750369",
   "execution_count": 51
  },
  {
   "cell_type": "code",
   "outputs": [
    {
     "data": {
      "text/plain": "['actualdpd_943P',\n 'age',\n 'amount_416A',\n 'amtdebitincoming_4809443A',\n 'amtdebitoutgoing_4809440A',\n 'amtdepositbalance_4809441A',\n 'amtdepositincoming_4809444A',\n 'amtdepositoutgoing_4809442A',\n 'annuity_853A',\n 'byoccupationinc_3656910L',\n 'case_id',\n 'contractenddate_991D',\n 'credacc_actualbalance_314A',\n 'credacc_credlmt_575A',\n 'credacc_maxhisbal_375A',\n 'credacc_minhisbal_90A',\n 'credacc_status_367L',\n 'credacc_transactions_402L',\n 'credamount_590A',\n 'downpmt_134A',\n 'dtlastpmt_581D',\n 'isbidproduct_390L',\n 'isdebitcard_527L',\n 'mainoccupationinc_384A',\n 'openingdate_313D',\n 'revolvingaccount_394A']"
     },
     "execution_count": 52,
     "metadata": {},
     "output_type": "execute_result"
    }
   ],
   "source": [
    "sorted(data.columns)"
   ],
   "metadata": {
    "collapsed": false,
    "ExecuteTime": {
     "end_time": "2024-03-04T12:40:45.176878172Z",
     "start_time": "2024-03-04T12:40:45.172400359Z"
    }
   },
   "id": "b2d9a429e976d3db",
   "execution_count": 52
  }
 ],
 "metadata": {
  "kernelspec": {
   "display_name": "Python 3",
   "language": "python",
   "name": "python3"
  },
  "language_info": {
   "codemirror_mode": {
    "name": "ipython",
    "version": 2
   },
   "file_extension": ".py",
   "mimetype": "text/x-python",
   "name": "python",
   "nbconvert_exporter": "python",
   "pygments_lexer": "ipython2",
   "version": "2.7.6"
  }
 },
 "nbformat": 4,
 "nbformat_minor": 5
}
