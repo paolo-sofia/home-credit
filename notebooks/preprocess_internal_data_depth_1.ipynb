{
 "cells": [
  {
   "cell_type": "code",
   "execution_count": 2,
   "id": "initial_id",
   "metadata": {
    "collapsed": true,
    "ExecuteTime": {
     "end_time": "2024-02-20T10:49:29.818507182Z",
     "start_time": "2024-02-20T10:49:29.236199686Z"
    }
   },
   "outputs": [
    {
     "data": {
      "text/plain": "polars.config.Config"
     },
     "execution_count": 2,
     "metadata": {},
     "output_type": "execute_result"
    }
   ],
   "source": [
    "import pathlib\n",
    "import polars as pl\n",
    "import plotly.express as px\n",
    "\n",
    "pl.Config.set_fmt_float(\"full\")"
   ]
  },
  {
   "cell_type": "code",
   "outputs": [],
   "source": [
    "BASE_PATH = pathlib.Path.cwd().parent / \"data\" / \"raw\" / \"parquet_files\" / \"train\"\n",
    "\n",
    "BASE_TRAIN_PATH = BASE_PATH / \"train_base.parquet\"\n",
    "\n",
    "APPLPREV0_PATH = BASE_PATH / \"train_applprev_1_0.parquet\"\n",
    "APPLPREV1_PATH = BASE_PATH / \"train_applprev_1_1.parquet\"\n",
    "\n",
    "DEBITCARD_PATH = BASE_PATH / \"train_debitcard_1.parquet\"\n",
    "DEPOSIT_PATH = BASE_PATH / \"train_deposit_1.parquet\"\n",
    "OTHER_PATH = BASE_PATH / \"train_other_1.parquet\"\n",
    "PERSON_PATH = BASE_PATH / \"train_person_1.parquet\""
   ],
   "metadata": {
    "collapsed": false,
    "ExecuteTime": {
     "end_time": "2024-02-20T10:49:29.824342168Z",
     "start_time": "2024-02-20T10:49:29.820092275Z"
    }
   },
   "id": "efacae122efa4678",
   "execution_count": 3
  },
  {
   "cell_type": "markdown",
   "source": [
    "## Functions"
   ],
   "metadata": {
    "collapsed": false
   },
   "id": "bd44fb88f0c656f8"
  },
  {
   "cell_type": "code",
   "outputs": [],
   "source": [
    "def get_date_categorized_transforms(dataframe: pl.LazyFrame) -> list[pl.Expr]:\n",
    "    date_transforms = []\n",
    "    \n",
    "    for col in dataframe.columns:\n",
    "        if not col.endswith(\"D\"):\n",
    "            continue\n",
    "\n",
    "        transform = (\n",
    "            pl.when(pl.col(col) > 365 * 5).then(pl.lit(\"MORE_THAN_5_YEARS\")).otherwise(\n",
    "                pl.when((pl.col(col) <= 365 * 5) & (pl.col(col) > 365)).then(pl.lit(\"BETWEEN_1_AND_5_YEARS\")).otherwise(\n",
    "                    pl.when((pl.col(col) <= 365) & (pl.col(col) > 180)).then(pl.lit(\"BETWEEN_6_MONTHS_AND_1_YEAR\")).otherwise(\n",
    "                        pl.when((pl.col(col) <= 180) & (pl.col(col).is_not_null())).then(pl.lit(\"LESS_THAN_6_MONTH\")).otherwise(pl.lit(\"UNKNOWN\"))\n",
    "                    )\n",
    "                )\n",
    "            ).alias(col))\n",
    "        date_transforms.append(transform)\n",
    "        \n",
    "    return date_transforms\n",
    "\n",
    "\n",
    "def get_date_transforms(dataframe: pl.LazyFrame) -> list[pl.Expr]:\n",
    "    date_transforms = []\n",
    "    for col in dataframe.columns:\n",
    "        if col == \"date_decision\":\n",
    "            date_transforms.append(pl.col(col).cast(pl.Date))\n",
    "            date_transforms.extend([\n",
    "                ((pl.col(\"date_decision\").cast(pl.Date) - pl.col(\"birth_259D\").cast(pl.Date)).dt.total_days() // 365).alias(\"age\"),\n",
    "                ((pl.col(\"date_decision\").cast(pl.Date) - pl.col(\"birth_259D\").cast(pl.Date)).dt.total_days() % 365).sin().alias(\"sin(age_days)\"),\n",
    "                ((pl.col(\"date_decision\").cast(pl.Date) - pl.col(\"birth_259D\").cast(pl.Date)).dt.total_days() % 365).cos().alias(\"cos(age_days)\")\n",
    "            ])\n",
    "        \n",
    "        if not col.endswith(\"D\"):\n",
    "            continue\n",
    "        \n",
    "        date_transforms.append(\n",
    "            (pl.col(\"date_decision\").cast(pl.Date) - pl.col(col).cast(pl.Date)).dt.total_days().alias(col)\n",
    "        )\n",
    "        \n",
    "    return date_transforms\n",
    "\n",
    "\n",
    "def get_group_by_transforms(dataframe: pl.LazyFrame, group_by_col: str) -> list[pl.Expr]:\n",
    "    transforms = []\n",
    "    for col, col_dtype in zip(dataframe.columns, dataframe.dtypes):\n",
    "        if col == group_by_col:\n",
    "            continue\n",
    "        \n",
    "        if isinstance(col_dtype, tuple(pl.NUMERIC_DTYPES)):\n",
    "            transforms.append(pl.col(col).mean().shrink_dtype())\n",
    "            \n",
    "        elif isinstance(col_dtype, pl.String):\n",
    "            transforms.append(pl.col(col).mode().drop_nulls().first())\n",
    "\n",
    "        elif isinstance(col_dtype, pl.Date):\n",
    "            transforms.append(pl.col(col).first())\n",
    "        \n",
    "    return transforms\n",
    "\n",
    "\n",
    "def get_columns_with_more_85_perc_nulls(dataframe: pl.LazyFrame, threshold: float = 0.85) -> list[str]:\n",
    "    dataframe = dataframe.collect()\n",
    "    length_dataframe: int = dataframe.shape[0]\n",
    "\n",
    "    describe = dataframe.describe(percentiles=[]).filter(pl.col(\"statistic\") == \"null_count\")\n",
    "    describe = describe.transpose(include_header=True, header_name=\"column\", column_names=[\"null_count\"]).slice(1).with_columns(pl.col(\"null_count\").cast(pl.Float32) / length_dataframe)\n",
    "    \n",
    "    return describe.filter(pl.col(\"null_count\") > threshold).select(\"column\").to_series().to_list()\n",
    "    \n",
    "    \n",
    "def binarize_columns_with_more_85_perc_nulls(columns: list[str]) -> list[pl.Expr]:\n",
    "    transforms = []\n",
    "    for col in columns:\n",
    "        transforms.append(\n",
    "            pl.when(pl.col(col).is_null()).then(pl.lit(False)).otherwise(pl.lit(True)).alias(col)\n",
    "        )\n",
    "    return transforms\n"
   ],
   "metadata": {
    "collapsed": false,
    "ExecuteTime": {
     "end_time": "2024-02-20T10:49:29.831218240Z",
     "start_time": "2024-02-20T10:49:29.829407642Z"
    }
   },
   "id": "85056546ae300c14",
   "execution_count": 4
  },
  {
   "cell_type": "markdown",
   "source": [
    "## Load data"
   ],
   "metadata": {
    "collapsed": false
   },
   "id": "d5457edf2bf3efb4"
  },
  {
   "cell_type": "code",
   "outputs": [],
   "source": [
    "JOIN_COLS = [\"case_id\", \"num_group1\"]"
   ],
   "metadata": {
    "collapsed": false,
    "ExecuteTime": {
     "end_time": "2024-02-20T10:49:29.836025725Z",
     "start_time": "2024-02-20T10:49:29.832566725Z"
    }
   },
   "id": "cc67147f538c1245",
   "execution_count": 5
  },
  {
   "cell_type": "code",
   "outputs": [
    {
     "data": {
      "text/plain": "shape: (5, 53)\n┌─────────┬────────────┬───────────┬───────────┬───┬───────────┬───────────┬───────────┬───────────┐\n│ case_id ┆ date_decis ┆ actualdpd ┆ annuity_8 ┆ … ┆ role_1084 ┆ empl_empl ┆ empl_indu ┆ mainoccup │\n│ ---     ┆ ion        ┆ _943P     ┆ 53A       ┆   ┆ L         ┆ oyedfrom_ ┆ stry_691L ┆ ationinc_ │\n│ i64     ┆ ---        ┆ ---       ┆ ---       ┆   ┆ ---       ┆ 271D      ┆ ---       ┆ 384A      │\n│         ┆ str        ┆ f64       ┆ f64       ┆   ┆ str       ┆ ---       ┆ str       ┆ ---       │\n│         ┆            ┆           ┆           ┆   ┆           ┆ str       ┆           ┆ f64       │\n╞═════════╪════════════╪═══════════╪═══════════╪═══╪═══════════╪═══════════╪═══════════╪═══════════╡\n│ 0       ┆ 2019-01-03 ┆ null      ┆ null      ┆ … ┆ null      ┆ null      ┆ null      ┆ null      │\n│ 1       ┆ 2019-01-03 ┆ null      ┆ null      ┆ … ┆ null      ┆ null      ┆ null      ┆ null      │\n│ 2       ┆ 2019-01-04 ┆ 0         ┆ 640.2     ┆ … ┆ EM        ┆ 2010-02-1 ┆ OTHER     ┆ 14000     │\n│         ┆            ┆           ┆           ┆   ┆           ┆ 5         ┆           ┆           │\n│ 2       ┆ 2019-01-04 ┆ 0         ┆ 1682.4    ┆ … ┆ CL        ┆ null      ┆ null      ┆ null      │\n│ 3       ┆ 2019-01-03 ┆ 0         ┆ 6140      ┆ … ┆ CL        ┆ 2018-05-1 ┆ OTHER     ┆ 10000     │\n│         ┆            ┆           ┆           ┆   ┆           ┆ 5         ┆           ┆           │\n└─────────┴────────────┴───────────┴───────────┴───┴───────────┴───────────┴───────────┴───────────┘",
      "text/html": "<div><style>\n.dataframe > thead > tr,\n.dataframe > tbody > tr {\n  text-align: right;\n  white-space: pre-wrap;\n}\n</style>\n<small>shape: (5, 53)</small><table border=\"1\" class=\"dataframe\"><thead><tr><th>case_id</th><th>date_decision</th><th>actualdpd_943P</th><th>annuity_853A</th><th>approvaldate_319D</th><th>byoccupationinc_3656910L</th><th>cancelreason_3545846M</th><th>creationdate_885D</th><th>credacc_actualbalance_314A</th><th>credacc_credlmt_575A</th><th>credacc_maxhisbal_375A</th><th>credacc_minhisbal_90A</th><th>credacc_status_367L</th><th>credacc_transactions_402L</th><th>credamount_590A</th><th>credtype_587L</th><th>currdebt_94A</th><th>dateactivated_425D</th><th>district_544M</th><th>downpmt_134A</th><th>dtlastpmt_581D</th><th>dtlastpmtallstes_3545839D</th><th>employedfrom_700D</th><th>firstnonzeroinstldate_307D</th><th>inittransactioncode_279L</th><th>isbidproduct_390L</th><th>isdebitcard_527L</th><th>mainoccupationinc_437A</th><th>maxdpdtolerance_577P</th><th>num_group1</th><th>outstandingdebt_522A</th><th>pmtnum_8L</th><th>postype_4733339M</th><th>profession_152M</th><th>rejectreason_755M</th><th>rejectreasonclient_4145042M</th><th>revolvingaccount_394A</th><th>status_219L</th><th>tenor_203L</th><th>amount_416A</th><th>contractenddate_991D</th><th>openingdate_313D</th><th>amtdebitincoming_4809443A</th><th>amtdebitoutgoing_4809440A</th><th>amtdepositbalance_4809441A</th><th>amtdepositincoming_4809444A</th><th>amtdepositoutgoing_4809442A</th><th>birth_259D</th><th>incometype_1044T</th><th>role_1084L</th><th>empl_employedfrom_271D</th><th>empl_industry_691L</th><th>mainoccupationinc_384A</th></tr><tr><td>i64</td><td>str</td><td>f64</td><td>f64</td><td>str</td><td>f64</td><td>str</td><td>str</td><td>f64</td><td>f64</td><td>f64</td><td>f64</td><td>str</td><td>f64</td><td>f64</td><td>str</td><td>f64</td><td>str</td><td>str</td><td>f64</td><td>str</td><td>str</td><td>str</td><td>str</td><td>str</td><td>bool</td><td>bool</td><td>f64</td><td>f64</td><td>i64</td><td>f64</td><td>f64</td><td>str</td><td>str</td><td>str</td><td>str</td><td>f64</td><td>str</td><td>f64</td><td>f64</td><td>str</td><td>str</td><td>f64</td><td>f64</td><td>f64</td><td>f64</td><td>f64</td><td>str</td><td>str</td><td>str</td><td>str</td><td>str</td><td>f64</td></tr></thead><tbody><tr><td>0</td><td>&quot;2019-01-03&quot;</td><td>null</td><td>null</td><td>null</td><td>null</td><td>null</td><td>null</td><td>null</td><td>null</td><td>null</td><td>null</td><td>null</td><td>null</td><td>null</td><td>null</td><td>null</td><td>null</td><td>null</td><td>null</td><td>null</td><td>null</td><td>null</td><td>null</td><td>null</td><td>null</td><td>null</td><td>null</td><td>null</td><td>null</td><td>null</td><td>null</td><td>null</td><td>null</td><td>null</td><td>null</td><td>null</td><td>null</td><td>null</td><td>null</td><td>null</td><td>null</td><td>null</td><td>null</td><td>null</td><td>null</td><td>null</td><td>null</td><td>null</td><td>null</td><td>null</td><td>null</td><td>null</td></tr><tr><td>1</td><td>&quot;2019-01-03&quot;</td><td>null</td><td>null</td><td>null</td><td>null</td><td>null</td><td>null</td><td>null</td><td>null</td><td>null</td><td>null</td><td>null</td><td>null</td><td>null</td><td>null</td><td>null</td><td>null</td><td>null</td><td>null</td><td>null</td><td>null</td><td>null</td><td>null</td><td>null</td><td>null</td><td>null</td><td>null</td><td>null</td><td>null</td><td>null</td><td>null</td><td>null</td><td>null</td><td>null</td><td>null</td><td>null</td><td>null</td><td>null</td><td>null</td><td>null</td><td>null</td><td>null</td><td>null</td><td>null</td><td>null</td><td>null</td><td>null</td><td>null</td><td>null</td><td>null</td><td>null</td><td>null</td></tr><tr><td>2</td><td>&quot;2019-01-04&quot;</td><td>0</td><td>640.2</td><td>null</td><td>null</td><td>&quot;a55475b1&quot;</td><td>&quot;2013-04-03&quot;</td><td>null</td><td>0</td><td>null</td><td>null</td><td>null</td><td>null</td><td>10000</td><td>&quot;CAL&quot;</td><td>null</td><td>null</td><td>&quot;P136_108_173&quot;</td><td>0</td><td>null</td><td>null</td><td>&quot;2010-02-15&quot;</td><td>&quot;2013-05-04&quot;</td><td>&quot;CASH&quot;</td><td>false</td><td>null</td><td>8200</td><td>null</td><td>0</td><td>null</td><td>24</td><td>&quot;a55475b1&quot;</td><td>&quot;a55475b1&quot;</td><td>&quot;a55475b1&quot;</td><td>&quot;a55475b1&quot;</td><td>null</td><td>&quot;D&quot;</td><td>24</td><td>null</td><td>null</td><td>null</td><td>null</td><td>null</td><td>null</td><td>null</td><td>null</td><td>&quot;1974-12-01&quot;</td><td>&quot;EMPLOYED&quot;</td><td>&quot;EM&quot;</td><td>&quot;2010-02-15&quot;</td><td>&quot;OTHER&quot;</td><td>14000</td></tr><tr><td>2</td><td>&quot;2019-01-04&quot;</td><td>0</td><td>1682.4</td><td>null</td><td>null</td><td>&quot;a55475b1&quot;</td><td>&quot;2013-04-03&quot;</td><td>null</td><td>0</td><td>null</td><td>null</td><td>null</td><td>null</td><td>16000</td><td>&quot;CAL&quot;</td><td>null</td><td>null</td><td>&quot;P136_108_173&quot;</td><td>0</td><td>null</td><td>null</td><td>&quot;2010-02-15&quot;</td><td>&quot;2013-05-04&quot;</td><td>&quot;CASH&quot;</td><td>false</td><td>null</td><td>8200</td><td>null</td><td>1</td><td>null</td><td>12</td><td>&quot;a55475b1&quot;</td><td>&quot;a55475b1&quot;</td><td>&quot;a55475b1&quot;</td><td>&quot;a55475b1&quot;</td><td>null</td><td>&quot;D&quot;</td><td>12</td><td>null</td><td>null</td><td>null</td><td>null</td><td>null</td><td>null</td><td>null</td><td>null</td><td>null</td><td>null</td><td>&quot;CL&quot;</td><td>null</td><td>null</td><td>null</td></tr><tr><td>3</td><td>&quot;2019-01-03&quot;</td><td>0</td><td>6140</td><td>null</td><td>null</td><td>&quot;P94_109_143&quot;</td><td>&quot;2019-01-07&quot;</td><td>null</td><td>0</td><td>null</td><td>null</td><td>null</td><td>null</td><td>59999.8</td><td>&quot;CAL&quot;</td><td>null</td><td>null</td><td>&quot;P131_33_167&quot;</td><td>0</td><td>null</td><td>null</td><td>&quot;2018-05-15&quot;</td><td>&quot;2019-02-07&quot;</td><td>&quot;CASH&quot;</td><td>false</td><td>null</td><td>11000</td><td>null</td><td>0</td><td>null</td><td>12</td><td>&quot;a55475b1&quot;</td><td>&quot;a55475b1&quot;</td><td>&quot;P94_109_143&quot;</td><td>&quot;a55475b1&quot;</td><td>null</td><td>&quot;D&quot;</td><td>12</td><td>null</td><td>null</td><td>null</td><td>null</td><td>null</td><td>null</td><td>null</td><td>null</td><td>&quot;1993-08-01&quot;</td><td>&quot;EMPLOYED&quot;</td><td>&quot;CL&quot;</td><td>&quot;2018-05-15&quot;</td><td>&quot;OTHER&quot;</td><td>10000</td></tr></tbody></table></div>"
     },
     "execution_count": 6,
     "metadata": {},
     "output_type": "execute_result"
    }
   ],
   "source": [
    "base_train: pl.LazyFrame = pl.scan_parquet(BASE_TRAIN_PATH).select([\"case_id\", \"date_decision\", \"target\"])\n",
    "applprev_data: pl.LazyFrame = pl.concat([pl.scan_parquet(APPLPREV0_PATH), pl.scan_parquet(APPLPREV1_PATH)]).drop([\"childnum_21L\", \"education_1138M\", \"familystate_726L\"])\n",
    "# debitcard_data: pl.LazyFrame = pl.scan_parquet(DEBITCARD_PATH)\n",
    "deposit_data: pl.LazyFrame = pl.scan_parquet(DEPOSIT_PATH)\n",
    "other_data: pl.LazyFrame = pl.scan_parquet(OTHER_PATH)\n",
    "person_data: pl.LazyFrame = pl.scan_parquet(PERSON_PATH).select([\n",
    "    \"case_id\",\n",
    "    \"num_group1\",\n",
    "    \"birth_259D\",\n",
    "    \"incometype_1044T\",\n",
    "    \"role_1084L\",\n",
    "    \"empl_employedfrom_271D\",\n",
    "    \"empl_industry_691L\",\n",
    "    \"mainoccupationinc_384A\",\n",
    "])\n",
    "\n",
    "data: pl.LazyFrame = (applprev_data\n",
    "        .join(deposit_data, how=\"left\", on=JOIN_COLS)\n",
    "        .join(other_data, how=\"left\", on=JOIN_COLS)\n",
    "        .join(person_data, how=\"left\", on=JOIN_COLS))\n",
    "\n",
    "data = base_train.select(\"case_id\", \"date_decision\").join(data, how=\"left\", on=\"case_id\")\n",
    "\n",
    "data.sort(JOIN_COLS).head().collect()"
   ],
   "metadata": {
    "collapsed": false,
    "ExecuteTime": {
     "end_time": "2024-02-20T10:49:33.765324855Z",
     "start_time": "2024-02-20T10:49:29.834900400Z"
    }
   },
   "id": "aaef447f0026e5aa",
   "execution_count": 6
  },
  {
   "cell_type": "code",
   "outputs": [],
   "source": [
    "cols_to_binarize = get_columns_with_more_85_perc_nulls(data)\n",
    "\n",
    "data = data.with_columns(*binarize_columns_with_more_85_perc_nulls(cols_to_binarize))"
   ],
   "metadata": {
    "collapsed": false,
    "ExecuteTime": {
     "end_time": "2024-02-20T10:49:37.308380054Z",
     "start_time": "2024-02-20T10:49:33.762030715Z"
    }
   },
   "id": "e959994ca076d686",
   "execution_count": 7
  },
  {
   "cell_type": "code",
   "outputs": [
    {
     "data": {
      "text/plain": "shape: (5, 55)\n┌─────────┬────────────┬────────────┬────────────┬───┬────────────┬──────┬────────────┬────────────┐\n│ case_id ┆ date_decis ┆ actualdpd_ ┆ annuity_85 ┆ … ┆ mainoccupa ┆ age  ┆ sin(age_da ┆ cos(age_da │\n│ ---     ┆ ion        ┆ 943P       ┆ 3A         ┆   ┆ tioninc_38 ┆ ---  ┆ ys)        ┆ ys)        │\n│ i64     ┆ ---        ┆ ---        ┆ ---        ┆   ┆ 4A         ┆ i16  ┆ ---        ┆ ---        │\n│         ┆ date       ┆ f64        ┆ f64        ┆   ┆ ---        ┆      ┆ f64        ┆ f64        │\n│         ┆            ┆            ┆            ┆   ┆ f64        ┆      ┆            ┆            │\n╞═════════╪════════════╪════════════╪════════════╪═══╪════════════╪══════╪════════════╪════════════╡\n│ 0       ┆ 2019-01-03 ┆ null       ┆ null       ┆ … ┆ null       ┆ null ┆ null       ┆ null       │\n│ 1       ┆ 2019-01-03 ┆ null       ┆ null       ┆ … ┆ null       ┆ null ┆ null       ┆ null       │\n│ 2       ┆ 2019-01-04 ┆ 0          ┆ 640.2      ┆ … ┆ 14000      ┆ 44   ┆ 0.85090352 ┆ 0.52532198 │\n│         ┆            ┆            ┆            ┆   ┆            ┆      ┆ 45341184   ┆ 88177297   │\n│ 2       ┆ 2019-01-04 ┆ 0          ┆ 1682.4     ┆ … ┆ null       ┆ null ┆ null       ┆ null       │\n│ 3       ┆ 2019-01-03 ┆ 0          ┆ 6140       ┆ … ┆ 10000      ┆ 25   ┆ -0.7024077 ┆ -0.7117747 │\n│         ┆            ┆            ┆            ┆   ┆            ┆      ┆ 85577371   ┆ 556357236  │\n└─────────┴────────────┴────────────┴────────────┴───┴────────────┴──────┴────────────┴────────────┘",
      "text/html": "<div><style>\n.dataframe > thead > tr,\n.dataframe > tbody > tr {\n  text-align: right;\n  white-space: pre-wrap;\n}\n</style>\n<small>shape: (5, 55)</small><table border=\"1\" class=\"dataframe\"><thead><tr><th>case_id</th><th>date_decision</th><th>actualdpd_943P</th><th>annuity_853A</th><th>approvaldate_319D</th><th>byoccupationinc_3656910L</th><th>cancelreason_3545846M</th><th>creationdate_885D</th><th>credacc_actualbalance_314A</th><th>credacc_credlmt_575A</th><th>credacc_maxhisbal_375A</th><th>credacc_minhisbal_90A</th><th>credacc_status_367L</th><th>credacc_transactions_402L</th><th>credamount_590A</th><th>credtype_587L</th><th>currdebt_94A</th><th>dateactivated_425D</th><th>district_544M</th><th>downpmt_134A</th><th>dtlastpmt_581D</th><th>dtlastpmtallstes_3545839D</th><th>employedfrom_700D</th><th>firstnonzeroinstldate_307D</th><th>inittransactioncode_279L</th><th>isbidproduct_390L</th><th>isdebitcard_527L</th><th>mainoccupationinc_437A</th><th>maxdpdtolerance_577P</th><th>num_group1</th><th>outstandingdebt_522A</th><th>pmtnum_8L</th><th>postype_4733339M</th><th>profession_152M</th><th>rejectreason_755M</th><th>rejectreasonclient_4145042M</th><th>revolvingaccount_394A</th><th>status_219L</th><th>tenor_203L</th><th>amount_416A</th><th>contractenddate_991D</th><th>openingdate_313D</th><th>amtdebitincoming_4809443A</th><th>amtdebitoutgoing_4809440A</th><th>amtdepositbalance_4809441A</th><th>amtdepositincoming_4809444A</th><th>amtdepositoutgoing_4809442A</th><th>incometype_1044T</th><th>role_1084L</th><th>empl_employedfrom_271D</th><th>empl_industry_691L</th><th>mainoccupationinc_384A</th><th>age</th><th>sin(age_days)</th><th>cos(age_days)</th></tr><tr><td>i64</td><td>date</td><td>f64</td><td>f64</td><td>str</td><td>f64</td><td>str</td><td>str</td><td>i8</td><td>f64</td><td>i8</td><td>i8</td><td>i8</td><td>i8</td><td>f64</td><td>str</td><td>f64</td><td>str</td><td>str</td><td>f64</td><td>str</td><td>str</td><td>str</td><td>str</td><td>str</td><td>i8</td><td>i8</td><td>f64</td><td>f64</td><td>i16</td><td>f64</td><td>f64</td><td>str</td><td>str</td><td>str</td><td>str</td><td>i8</td><td>str</td><td>f64</td><td>i8</td><td>str</td><td>str</td><td>i8</td><td>i8</td><td>i8</td><td>i8</td><td>i8</td><td>str</td><td>str</td><td>str</td><td>i8</td><td>f64</td><td>i16</td><td>f64</td><td>f64</td></tr></thead><tbody><tr><td>0</td><td>2019-01-03</td><td>null</td><td>null</td><td>&quot;UNKNOWN&quot;</td><td>null</td><td>null</td><td>&quot;UNKNOWN&quot;</td><td>0</td><td>null</td><td>0</td><td>0</td><td>0</td><td>0</td><td>null</td><td>null</td><td>null</td><td>&quot;UNKNOWN&quot;</td><td>null</td><td>null</td><td>&quot;UNKNOWN&quot;</td><td>&quot;UNKNOWN&quot;</td><td>&quot;UNKNOWN&quot;</td><td>&quot;UNKNOWN&quot;</td><td>null</td><td>0</td><td>0</td><td>null</td><td>null</td><td>null</td><td>null</td><td>null</td><td>null</td><td>null</td><td>null</td><td>null</td><td>0</td><td>null</td><td>null</td><td>0</td><td>&quot;MORE_THAN_5_YE…</td><td>&quot;MORE_THAN_5_YE…</td><td>0</td><td>0</td><td>0</td><td>0</td><td>0</td><td>null</td><td>null</td><td>&quot;MORE_THAN_5_YE…</td><td>0</td><td>null</td><td>null</td><td>null</td><td>null</td></tr><tr><td>1</td><td>2019-01-03</td><td>null</td><td>null</td><td>&quot;UNKNOWN&quot;</td><td>null</td><td>null</td><td>&quot;UNKNOWN&quot;</td><td>0</td><td>null</td><td>0</td><td>0</td><td>0</td><td>0</td><td>null</td><td>null</td><td>null</td><td>&quot;UNKNOWN&quot;</td><td>null</td><td>null</td><td>&quot;UNKNOWN&quot;</td><td>&quot;UNKNOWN&quot;</td><td>&quot;UNKNOWN&quot;</td><td>&quot;UNKNOWN&quot;</td><td>null</td><td>0</td><td>0</td><td>null</td><td>null</td><td>null</td><td>null</td><td>null</td><td>null</td><td>null</td><td>null</td><td>null</td><td>0</td><td>null</td><td>null</td><td>0</td><td>&quot;MORE_THAN_5_YE…</td><td>&quot;MORE_THAN_5_YE…</td><td>0</td><td>0</td><td>0</td><td>0</td><td>0</td><td>null</td><td>null</td><td>&quot;MORE_THAN_5_YE…</td><td>0</td><td>null</td><td>null</td><td>null</td><td>null</td></tr><tr><td>2</td><td>2019-01-04</td><td>0</td><td>640.2</td><td>&quot;UNKNOWN&quot;</td><td>null</td><td>&quot;a55475b1&quot;</td><td>&quot;MORE_THAN_5_YE…</td><td>0</td><td>0</td><td>0</td><td>0</td><td>0</td><td>0</td><td>10000</td><td>&quot;CAL&quot;</td><td>null</td><td>&quot;UNKNOWN&quot;</td><td>&quot;P136_108_173&quot;</td><td>0</td><td>&quot;UNKNOWN&quot;</td><td>&quot;UNKNOWN&quot;</td><td>&quot;MORE_THAN_5_YE…</td><td>&quot;MORE_THAN_5_YE…</td><td>&quot;CASH&quot;</td><td>0</td><td>0</td><td>8200</td><td>null</td><td>0</td><td>null</td><td>24</td><td>&quot;a55475b1&quot;</td><td>&quot;a55475b1&quot;</td><td>&quot;a55475b1&quot;</td><td>&quot;a55475b1&quot;</td><td>0</td><td>&quot;D&quot;</td><td>24</td><td>0</td><td>&quot;MORE_THAN_5_YE…</td><td>&quot;MORE_THAN_5_YE…</td><td>0</td><td>0</td><td>0</td><td>0</td><td>0</td><td>&quot;EMPLOYED&quot;</td><td>&quot;EM&quot;</td><td>&quot;MORE_THAN_5_YE…</td><td>1</td><td>14000</td><td>44</td><td>0.8509035245341184</td><td>0.5253219888177297</td></tr><tr><td>2</td><td>2019-01-04</td><td>0</td><td>1682.4</td><td>&quot;UNKNOWN&quot;</td><td>null</td><td>&quot;a55475b1&quot;</td><td>&quot;MORE_THAN_5_YE…</td><td>0</td><td>0</td><td>0</td><td>0</td><td>0</td><td>0</td><td>16000</td><td>&quot;CAL&quot;</td><td>null</td><td>&quot;UNKNOWN&quot;</td><td>&quot;P136_108_173&quot;</td><td>0</td><td>&quot;UNKNOWN&quot;</td><td>&quot;UNKNOWN&quot;</td><td>&quot;MORE_THAN_5_YE…</td><td>&quot;MORE_THAN_5_YE…</td><td>&quot;CASH&quot;</td><td>0</td><td>0</td><td>8200</td><td>null</td><td>1</td><td>null</td><td>12</td><td>&quot;a55475b1&quot;</td><td>&quot;a55475b1&quot;</td><td>&quot;a55475b1&quot;</td><td>&quot;a55475b1&quot;</td><td>0</td><td>&quot;D&quot;</td><td>12</td><td>0</td><td>&quot;MORE_THAN_5_YE…</td><td>&quot;MORE_THAN_5_YE…</td><td>0</td><td>0</td><td>0</td><td>0</td><td>0</td><td>null</td><td>&quot;CL&quot;</td><td>&quot;MORE_THAN_5_YE…</td><td>0</td><td>null</td><td>null</td><td>null</td><td>null</td></tr><tr><td>3</td><td>2019-01-03</td><td>0</td><td>6140</td><td>&quot;UNKNOWN&quot;</td><td>null</td><td>&quot;P94_109_143&quot;</td><td>&quot;LESS_THAN_6_MO…</td><td>0</td><td>0</td><td>0</td><td>0</td><td>0</td><td>0</td><td>59999.8</td><td>&quot;CAL&quot;</td><td>null</td><td>&quot;UNKNOWN&quot;</td><td>&quot;P131_33_167&quot;</td><td>0</td><td>&quot;UNKNOWN&quot;</td><td>&quot;UNKNOWN&quot;</td><td>&quot;BETWEEN_6_MONT…</td><td>&quot;LESS_THAN_6_MO…</td><td>&quot;CASH&quot;</td><td>0</td><td>0</td><td>11000</td><td>null</td><td>0</td><td>null</td><td>12</td><td>&quot;a55475b1&quot;</td><td>&quot;a55475b1&quot;</td><td>&quot;P94_109_143&quot;</td><td>&quot;a55475b1&quot;</td><td>0</td><td>&quot;D&quot;</td><td>12</td><td>0</td><td>&quot;MORE_THAN_5_YE…</td><td>&quot;MORE_THAN_5_YE…</td><td>0</td><td>0</td><td>0</td><td>0</td><td>0</td><td>&quot;EMPLOYED&quot;</td><td>&quot;CL&quot;</td><td>&quot;MORE_THAN_5_YE…</td><td>1</td><td>10000</td><td>25</td><td>-0.702407785577371</td><td>-0.7117747556357236</td></tr></tbody></table></div>"
     },
     "execution_count": 8,
     "metadata": {},
     "output_type": "execute_result"
    }
   ],
   "source": [
    "data = data.with_columns(*get_date_transforms(data)).drop(\"birth_259D\")\n",
    "data = data.with_columns(*get_date_categorized_transforms(data))\n",
    "data = data.with_columns(pl.col(pl.Boolean).fill_null(False).cast(pl.Int8))\n",
    "data = data.with_columns(\n",
    "    # pl.col(\"target\").cast(pl.Boolean),\n",
    "    pl.col(\"age\").cast(pl.Int16),\n",
    "    pl.col(\"num_group1\").cast(pl.Int16),\n",
    ")\n",
    "\n",
    "data.sort(\"case_id\").head().collect()"
   ],
   "metadata": {
    "collapsed": false,
    "ExecuteTime": {
     "end_time": "2024-02-20T10:49:43.476023829Z",
     "start_time": "2024-02-20T10:49:37.317880640Z"
    }
   },
   "id": "3311915b9493e117",
   "execution_count": 8
  },
  {
   "cell_type": "code",
   "outputs": [
    {
     "name": "stdout",
     "output_type": "stream",
     "text": [
      "0.0 178735.0\n",
      "178735.0 255642.0\n",
      "255642.0 1246716.0\n",
      "1246716.0 1388752.0\n",
      "1388752.0 1526194.0\n",
      "1526194.0 1657782.0\n",
      "1657782.0 1785216.0\n",
      "1785216.0 1896140.0\n",
      "1896140.0 2591656.0\n",
      "2591656.0 2703454.0\n"
     ]
    }
   ],
   "source": [
    "describe: dict[str, list[str | float]] = data.select(\"case_id\").describe(percentiles=[x/10 for x in range(10)]).filter((pl.col(\"statistic\").str.contains(\"%\")) | (pl.col(\"statistic\").str.contains(\"max\"))).to_dict(as_series=False)\n",
    "case_id_percentiles = sorted(describe.get(\"case_id\"))\n",
    "\n",
    "for i in range(len(case_id_percentiles) - 1):\n",
    "    print(case_id_percentiles[i], case_id_percentiles[i+1])    \n",
    "    slice_data: pl.LazyFrame = data.filter((pl.col(\"case_id\") >= case_id_percentiles[i]) & (pl.col(\"case_id\") < case_id_percentiles[i+1]))\n",
    "    slice_data.group_by(\"case_id\").agg(*get_group_by_transforms(data, \"case_id\")).collect().write_parquet(f\"../data/bronze/depth_1/slice_{i}.parquet\")\n",
    "\n",
    "# merge files and delete slices\n",
    "pl.scan_parquet(f\"../data/bronze/depth_1/slice_*.parquet\").collect().write_parquet(f\"../data/bronze/depth_1.parquet\")\n",
    "for path in pathlib.Path(\"../data/bronze/depth_1\").glob(\"slice*\"):\n",
    "    path.unlink(missing_ok=True)"
   ],
   "metadata": {
    "collapsed": false,
    "ExecuteTime": {
     "end_time": "2024-02-20T11:05:19.277201617Z",
     "start_time": "2024-02-20T11:04:48.253287817Z"
    }
   },
   "id": "d46e5f1ae2750369",
   "execution_count": 34
  },
  {
   "cell_type": "code",
   "outputs": [],
   "source": [],
   "metadata": {
    "collapsed": false,
    "ExecuteTime": {
     "end_time": "2024-02-20T11:04:32.275150951Z",
     "start_time": "2024-02-20T11:04:32.233496660Z"
    }
   },
   "id": "b2d9a429e976d3db",
   "execution_count": 33
  }
 ],
 "metadata": {
  "kernelspec": {
   "display_name": "Python 3",
   "language": "python",
   "name": "python3"
  },
  "language_info": {
   "codemirror_mode": {
    "name": "ipython",
    "version": 2
   },
   "file_extension": ".py",
   "mimetype": "text/x-python",
   "name": "python",
   "nbconvert_exporter": "python",
   "pygments_lexer": "ipython2",
   "version": "2.7.6"
  }
 },
 "nbformat": 4,
 "nbformat_minor": 5
}
