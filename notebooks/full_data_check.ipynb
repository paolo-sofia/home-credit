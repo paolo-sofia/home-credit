{
 "cells": [
  {
   "cell_type": "code",
   "execution_count": 1,
   "id": "initial_id",
   "metadata": {
    "collapsed": true,
    "ExecuteTime": {
     "end_time": "2024-02-28T15:17:15.424352037Z",
     "start_time": "2024-02-28T15:17:15.027188435Z"
    }
   },
   "outputs": [],
   "source": [
    "import polars as pl\n",
    "import pathlib\n",
    "import plotly.express as px"
   ]
  },
  {
   "cell_type": "code",
   "outputs": [],
   "source": [
    "PATH = pathlib.Path(\"../data/datalake/silver/preprocessed.parquet\")"
   ],
   "metadata": {
    "collapsed": false,
    "ExecuteTime": {
     "end_time": "2024-02-28T15:17:15.424852763Z",
     "start_time": "2024-02-28T15:17:15.424236048Z"
    }
   },
   "id": "ba8dddb0593837bf",
   "execution_count": 2
  },
  {
   "cell_type": "code",
   "outputs": [],
   "source": [
    "data: pl.LazyFrame = pl.scan_parquet(PATH)"
   ],
   "metadata": {
    "collapsed": false,
    "ExecuteTime": {
     "end_time": "2024-02-28T15:17:15.851862416Z",
     "start_time": "2024-02-28T15:17:15.424505277Z"
    }
   },
   "id": "e89c7f158b069a18",
   "execution_count": 3
  },
  {
   "cell_type": "code",
   "outputs": [
    {
     "data": {
      "text/plain": "shape: (9, 306)\n┌───────────┬───────────┬───────────┬───────────┬───┬───────────┬───────────┬───────────┬──────────┐\n│ statistic ┆ case_id   ┆ date_deci ┆ MONTH     ┆ … ┆ cacccardb ┆ conts_typ ┆ credacc_c ┆ age      │\n│ ---       ┆ ---       ┆ sion      ┆ ---       ┆   ┆ lochreas_ ┆ e_509L_mo ┆ ards_stat ┆ ---      │\n│ str       ┆ f64       ┆ ---       ┆ f64       ┆   ┆ 147M_mode ┆ de        ┆ us_52L_me ┆ f64      │\n│           ┆           ┆ str       ┆           ┆   ┆ ---       ┆ ---       ┆ dian      ┆          │\n│           ┆           ┆           ┆           ┆   ┆ str       ┆ str       ┆ ---       ┆          │\n│           ┆           ┆           ┆           ┆   ┆           ┆           ┆ f64       ┆          │\n╞═══════════╪═══════════╪═══════════╪═══════════╪═══╪═══════════╪═══════════╪═══════════╪══════════╡\n│ count     ┆ 1.526658e ┆ 1526658   ┆ 1.526658e ┆ … ┆ 837088    ┆ 827573    ┆ 1.435104e ┆ 1.526658 │\n│           ┆ 6         ┆           ┆ 6         ┆   ┆           ┆           ┆ 6         ┆ e6       │\n│ null_coun ┆ 0.0       ┆ 0         ┆ 0.0       ┆ … ┆ 689570    ┆ 699085    ┆ 91554.0   ┆ 0.0      │\n│ t         ┆           ┆           ┆           ┆   ┆           ┆           ┆           ┆          │\n│ mean      ┆ 1.2861e6  ┆ null      ┆ 201936.28 ┆ … ┆ null      ┆ null      ┆ 0.040316  ┆ 44.59278 │\n│           ┆           ┆           ┆ 7934      ┆   ┆           ┆           ┆           ┆ 5        │\n│ std       ┆ 718945.91 ┆ null      ┆ 44.735949 ┆ … ┆ null      ┆ null      ┆ 0.194806  ┆ 14.03898 │\n│           ┆ 2576      ┆           ┆           ┆   ┆           ┆           ┆           ┆          │\n│ min       ┆ 0.0       ┆ 2019-01-0 ┆ 201901.0  ┆ … ┆ P127_74_1 ┆ ALTERNATI ┆ 0.0       ┆ 20.97534 │\n│           ┆           ┆ 1         ┆           ┆   ┆ 14        ┆ VE_PHONE  ┆           ┆ 2        │\n│ 25%       ┆ 766197.0  ┆ null      ┆ 201906.0  ┆ … ┆ null      ┆ null      ┆ 0.0       ┆ 32.76438 │\n│           ┆           ┆           ┆           ┆   ┆           ┆           ┆           ┆ 5        │\n│ 50%       ┆ 1.357358e ┆ null      ┆ 201910.0  ┆ … ┆ null      ┆ null      ┆ 0.0       ┆ 42.84383 │\n│           ┆ 6         ┆           ┆           ┆   ┆           ┆           ┆           ┆ 4        │\n│ 75%       ┆ 1.739022e ┆ null      ┆ 202001.0  ┆ … ┆ null      ┆ null      ┆ 0.0       ┆ 56.23561 │\n│           ┆ 6         ┆           ┆           ┆   ┆           ┆           ┆           ┆ 5        │\n│ max       ┆ 2.703453e ┆ 2020-10-0 ┆ 202010.0  ┆ … ┆ a55475b1  ┆ SECONDARY ┆ 1.0       ┆ 76.09314 │\n│           ┆ 6         ┆ 5         ┆           ┆   ┆           ┆ _MOBILE   ┆           ┆ 7        │\n└───────────┴───────────┴───────────┴───────────┴───┴───────────┴───────────┴───────────┴──────────┘",
      "text/html": "<div><style>\n.dataframe > thead > tr,\n.dataframe > tbody > tr {\n  text-align: right;\n  white-space: pre-wrap;\n}\n</style>\n<small>shape: (9, 306)</small><table border=\"1\" class=\"dataframe\"><thead><tr><th>statistic</th><th>case_id</th><th>date_decision</th><th>MONTH</th><th>WEEK_NUM</th><th>target</th><th>actualdpdtolerance_344P</th><th>amtinstpaidbefduel24m_4187115A</th><th>annuity_780A</th><th>annuitynextmonth_57A</th><th>applicationcnt_361L</th><th>applications30d_658L</th><th>applicationscnt_1086L</th><th>applicationscnt_464L</th><th>applicationscnt_629L</th><th>applicationscnt_867L</th><th>avgdbddpdlast24m_3658932P</th><th>avgdbddpdlast3m_4187120P</th><th>avgdbdtollast24m_4525197P</th><th>avgdpdtolclosure24_3658938P</th><th>avginstallast24m_3658937A</th><th>avglnamtstart24m_4525187A</th><th>avgmaxdpdlast9m_3716943P</th><th>avgoutstandbalancel6m_4187114A</th><th>avgpmtlast12m_4525200A</th><th>bankacctype_710L</th><th>cardtype_51L</th><th>clientscnt12m_3712952L</th><th>clientscnt3m_3712950L</th><th>clientscnt6m_3712949L</th><th>clientscnt_100L</th><th>clientscnt_1022L</th><th>clientscnt_1071L</th><th>clientscnt_1130L</th><th>clientscnt_136L</th><th>clientscnt_157L</th><th>clientscnt_257L</th><th>&hellip;</th><th>dtlastpmtallstes_3545839D_mean</th><th>employedfrom_700D_median</th><th>employedfrom_700D_mean</th><th>firstnonzeroinstldate_307D_median</th><th>firstnonzeroinstldate_307D_mean</th><th>inittransactioncode_279L_mode</th><th>isbidproduct_390L_median</th><th>isdebitcard_527L_median</th><th>mainoccupationinc_437A_median</th><th>mainoccupationinc_437A_mean</th><th>maxdpdtolerance_577P_median</th><th>maxdpdtolerance_577P_mean</th><th>outstandingdebt_522A_median</th><th>outstandingdebt_522A_mean</th><th>pmtnum_8L_median</th><th>pmtnum_8L_mean</th><th>postype_4733339M_mode</th><th>profession_152M_mode</th><th>rejectreason_755M_mode</th><th>rejectreasonclient_4145042M_mode</th><th>revolvingaccount_394A_median</th><th>status_219L_mode</th><th>tenor_203L_median</th><th>tenor_203L_mean</th><th>addres_district_368M_mode</th><th>addres_role_871L_median</th><th>addres_zip_823M_mode</th><th>conts_role_79M_mode</th><th>empls_economicalst_849M_mode</th><th>empls_employedfrom_796D_median</th><th>empls_employedfrom_796D_mean</th><th>empls_employer_name_740M_mode</th><th>relatedpersons_role_762T_median</th><th>cacccardblochreas_147M_mode</th><th>conts_type_509L_mode</th><th>credacc_cards_status_52L_median</th><th>age</th></tr><tr><td>str</td><td>f64</td><td>str</td><td>f64</td><td>f64</td><td>f64</td><td>f64</td><td>f64</td><td>f64</td><td>f64</td><td>f64</td><td>f64</td><td>f64</td><td>f64</td><td>f64</td><td>f64</td><td>f64</td><td>f64</td><td>f64</td><td>f64</td><td>f64</td><td>f64</td><td>f64</td><td>f64</td><td>f64</td><td>str</td><td>f64</td><td>f64</td><td>f64</td><td>f64</td><td>f64</td><td>f64</td><td>f64</td><td>f64</td><td>f64</td><td>f64</td><td>f64</td><td>&hellip;</td><td>f64</td><td>f64</td><td>f64</td><td>f64</td><td>f64</td><td>str</td><td>f64</td><td>f64</td><td>f64</td><td>f64</td><td>f64</td><td>f64</td><td>f64</td><td>f64</td><td>f64</td><td>f64</td><td>str</td><td>str</td><td>str</td><td>str</td><td>f64</td><td>str</td><td>f64</td><td>f64</td><td>str</td><td>f64</td><td>str</td><td>str</td><td>str</td><td>f64</td><td>f64</td><td>str</td><td>f64</td><td>str</td><td>str</td><td>f64</td><td>f64</td></tr></thead><tbody><tr><td>&quot;count&quot;</td><td>1.526658e6</td><td>&quot;1526658&quot;</td><td>1.526658e6</td><td>1.526658e6</td><td>1.526658e6</td><td>1.10848e6</td><td>965534.0</td><td>1.526658e6</td><td>1.526654e6</td><td>1.526658e6</td><td>1.526658e6</td><td>1.526658e6</td><td>1.526658e6</td><td>1.526658e6</td><td>1.526658e6</td><td>913456.0</td><td>578414.0</td><td>553831.0</td><td>1.059483e6</td><td>901783.0</td><td>1.526658e6</td><td>769652.0</td><td>685477.0</td><td>499671.0</td><td>&quot;417029&quot;</td><td>1.526658e6</td><td>1.526658e6</td><td>1.526658e6</td><td>1.526658e6</td><td>1.526658e6</td><td>1.526658e6</td><td>1.526658e6</td><td>1.526658e6</td><td>1.526658e6</td><td>1.526658e6</td><td>1.526658e6</td><td>&hellip;</td><td>723939.0</td><td>449840.0</td><td>449840.0</td><td>1.075663e6</td><td>1.075663e6</td><td>&quot;1079093&quot;</td><td>1.221521e6</td><td>1.526658e6</td><td>1.192854e6</td><td>1.192854e6</td><td>789536.0</td><td>789536.0</td><td>837886.0</td><td>837886.0</td><td>1.122933e6</td><td>1.122933e6</td><td>&quot;1107386&quot;</td><td>&quot;1109202&quot;</td><td>&quot;1101226&quot;</td><td>&quot;1104702&quot;</td><td>1.526658e6</td><td>&quot;1100323&quot;</td><td>1.122933e6</td><td>1.122933e6</td><td>&quot;954688&quot;</td><td>1.435104e6</td><td>&quot;954139&quot;</td><td>&quot;953944&quot;</td><td>&quot;954032&quot;</td><td>1.435104e6</td><td>1.435104e6</td><td>&quot;954119&quot;</td><td>1.435104e6</td><td>&quot;837088&quot;</td><td>&quot;827573&quot;</td><td>1.435104e6</td><td>1.526658e6</td></tr><tr><td>&quot;null_count&quot;</td><td>0.0</td><td>&quot;0&quot;</td><td>0.0</td><td>0.0</td><td>0.0</td><td>418178.0</td><td>561124.0</td><td>0.0</td><td>4.0</td><td>0.0</td><td>0.0</td><td>0.0</td><td>0.0</td><td>0.0</td><td>0.0</td><td>613202.0</td><td>948244.0</td><td>972827.0</td><td>467175.0</td><td>624875.0</td><td>0.0</td><td>757006.0</td><td>841181.0</td><td>1.026987e6</td><td>&quot;1109629&quot;</td><td>0.0</td><td>0.0</td><td>0.0</td><td>0.0</td><td>0.0</td><td>0.0</td><td>0.0</td><td>0.0</td><td>0.0</td><td>0.0</td><td>0.0</td><td>&hellip;</td><td>802719.0</td><td>1.076818e6</td><td>1.076818e6</td><td>450995.0</td><td>450995.0</td><td>&quot;447565&quot;</td><td>305137.0</td><td>0.0</td><td>333804.0</td><td>333804.0</td><td>737122.0</td><td>737122.0</td><td>688772.0</td><td>688772.0</td><td>403725.0</td><td>403725.0</td><td>&quot;419272&quot;</td><td>&quot;417456&quot;</td><td>&quot;425432&quot;</td><td>&quot;421956&quot;</td><td>0.0</td><td>&quot;426335&quot;</td><td>403725.0</td><td>403725.0</td><td>&quot;571970&quot;</td><td>91554.0</td><td>&quot;572519&quot;</td><td>&quot;572714&quot;</td><td>&quot;572626&quot;</td><td>91554.0</td><td>91554.0</td><td>&quot;572539&quot;</td><td>91554.0</td><td>&quot;689570&quot;</td><td>&quot;699085&quot;</td><td>91554.0</td><td>0.0</td></tr><tr><td>&quot;mean&quot;</td><td>1.2861e6</td><td>null</td><td>201936.287934</td><td>40.769003</td><td>0.031437</td><td>0.079234</td><td>55958.302334</td><td>4039.206948</td><td>1435.773999</td><td>0.000022</td><td>0.138152</td><td>0.42451</td><td>1.073578</td><td>0.268713</td><td>2.880362</td><td>30.099016</td><td>29.494402</td><td>30.759439</td><td>45.80933</td><td>5401.586523</td><td>0.106447</td><td>0.746393</td><td>45984.871055</td><td>6403.573334</td><td>null</td><td>0.125563</td><td>0.036752</td><td>0.017775</td><td>0.025623</td><td>0.049342</td><td>0.105436</td><td>0.033448</td><td>0.031251</td><td>0.000273</td><td>0.078748</td><td>0.003033</td><td>&hellip;</td><td>159.063095</td><td>3154.826471</td><td>3153.616091</td><td>557.795724</td><td>558.855696</td><td>null</td><td>0.049684</td><td>0.087547</td><td>49820.713192</td><td>50064.117069</td><td>16.970747</td><td>17.083145</td><td>18465.455332</td><td>19125.633146</td><td>16.309442</td><td>16.382568</td><td>null</td><td>null</td><td>null</td><td>null</td><td>0.062123</td><td>null</td><td>16.309442</td><td>16.382568</td><td>null</td><td>0.00832</td><td>null</td><td>null</td><td>null</td><td>18171.32984</td><td>18171.329071</td><td>null</td><td>0.002486</td><td>null</td><td>null</td><td>0.040316</td><td>44.592785</td></tr><tr><td>&quot;std&quot;</td><td>718945.912576</td><td>null</td><td>44.735949</td><td>23.797954</td><td>0.174496</td><td>11.206523</td><td>71614.198172</td><td>3006.608587</td><td>2807.02187</td><td>0.008134</td><td>0.488663</td><td>3.128112</td><td>9.715781</td><td>2.4642</td><td>4.346473</td><td>317.684798</td><td>367.274227</td><td>322.46769</td><td>318.540735</td><td>6531.56588</td><td>null</td><td>4.796511</td><td>63993.958067</td><td>9248.019449</td><td>null</td><td>null</td><td>0.780877</td><td>0.526117</td><td>0.733321</td><td>0.432448</td><td>1.203374</td><td>0.188308</td><td>0.251151</td><td>null</td><td>0.770083</td><td>0.06168</td><td>&hellip;</td><td>266.705294</td><td>2527.234297</td><td>2524.008782</td><td>828.319872</td><td>819.158123</td><td>null</td><td>0.209028</td><td>0.273171</td><td>31499.775618</td><td>31243.047479</td><td>167.808687</td><td>167.854058</td><td>42905.077103</td><td>43068.463063</td><td>10.452877</td><td>10.327976</td><td>null</td><td>null</td><td>null</td><td>null</td><td>0.234329</td><td>null</td><td>10.452877</td><td>10.327976</td><td>null</td><td>0.090527</td><td>null</td><td>null</td><td>null</td><td>157.673174</td><td>157.673124</td><td>null</td><td>0.047854</td><td>null</td><td>null</td><td>0.194806</td><td>14.03898</td></tr><tr><td>&quot;min&quot;</td><td>0.0</td><td>&quot;2019-01-01&quot;</td><td>201901.0</td><td>0.0</td><td>0.0</td><td>0.0</td><td>0.0</td><td>80.8</td><td>0.0</td><td>0.0</td><td>0.0</td><td>0.0</td><td>0.0</td><td>0.0</td><td>0.0</td><td>-1220.0</td><td>-908.0</td><td>-1220.0</td><td>0.0</td><td>0.0</td><td>0.0</td><td>0.0</td><td>-7.5882e6</td><td>0.0</td><td>&quot;CA&quot;</td><td>0.0</td><td>0.0</td><td>0.0</td><td>0.0</td><td>0.0</td><td>0.0</td><td>0.0</td><td>0.0</td><td>0.0</td><td>0.0</td><td>0.0</td><td>&hellip;</td><td>-14.0</td><td>-12.0</td><td>-12.0</td><td>-47.0</td><td>-47.0</td><td>&quot;CASH&quot;</td><td>0.0</td><td>0.0</td><td>0.0</td><td>0.0</td><td>0.0</td><td>0.0</td><td>0.0</td><td>0.0</td><td>3.0</td><td>3.0</td><td>&quot;P140_48_169&quot;</td><td>&quot;P0_102_76&quot;</td><td>&quot;P121_60_164&quot;</td><td>&quot;P129_162_80&quot;</td><td>0.0</td><td>&quot;A&quot;</td><td>3.0</td><td>3.0</td><td>&quot;P0_159_155&quot;</td><td>0.0</td><td>&quot;P0_101_75&quot;</td><td>&quot;P115_147_77&quot;</td><td>&quot;P112_86_147&quot;</td><td>17897.0</td><td>17896.833333</td><td>&quot;a55475b1&quot;</td><td>0.0</td><td>&quot;P127_74_114&quot;</td><td>&quot;ALTERNATIVE_PH…</td><td>0.0</td><td>20.975342</td></tr><tr><td>&quot;25%&quot;</td><td>766197.0</td><td>null</td><td>201906.0</td><td>23.0</td><td>0.0</td><td>0.0</td><td>7419.2</td><td>1967.6</td><td>0.0</td><td>0.0</td><td>0.0</td><td>0.0</td><td>0.0</td><td>0.0</td><td>0.0</td><td>-11.0</td><td>-11.0</td><td>-12.0</td><td>0.0</td><td>2528.4001</td><td>null</td><td>0.0</td><td>8708.658</td><td>2590.2</td><td>null</td><td>null</td><td>0.0</td><td>0.0</td><td>0.0</td><td>0.0</td><td>0.0</td><td>0.0</td><td>0.0</td><td>null</td><td>0.0</td><td>0.0</td><td>&hellip;</td><td>0.0</td><td>1331.0</td><td>1334.0</td><td>87.0</td><td>90.0</td><td>null</td><td>0.0</td><td>0.0</td><td>30000.0</td><td>30000.0</td><td>0.0</td><td>0.0</td><td>0.0</td><td>0.0</td><td>9.0</td><td>9.0</td><td>null</td><td>null</td><td>null</td><td>null</td><td>0.0</td><td>null</td><td>9.0</td><td>9.0</td><td>null</td><td>0.0</td><td>null</td><td>null</td><td>null</td><td>18054.0</td><td>18054.0</td><td>null</td><td>0.0</td><td>null</td><td>null</td><td>0.0</td><td>32.764385</td></tr><tr><td>&quot;50%&quot;</td><td>1.357358e6</td><td>null</td><td>201910.0</td><td>40.0</td><td>0.0</td><td>0.0</td><td>29758.396</td><td>3151.8</td><td>0.0</td><td>0.0</td><td>0.0</td><td>0.0</td><td>0.0</td><td>0.0</td><td>1.0</td><td>-5.0</td><td>-4.0</td><td>-5.0</td><td>0.0</td><td>4068.6</td><td>null</td><td>0.0</td><td>22754.64</td><td>4417.6</td><td>null</td><td>null</td><td>0.0</td><td>0.0</td><td>0.0</td><td>0.0</td><td>0.0</td><td>0.0</td><td>0.0</td><td>null</td><td>0.0</td><td>0.0</td><td>&hellip;</td><td>27.0</td><td>2473.0</td><td>2473.0</td><td>262.0</td><td>267.0</td><td>null</td><td>0.0</td><td>0.0</td><td>42000.0</td><td>42400.0</td><td>0.0</td><td>0.0</td><td>0.0</td><td>0.0</td><td>12.0</td><td>12.0</td><td>null</td><td>null</td><td>null</td><td>null</td><td>0.0</td><td>null</td><td>12.0</td><td>12.0</td><td>null</td><td>0.0</td><td>null</td><td>null</td><td>null</td><td>18167.0</td><td>18167.0</td><td>null</td><td>0.0</td><td>null</td><td>null</td><td>0.0</td><td>42.843834</td></tr><tr><td>&quot;75%&quot;</td><td>1.739022e6</td><td>null</td><td>202001.0</td><td>55.0</td><td>0.0</td><td>0.0</td><td>76302.805</td><td>5231.4</td><td>2029.4</td><td>0.0</td><td>0.0</td><td>0.0</td><td>0.0</td><td>0.0</td><td>4.0</td><td>-1.0</td><td>-1.0</td><td>-2.0</td><td>1.0</td><td>6551.8003</td><td>null</td><td>0.0</td><td>55429.77</td><td>7521.0</td><td>null</td><td>null</td><td>0.0</td><td>0.0</td><td>0.0</td><td>0.0</td><td>0.0</td><td>0.0</td><td>0.0</td><td>null</td><td>0.0</td><td>0.0</td><td>&hellip;</td><td>210.0</td><td>4295.0</td><td>4289.0</td><td>619.0</td><td>630.0</td><td>null</td><td>0.0</td><td>0.0</td><td>60000.0</td><td>60000.0</td><td>0.5</td><td>0.5</td><td>17918.908</td><td>19255.756</td><td>24.0</td><td>24.0</td><td>null</td><td>null</td><td>null</td><td>null</td><td>0.0</td><td>null</td><td>24.0</td><td>24.0</td><td>null</td><td>0.0</td><td>null</td><td>null</td><td>null</td><td>18269.0</td><td>18269.0</td><td>null</td><td>0.0</td><td>null</td><td>null</td><td>0.0</td><td>56.235615</td></tr><tr><td>&quot;max&quot;</td><td>2.703453e6</td><td>&quot;2020-10-05&quot;</td><td>202010.0</td><td>91.0</td><td>1.0</td><td>4206.0</td><td>1408010.2</td><td>106007.0</td><td>87500.0</td><td>5.0</td><td>28.0</td><td>728.0</td><td>247.0</td><td>90.0</td><td>287.0</td><td>4750.0</td><td>4750.0</td><td>4750.0</td><td>4750.0</td><td>496148.8</td><td>1.0</td><td>240.0</td><td>1131135.9</td><td>495910.4</td><td>&quot;CA&quot;</td><td>1.0</td><td>198.0</td><td>112.0</td><td>175.0</td><td>109.0</td><td>266.0</td><td>24.0</td><td>35.0</td><td>1.0</td><td>390.0</td><td>13.0</td><td>&hellip;</td><td>4079.0</td><td>20198.0</td><td>20198.0</td><td>5323.0</td><td>5323.0</td><td>&quot;POS&quot;</td><td>1.0</td><td>1.0</td><td>199600.0</td><td>199600.0</td><td>4245.0</td><td>4245.0</td><td>1210629.1</td><td>1210629.1</td><td>61.0</td><td>61.0</td><td>&quot;a55475b1&quot;</td><td>&quot;a55475b1&quot;</td><td>&quot;a55475b1&quot;</td><td>&quot;a55475b1&quot;</td><td>1.0</td><td>&quot;T&quot;</td><td>61.0</td><td>61.0</td><td>&quot;a55475b1&quot;</td><td>1.0</td><td>&quot;a55475b1&quot;</td><td>&quot;a55475b1&quot;</td><td>&quot;a55475b1&quot;</td><td>18540.0</td><td>18540.0</td><td>&quot;a55475b1&quot;</td><td>1.0</td><td>&quot;a55475b1&quot;</td><td>&quot;SECONDARY_MOBI…</td><td>1.0</td><td>76.093147</td></tr></tbody></table></div>"
     },
     "execution_count": 4,
     "metadata": {},
     "output_type": "execute_result"
    }
   ],
   "source": [
    "data.describe()"
   ],
   "metadata": {
    "collapsed": false,
    "ExecuteTime": {
     "end_time": "2024-02-28T15:17:20.585709628Z",
     "start_time": "2024-02-28T15:17:15.853441358Z"
    }
   },
   "id": "8f81828115afc5d3",
   "execution_count": 4
  },
  {
   "cell_type": "code",
   "outputs": [
    {
     "data": {
      "text/plain": "shape: (1_526_658, 1)\n┌────────┐\n│ target │\n│ ---    │\n│ i64    │\n╞════════╡\n│ 0      │\n│ 0      │\n│ 0      │\n│ 0      │\n│ 1      │\n│ …      │\n│ 0      │\n│ 0      │\n│ 0      │\n│ 0      │\n│ 0      │\n└────────┘",
      "text/html": "<div><style>\n.dataframe > thead > tr,\n.dataframe > tbody > tr {\n  text-align: right;\n  white-space: pre-wrap;\n}\n</style>\n<small>shape: (1_526_658, 1)</small><table border=\"1\" class=\"dataframe\"><thead><tr><th>target</th></tr><tr><td>i64</td></tr></thead><tbody><tr><td>0</td></tr><tr><td>0</td></tr><tr><td>0</td></tr><tr><td>0</td></tr><tr><td>1</td></tr><tr><td>0</td></tr><tr><td>0</td></tr><tr><td>0</td></tr><tr><td>0</td></tr><tr><td>0</td></tr><tr><td>0</td></tr><tr><td>0</td></tr><tr><td>&hellip;</td></tr><tr><td>0</td></tr><tr><td>0</td></tr><tr><td>0</td></tr><tr><td>0</td></tr><tr><td>0</td></tr><tr><td>0</td></tr><tr><td>0</td></tr><tr><td>0</td></tr><tr><td>0</td></tr><tr><td>0</td></tr><tr><td>0</td></tr><tr><td>0</td></tr></tbody></table></div>"
     },
     "execution_count": 5,
     "metadata": {},
     "output_type": "execute_result"
    }
   ],
   "source": [
    "data.select([col for col in data.columns if \"target\" in col]).collect()"
   ],
   "metadata": {
    "collapsed": false,
    "ExecuteTime": {
     "end_time": "2024-02-28T15:17:21.145884022Z",
     "start_time": "2024-02-28T15:17:20.582274280Z"
    }
   },
   "id": "e9ef0e8b381d6137",
   "execution_count": 5
  },
  {
   "cell_type": "code",
   "outputs": [],
   "source": [
    "data.head().collect()"
   ],
   "metadata": {
    "collapsed": false,
    "is_executing": true,
    "ExecuteTime": {
     "start_time": "2024-02-28T15:17:21.142572980Z"
    }
   },
   "id": "cd37c0ae618bbbb3",
   "execution_count": null
  },
  {
   "cell_type": "code",
   "outputs": [],
   "source": [
    "train_base = pl.scan_parquet(\"/home/paolo/git/home-credit/data/datalake/bronze/train/train_base.parquet\")\n",
    "train_base.sort(\"case_id\").head().collect()"
   ],
   "metadata": {
    "collapsed": false,
    "is_executing": true
   },
   "id": "37f379c70242aca3",
   "execution_count": null
  }
 ],
 "metadata": {
  "kernelspec": {
   "display_name": "Python 3",
   "language": "python",
   "name": "python3"
  },
  "language_info": {
   "codemirror_mode": {
    "name": "ipython",
    "version": 2
   },
   "file_extension": ".py",
   "mimetype": "text/x-python",
   "name": "python",
   "nbconvert_exporter": "python",
   "pygments_lexer": "ipython2",
   "version": "2.7.6"
  }
 },
 "nbformat": 4,
 "nbformat_minor": 5
}
