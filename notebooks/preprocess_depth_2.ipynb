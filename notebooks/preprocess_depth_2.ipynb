{
 "cells": [
  {
   "cell_type": "code",
   "execution_count": 1,
   "id": "initial_id",
   "metadata": {
    "collapsed": true,
    "ExecuteTime": {
     "end_time": "2024-03-04T12:58:19.774973821Z",
     "start_time": "2024-03-04T12:58:19.734583131Z"
    }
   },
   "outputs": [
    {
     "data": {
      "text/plain": "['train_applprev_1_0',\n 'train_applprev_1_1',\n 'train_applprev_2',\n 'train_base',\n 'train_credit_bureau_a_1_0',\n 'train_credit_bureau_a_1_1',\n 'train_credit_bureau_a_1_2',\n 'train_credit_bureau_a_1_3',\n 'train_credit_bureau_a_2_0',\n 'train_credit_bureau_a_2_1',\n 'train_credit_bureau_a_2_10',\n 'train_credit_bureau_a_2_2',\n 'train_credit_bureau_a_2_3',\n 'train_credit_bureau_a_2_4',\n 'train_credit_bureau_a_2_5',\n 'train_credit_bureau_a_2_6',\n 'train_credit_bureau_a_2_7',\n 'train_credit_bureau_a_2_8',\n 'train_credit_bureau_a_2_9',\n 'train_credit_bureau_b_1',\n 'train_credit_bureau_b_2',\n 'train_debitcard_1',\n 'train_deposit_1',\n 'train_other_1',\n 'train_person_1',\n 'train_person_2',\n 'train_static_0_0',\n 'train_static_0_1',\n 'train_static_cb_0',\n 'train_tax_registry_a_1',\n 'train_tax_registry_b_1',\n 'train_tax_registry_c_1']"
     },
     "execution_count": 1,
     "metadata": {},
     "output_type": "execute_result"
    }
   ],
   "source": [
    "import pathlib\n",
    "import duckdb\n",
    "import polars as pl\n",
    "\n",
    "pl.Config(set_fmt_float=\"full\")\n",
    "\n",
    "train_paths: list[pathlib.Path] = list((pathlib.Path.cwd().parent / \"data\" / \"datalake\" / \"bronze\").rglob(\"train*parquet\"))\n",
    "train_paths: dict[str, pathlib.Path] = {k.name.split(\".\")[0]: k for k in train_paths}\n",
    "sorted(list(train_paths.keys()))"
   ]
  },
  {
   "cell_type": "code",
   "outputs": [
    {
     "data": {
      "text/plain": "['train_credit_bureau_b_2',\n 'train_credit_bureau_a_2_6',\n 'train_credit_bureau_a_2_3',\n 'train_credit_bureau_a_2_9',\n 'train_credit_bureau_a_2_5',\n 'train_credit_bureau_a_2_2',\n 'train_applprev_2',\n 'train_credit_bureau_a_2_8',\n 'train_person_2',\n 'train_credit_bureau_a_2_10',\n 'train_credit_bureau_a_2_1',\n 'train_credit_bureau_a_2_7',\n 'train_credit_bureau_a_2_0',\n 'train_credit_bureau_a_2_4']"
     },
     "execution_count": 2,
     "metadata": {},
     "output_type": "execute_result"
    }
   ],
   "source": [
    "depth_2_paths: list[pathlib.Path] = []\n",
    "for key in train_paths.keys():\n",
    "    if \"num_group2\" in pl.scan_parquet(train_paths.get(key)).columns:\n",
    "        depth_2_paths.append(key)\n",
    "depth_2_paths"
   ],
   "metadata": {
    "collapsed": false,
    "ExecuteTime": {
     "end_time": "2024-03-04T12:58:19.803671304Z",
     "start_time": "2024-03-04T12:58:19.794845612Z"
    }
   },
   "id": "3f1f17edf0a2b1c2",
   "execution_count": 2
  },
  {
   "cell_type": "markdown",
   "source": [
    "## Functions"
   ],
   "metadata": {
    "collapsed": false
   },
   "id": "3b851d484af03bc8"
  },
  {
   "cell_type": "code",
   "outputs": [],
   "source": [
    "def get_date_categorized_transforms(dataframe: pl.LazyFrame) -> list[pl.Expr]:\n",
    "    date_transforms = []\n",
    "\n",
    "    for col in dataframe.columns:\n",
    "        if not col.endswith(\"D\"):\n",
    "            continue\n",
    "\n",
    "        transform = (\n",
    "            pl.when(pl.col(col) > 365 * 5).then(pl.lit(\"MORE_THAN_5_YEARS\")).otherwise(\n",
    "                pl.when((pl.col(col) <= 365 * 5) & (pl.col(col) > 365)).then(pl.lit(\"BETWEEN_1_AND_5_YEARS\")).otherwise(\n",
    "                    pl.when((pl.col(col) <= 365) & (pl.col(col) > 180)).then(pl.lit(\"BETWEEN_6_MONTHS_AND_1_YEAR\")).otherwise(\n",
    "                        pl.when((pl.col(col) <= 180) & (pl.col(col).is_not_null())).then(pl.lit(\"LESS_THAN_6_MONTH\")).otherwise(pl.lit(\"UNKNOWN\"))\n",
    "                    )\n",
    "                )\n",
    "            ).alias(col))\n",
    "        date_transforms.append(transform)\n",
    "\n",
    "    return date_transforms\n",
    "\n",
    "\n",
    "def get_date_transforms(dataframe: pl.LazyFrame) -> list[pl.Expr]:\n",
    "    date_transforms = []\n",
    "    for col in dataframe.columns:\n",
    "        if not col.endswith(\"D\"):\n",
    "            continue\n",
    "\n",
    "        date_transforms.append(\n",
    "            (pl.col(\"date_decision\").cast(pl.Date) - pl.col(col).cast(pl.Date)).dt.total_days().alias(col)\n",
    "        )\n",
    "\n",
    "    return date_transforms\n",
    "\n",
    "\n",
    "def get_group_by_transforms(dataframe: pl.LazyFrame, group_by_cols: list[str]) -> list[pl.Expr]:\n",
    "    transforms = []\n",
    "    for col, col_dtype in zip(dataframe.columns, dataframe.dtypes):\n",
    "        if col in group_by_cols:\n",
    "            continue\n",
    "\n",
    "        if isinstance(col_dtype, tuple(pl.NUMERIC_DTYPES)):\n",
    "            transforms.append(pl.col(col).mean().shrink_dtype())\n",
    "\n",
    "        elif isinstance(col_dtype, pl.String):\n",
    "            transforms.append(pl.col(col).mode().drop_nulls().first())\n",
    "\n",
    "        elif isinstance(col_dtype, pl.Date):\n",
    "            transforms.append(pl.col(col).first())\n",
    "\n",
    "    return transforms\n",
    "\n",
    "\n",
    "def get_columns_with_more_85_perc_nulls(dataframe: pl.LazyFrame, threshold: float = 0.85) -> list[str]:\n",
    "    dataframe = dataframe.collect()\n",
    "    length_dataframe: int = dataframe.shape[0]\n",
    "\n",
    "    describe = dataframe.describe(percentiles=[]).filter(pl.col(\"statistic\") == \"null_count\")\n",
    "    describe = describe.transpose(include_header=True, header_name=\"column\", column_names=[\"null_count\"]).slice(1).with_columns(pl.col(\"null_count\").cast(pl.Float32) / length_dataframe)\n",
    "\n",
    "    return describe.filter(pl.col(\"null_count\") > threshold).select(\"column\").to_series().to_list()\n",
    "\n",
    "\n",
    "def binarize_columns_with_more_85_perc_nulls(columns: list[str]) -> list[pl.Expr]:\n",
    "    transforms = []\n",
    "    for col in columns:\n",
    "        transforms.append(\n",
    "            pl.when(pl.col(col).is_null()).then(pl.lit(False)).otherwise(pl.lit(True)).alias(col)\n",
    "        )\n",
    "    return transforms\n"
   ],
   "metadata": {
    "collapsed": false,
    "ExecuteTime": {
     "end_time": "2024-03-04T12:58:19.804082180Z",
     "start_time": "2024-03-04T12:58:19.795000905Z"
    }
   },
   "id": "c4fc75554f13a744",
   "execution_count": 3
  },
  {
   "cell_type": "markdown",
   "source": [
    "## Load data"
   ],
   "metadata": {
    "collapsed": false
   },
   "id": "f669c0c343753075"
  },
  {
   "cell_type": "code",
   "outputs": [],
   "source": [
    "base_train: pl.LazyFrame = pl.scan_parquet(train_paths.get(\"train_base\")).select(\"case_id\", \"date_decision\")\n",
    "persons: pl.LazyFrame = pl.scan_parquet(train_paths.get(\"train_person_2\"))\n",
    "applprev: pl.LazyFrame = pl.scan_parquet(train_paths.get(\"train_applprev_2\"))\n",
    "# credit_bureau: pl.LazyFrame = pl.concat([pl.scan_parquet(train_paths.get(f\"train_credit_bureau_a_2_{i}\")) for i in range(10)])"
   ],
   "metadata": {
    "collapsed": false,
    "ExecuteTime": {
     "end_time": "2024-03-04T12:58:19.804413215Z",
     "start_time": "2024-03-04T12:58:19.795074804Z"
    }
   },
   "id": "98516ee46250ef1c",
   "execution_count": 4
  },
  {
   "cell_type": "code",
   "outputs": [],
   "source": [
    "JOIN_COLUMNS = [\"case_id\", \"num_group1\", \"num_group2\"]\n",
    "\n",
    "data = base_train.join(other=persons, how=\"left\", on=\"case_id\").join(other=applprev, how=\"left\", on=JOIN_COLUMNS)"
   ],
   "metadata": {
    "collapsed": false,
    "ExecuteTime": {
     "end_time": "2024-03-04T12:58:19.804746815Z",
     "start_time": "2024-03-04T12:58:19.795119900Z"
    }
   },
   "id": "afcb9a3ee1c2f0d2",
   "execution_count": 5
  },
  {
   "cell_type": "code",
   "outputs": [],
   "source": [
    "# cols_to_binarize = get_columns_with_more_85_perc_nulls(data)\n",
    "# \n",
    "# data = data.with_columns(*binarize_columns_with_more_85_perc_nulls(cols_to_binarize))"
   ],
   "metadata": {
    "collapsed": false,
    "ExecuteTime": {
     "end_time": "2024-03-04T12:58:19.859394334Z",
     "start_time": "2024-03-04T12:58:19.795159805Z"
    }
   },
   "id": "4c3a0c5d1461a09c",
   "execution_count": 6
  },
  {
   "cell_type": "code",
   "outputs": [
    {
     "data": {
      "text/plain": "shape: (5_757, 2)\n┌─────────┬─────────────────────────┐\n│ case_id ┆ empls_employedfrom_796D │\n│ ---     ┆ ---                     │\n│ i64     ┆ str                     │\n╞═════════╪═════════════════════════╡\n│ 22      ┆ 2018-06-15              │\n│ 246     ┆ 2011-08-15              │\n│ 987     ┆ 1994-05-15              │\n│ 1128    ┆ 2013-01-15              │\n│ 1217    ┆ 2014-09-15              │\n│ …       ┆ …                       │\n│ 2701940 ┆ 2012-07-15              │\n│ 2701940 ┆ 2012-07-15              │\n│ 2702362 ┆ 2013-05-18              │\n│ 2702488 ┆ 2017-01-15              │\n│ 2702502 ┆ 2013-02-19              │\n└─────────┴─────────────────────────┘",
      "text/html": "<div><style>\n.dataframe > thead > tr,\n.dataframe > tbody > tr {\n  text-align: right;\n  white-space: pre-wrap;\n}\n</style>\n<small>shape: (5_757, 2)</small><table border=\"1\" class=\"dataframe\"><thead><tr><th>case_id</th><th>empls_employedfrom_796D</th></tr><tr><td>i64</td><td>str</td></tr></thead><tbody><tr><td>22</td><td>&quot;2018-06-15&quot;</td></tr><tr><td>246</td><td>&quot;2011-08-15&quot;</td></tr><tr><td>987</td><td>&quot;1994-05-15&quot;</td></tr><tr><td>1128</td><td>&quot;2013-01-15&quot;</td></tr><tr><td>1217</td><td>&quot;2014-09-15&quot;</td></tr><tr><td>1277</td><td>&quot;2010-06-15&quot;</td></tr><tr><td>1463</td><td>&quot;2018-09-04&quot;</td></tr><tr><td>1527</td><td>&quot;2015-02-15&quot;</td></tr><tr><td>1618</td><td>&quot;2008-06-15&quot;</td></tr><tr><td>1620</td><td>&quot;2007-09-15&quot;</td></tr><tr><td>2020</td><td>&quot;2012-01-15&quot;</td></tr><tr><td>2073</td><td>&quot;2012-05-15&quot;</td></tr><tr><td>&hellip;</td><td>&hellip;</td></tr><tr><td>2699112</td><td>&quot;2014-02-17&quot;</td></tr><tr><td>2699210</td><td>&quot;2012-01-15&quot;</td></tr><tr><td>2699281</td><td>&quot;2015-01-15&quot;</td></tr><tr><td>2699736</td><td>&quot;2018-07-15&quot;</td></tr><tr><td>2700165</td><td>&quot;2012-10-15&quot;</td></tr><tr><td>2701208</td><td>&quot;2017-02-15&quot;</td></tr><tr><td>2701851</td><td>&quot;2003-01-15&quot;</td></tr><tr><td>2701940</td><td>&quot;2012-07-15&quot;</td></tr><tr><td>2701940</td><td>&quot;2012-07-15&quot;</td></tr><tr><td>2702362</td><td>&quot;2013-05-18&quot;</td></tr><tr><td>2702488</td><td>&quot;2017-01-15&quot;</td></tr><tr><td>2702502</td><td>&quot;2013-02-19&quot;</td></tr></tbody></table></div>"
     },
     "execution_count": 7,
     "metadata": {},
     "output_type": "execute_result"
    }
   ],
   "source": [
    "data.select(\"case_id\", \"empls_employedfrom_796D\").drop_nulls().collect()"
   ],
   "metadata": {
    "collapsed": false,
    "ExecuteTime": {
     "end_time": "2024-03-04T12:58:20.611255050Z",
     "start_time": "2024-03-04T12:58:19.837457226Z"
    }
   },
   "id": "d4ac3a1f8bbea3e8",
   "execution_count": 7
  },
  {
   "cell_type": "code",
   "outputs": [
    {
     "data": {
      "text/plain": "shape: (8, 2)\n┌───────────────────┬────────┐\n│ conts_type_509L   ┆ count  │\n│ ---               ┆ ---    │\n│ str               ┆ u32    │\n╞═══════════════════╪════════╡\n│ PRIMARY_MOBILE    ┆ 976126 │\n│ PHONE             ┆ 118393 │\n│ HOME_PHONE        ┆ 62356  │\n│ EMPLOYMENT_PHONE  ┆ 41769  │\n│ PRIMARY_EMAIL     ┆ 3567   │\n│ SECONDARY_MOBILE  ┆ 1240   │\n│ ALTERNATIVE_PHONE ┆ 109    │\n│ WHATSAPP          ┆ 1      │\n└───────────────────┴────────┘",
      "text/html": "<div><style>\n.dataframe > thead > tr,\n.dataframe > tbody > tr {\n  text-align: right;\n  white-space: pre-wrap;\n}\n</style>\n<small>shape: (8, 2)</small><table border=\"1\" class=\"dataframe\"><thead><tr><th>conts_type_509L</th><th>count</th></tr><tr><td>str</td><td>u32</td></tr></thead><tbody><tr><td>&quot;PRIMARY_MOBILE…</td><td>976126</td></tr><tr><td>&quot;PHONE&quot;</td><td>118393</td></tr><tr><td>&quot;HOME_PHONE&quot;</td><td>62356</td></tr><tr><td>&quot;EMPLOYMENT_PHO…</td><td>41769</td></tr><tr><td>&quot;PRIMARY_EMAIL&quot;</td><td>3567</td></tr><tr><td>&quot;SECONDARY_MOBI…</td><td>1240</td></tr><tr><td>&quot;ALTERNATIVE_PH…</td><td>109</td></tr><tr><td>&quot;WHATSAPP&quot;</td><td>1</td></tr></tbody></table></div>"
     },
     "execution_count": 8,
     "metadata": {},
     "output_type": "execute_result"
    }
   ],
   "source": [
    "data.select(\"conts_type_509L\").drop_nulls().collect().to_series().value_counts().sort(\"count\", descending=True)"
   ],
   "metadata": {
    "collapsed": false,
    "ExecuteTime": {
     "end_time": "2024-03-04T12:58:22.030365443Z",
     "start_time": "2024-03-04T12:58:20.613275164Z"
    }
   },
   "id": "d860d38e9932e7d6",
   "execution_count": 8
  },
  {
   "cell_type": "code",
   "outputs": [
    {
     "data": {
      "text/plain": "shape: (1_203_561, 4)\n┌─────────┬────────────┬────────────┬─────────────────┐\n│ case_id ┆ num_group1 ┆ num_group2 ┆ conts_type_509L │\n│ ---     ┆ ---        ┆ ---        ┆ ---             │\n│ i64     ┆ i64        ┆ i64        ┆ str             │\n╞═════════╪════════════╪════════════╪═════════════════╡\n│ 5       ┆ 0          ┆ 0          ┆ PRIMARY_MOBILE  │\n│ 6       ┆ 0          ┆ 0          ┆ PRIMARY_MOBILE  │\n│ 6       ┆ 1          ┆ 0          ┆ PRIMARY_MOBILE  │\n│ 6       ┆ 1          ┆ 1          ┆ PHONE           │\n│ 10      ┆ 0          ┆ 0          ┆ PRIMARY_MOBILE  │\n│ …       ┆ …          ┆ …          ┆ …               │\n│ 2703450 ┆ 0          ┆ 0          ┆ PRIMARY_MOBILE  │\n│ 2703451 ┆ 0          ┆ 0          ┆ PRIMARY_MOBILE  │\n│ 2703452 ┆ 0          ┆ 0          ┆ PRIMARY_MOBILE  │\n│ 2703453 ┆ 0          ┆ 0          ┆ PRIMARY_MOBILE  │\n│ 2703454 ┆ 0          ┆ 0          ┆ PRIMARY_MOBILE  │\n└─────────┴────────────┴────────────┴─────────────────┘",
      "text/html": "<div><style>\n.dataframe > thead > tr,\n.dataframe > tbody > tr {\n  text-align: right;\n  white-space: pre-wrap;\n}\n</style>\n<small>shape: (1_203_561, 4)</small><table border=\"1\" class=\"dataframe\"><thead><tr><th>case_id</th><th>num_group1</th><th>num_group2</th><th>conts_type_509L</th></tr><tr><td>i64</td><td>i64</td><td>i64</td><td>str</td></tr></thead><tbody><tr><td>5</td><td>0</td><td>0</td><td>&quot;PRIMARY_MOBILE…</td></tr><tr><td>6</td><td>0</td><td>0</td><td>&quot;PRIMARY_MOBILE…</td></tr><tr><td>6</td><td>1</td><td>0</td><td>&quot;PRIMARY_MOBILE…</td></tr><tr><td>6</td><td>1</td><td>1</td><td>&quot;PHONE&quot;</td></tr><tr><td>10</td><td>0</td><td>0</td><td>&quot;PRIMARY_MOBILE…</td></tr><tr><td>13</td><td>0</td><td>0</td><td>&quot;PRIMARY_MOBILE…</td></tr><tr><td>14</td><td>0</td><td>0</td><td>&quot;PRIMARY_MOBILE…</td></tr><tr><td>16</td><td>0</td><td>0</td><td>&quot;PRIMARY_MOBILE…</td></tr><tr><td>17</td><td>0</td><td>0</td><td>&quot;PRIMARY_MOBILE…</td></tr><tr><td>18</td><td>0</td><td>0</td><td>&quot;PRIMARY_MOBILE…</td></tr><tr><td>20</td><td>0</td><td>0</td><td>&quot;PRIMARY_MOBILE…</td></tr><tr><td>20</td><td>1</td><td>0</td><td>&quot;PHONE&quot;</td></tr><tr><td>&hellip;</td><td>&hellip;</td><td>&hellip;</td><td>&hellip;</td></tr><tr><td>2703442</td><td>0</td><td>0</td><td>&quot;PRIMARY_MOBILE…</td></tr><tr><td>2703443</td><td>0</td><td>0</td><td>&quot;PRIMARY_MOBILE…</td></tr><tr><td>2703445</td><td>0</td><td>0</td><td>&quot;PRIMARY_MOBILE…</td></tr><tr><td>2703446</td><td>0</td><td>0</td><td>&quot;PRIMARY_MOBILE…</td></tr><tr><td>2703447</td><td>0</td><td>0</td><td>&quot;PRIMARY_MOBILE…</td></tr><tr><td>2703448</td><td>0</td><td>0</td><td>&quot;HOME_PHONE&quot;</td></tr><tr><td>2703449</td><td>0</td><td>0</td><td>&quot;PRIMARY_MOBILE…</td></tr><tr><td>2703450</td><td>0</td><td>0</td><td>&quot;PRIMARY_MOBILE…</td></tr><tr><td>2703451</td><td>0</td><td>0</td><td>&quot;PRIMARY_MOBILE…</td></tr><tr><td>2703452</td><td>0</td><td>0</td><td>&quot;PRIMARY_MOBILE…</td></tr><tr><td>2703453</td><td>0</td><td>0</td><td>&quot;PRIMARY_MOBILE…</td></tr><tr><td>2703454</td><td>0</td><td>0</td><td>&quot;PRIMARY_MOBILE…</td></tr></tbody></table></div>"
     },
     "execution_count": 9,
     "metadata": {},
     "output_type": "execute_result"
    }
   ],
   "source": [
    "data.select(\"case_id\", \"num_group1\", \"num_group2\", \"conts_type_509L\").drop_nulls().sort(\"case_id\").collect()"
   ],
   "metadata": {
    "collapsed": false,
    "ExecuteTime": {
     "end_time": "2024-03-04T12:58:23.459683659Z",
     "start_time": "2024-03-04T12:58:22.038096670Z"
    }
   },
   "id": "50f1371eb444b95b",
   "execution_count": 9
  },
  {
   "cell_type": "code",
   "outputs": [],
   "source": [
    "data: pl.LazyFrame = data.group_by([\"case_id\", \"date_decision\"]).agg(\n",
    "    pl.col(\"empls_employedfrom_796D\").drop_nulls().mode().last()\n",
    ")"
   ],
   "metadata": {
    "collapsed": false,
    "ExecuteTime": {
     "end_time": "2024-03-04T12:58:23.460005677Z",
     "start_time": "2024-03-04T12:58:23.457852351Z"
    }
   },
   "id": "67c7f494484b5d32",
   "execution_count": 10
  },
  {
   "cell_type": "code",
   "outputs": [],
   "source": [
    "data = data.with_columns(*get_date_transforms(data)).drop(\"date_decision\")\n",
    "# data = data.with_columns(*get_date_categorized_transforms(data))\n",
    "# data = data.with_columns(pl.col(pl.Boolean).fill_null(False).cast(pl.Int8))\n",
    "# data = data.with_columns(\n",
    "#     # pl.col(\"target\").cast(pl.Boolean),\n",
    "#     # pl.col(\"num_group1\").cast(pl.Int16),\n",
    "#     # pl.col(\"num_group2\").cast(pl.Int16),\n",
    "# ).drop(\"date_decision\")\n",
    "\n",
    "# data.sort(\"case_id\").head().collect()"
   ],
   "metadata": {
    "collapsed": false,
    "ExecuteTime": {
     "end_time": "2024-03-04T12:58:23.554886308Z",
     "start_time": "2024-03-04T12:58:23.459365067Z"
    }
   },
   "id": "41616a24f4a3325b",
   "execution_count": 11
  },
  {
   "cell_type": "code",
   "outputs": [],
   "source": [
    "from columns_fill_nulls import fill_nulls\n",
    "\n",
    "data = fill_nulls(data)"
   ],
   "metadata": {
    "collapsed": false,
    "ExecuteTime": {
     "end_time": "2024-03-04T12:58:23.555393536Z",
     "start_time": "2024-03-04T12:58:23.501319039Z"
    }
   },
   "id": "47707618cc8859db",
   "execution_count": 12
  },
  {
   "cell_type": "markdown",
   "source": [],
   "metadata": {
    "collapsed": false
   },
   "id": "6ac2195d8d08daee"
  },
  {
   "cell_type": "code",
   "outputs": [],
   "source": [
    "def save_dataframe_to_disk(group_by_col: str, num_percentiles: int = 10, depth: int = 2) -> None:\n",
    "    SLICE_OUTPUT_BASE_DIR: pathlib.Path = pathlib.Path(f\"../data/datalake/silver/depth_{depth}\")\n",
    "    SLICE_OUTPUT_BASE_DIR.mkdir(parents=True, exist_ok=True)\n",
    "\n",
    "    describe: dict[str, list[str | float]] = data.select(\"case_id\").describe(percentiles=[x/num_percentiles for x in range(num_percentiles)]).filter((pl.col(\"statistic\").str.contains(\"%\")) | (pl.col(\"statistic\").str.contains(\"max\"))).to_dict(as_series=False)\n",
    "    case_id_percentiles = sorted(describe.get(group_by_col))\n",
    "\n",
    "    for i in range(len(case_id_percentiles) - 1):\n",
    "        slice_data: pl.LazyFrame = data.filter((pl.col(group_by_col) >= case_id_percentiles[i]) & (pl.col(group_by_col) < case_id_percentiles[i+1]))\n",
    "        # slice_data.group_by(group_by_col).agg(*get_group_by_transforms(data, [group_by_col])).collect().write_parquet(SLICE_OUTPUT_BASE_DIR / f\"slice_{i}.parquet\")\n",
    "        slice_data.collect().write_parquet(SLICE_OUTPUT_BASE_DIR / f\"slice_{i}.parquet\")\n",
    "\n",
    "    # merge files and delete slices\n",
    "    pl.scan_parquet(SLICE_OUTPUT_BASE_DIR / \"slice_*.parquet\").collect().write_parquet(f\"../data/datalake/silver/depth_{depth}.parquet\")\n",
    "    for path in pathlib.Path(SLICE_OUTPUT_BASE_DIR).glob(\"slice*.parquet\"):\n",
    "        path.unlink(missing_ok=True)\n",
    "\n",
    "    SLICE_OUTPUT_BASE_DIR.rmdir()\n",
    "\n",
    "if False:\n",
    "    save_dataframe_to_disk(group_by_col=\"case_id\")"
   ],
   "metadata": {
    "collapsed": false,
    "ExecuteTime": {
     "end_time": "2024-03-04T12:58:23.555808078Z",
     "start_time": "2024-03-04T12:58:23.501396305Z"
    }
   },
   "id": "4f2e039b658037c4",
   "execution_count": 13
  }
 ],
 "metadata": {
  "kernelspec": {
   "display_name": "Python 3",
   "language": "python",
   "name": "python3"
  },
  "language_info": {
   "codemirror_mode": {
    "name": "ipython",
    "version": 2
   },
   "file_extension": ".py",
   "mimetype": "text/x-python",
   "name": "python",
   "nbconvert_exporter": "python",
   "pygments_lexer": "ipython2",
   "version": "2.7.6"
  }
 },
 "nbformat": 4,
 "nbformat_minor": 5
}
