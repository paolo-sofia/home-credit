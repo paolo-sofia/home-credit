{
 "cells": [
  {
   "cell_type": "code",
   "outputs": [
    {
     "data": {
      "text/plain": "<polars.config.Config at 0x78005054b710>"
     },
     "execution_count": 1,
     "metadata": {},
     "output_type": "execute_result"
    }
   ],
   "source": [
    "import pathlib\n",
    "import polars as pl\n",
    "\n",
    "pl.Config(set_fmt_float=\"full\")"
   ],
   "metadata": {
    "collapsed": false,
    "ExecuteTime": {
     "end_time": "2024-02-28T15:11:53.488453845Z",
     "start_time": "2024-02-28T15:11:53.409785893Z"
    }
   },
   "id": "6330efa242f07d4b",
   "execution_count": 1
  },
  {
   "cell_type": "code",
   "outputs": [],
   "source": [
    "def get_group_by_transforms(dataframe: pl.LazyFrame, group_by_cols: list[str]) -> list[pl.Expr]:\n",
    "    transforms = []\n",
    "\n",
    "    for col, col_dtype in zip(dataframe.columns, dataframe.dtypes):\n",
    "        if col in group_by_cols or col in [\"num_group1\", \"num_group2\"]:\n",
    "            continue\n",
    "        \n",
    "        # if col in [\"age\", \"age_days\"]:    \n",
    "        #     transforms.append(pl.col(col).drop_nulls().mode().first().alias(col))\n",
    "        if isinstance(col_dtype, pl.UInt8):\n",
    "            transforms.extend([\n",
    "                pl.col(col).median().alias(f\"{col}_median\"),\n",
    "                # pl.col(col).mode().first().alias(f\"{col}_mode\"),\n",
    "                # pl.col(col).min().alias(f\"{col}_min\"),\n",
    "                # pl.col(col).max().alias(f\"{col}_max\"),\n",
    "                # pl.col(col).first().alias(f\"{col}_first\"),\n",
    "                # pl.col(col).last().alias(f\"{col}_last\"),\n",
    "            ])\n",
    "\n",
    "        elif isinstance(col_dtype, tuple(pl.NUMERIC_DTYPES)):\n",
    "            transforms.extend([\n",
    "                pl.col(col).median().alias(f\"{col}_median\"),\n",
    "                # pl.col(col).mode().first().alias(f\"{col}_mode\"),\n",
    "                pl.col(col).mean().alias(f\"{col}_mean\"),\n",
    "                # pl.col(col).std().alias(f\"{col}_std\"),\n",
    "                # pl.col(col).min().alias(f\"{col}_min\"),\n",
    "                # pl.col(col).max().alias(f\"{col}_max\"),\n",
    "                # pl.col(col).first().alias(f\"{col}_first\"),\n",
    "                # pl.col(col).last().alias(f\"{col}_last\"),\n",
    "            ])\n",
    "\n",
    "        elif isinstance(col_dtype, pl.String):\n",
    "            # transforms.extend([\n",
    "            #     pl.col(col).mode().first().alias(f\"{col}_mode\"),\n",
    "            #     pl.col(col).min().alias(f\"{col}_min\"),\n",
    "            #     pl.col(col).max().alias(f\"{col}_max\"),\n",
    "            #     pl.col(col).first().alias(f\"{col}_first\"),\n",
    "            #     pl.col(col).last().alias(f\"{col}_last\"),\n",
    "            # ])\n",
    "            transforms.append(pl.col(col).mode().first().alias(f\"{col}_mode\"))\n",
    "\n",
    "        elif isinstance(col_dtype, pl.Date):\n",
    "            transforms.append(pl.col(col).first())\n",
    "\n",
    "    return transforms\n",
    "\n",
    "def convert_boolean_to_int(dataframe: pl.LazyFrame) -> pl.LazyFrame:\n",
    "    transforms = []\n",
    "    for col, col_dtype in zip(dataframe.columns, dataframe.dtypes):\n",
    "       if isinstance(col_dtype, pl.Boolean):\n",
    "           transforms.append(pl.col(col).cast(pl.UInt8))\n",
    "    return dataframe.with_columns(*transforms)"
   ],
   "metadata": {
    "collapsed": false,
    "ExecuteTime": {
     "end_time": "2024-02-28T15:11:53.503584588Z",
     "start_time": "2024-02-28T15:11:53.488705180Z"
    }
   },
   "id": "d3d0fae204a1a345",
   "execution_count": 2
  },
  {
   "cell_type": "code",
   "execution_count": 3,
   "id": "initial_id",
   "metadata": {
    "collapsed": true,
    "ExecuteTime": {
     "end_time": "2024-02-28T15:11:53.503936763Z",
     "start_time": "2024-02-28T15:11:53.488919535Z"
    }
   },
   "outputs": [],
   "source": [
    "BASE_DIR = pathlib.Path(\"../data/datalake/silver\")\n",
    "\n",
    "DEPTH_0_PATH = BASE_DIR / \"depth_0.parquet\"\n",
    "DEPTH_1_PATH = BASE_DIR / \"depth_1.parquet\"\n",
    "DEPTH_2_PATH = BASE_DIR / \"depth_2.parquet\"\n",
    "OUTPUT_PATH = BASE_DIR / \"preprocessed.parquet\""
   ]
  },
  {
   "cell_type": "code",
   "outputs": [],
   "source": [
    "JOIN_COLUMNS = [\"case_id\", \"num_group1\"]\n",
    "data_depth0: pl.LazyFrame = pl.scan_parquet(DEPTH_0_PATH)\n",
    "data_depth1: pl.LazyFrame = pl.scan_parquet(DEPTH_1_PATH)\n",
    "data_depth2: pl.LazyFrame = pl.scan_parquet(DEPTH_2_PATH)"
   ],
   "metadata": {
    "collapsed": false,
    "ExecuteTime": {
     "end_time": "2024-02-28T15:11:53.524007637Z",
     "start_time": "2024-02-28T15:11:53.489072764Z"
    }
   },
   "id": "e23fbbf761faea70",
   "execution_count": 4
  },
  {
   "cell_type": "code",
   "outputs": [],
   "source": [
    "data = data_depth1.join(data_depth2, how=\"left\", on=JOIN_COLUMNS)\n",
    "data = convert_boolean_to_int(data)"
   ],
   "metadata": {
    "collapsed": false,
    "ExecuteTime": {
     "end_time": "2024-02-28T15:11:53.566250852Z",
     "start_time": "2024-02-28T15:11:53.564412811Z"
    }
   },
   "id": "41ecd2c1216efbe5",
   "execution_count": 5
  },
  {
   "cell_type": "code",
   "outputs": [],
   "source": [
    "age: pl.LazyFrame = data.select(\"case_id\", \"age\").group_by(\"case_id\").agg(\n",
    "    pl.col(\"age\").drop_nulls().mode().first().alias(\"age\")\n",
    ")"
   ],
   "metadata": {
    "collapsed": false,
    "ExecuteTime": {
     "end_time": "2024-02-28T15:11:53.566750005Z",
     "start_time": "2024-02-28T15:11:53.565321848Z"
    }
   },
   "id": "57b636c05bb8fd8c",
   "execution_count": 6
  },
  {
   "cell_type": "code",
   "outputs": [],
   "source": [
    "data = data.drop([\"age\"])"
   ],
   "metadata": {
    "collapsed": false,
    "ExecuteTime": {
     "end_time": "2024-02-28T15:11:53.567031126Z",
     "start_time": "2024-02-28T15:11:53.565483643Z"
    }
   },
   "id": "abd2da5630214ba2",
   "execution_count": 7
  },
  {
   "cell_type": "code",
   "outputs": [],
   "source": [
    "data = data.group_by(JOIN_COLUMNS[0]).agg(\n",
    "    *get_group_by_transforms(data, group_by_cols=JOIN_COLUMNS[0])\n",
    ")"
   ],
   "metadata": {
    "collapsed": false,
    "ExecuteTime": {
     "end_time": "2024-02-28T15:11:53.567489962Z",
     "start_time": "2024-02-28T15:11:53.565703599Z"
    }
   },
   "id": "5a49d6ef0035345a",
   "execution_count": 8
  },
  {
   "cell_type": "code",
   "outputs": [],
   "source": [
    "data = data_depth0.join(data, how=\"left\", on=JOIN_COLUMNS[0])"
   ],
   "metadata": {
    "collapsed": false,
    "ExecuteTime": {
     "end_time": "2024-02-28T15:11:53.567959268Z",
     "start_time": "2024-02-28T15:11:53.565801203Z"
    }
   },
   "id": "3f4a0e43d010da20",
   "execution_count": 9
  },
  {
   "cell_type": "code",
   "outputs": [
    {
     "data": {
      "text/plain": "shape: (1_526_659, 2)\n┌─────────┬────────┐\n│ case_id ┆ target │\n│ ---     ┆ ---    │\n│ i64     ┆ i64    │\n╞═════════╪════════╡\n│ 0       ┆ 0      │\n│ 1       ┆ 0      │\n│ 2       ┆ 0      │\n│ 3       ┆ 0      │\n│ 4       ┆ 1      │\n│ …       ┆ …      │\n│ 2703450 ┆ 0      │\n│ 2703451 ┆ 0      │\n│ 2703452 ┆ 0      │\n│ 2703453 ┆ 0      │\n│ 2703454 ┆ 0      │\n└─────────┴────────┘",
      "text/html": "<div><style>\n.dataframe > thead > tr,\n.dataframe > tbody > tr {\n  text-align: right;\n  white-space: pre-wrap;\n}\n</style>\n<small>shape: (1_526_659, 2)</small><table border=\"1\" class=\"dataframe\"><thead><tr><th>case_id</th><th>target</th></tr><tr><td>i64</td><td>i64</td></tr></thead><tbody><tr><td>0</td><td>0</td></tr><tr><td>1</td><td>0</td></tr><tr><td>2</td><td>0</td></tr><tr><td>3</td><td>0</td></tr><tr><td>4</td><td>1</td></tr><tr><td>5</td><td>0</td></tr><tr><td>6</td><td>0</td></tr><tr><td>7</td><td>0</td></tr><tr><td>8</td><td>0</td></tr><tr><td>9</td><td>0</td></tr><tr><td>10</td><td>0</td></tr><tr><td>11</td><td>0</td></tr><tr><td>&hellip;</td><td>&hellip;</td></tr><tr><td>2703442</td><td>0</td></tr><tr><td>2703443</td><td>0</td></tr><tr><td>2703445</td><td>0</td></tr><tr><td>2703446</td><td>0</td></tr><tr><td>2703447</td><td>0</td></tr><tr><td>2703448</td><td>0</td></tr><tr><td>2703449</td><td>0</td></tr><tr><td>2703450</td><td>0</td></tr><tr><td>2703451</td><td>0</td></tr><tr><td>2703452</td><td>0</td></tr><tr><td>2703453</td><td>0</td></tr><tr><td>2703454</td><td>0</td></tr></tbody></table></div>"
     },
     "execution_count": 10,
     "metadata": {},
     "output_type": "execute_result"
    }
   ],
   "source": [
    "data.select(\"case_id\", *[col for col in data.columns if \"target\" in col]).sort(\"case_id\").collect()"
   ],
   "metadata": {
    "collapsed": false,
    "ExecuteTime": {
     "end_time": "2024-02-28T15:11:53.982946617Z",
     "start_time": "2024-02-28T15:11:53.565890832Z"
    }
   },
   "id": "a87e3253e32d9d43",
   "execution_count": 10
  },
  {
   "cell_type": "code",
   "outputs": [
    {
     "name": "stdout",
     "output_type": "stream",
     "text": [
      "[0.0, 198100.0, 689865.0, 842530.0, 995196.0, 1357358.0, 1510024.0, 1662690.0, 1815355.0, 2550747.0, 2703454.0]\n",
      "0\n",
      "1\n",
      "2\n",
      "3\n",
      "4\n",
      "5\n",
      "6\n",
      "7\n",
      "8\n",
      "9\n"
     ]
    }
   ],
   "source": [
    "def save_dataframe_to_disk(filter_col: str, num_percentiles: int = 10, depth: int = 1) -> None:\n",
    "    SLICE_OUTPUT_BASE_DIR: pathlib.Path = pathlib.Path(f\"../data/datalake/silver/all_depth\")\n",
    "    SLICE_OUTPUT_BASE_DIR.mkdir(parents=True, exist_ok=True)\n",
    "\n",
    "    describe: dict[str, list[str | float]] = data.select(filter_col).describe(percentiles=[x/num_percentiles for x in range(num_percentiles)]).filter((pl.col(\"statistic\").str.contains(\"%\")) | (pl.col(\"statistic\").str.contains(\"max\"))).to_dict(as_series=False)\n",
    "    case_id_percentiles = sorted(describe.get(filter_col))\n",
    "    print(case_id_percentiles)\n",
    "\n",
    "    for i in range(len(case_id_percentiles) - 1):\n",
    "        print(i)\n",
    "        slice_data: pl.LazyFrame = data.filter((pl.col(filter_col) >= case_id_percentiles[i]) & (pl.col(filter_col) < case_id_percentiles[i+1]))\n",
    "        # slice_data.group_by(group_by_col).agg(*get_group_by_transforms(data, [group_by_col])).collect().write_parquet(SLICE_OUTPUT_BASE_DIR / f\"slice_{i}.parquet\")\n",
    "        slice_data = slice_data.join(age, on=\"case_id\", how=\"left\")\n",
    "        slice_data.collect().write_parquet(SLICE_OUTPUT_BASE_DIR / f\"slice_{i}.parquet\")\n",
    "\n",
    "    # merge files and delete slices\n",
    "    pl.scan_parquet(SLICE_OUTPUT_BASE_DIR / \"slice_*.parquet\").sink_parquet(OUTPUT_PATH)\n",
    "    for path in pathlib.Path(SLICE_OUTPUT_BASE_DIR).glob(\"slice*.parquet\"):\n",
    "        path.unlink(missing_ok=True)\n",
    "\n",
    "    SLICE_OUTPUT_BASE_DIR.rmdir()\n",
    "\n",
    "if True:\n",
    "    save_dataframe_to_disk(filter_col=\"case_id\")\n",
    "    data = pl.scan_parquet(OUTPUT_PATH)\n",
    "    data.sort(JOIN_COLUMNS[0]).head().collect()"
   ],
   "metadata": {
    "collapsed": false,
    "ExecuteTime": {
     "end_time": "2024-02-28T15:14:01.117819028Z",
     "start_time": "2024-02-28T15:11:53.986536166Z"
    }
   },
   "id": "ce0117dc2d1697da",
   "execution_count": 11
  },
  {
   "cell_type": "code",
   "outputs": [
    {
     "data": {
      "text/plain": "shape: (5, 2)\n┌─────────┬────────────────────┐\n│ case_id ┆ age                │\n│ ---     ┆ ---                │\n│ i64     ┆ f32                │\n╞═════════╪════════════════════╡\n│ 0       ┆ 32.5315055847168   │\n│ 1       ┆ 61.46575164794922  │\n│ 2       ┆ 44.123287200927734 │\n│ 3       ┆ 25.44109535217285  │\n│ 4       ┆ 25.024658203125    │\n└─────────┴────────────────────┘",
      "text/html": "<div><style>\n.dataframe > thead > tr,\n.dataframe > tbody > tr {\n  text-align: right;\n  white-space: pre-wrap;\n}\n</style>\n<small>shape: (5, 2)</small><table border=\"1\" class=\"dataframe\"><thead><tr><th>case_id</th><th>age</th></tr><tr><td>i64</td><td>f32</td></tr></thead><tbody><tr><td>0</td><td>32.5315055847168</td></tr><tr><td>1</td><td>61.46575164794922</td></tr><tr><td>2</td><td>44.123287200927734</td></tr><tr><td>3</td><td>25.44109535217285</td></tr><tr><td>4</td><td>25.024658203125</td></tr></tbody></table></div>"
     },
     "execution_count": 12,
     "metadata": {},
     "output_type": "execute_result"
    }
   ],
   "source": [
    "data.sort(\"case_id\").select(\"case_id\", \"age\").head().collect()"
   ],
   "metadata": {
    "collapsed": false,
    "ExecuteTime": {
     "end_time": "2024-02-28T15:14:01.656876365Z",
     "start_time": "2024-02-28T15:14:01.160214980Z"
    }
   },
   "id": "446a3a9b757f1b4a",
   "execution_count": 12
  }
 ],
 "metadata": {
  "kernelspec": {
   "display_name": "Python 3",
   "language": "python",
   "name": "python3"
  },
  "language_info": {
   "codemirror_mode": {
    "name": "ipython",
    "version": 2
   },
   "file_extension": ".py",
   "mimetype": "text/x-python",
   "name": "python",
   "nbconvert_exporter": "python",
   "pygments_lexer": "ipython2",
   "version": "2.7.6"
  }
 },
 "nbformat": 4,
 "nbformat_minor": 5
}
