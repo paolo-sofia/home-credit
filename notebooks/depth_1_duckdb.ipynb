{
 "cells": [
  {
   "cell_type": "code",
   "execution_count": 43,
   "id": "initial_id",
   "metadata": {
    "collapsed": true,
    "ExecuteTime": {
     "end_time": "2024-02-20T10:28:15.767097491Z",
     "start_time": "2024-02-20T10:28:15.762748873Z"
    }
   },
   "outputs": [],
   "source": [
    "import duckdb\n",
    "import pathlib\n",
    "\n",
    "connection = duckdb.connect(\"../data/duckdb/database.db\", read_only=False)"
   ]
  },
  {
   "cell_type": "code",
   "outputs": [],
   "source": [
    "BASE_PATH = pathlib.Path.cwd().parent / \"data\" / \"raw\" / \"parquet_files\" / \"train\"\n",
    "\n",
    "BASE_TRAIN_PATH = BASE_PATH / \"train_base.parquet\"\n",
    "\n",
    "APPLPREV0_PATH = BASE_PATH / \"train_applprev_1_0.parquet\"\n",
    "APPLPREV1_PATH = BASE_PATH / \"train_applprev_1_1.parquet\"\n",
    "\n",
    "DEBITCARD_PATH = BASE_PATH / \"train_debitcard_1.parquet\"\n",
    "DEPOSIT_PATH = BASE_PATH / \"train_deposit_1.parquet\"\n",
    "OTHER_PATH = BASE_PATH / \"train_other_1.parquet\"\n",
    "PERSON_PATH = BASE_PATH / \"train_person_1.parquet\""
   ],
   "metadata": {
    "collapsed": false,
    "ExecuteTime": {
     "end_time": "2024-02-20T10:28:15.777280695Z",
     "start_time": "2024-02-20T10:28:15.765140898Z"
    }
   },
   "id": "159115599d497573",
   "execution_count": 44
  },
  {
   "cell_type": "markdown",
   "source": [
    "## Load data"
   ],
   "metadata": {
    "collapsed": false
   },
   "id": "6ce68970f9fda460"
  },
  {
   "cell_type": "code",
   "outputs": [
    {
     "data": {
      "text/plain": "['case_id', 'date_decision']"
     },
     "execution_count": 45,
     "metadata": {},
     "output_type": "execute_result"
    }
   ],
   "source": [
    "base_train: duckdb.DuckDBPyRelation = connection.sql(f\"\"\"\n",
    "SELECT \n",
    "    case_id,\n",
    "    date_decision::DATE as date_decision,\n",
    "FROM\n",
    "    '{str(BASE_TRAIN_PATH)}'\n",
    "\"\"\").set_alias(\"base\")\n",
    "\n",
    "base_train.columns"
   ],
   "metadata": {
    "collapsed": false,
    "ExecuteTime": {
     "end_time": "2024-02-20T10:28:15.801235774Z",
     "start_time": "2024-02-20T10:28:15.778659879Z"
    }
   },
   "id": "eb96f080a0f52a3a",
   "execution_count": 45
  },
  {
   "cell_type": "code",
   "outputs": [
    {
     "data": {
      "text/plain": "['case_id',\n 'num_group1',\n 'amount_416A',\n 'contractenddate_991D',\n 'openingdate_313D']"
     },
     "execution_count": 46,
     "metadata": {},
     "output_type": "execute_result"
    }
   ],
   "source": [
    "deposit_data: duckdb.DuckDBPyRelation = connection.sql(f\"\"\"\n",
    "SELECT\n",
    "    case_id,\n",
    "    num_group1::TINYINT as num_group1,\n",
    "    amount_416A::FLOAT as amount_416A,\n",
    "    contractenddate_991D::DATE as contractenddate_991D,\n",
    "    openingdate_313D::DATE as openingdate_313D\n",
    "FROM\n",
    "    '{str(DEPOSIT_PATH)}'\n",
    "\"\"\").set_alias(\"deposit\")\n",
    "deposit_data.columns"
   ],
   "metadata": {
    "collapsed": false,
    "ExecuteTime": {
     "end_time": "2024-02-20T10:28:15.827308923Z",
     "start_time": "2024-02-20T10:28:15.784423067Z"
    }
   },
   "id": "b8c1b63cb054062e",
   "execution_count": 46
  },
  {
   "cell_type": "code",
   "outputs": [
    {
     "data": {
      "text/plain": "['case_id',\n 'amtdebitoutgoing_4809440A',\n 'amtdepositbalance_4809441A',\n 'amtdepositoutgoing_4809442A',\n 'amtdebitincoming_4809443A',\n 'amtdepositincoming_4809444A']"
     },
     "execution_count": 47,
     "metadata": {},
     "output_type": "execute_result"
    }
   ],
   "source": [
    "other_data: duckdb.DuckDBPyRelation = connection.sql(f\"\"\"\n",
    "SELECT\n",
    "    case_id,\n",
    "    amtdebitoutgoing_4809440A::FLOAT AS amtdebitoutgoing_4809440A,\n",
    "    amtdepositbalance_4809441A::FLOAT AS amtdepositbalance_4809441A,\n",
    "    amtdepositoutgoing_4809442A::FLOAT AS amtdepositoutgoing_4809442A,\n",
    "    amtdebitincoming_4809443A::FLOAT AS amtdebitincoming_4809443A,\n",
    "    amtdepositincoming_4809444A::FLOAT AS amtdepositincoming_4809444A\n",
    "FROM\n",
    "    '{str(OTHER_PATH)}'\n",
    "\"\"\").set_alias(\"other\")\n",
    "\n",
    "other_data.columns"
   ],
   "metadata": {
    "collapsed": false,
    "ExecuteTime": {
     "end_time": "2024-02-20T10:28:15.827880833Z",
     "start_time": "2024-02-20T10:28:15.827077656Z"
    }
   },
   "id": "9be5a62d6e10e56",
   "execution_count": 47
  },
  {
   "cell_type": "code",
   "outputs": [
    {
     "data": {
      "text/plain": "['case_id',\n 'num_group1',\n 'birth_259D',\n 'incometype_1044T',\n 'role_1084L',\n 'empl_employedfrom_271D',\n 'empl_industry_691L',\n 'mainoccupationinc_384A']"
     },
     "execution_count": 48,
     "metadata": {},
     "output_type": "execute_result"
    }
   ],
   "source": [
    "persons: duckdb.DuckDBPyRelation = connection.sql(f\"\"\"\n",
    "SELECT \n",
    "    case_id,\n",
    "    num_group1::TINYINT AS num_group1,\n",
    "    birth_259D::DATE AS birth_259D,\n",
    "    incometype_1044T,\n",
    "    role_1084L,\n",
    "    empl_employedfrom_271D::DATE AS empl_employedfrom_271D,\n",
    "    empl_industry_691L,\n",
    "    mainoccupationinc_384A::FLOAT AS mainoccupationinc_384A\n",
    "FROM\n",
    "    '{str(PERSON_PATH)}'\n",
    "\"\"\").set_alias(\"person\")\n",
    "\n",
    "persons.columns"
   ],
   "metadata": {
    "collapsed": false,
    "ExecuteTime": {
     "end_time": "2024-02-20T10:28:15.828155992Z",
     "start_time": "2024-02-20T10:28:15.827204706Z"
    }
   },
   "id": "3ecdc11e702e503f",
   "execution_count": 48
  },
  {
   "cell_type": "code",
   "outputs": [
    {
     "data": {
      "text/plain": "['case_id',\n 'actualdpd_943P',\n 'annuity_853A',\n 'approvaldate_319D',\n 'byoccupationinc_3656910L',\n 'cancelreason_3545846M',\n 'childnum_21L',\n 'creationdate_885D',\n 'credacc_actualbalance_314A',\n 'credacc_credlmt_575A',\n 'credacc_maxhisbal_375A',\n 'credacc_minhisbal_90A',\n 'credacc_status_367L',\n 'credacc_transactions_402L',\n 'credamount_590A',\n 'credtype_587L',\n 'currdebt_94A',\n 'dateactivated_425D',\n 'district_544M',\n 'downpmt_134A',\n 'dtlastpmt_581D',\n 'dtlastpmtallstes_3545839D',\n 'education_1138M',\n 'employedfrom_700D',\n 'familystate_726L',\n 'firstnonzeroinstldate_307D',\n 'inittransactioncode_279L',\n 'isbidproduct_390L',\n 'isdebitcard_527L',\n 'mainoccupationinc_437A',\n 'maxdpdtolerance_577P',\n 'num_group1',\n 'outstandingdebt_522A',\n 'pmtnum_8L',\n 'postype_4733339M',\n 'profession_152M',\n 'rejectreason_755M',\n 'rejectreasonclient_4145042M',\n 'revolvingaccount_394A',\n 'status_219L',\n 'tenor_203L']"
     },
     "execution_count": 49,
     "metadata": {},
     "output_type": "execute_result"
    }
   ],
   "source": [
    "applprev: duckdb.DuckDBPyRelation = connection.sql(f\"\"\"\n",
    "SELECT * FROM '{str(APPLPREV0_PATH)}'\n",
    "UNION\n",
    "SELECT * FROM '{str(APPLPREV1_PATH)}'\n",
    "\"\"\").set_alias(\"applprev\")\n",
    "\n",
    "applprev.columns"
   ],
   "metadata": {
    "collapsed": false,
    "ExecuteTime": {
     "end_time": "2024-02-20T10:28:15.828475225Z",
     "start_time": "2024-02-20T10:28:15.827248018Z"
    }
   },
   "id": "3bc66612714a7e26",
   "execution_count": 49
  },
  {
   "cell_type": "code",
   "outputs": [
    {
     "data": {
      "text/plain": "┌─────────┬───────────────┬──────────────────────┬───┬────────────────────┬──────────────────────┐\n│ case_id │ date_decision │ amtdebitoutgoing_4…  │ … │ empl_industry_691L │ mainoccupationinc_…  │\n│  int64  │     date      │        float         │   │      varchar       │        float         │\n├─────────┼───────────────┼──────────────────────┼───┼────────────────────┼──────────────────────┤\n│   40872 │ 2019-12-18    │                 NULL │ … │ OTHER              │              30000.0 │\n│   40881 │ 2019-12-17    │                 NULL │ … │ NULL               │                 NULL │\n│   40945 │ 2019-12-19    │                 NULL │ … │ NULL               │                 NULL │\n│   40964 │ 2019-12-17    │                 NULL │ … │ OTHER              │              90000.0 │\n│   40983 │ 2019-12-18    │                 NULL │ … │ NULL               │                 NULL │\n│   40985 │ 2019-12-18    │                 NULL │ … │ NULL               │              11200.0 │\n│   41047 │ 2019-12-18    │                 NULL │ … │ OTHER              │             191600.0 │\n│   41061 │ 2019-12-19    │                 NULL │ … │ OTHER              │              20000.0 │\n│   41067 │ 2019-12-18    │                 NULL │ … │ NULL               │              70000.0 │\n│   41072 │ 2019-12-18    │                 NULL │ … │ EDUCATION          │             200000.0 │\n│     ·   │     ·         │                   ·  │ · │  ·                 │                   ·  │\n│     ·   │     ·         │                   ·  │ · │  ·                 │                   ·  │\n│     ·   │     ·         │                   ·  │ · │  ·                 │                   ·  │\n│  195080 │ 2020-01-17    │                 NULL │ … │ NULL               │                 NULL │\n│  195082 │ 2020-01-20    │              17157.6 │ … │ NULL               │                 NULL │\n│  195082 │ 2020-01-20    │              17157.6 │ … │ NULL               │                 NULL │\n│  195086 │ 2020-01-17    │                 NULL │ … │ NULL               │                 NULL │\n│  195101 │ 2020-01-17    │                 NULL │ … │ NULL               │                 NULL │\n│  195110 │ 2020-01-17    │                 NULL │ … │ NULL               │                 NULL │\n│  195112 │ 2020-01-17    │                 NULL │ … │ NULL               │                 NULL │\n│  195116 │ 2020-01-17    │                 NULL │ … │ NULL               │                 NULL │\n│  195118 │ 2020-01-17    │                 NULL │ … │ NULL               │                 NULL │\n│  195118 │ 2020-01-17    │                 NULL │ … │ NULL               │                 NULL │\n├─────────┴───────────────┴──────────────────────┴───┴────────────────────┴──────────────────────┤\n│ ? rows (>9999 rows, 20 shown)                                             56 columns (5 shown) │\n└────────────────────────────────────────────────────────────────────────────────────────────────┘"
     },
     "execution_count": 50,
     "metadata": {},
     "output_type": "execute_result"
    }
   ],
   "source": [
    "data: duckdb.DuckDBPyRelation = base_train.join(\n",
    "    other_data, how=\"left\", condition=\"case_id\"\n",
    ").join(\n",
    "    applprev, how=\"left\", condition=\"case_id\"\n",
    ").join(\n",
    "    deposit_data, how=\"left\", condition=\"case_id, num_group1\"\n",
    ").join(\n",
    "    persons, how=\"left\", condition=\"case_id, num_group1\"\n",
    ").set_alias(\"data\")\n",
    "\n",
    "data."
   ],
   "metadata": {
    "collapsed": false,
    "ExecuteTime": {
     "end_time": "2024-02-20T10:28:20.967978169Z",
     "start_time": "2024-02-20T10:28:15.827291350Z"
    }
   },
   "id": "5b46976792b973c7",
   "execution_count": 50
  },
  {
   "cell_type": "code",
   "outputs": [
    {
     "name": "stdout",
     "output_type": "stream",
     "text": [
      "case_id 6831116 1.0\n",
      "date_decision 6831116 1.0\n",
      "amtdebitoutgoing_4809440A 510148 0.075\n"
     ]
    },
    {
     "ename": "BinderException",
     "evalue": "Binder Error: Can only update base table!",
     "output_type": "error",
     "traceback": [
      "\u001B[0;31m---------------------------------------------------------------------------\u001B[0m",
      "\u001B[0;31mBinderException\u001B[0m                           Traceback (most recent call last)",
      "Cell \u001B[0;32mIn[54], line 8\u001B[0m\n\u001B[1;32m      6\u001B[0m \u001B[38;5;28mprint\u001B[39m(col, count, \u001B[38;5;28mround\u001B[39m(count \u001B[38;5;241m/\u001B[39m database_length, \u001B[38;5;241m3\u001B[39m))\n\u001B[1;32m      7\u001B[0m \u001B[38;5;28;01mif\u001B[39;00m count \u001B[38;5;241m/\u001B[39m database_length \u001B[38;5;241m<\u001B[39m \u001B[38;5;241m1\u001B[39m \u001B[38;5;241m-\u001B[39m \u001B[38;5;241m0.85\u001B[39m:\n\u001B[0;32m----> 8\u001B[0m     \u001B[43mconnection\u001B[49m\u001B[38;5;241;43m.\u001B[39;49m\u001B[43mexecute\u001B[49m\u001B[43m(\u001B[49m\u001B[38;5;124;43mf\u001B[39;49m\u001B[38;5;124;43m\"\"\"\u001B[39;49m\u001B[38;5;124;43mUPDATE data SET \u001B[39;49m\u001B[38;5;132;43;01m{\u001B[39;49;00m\u001B[43mcol\u001B[49m\u001B[38;5;132;43;01m}\u001B[39;49;00m\u001B[38;5;124;43m = 0 WHERE \u001B[39;49m\u001B[38;5;132;43;01m{\u001B[39;49;00m\u001B[43mcol\u001B[49m\u001B[38;5;132;43;01m}\u001B[39;49;00m\u001B[38;5;124;43m IS NULL\u001B[39;49m\u001B[38;5;124;43m\"\"\"\u001B[39;49m\u001B[43m)\u001B[49m\n\u001B[1;32m      9\u001B[0m     connection\u001B[38;5;241m.\u001B[39mexecute(\u001B[38;5;124mf\u001B[39m\u001B[38;5;124m\"\"\"\u001B[39m\u001B[38;5;124mUPDATE data SET \u001B[39m\u001B[38;5;132;01m{\u001B[39;00mcol\u001B[38;5;132;01m}\u001B[39;00m\u001B[38;5;124m = 1 WHERE \u001B[39m\u001B[38;5;132;01m{\u001B[39;00mcol\u001B[38;5;132;01m}\u001B[39;00m\u001B[38;5;124m IS NOT NULL\u001B[39m\u001B[38;5;124m\"\"\"\u001B[39m)\n",
      "\u001B[0;31mBinderException\u001B[0m: Binder Error: Can only update base table!"
     ]
    }
   ],
   "source": [
    "database_length: int = data.shape[0]\n",
    "for col in data.columns:\n",
    "    count = data.count(col).fetchone()[0]\n",
    "    print(col, count, round(count / database_length, 3))\n",
    "    if count / database_length < 1 - 0.85:\n",
    "        connection.execute(f\"\"\"UPDATE data SET {col} = 0 WHERE {col} IS NULL\"\"\")\n",
    "        connection.execute(f\"\"\"UPDATE data SET {col} = 1 WHERE {col} IS NOT NULL\"\"\")\n",
    "        \n"
   ],
   "metadata": {
    "collapsed": false,
    "ExecuteTime": {
     "end_time": "2024-02-20T10:38:40.517532125Z",
     "start_time": "2024-02-20T10:38:37.595605411Z"
    }
   },
   "id": "78dba066ef65863b",
   "execution_count": 54
  }
 ],
 "metadata": {
  "kernelspec": {
   "display_name": "Python 3",
   "language": "python",
   "name": "python3"
  },
  "language_info": {
   "codemirror_mode": {
    "name": "ipython",
    "version": 2
   },
   "file_extension": ".py",
   "mimetype": "text/x-python",
   "name": "python",
   "nbconvert_exporter": "python",
   "pygments_lexer": "ipython2",
   "version": "2.7.6"
  }
 },
 "nbformat": 4,
 "nbformat_minor": 5
}
